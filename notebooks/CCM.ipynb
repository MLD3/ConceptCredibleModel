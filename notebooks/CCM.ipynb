{
 "cells": [
  {
   "cell_type": "markdown",
   "id": "9f8e6a2d",
   "metadata": {},
   "source": [
    "# Credible Concept Model (CCM) tutorial: extending credible model to uninterpretable raw features\n",
    "\n",
    "By the end of the tutorial, one should be able to\n",
    "\n",
    "1. understand the motivation of CCM\n",
    "2. understand the CCM algorithm\n",
    "3. able to train an CCM model"
   ]
  },
  {
   "cell_type": "code",
   "execution_count": 1,
   "id": "7ef7858a",
   "metadata": {
    "tags": []
   },
   "outputs": [],
   "source": [
    "import sys\n",
    "import numpy as np\n",
    "import copy\n",
    "import shap\n",
    "import pandas as pd\n",
    "import matplotlib.pyplot as plt\n",
    "import copy\n",
    "import torch\n",
    "import torch.nn as nn\n",
    "import torch.optim as optim\n",
    "import torch.nn.functional as F\n",
    "from torch.utils.data import TensorDataset, DataLoader\n",
    "\n",
    "# specific packages\n",
    "if '../' not in sys.path:\n",
    "    sys.path = ['../'] + sys.path\n",
    "from lib.models import CCM, CBM, MLP, LambdaNet\n",
    "from lib.train import train_step_standard, train_step_xyc, train\n",
    "from lib.eval import get_output, test, plot_log, shap_net_x, shap_ccm_c, bootstrap\n",
    "from lib.utils import dfs_freeze"
   ]
  },
  {
   "cell_type": "markdown",
   "id": "c86d58fe",
   "metadata": {},
   "source": [
    "# A motivating example\n",
    "\n",
    "Despite the fact that model interpretation suffers from faithfulness and fragility issues (and also people's overtrust of the interpretation), it is still useful to enforce prior knowledge. Feature attribution tools often assume that features are interpretable. This makes them less applicable when raw features are complicated (say in the image or audio domain). Thus, a lot of recent research effort have been poured in to explanation with high level concepts. Among them is this idea of concept bottleneck network (CBM). In this work, we expose the flaw of CBM and suggest a simple fix. \n",
    "\n",
    "**We define EBM as CBM only using expert identified features as concepts**.\n",
    "\n",
    "This examples shows why missing concept is a nastier problem than one would think.\n",
    "\n",
    "$Z \\sim U(\\{0, 1\\})^d$ are $d$ latent concepts\n",
    "\n",
    "$X = project(Z)$ is a random linear projection of concepts presented to the human (the following just used identity for simplicity)\n",
    "\n",
    "$X \\rightarrow C \\rightarrow X$ where $C \\in \\mathbb{R}^{d-1}$ is concept detectors\n",
    "\n",
    "$Y = and(Z)$ where $\\theta$ is the true coefficient.\n",
    "\n",
    "This setup will fail raw feature attribution (because $X$ distribute concepts across dimensions), concept discovery (when the function is a \"and\" concept), jointly trained concept (because $C$ has 1 less dimension off $Z$)."
   ]
  },
  {
   "cell_type": "code",
   "execution_count": 2,
   "id": "75656ebc",
   "metadata": {
    "tags": []
   },
   "outputs": [
    {
     "name": "stdout",
     "output_type": "stream",
     "text": [
      "Percentage of ones 87.50%\n"
     ]
    }
   ],
   "source": [
    "n = 10000\n",
    "d = 3 # true number of concepts needed for classification\n",
    "c = 1 # number of expert identified concepts\n",
    "bs = 100\n",
    "n_epochs = 50\n",
    "\n",
    "def gen_data(n, d):\n",
    "    Z = np.random.choice([0, 1], (n, d))\n",
    "    X = Z\n",
    "    # and of the arguments\n",
    "    Y = np.ones(n)\n",
    "    for i in range(d):\n",
    "        Y = np.logical_and(Y, Z[:, i])\n",
    "\n",
    "    return torch.from_numpy(X).float(), torch.from_numpy(Y).long(), torch.from_numpy(Z).float()\n",
    "\n",
    "X, Y, Z = gen_data(n, d)\n",
    "X_te, Y_te, Z_te = gen_data(n, d)\n",
    "print(f'Percentage of ones {(1-0.5**d)*100:.2f}%')"
   ]
  },
  {
   "cell_type": "markdown",
   "id": "d73cc2d7",
   "metadata": {},
   "source": [
    "**Note that the above value ($1-1/2^d$) is also the theoretical limit the accuracy of EBM** because\n",
    "\n",
    "\\begin{align}\n",
    "P(\\hat{y} = y) &= P(Z_1=Z_2=\\cdots=Z_c=1) P (\\hat{y} = y | Z_1=Z_2=\\cdots=Z_c=1) + P(\\overline{Z_1=Z_2=\\cdots=Z_c=1}) P(\\hat{y} = y | \\overline{Z_1=Z_2=\\cdots=Z_c=1})\\\\\n",
    "&= 1 / 2^c \\cdot (1 - 1 / 2^{d-c}) + (1 - 1 / 2^c) \\cdot 1\\\\\n",
    "&= 1 - 1 / 2^d\n",
    "\\end{align}"
   ]
  },
  {
   "cell_type": "code",
   "execution_count": 3,
   "id": "0a14dc3d",
   "metadata": {
    "tags": []
   },
   "outputs": [],
   "source": [
    "# accuracy\n",
    "acc_criterion = lambda o, y: (o.argmax(1) == y).float()\n",
    "\n",
    "# dataset\n",
    "loader_xy = DataLoader(TensorDataset(X, Y), batch_size=bs, shuffle=True) # regular dataset\n",
    "loader_xyc = DataLoader(TensorDataset(X, Y, Z), batch_size=bs, shuffle=True) # joint concept and regular dataset\n",
    "\n",
    "loader_xy_te = DataLoader(TensorDataset(X_te, Y_te), batch_size=bs, shuffle=False) # regular dataset\n",
    "loader_xyc_te = DataLoader(TensorDataset(X_te, Y_te, Z_te), batch_size=bs, shuffle=False) # joint concept and regular dataset"
   ]
  },
  {
   "cell_type": "markdown",
   "id": "0666d37e",
   "metadata": {},
   "source": [
    "## standard model"
   ]
  },
  {
   "cell_type": "code",
   "execution_count": 4,
   "id": "b2f68f92",
   "metadata": {
    "tags": []
   },
   "outputs": [
    {
     "name": "stderr",
     "output_type": "stream",
     "text": [
      "train step for 1 epoch: 100%|██████████| 100/100 [00:00<00:00, 372.74it/s]\n",
      "train step for 1 epoch: 100%|██████████| 100/100 [00:00<00:00, 636.55it/s]\n",
      "train step for 1 epoch: 100%|██████████| 100/100 [00:00<00:00, 507.29it/s]\n",
      "train step for 1 epoch: 100%|██████████| 100/100 [00:00<00:00, 454.95it/s]\n",
      "train step for 1 epoch: 100%|██████████| 100/100 [00:00<00:00, 372.10it/s]\n",
      "train step for 1 epoch:  38%|███▊      | 38/100 [00:00<00:00, 371.16it/s]"
     ]
    },
    {
     "name": "stdout",
     "output_type": "stream",
     "text": [
      "epoch   4: loss 4.776e-01\n"
     ]
    },
    {
     "name": "stderr",
     "output_type": "stream",
     "text": [
      "train step for 1 epoch: 100%|██████████| 100/100 [00:00<00:00, 373.30it/s]\n",
      "train step for 1 epoch: 100%|██████████| 100/100 [00:00<00:00, 454.29it/s]\n",
      "train step for 1 epoch: 100%|██████████| 100/100 [00:00<00:00, 433.21it/s]\n",
      "train step for 1 epoch: 100%|██████████| 100/100 [00:00<00:00, 417.75it/s]\n",
      "train step for 1 epoch: 100%|██████████| 100/100 [00:00<00:00, 444.22it/s]\n",
      "train step for 1 epoch:  37%|███▋      | 37/100 [00:00<00:00, 366.57it/s]"
     ]
    },
    {
     "name": "stdout",
     "output_type": "stream",
     "text": [
      "epoch   9: loss 2.997e-01\n"
     ]
    },
    {
     "name": "stderr",
     "output_type": "stream",
     "text": [
      "train step for 1 epoch: 100%|██████████| 100/100 [00:00<00:00, 424.72it/s]\n",
      "train step for 1 epoch: 100%|██████████| 100/100 [00:00<00:00, 425.27it/s]\n",
      "train step for 1 epoch: 100%|██████████| 100/100 [00:00<00:00, 369.39it/s]\n",
      "train step for 1 epoch: 100%|██████████| 100/100 [00:00<00:00, 419.34it/s]\n",
      "train step for 1 epoch: 100%|██████████| 100/100 [00:00<00:00, 430.47it/s]\n",
      "train step for 1 epoch:  43%|████▎     | 43/100 [00:00<00:00, 425.95it/s]"
     ]
    },
    {
     "name": "stdout",
     "output_type": "stream",
     "text": [
      "epoch  14: loss 1.359e-01\n"
     ]
    },
    {
     "name": "stderr",
     "output_type": "stream",
     "text": [
      "train step for 1 epoch: 100%|██████████| 100/100 [00:00<00:00, 402.27it/s]\n",
      "train step for 1 epoch: 100%|██████████| 100/100 [00:00<00:00, 466.91it/s]\n",
      "train step for 1 epoch: 100%|██████████| 100/100 [00:00<00:00, 381.02it/s]\n",
      "train step for 1 epoch: 100%|██████████| 100/100 [00:00<00:00, 417.72it/s]\n",
      "train step for 1 epoch: 100%|██████████| 100/100 [00:00<00:00, 445.85it/s]\n",
      "train step for 1 epoch:  45%|████▌     | 45/100 [00:00<00:00, 446.60it/s]"
     ]
    },
    {
     "name": "stdout",
     "output_type": "stream",
     "text": [
      "epoch  19: loss 6.079e-02\n"
     ]
    },
    {
     "name": "stderr",
     "output_type": "stream",
     "text": [
      "train step for 1 epoch: 100%|██████████| 100/100 [00:00<00:00, 465.82it/s]\n",
      "train step for 1 epoch: 100%|██████████| 100/100 [00:00<00:00, 456.96it/s]\n",
      "train step for 1 epoch: 100%|██████████| 100/100 [00:00<00:00, 441.06it/s]\n",
      "train step for 1 epoch: 100%|██████████| 100/100 [00:00<00:00, 416.71it/s]\n",
      "train step for 1 epoch: 100%|██████████| 100/100 [00:00<00:00, 483.43it/s]\n",
      "train step for 1 epoch:  51%|█████     | 51/100 [00:00<00:00, 507.19it/s]"
     ]
    },
    {
     "name": "stdout",
     "output_type": "stream",
     "text": [
      "epoch  24: loss 3.044e-02\n"
     ]
    },
    {
     "name": "stderr",
     "output_type": "stream",
     "text": [
      "train step for 1 epoch: 100%|██████████| 100/100 [00:00<00:00, 441.53it/s]\n",
      "train step for 1 epoch: 100%|██████████| 100/100 [00:00<00:00, 461.07it/s]\n",
      "train step for 1 epoch: 100%|██████████| 100/100 [00:00<00:00, 472.15it/s]\n",
      "train step for 1 epoch: 100%|██████████| 100/100 [00:00<00:00, 389.31it/s]\n",
      "train step for 1 epoch: 100%|██████████| 100/100 [00:00<00:00, 382.27it/s]\n",
      "train step for 1 epoch:  38%|███▊      | 38/100 [00:00<00:00, 378.52it/s]"
     ]
    },
    {
     "name": "stdout",
     "output_type": "stream",
     "text": [
      "epoch  29: loss 1.689e-02\n"
     ]
    },
    {
     "name": "stderr",
     "output_type": "stream",
     "text": [
      "train step for 1 epoch: 100%|██████████| 100/100 [00:00<00:00, 373.16it/s]\n",
      "train step for 1 epoch: 100%|██████████| 100/100 [00:00<00:00, 432.14it/s]\n",
      "train step for 1 epoch: 100%|██████████| 100/100 [00:00<00:00, 452.91it/s]\n",
      "train step for 1 epoch: 100%|██████████| 100/100 [00:00<00:00, 398.82it/s]\n",
      "train step for 1 epoch: 100%|██████████| 100/100 [00:00<00:00, 397.73it/s]\n",
      "train step for 1 epoch:  48%|████▊     | 48/100 [00:00<00:00, 472.63it/s]"
     ]
    },
    {
     "name": "stdout",
     "output_type": "stream",
     "text": [
      "epoch  34: loss 1.018e-02\n"
     ]
    },
    {
     "name": "stderr",
     "output_type": "stream",
     "text": [
      "train step for 1 epoch: 100%|██████████| 100/100 [00:00<00:00, 463.73it/s]\n",
      "train step for 1 epoch: 100%|██████████| 100/100 [00:00<00:00, 430.12it/s]\n",
      "train step for 1 epoch: 100%|██████████| 100/100 [00:00<00:00, 448.57it/s]\n",
      "train step for 1 epoch: 100%|██████████| 100/100 [00:00<00:00, 439.58it/s]\n",
      "train step for 1 epoch: 100%|██████████| 100/100 [00:00<00:00, 387.41it/s]\n",
      "train step for 1 epoch:  52%|█████▏    | 52/100 [00:00<00:00, 511.13it/s]"
     ]
    },
    {
     "name": "stdout",
     "output_type": "stream",
     "text": [
      "epoch  39: loss 6.478e-03\n"
     ]
    },
    {
     "name": "stderr",
     "output_type": "stream",
     "text": [
      "train step for 1 epoch: 100%|██████████| 100/100 [00:00<00:00, 436.95it/s]\n",
      "train step for 1 epoch: 100%|██████████| 100/100 [00:00<00:00, 419.78it/s]\n",
      "train step for 1 epoch: 100%|██████████| 100/100 [00:00<00:00, 400.56it/s]\n",
      "train step for 1 epoch: 100%|██████████| 100/100 [00:00<00:00, 410.25it/s]\n",
      "train step for 1 epoch: 100%|██████████| 100/100 [00:00<00:00, 389.95it/s]\n",
      "train step for 1 epoch:  47%|████▋     | 47/100 [00:00<00:00, 460.06it/s]"
     ]
    },
    {
     "name": "stdout",
     "output_type": "stream",
     "text": [
      "epoch  44: loss 4.276e-03\n"
     ]
    },
    {
     "name": "stderr",
     "output_type": "stream",
     "text": [
      "train step for 1 epoch: 100%|██████████| 100/100 [00:00<00:00, 431.61it/s]\n",
      "train step for 1 epoch: 100%|██████████| 100/100 [00:00<00:00, 436.72it/s]\n",
      "train step for 1 epoch: 100%|██████████| 100/100 [00:00<00:00, 445.62it/s]\n",
      "train step for 1 epoch: 100%|██████████| 100/100 [00:00<00:00, 492.43it/s]\n",
      "train step for 1 epoch: 100%|██████████| 100/100 [00:00<00:00, 512.02it/s]\n"
     ]
    },
    {
     "name": "stdout",
     "output_type": "stream",
     "text": [
      "epoch  49: loss 2.903e-03\n"
     ]
    },
    {
     "data": {
      "image/png": "[encoded data removed]",
      "text/plain": [
       "<Figure size 432x288 with 1 Axes>"
      ]
     },
     "metadata": {
      "needs_background": "light"
     },
     "output_type": "display_data"
    }
   ],
   "source": [
    "def standard_model(loader_xy, d, n_epochs=10, report_every=1, plot=True):\n",
    "    # regular model\n",
    "    net = MLP([d, d * 2, 2])\n",
    "\n",
    "    # train\n",
    "    opt = optim.Adam(net.parameters())\n",
    "    log = train(net, loader_xy, opt, n_epochs=n_epochs, report_every=report_every)\n",
    "    if plot: plot_log(log)\n",
    "    return net\n",
    "\n",
    "standard_net = standard_model(loader_xy, d, n_epochs=n_epochs, report_every=n_epochs//10)"
   ]
  },
  {
   "cell_type": "code",
   "execution_count": 5,
   "id": "5690e624",
   "metadata": {
    "tags": []
   },
   "outputs": [
    {
     "name": "stderr",
     "output_type": "stream",
     "text": [
      "test eval: 100%|██████████| 100/100 [00:00<00:00, 691.68it/s]"
     ]
    },
    {
     "name": "stdout",
     "output_type": "stream",
     "text": [
      "task acc after training: 100.0%\n"
     ]
    },
    {
     "name": "stderr",
     "output_type": "stream",
     "text": [
      "\n"
     ]
    }
   ],
   "source": [
    "print('task acc after training: {:.1f}%'.format(test(standard_net, loader_xy_te, acc_criterion) * 100))"
   ]
  },
  {
   "cell_type": "markdown",
   "id": "7af844af",
   "metadata": {},
   "source": [
    "## joint EBM"
   ]
  },
  {
   "cell_type": "code",
   "execution_count": 6,
   "id": "de460212",
   "metadata": {
    "tags": []
   },
   "outputs": [
    {
     "name": "stderr",
     "output_type": "stream",
     "text": [
      "train step for 1 epoch CBM:  30%|███       | 30/100 [00:00<00:00, 290.02it/s]"
     ]
    },
    {
     "name": "stdout",
     "output_type": "stream",
     "text": [
      "number of concepts to learn: 1\n",
      "true number of concepts: 3\n"
     ]
    },
    {
     "name": "stderr",
     "output_type": "stream",
     "text": [
      "train step for 1 epoch CBM: 100%|██████████| 100/100 [00:00<00:00, 294.00it/s]\n",
      "train step for 1 epoch CBM: 100%|██████████| 100/100 [00:00<00:00, 278.31it/s]\n",
      "train step for 1 epoch CBM: 100%|██████████| 100/100 [00:00<00:00, 311.48it/s]\n",
      "train step for 1 epoch CBM: 100%|██████████| 100/100 [00:00<00:00, 259.53it/s]\n",
      "train step for 1 epoch CBM: 100%|██████████| 100/100 [00:00<00:00, 288.58it/s]\n",
      "train step for 1 epoch CBM:  34%|███▍      | 34/100 [00:00<00:00, 336.41it/s]"
     ]
    },
    {
     "name": "stdout",
     "output_type": "stream",
     "text": [
      "epoch   4: loss 7.614e-03\n"
     ]
    },
    {
     "name": "stderr",
     "output_type": "stream",
     "text": [
      "train step for 1 epoch CBM: 100%|██████████| 100/100 [00:00<00:00, 330.75it/s]\n",
      "train step for 1 epoch CBM: 100%|██████████| 100/100 [00:00<00:00, 279.39it/s]\n",
      "train step for 1 epoch CBM: 100%|██████████| 100/100 [00:00<00:00, 268.15it/s]\n",
      "train step for 1 epoch CBM: 100%|██████████| 100/100 [00:00<00:00, 281.25it/s]\n",
      "train step for 1 epoch CBM: 100%|██████████| 100/100 [00:00<00:00, 307.12it/s]\n",
      "train step for 1 epoch CBM:  31%|███       | 31/100 [00:00<00:00, 306.96it/s]"
     ]
    },
    {
     "name": "stdout",
     "output_type": "stream",
     "text": [
      "epoch   9: loss 2.908e-03\n"
     ]
    },
    {
     "name": "stderr",
     "output_type": "stream",
     "text": [
      "train step for 1 epoch CBM: 100%|██████████| 100/100 [00:00<00:00, 299.45it/s]\n",
      "train step for 1 epoch CBM: 100%|██████████| 100/100 [00:00<00:00, 302.14it/s]\n",
      "train step for 1 epoch CBM: 100%|██████████| 100/100 [00:00<00:00, 315.27it/s]\n",
      "train step for 1 epoch CBM: 100%|██████████| 100/100 [00:00<00:00, 325.67it/s]\n",
      "train step for 1 epoch CBM: 100%|██████████| 100/100 [00:00<00:00, 282.60it/s]\n",
      "train step for 1 epoch CBM:  29%|██▉       | 29/100 [00:00<00:00, 284.88it/s]"
     ]
    },
    {
     "name": "stdout",
     "output_type": "stream",
     "text": [
      "epoch  14: loss 1.144e-03\n"
     ]
    },
    {
     "name": "stderr",
     "output_type": "stream",
     "text": [
      "train step for 1 epoch CBM: 100%|██████████| 100/100 [00:00<00:00, 298.99it/s]\n",
      "train step for 1 epoch CBM: 100%|██████████| 100/100 [00:00<00:00, 276.33it/s]\n",
      "train step for 1 epoch CBM: 100%|██████████| 100/100 [00:00<00:00, 271.94it/s]\n",
      "train step for 1 epoch CBM: 100%|██████████| 100/100 [00:00<00:00, 293.72it/s]\n",
      "train step for 1 epoch CBM: 100%|██████████| 100/100 [00:00<00:00, 273.24it/s]\n",
      "train step for 1 epoch CBM:  26%|██▌       | 26/100 [00:00<00:00, 255.87it/s]"
     ]
    },
    {
     "name": "stdout",
     "output_type": "stream",
     "text": [
      "epoch  19: loss 5.212e-04\n"
     ]
    },
    {
     "name": "stderr",
     "output_type": "stream",
     "text": [
      "train step for 1 epoch CBM: 100%|██████████| 100/100 [00:00<00:00, 277.94it/s]\n",
      "train step for 1 epoch CBM: 100%|██████████| 100/100 [00:00<00:00, 302.91it/s]\n",
      "train step for 1 epoch CBM: 100%|██████████| 100/100 [00:00<00:00, 254.92it/s]\n",
      "train step for 1 epoch CBM: 100%|██████████| 100/100 [00:00<00:00, 292.97it/s]\n",
      "train step for 1 epoch CBM: 100%|██████████| 100/100 [00:00<00:00, 282.55it/s]\n",
      "train step for 1 epoch CBM:  36%|███▌      | 36/100 [00:00<00:00, 349.42it/s]"
     ]
    },
    {
     "name": "stdout",
     "output_type": "stream",
     "text": [
      "epoch  24: loss 2.750e-04\n"
     ]
    },
    {
     "name": "stderr",
     "output_type": "stream",
     "text": [
      "train step for 1 epoch CBM: 100%|██████████| 100/100 [00:00<00:00, 321.34it/s]\n",
      "train step for 1 epoch CBM: 100%|██████████| 100/100 [00:00<00:00, 330.48it/s]\n",
      "train step for 1 epoch CBM: 100%|██████████| 100/100 [00:00<00:00, 246.68it/s]\n",
      "train step for 1 epoch CBM: 100%|██████████| 100/100 [00:00<00:00, 293.11it/s]\n",
      "train step for 1 epoch CBM: 100%|██████████| 100/100 [00:00<00:00, 288.17it/s]\n",
      "train step for 1 epoch CBM:  30%|███       | 30/100 [00:00<00:00, 293.44it/s]"
     ]
    },
    {
     "name": "stdout",
     "output_type": "stream",
     "text": [
      "epoch  29: loss 1.607e-04\n"
     ]
    },
    {
     "name": "stderr",
     "output_type": "stream",
     "text": [
      "train step for 1 epoch CBM: 100%|██████████| 100/100 [00:00<00:00, 295.47it/s]\n",
      "train step for 1 epoch CBM: 100%|██████████| 100/100 [00:00<00:00, 252.90it/s]\n",
      "train step for 1 epoch CBM: 100%|██████████| 100/100 [00:00<00:00, 253.35it/s]\n",
      "train step for 1 epoch CBM: 100%|██████████| 100/100 [00:00<00:00, 272.72it/s]\n",
      "train step for 1 epoch CBM: 100%|██████████| 100/100 [00:00<00:00, 303.40it/s]\n",
      "train step for 1 epoch CBM:  36%|███▌      | 36/100 [00:00<00:00, 355.13it/s]"
     ]
    },
    {
     "name": "stdout",
     "output_type": "stream",
     "text": [
      "epoch  34: loss 1.004e-04\n"
     ]
    },
    {
     "name": "stderr",
     "output_type": "stream",
     "text": [
      "train step for 1 epoch CBM: 100%|██████████| 100/100 [00:00<00:00, 280.68it/s]\n",
      "train step for 1 epoch CBM: 100%|██████████| 100/100 [00:00<00:00, 290.40it/s]\n",
      "train step for 1 epoch CBM: 100%|██████████| 100/100 [00:00<00:00, 310.18it/s]\n",
      "train step for 1 epoch CBM: 100%|██████████| 100/100 [00:00<00:00, 301.09it/s]\n",
      "train step for 1 epoch CBM: 100%|██████████| 100/100 [00:00<00:00, 316.79it/s]\n",
      "train step for 1 epoch CBM:  23%|██▎       | 23/100 [00:00<00:00, 228.11it/s]"
     ]
    },
    {
     "name": "stdout",
     "output_type": "stream",
     "text": [
      "epoch  39: loss 6.573e-05\n"
     ]
    },
    {
     "name": "stderr",
     "output_type": "stream",
     "text": [
      "train step for 1 epoch CBM: 100%|██████████| 100/100 [00:00<00:00, 296.06it/s]\n",
      "train step for 1 epoch CBM: 100%|██████████| 100/100 [00:00<00:00, 250.16it/s]\n",
      "train step for 1 epoch CBM: 100%|██████████| 100/100 [00:00<00:00, 314.00it/s]\n",
      "train step for 1 epoch CBM: 100%|██████████| 100/100 [00:00<00:00, 275.65it/s]\n",
      "train step for 1 epoch CBM: 100%|██████████| 100/100 [00:00<00:00, 278.43it/s]\n",
      "train step for 1 epoch CBM:  32%|███▏      | 32/100 [00:00<00:00, 319.38it/s]"
     ]
    },
    {
     "name": "stdout",
     "output_type": "stream",
     "text": [
      "epoch  44: loss 4.445e-05\n"
     ]
    },
    {
     "name": "stderr",
     "output_type": "stream",
     "text": [
      "train step for 1 epoch CBM: 100%|██████████| 100/100 [00:00<00:00, 259.20it/s]\n",
      "train step for 1 epoch CBM: 100%|██████████| 100/100 [00:00<00:00, 229.60it/s]\n",
      "train step for 1 epoch CBM: 100%|██████████| 100/100 [00:00<00:00, 275.28it/s]\n",
      "train step for 1 epoch CBM: 100%|██████████| 100/100 [00:00<00:00, 318.87it/s]\n",
      "train step for 1 epoch CBM: 100%|██████████| 100/100 [00:00<00:00, 305.34it/s]\n"
     ]
    },
    {
     "name": "stdout",
     "output_type": "stream",
     "text": [
      "epoch  49: loss 3.080e-05\n"
     ]
    },
    {
     "data": {
      "image/png": "[encoded data removed]",
      "text/plain": [
       "<Figure size 432x288 with 1 Axes>"
      ]
     },
     "metadata": {
      "needs_background": "light"
     },
     "output_type": "display_data"
    }
   ],
   "source": [
    "def joint_EBM(d, c, loader_xyc, n_epochs=10, report_every=1, plot=True):\n",
    "    c = min(d, c)\n",
    "    print(f'number of concepts to learn: {c}')\n",
    "    print(f'true number of concepts: {d}')\n",
    "    \n",
    "    # EBM with concept and task jointly trained\n",
    "    net_c = MLP([d, d * 2, c])\n",
    "    net_y = MLP([c, d * 2, 2])\n",
    "    net = CBM(net_c, net_y)\n",
    "    \n",
    "    # train\n",
    "    def criterion(o_y, y, o_z, z):\n",
    "        y_loss = F.cross_entropy(o_y, y).sum()\n",
    "        z_loss = F.binary_cross_entropy(torch.sigmoid(o_z), z[:, :c]).sum()\n",
    "        return (y_loss + z_loss) / len(y)\n",
    "    \n",
    "    opt = optim.Adam(net.parameters())\n",
    "    log = train(net, loader_xyc, opt, train_step=train_step_xyc, \n",
    "                criterion=criterion, n_epochs=n_epochs, report_every=report_every)\n",
    "    if plot: plot_log(log)\n",
    "    \n",
    "    return net\n",
    "\n",
    "ebm_joint = joint_EBM(d, c, loader_xyc, n_epochs=n_epochs, report_every=n_epochs//10)"
   ]
  },
  {
   "cell_type": "code",
   "execution_count": 7,
   "id": "b3b77856",
   "metadata": {
    "tags": []
   },
   "outputs": [
    {
     "name": "stderr",
     "output_type": "stream",
     "text": [
      "test eval: 100%|██████████| 100/100 [00:00<00:00, 636.11it/s]\n"
     ]
    },
    {
     "name": "stdout",
     "output_type": "stream",
     "text": [
      "task acc after training: 100.0%\n",
      "concept 0 acc after training: 100.0%\n"
     ]
    }
   ],
   "source": [
    "def test_concept(net, concept_idx, loader):\n",
    "    '''net output many logit for concepts, concept_idx is the concept index'''\n",
    "    net.eval()\n",
    "    losses = []\n",
    "    total = 0\n",
    "    for x, y in loader:\n",
    "        o = net(x) # (bs, c)\n",
    "        o2 = torch.sigmoid(o[:, concept_idx]) > 0.5\n",
    "        l = (o2 == y).float().mean()\n",
    "        bs = o.shape[0]\n",
    "        total += bs        \n",
    "        losses.append(l.detach().item() * bs)\n",
    "    net.train()\n",
    "    return sum(losses) / total\n",
    "\n",
    "def print_concept_acc(net_c, c, X_te, Z_te):\n",
    "    for i in range(c):\n",
    "        print('concept {} acc after training: {:.1f}%'.format(i, test_concept(net_c,\n",
    "                                                                              i,\n",
    "                                                                              DataLoader(TensorDataset(X_te, Z_te[:, i]), batch_size=bs)) * 100))\n",
    "\n",
    "print('task acc after training: {:.1f}%'.format(test(ebm_joint, loader_xy_te, acc_criterion ) * 100))\n",
    "print_concept_acc(ebm_joint.net_c, c, X_te, Z_te)"
   ]
  },
  {
   "cell_type": "markdown",
   "id": "25d09d2d",
   "metadata": {},
   "source": [
    "**Note Jointly trained EBM has accuracy above the thoretical limit of ($1 - 2^d$) without sacrificing concept accuracy. This is why it is wrong!**"
   ]
  },
  {
   "cell_type": "markdown",
   "id": "d83945d4",
   "metadata": {},
   "source": [
    "## independent EBM"
   ]
  },
  {
   "cell_type": "code",
   "execution_count": 8,
   "id": "b5a015d7",
   "metadata": {
    "tags": []
   },
   "outputs": [
    {
     "name": "stderr",
     "output_type": "stream",
     "text": [
      "train step for 1 epoch: 100%|██████████| 100/100 [00:00<00:00, 542.69it/s]\n",
      "train step for 1 epoch:   0%|          | 0/100 [00:00<?, ?it/s]"
     ]
    },
    {
     "name": "stdout",
     "output_type": "stream",
     "text": [
      "number of concepts to learn: 1\n",
      "true number of concepts: 3\n",
      "training concepts ...\n"
     ]
    },
    {
     "name": "stderr",
     "output_type": "stream",
     "text": [
      "train step for 1 epoch: 100%|██████████| 100/100 [00:00<00:00, 575.18it/s]\n",
      "train step for 1 epoch: 100%|██████████| 100/100 [00:00<00:00, 512.40it/s]\n",
      "train step for 1 epoch: 100%|██████████| 100/100 [00:00<00:00, 462.24it/s]\n",
      "train step for 1 epoch: 100%|██████████| 100/100 [00:00<00:00, 532.73it/s]\n",
      "train step for 1 epoch:  42%|████▏     | 42/100 [00:00<00:00, 419.47it/s]"
     ]
    },
    {
     "name": "stdout",
     "output_type": "stream",
     "text": [
      "epoch   4: loss 4.470e-01\n"
     ]
    },
    {
     "name": "stderr",
     "output_type": "stream",
     "text": [
      "train step for 1 epoch: 100%|██████████| 100/100 [00:00<00:00, 439.12it/s]\n",
      "train step for 1 epoch: 100%|██████████| 100/100 [00:00<00:00, 439.95it/s]\n",
      "train step for 1 epoch: 100%|██████████| 100/100 [00:00<00:00, 477.63it/s]\n",
      "train step for 1 epoch: 100%|██████████| 100/100 [00:00<00:00, 517.07it/s]\n",
      "train step for 1 epoch: 100%|██████████| 100/100 [00:00<00:00, 440.23it/s]\n",
      "train step for 1 epoch:  46%|████▌     | 46/100 [00:00<00:00, 452.69it/s]"
     ]
    },
    {
     "name": "stdout",
     "output_type": "stream",
     "text": [
      "epoch   9: loss 1.067e-01\n"
     ]
    },
    {
     "name": "stderr",
     "output_type": "stream",
     "text": [
      "train step for 1 epoch: 100%|██████████| 100/100 [00:00<00:00, 429.40it/s]\n",
      "train step for 1 epoch: 100%|██████████| 100/100 [00:00<00:00, 403.97it/s]\n",
      "train step for 1 epoch: 100%|██████████| 100/100 [00:00<00:00, 462.46it/s]\n",
      "train step for 1 epoch: 100%|██████████| 100/100 [00:00<00:00, 427.48it/s]\n",
      "train step for 1 epoch: 100%|██████████| 100/100 [00:00<00:00, 384.00it/s]\n",
      "train step for 1 epoch:  52%|█████▏    | 52/100 [00:00<00:00, 511.22it/s]"
     ]
    },
    {
     "name": "stdout",
     "output_type": "stream",
     "text": [
      "epoch  14: loss 2.337e-02\n"
     ]
    },
    {
     "name": "stderr",
     "output_type": "stream",
     "text": [
      "train step for 1 epoch: 100%|██████████| 100/100 [00:00<00:00, 491.45it/s]\n",
      "train step for 1 epoch: 100%|██████████| 100/100 [00:00<00:00, 480.76it/s]\n",
      "train step for 1 epoch: 100%|██████████| 100/100 [00:00<00:00, 433.08it/s]\n",
      "train step for 1 epoch: 100%|██████████| 100/100 [00:00<00:00, 370.69it/s]\n",
      "train step for 1 epoch: 100%|██████████| 100/100 [00:00<00:00, 396.76it/s]\n",
      "train step for 1 epoch:  41%|████      | 41/100 [00:00<00:00, 404.62it/s]"
     ]
    },
    {
     "name": "stdout",
     "output_type": "stream",
     "text": [
      "epoch  19: loss 9.349e-03\n"
     ]
    },
    {
     "name": "stderr",
     "output_type": "stream",
     "text": [
      "train step for 1 epoch: 100%|██████████| 100/100 [00:00<00:00, 408.82it/s]\n",
      "train step for 1 epoch: 100%|██████████| 100/100 [00:00<00:00, 493.68it/s]\n",
      "train step for 1 epoch: 100%|██████████| 100/100 [00:00<00:00, 472.47it/s]\n",
      "train step for 1 epoch: 100%|██████████| 100/100 [00:00<00:00, 443.83it/s]\n",
      "train step for 1 epoch: 100%|██████████| 100/100 [00:00<00:00, 341.99it/s]\n",
      "train step for 1 epoch:  37%|███▋      | 37/100 [00:00<00:00, 362.30it/s]"
     ]
    },
    {
     "name": "stdout",
     "output_type": "stream",
     "text": [
      "epoch  24: loss 4.806e-03\n"
     ]
    },
    {
     "name": "stderr",
     "output_type": "stream",
     "text": [
      "train step for 1 epoch: 100%|██████████| 100/100 [00:00<00:00, 335.30it/s]\n",
      "train step for 1 epoch: 100%|██████████| 100/100 [00:00<00:00, 362.36it/s]\n",
      "train step for 1 epoch: 100%|██████████| 100/100 [00:00<00:00, 419.59it/s]\n",
      "train step for 1 epoch: 100%|██████████| 100/100 [00:00<00:00, 379.47it/s]\n",
      "train step for 1 epoch: 100%|██████████| 100/100 [00:00<00:00, 499.90it/s]\n",
      "train step for 1 epoch:  57%|█████▋    | 57/100 [00:00<00:00, 555.06it/s]"
     ]
    },
    {
     "name": "stdout",
     "output_type": "stream",
     "text": [
      "epoch  29: loss 2.827e-03\n"
     ]
    },
    {
     "name": "stderr",
     "output_type": "stream",
     "text": [
      "train step for 1 epoch: 100%|██████████| 100/100 [00:00<00:00, 491.83it/s]\n",
      "train step for 1 epoch: 100%|██████████| 100/100 [00:00<00:00, 451.03it/s]\n",
      "train step for 1 epoch: 100%|██████████| 100/100 [00:00<00:00, 340.64it/s]\n",
      "train step for 1 epoch: 100%|██████████| 100/100 [00:00<00:00, 385.81it/s]\n",
      "train step for 1 epoch: 100%|██████████| 100/100 [00:00<00:00, 424.13it/s]\n",
      "train step for 1 epoch:  47%|████▋     | 47/100 [00:00<00:00, 466.96it/s]"
     ]
    },
    {
     "name": "stdout",
     "output_type": "stream",
     "text": [
      "epoch  34: loss 1.797e-03\n"
     ]
    },
    {
     "name": "stderr",
     "output_type": "stream",
     "text": [
      "train step for 1 epoch: 100%|██████████| 100/100 [00:00<00:00, 443.11it/s]\n",
      "train step for 1 epoch: 100%|██████████| 100/100 [00:00<00:00, 413.78it/s]\n",
      "train step for 1 epoch: 100%|██████████| 100/100 [00:00<00:00, 421.31it/s]\n",
      "train step for 1 epoch: 100%|██████████| 100/100 [00:00<00:00, 408.75it/s]\n",
      "train step for 1 epoch: 100%|██████████| 100/100 [00:00<00:00, 476.63it/s]\n",
      "train step for 1 epoch:  51%|█████     | 51/100 [00:00<00:00, 497.13it/s]"
     ]
    },
    {
     "name": "stdout",
     "output_type": "stream",
     "text": [
      "epoch  39: loss 1.195e-03\n"
     ]
    },
    {
     "name": "stderr",
     "output_type": "stream",
     "text": [
      "train step for 1 epoch: 100%|██████████| 100/100 [00:00<00:00, 410.24it/s]\n",
      "train step for 1 epoch: 100%|██████████| 100/100 [00:00<00:00, 463.93it/s]\n",
      "train step for 1 epoch: 100%|██████████| 100/100 [00:00<00:00, 452.11it/s]\n",
      "train step for 1 epoch: 100%|██████████| 100/100 [00:00<00:00, 406.32it/s]\n",
      "train step for 1 epoch: 100%|██████████| 100/100 [00:00<00:00, 458.90it/s]\n",
      "train step for 1 epoch:  42%|████▏     | 42/100 [00:00<00:00, 415.86it/s]"
     ]
    },
    {
     "name": "stdout",
     "output_type": "stream",
     "text": [
      "epoch  44: loss 8.234e-04\n"
     ]
    },
    {
     "name": "stderr",
     "output_type": "stream",
     "text": [
      "train step for 1 epoch: 100%|██████████| 100/100 [00:00<00:00, 395.56it/s]\n",
      "train step for 1 epoch: 100%|██████████| 100/100 [00:00<00:00, 445.52it/s]\n",
      "train step for 1 epoch: 100%|██████████| 100/100 [00:00<00:00, 526.38it/s]\n",
      "train step for 1 epoch: 100%|██████████| 100/100 [00:00<00:00, 447.56it/s]\n",
      "train step for 1 epoch: 100%|██████████| 100/100 [00:00<00:00, 424.14it/s]\n",
      "train step for 1 epoch: 100%|██████████| 100/100 [00:00<00:00, 514.00it/s]\n",
      "train step for 1 epoch:   0%|          | 0/100 [00:00<?, ?it/s]"
     ]
    },
    {
     "name": "stdout",
     "output_type": "stream",
     "text": [
      "epoch  49: loss 5.801e-04\n",
      "training tasks ...\n"
     ]
    },
    {
     "name": "stderr",
     "output_type": "stream",
     "text": [
      "train step for 1 epoch: 100%|██████████| 100/100 [00:00<00:00, 425.63it/s]\n",
      "train step for 1 epoch: 100%|██████████| 100/100 [00:00<00:00, 441.82it/s]\n",
      "train step for 1 epoch: 100%|██████████| 100/100 [00:00<00:00, 575.93it/s]\n",
      "train step for 1 epoch: 100%|██████████| 100/100 [00:00<00:00, 429.49it/s]\n",
      "train step for 1 epoch:  38%|███▊      | 38/100 [00:00<00:00, 375.50it/s]"
     ]
    },
    {
     "name": "stdout",
     "output_type": "stream",
     "text": [
      "epoch   4: loss 3.093e-01\n"
     ]
    },
    {
     "name": "stderr",
     "output_type": "stream",
     "text": [
      "train step for 1 epoch: 100%|██████████| 100/100 [00:00<00:00, 360.41it/s]\n",
      "train step for 1 epoch: 100%|██████████| 100/100 [00:00<00:00, 412.02it/s]\n",
      "train step for 1 epoch: 100%|██████████| 100/100 [00:00<00:00, 358.55it/s]\n",
      "train step for 1 epoch: 100%|██████████| 100/100 [00:00<00:00, 340.27it/s]\n",
      "train step for 1 epoch: 100%|██████████| 100/100 [00:00<00:00, 401.91it/s]\n",
      "train step for 1 epoch:  39%|███▉      | 39/100 [00:00<00:00, 385.96it/s]"
     ]
    },
    {
     "name": "stdout",
     "output_type": "stream",
     "text": [
      "epoch   9: loss 2.822e-01\n"
     ]
    },
    {
     "name": "stderr",
     "output_type": "stream",
     "text": [
      "train step for 1 epoch: 100%|██████████| 100/100 [00:00<00:00, 392.88it/s]\n",
      "train step for 1 epoch: 100%|██████████| 100/100 [00:00<00:00, 432.28it/s]\n",
      "train step for 1 epoch: 100%|██████████| 100/100 [00:00<00:00, 430.84it/s]\n",
      "train step for 1 epoch: 100%|██████████| 100/100 [00:00<00:00, 367.04it/s]\n",
      "train step for 1 epoch: 100%|██████████| 100/100 [00:00<00:00, 459.67it/s]\n",
      "train step for 1 epoch:  43%|████▎     | 43/100 [00:00<00:00, 429.43it/s]"
     ]
    },
    {
     "name": "stdout",
     "output_type": "stream",
     "text": [
      "epoch  14: loss 2.778e-01\n"
     ]
    },
    {
     "name": "stderr",
     "output_type": "stream",
     "text": [
      "train step for 1 epoch: 100%|██████████| 100/100 [00:00<00:00, 392.28it/s]\n",
      "train step for 1 epoch: 100%|██████████| 100/100 [00:00<00:00, 483.75it/s]\n",
      "train step for 1 epoch: 100%|██████████| 100/100 [00:00<00:00, 418.04it/s]\n",
      "train step for 1 epoch: 100%|██████████| 100/100 [00:00<00:00, 455.09it/s]\n",
      "train step for 1 epoch: 100%|██████████| 100/100 [00:00<00:00, 351.42it/s]\n",
      "train step for 1 epoch:  46%|████▌     | 46/100 [00:00<00:00, 459.15it/s]"
     ]
    },
    {
     "name": "stdout",
     "output_type": "stream",
     "text": [
      "epoch  19: loss 2.762e-01\n"
     ]
    },
    {
     "name": "stderr",
     "output_type": "stream",
     "text": [
      "train step for 1 epoch: 100%|██████████| 100/100 [00:00<00:00, 424.34it/s]\n",
      "train step for 1 epoch: 100%|██████████| 100/100 [00:00<00:00, 460.57it/s]\n",
      "train step for 1 epoch: 100%|██████████| 100/100 [00:00<00:00, 468.42it/s]\n",
      "train step for 1 epoch: 100%|██████████| 100/100 [00:00<00:00, 587.00it/s]\n",
      "train step for 1 epoch: 100%|██████████| 100/100 [00:00<00:00, 536.84it/s]\n",
      "train step for 1 epoch:  42%|████▏     | 42/100 [00:00<00:00, 412.15it/s]"
     ]
    },
    {
     "name": "stdout",
     "output_type": "stream",
     "text": [
      "epoch  24: loss 2.755e-01\n"
     ]
    },
    {
     "name": "stderr",
     "output_type": "stream",
     "text": [
      "train step for 1 epoch: 100%|██████████| 100/100 [00:00<00:00, 449.07it/s]\n",
      "train step for 1 epoch: 100%|██████████| 100/100 [00:00<00:00, 414.34it/s]\n",
      "train step for 1 epoch: 100%|██████████| 100/100 [00:00<00:00, 378.91it/s]\n",
      "train step for 1 epoch: 100%|██████████| 100/100 [00:00<00:00, 415.50it/s]\n",
      "train step for 1 epoch: 100%|██████████| 100/100 [00:00<00:00, 409.33it/s]\n",
      "train step for 1 epoch:  40%|████      | 40/100 [00:00<00:00, 391.56it/s]"
     ]
    },
    {
     "name": "stdout",
     "output_type": "stream",
     "text": [
      "epoch  29: loss 2.750e-01\n"
     ]
    },
    {
     "name": "stderr",
     "output_type": "stream",
     "text": [
      "train step for 1 epoch: 100%|██████████| 100/100 [00:00<00:00, 376.43it/s]\n",
      "train step for 1 epoch: 100%|██████████| 100/100 [00:00<00:00, 451.60it/s]\n",
      "train step for 1 epoch: 100%|██████████| 100/100 [00:00<00:00, 466.32it/s]\n",
      "train step for 1 epoch: 100%|██████████| 100/100 [00:00<00:00, 469.50it/s]\n",
      "train step for 1 epoch: 100%|██████████| 100/100 [00:00<00:00, 407.62it/s]\n",
      "train step for 1 epoch:  39%|███▉      | 39/100 [00:00<00:00, 384.67it/s]"
     ]
    },
    {
     "name": "stdout",
     "output_type": "stream",
     "text": [
      "epoch  34: loss 2.749e-01\n"
     ]
    },
    {
     "name": "stderr",
     "output_type": "stream",
     "text": [
      "train step for 1 epoch: 100%|██████████| 100/100 [00:00<00:00, 447.00it/s]\n",
      "train step for 1 epoch: 100%|██████████| 100/100 [00:00<00:00, 453.24it/s]\n",
      "train step for 1 epoch: 100%|██████████| 100/100 [00:00<00:00, 376.79it/s]\n",
      "train step for 1 epoch: 100%|██████████| 100/100 [00:00<00:00, 469.23it/s]\n",
      "train step for 1 epoch: 100%|██████████| 100/100 [00:00<00:00, 521.56it/s]\n",
      "train step for 1 epoch:  51%|█████     | 51/100 [00:00<00:00, 503.89it/s]"
     ]
    },
    {
     "name": "stdout",
     "output_type": "stream",
     "text": [
      "epoch  39: loss 2.748e-01\n"
     ]
    },
    {
     "name": "stderr",
     "output_type": "stream",
     "text": [
      "train step for 1 epoch: 100%|██████████| 100/100 [00:00<00:00, 474.93it/s]\n",
      "train step for 1 epoch: 100%|██████████| 100/100 [00:00<00:00, 433.12it/s]\n",
      "train step for 1 epoch: 100%|██████████| 100/100 [00:00<00:00, 485.84it/s]\n",
      "train step for 1 epoch: 100%|██████████| 100/100 [00:00<00:00, 433.27it/s]\n",
      "train step for 1 epoch: 100%|██████████| 100/100 [00:00<00:00, 369.06it/s]\n",
      "train step for 1 epoch:  41%|████      | 41/100 [00:00<00:00, 408.96it/s]"
     ]
    },
    {
     "name": "stdout",
     "output_type": "stream",
     "text": [
      "epoch  44: loss 2.746e-01\n"
     ]
    },
    {
     "name": "stderr",
     "output_type": "stream",
     "text": [
      "train step for 1 epoch: 100%|██████████| 100/100 [00:00<00:00, 430.79it/s]\n",
      "train step for 1 epoch: 100%|██████████| 100/100 [00:00<00:00, 389.72it/s]\n",
      "train step for 1 epoch: 100%|██████████| 100/100 [00:00<00:00, 432.62it/s]\n",
      "train step for 1 epoch: 100%|██████████| 100/100 [00:00<00:00, 424.58it/s]\n",
      "train step for 1 epoch: 100%|██████████| 100/100 [00:00<00:00, 395.65it/s]\n"
     ]
    },
    {
     "name": "stdout",
     "output_type": "stream",
     "text": [
      "epoch  49: loss 2.745e-01\n"
     ]
    },
    {
     "data": {
      "image/png": "[encoded data removed]",
      "text/plain": [
       "<Figure size 432x288 with 1 Axes>"
      ]
     },
     "metadata": {
      "needs_background": "light"
     },
     "output_type": "display_data"
    }
   ],
   "source": [
    "def ind_EBM(d, c, X, Y, Z, n_epochs=10, report_every=1, plot=True):\n",
    "    c = min(d, c)\n",
    "    print(f'number of concepts to learn: {c}')\n",
    "    print(f'true number of concepts: {d}')\n",
    "    \n",
    "    # EBM with concept and task independently trained\n",
    "    net_c = nn.Sequential(MLP([d, d * 2, c]), nn.Sigmoid())\n",
    "    net_y = MLP([c, d * 2, 2])\n",
    "    net = CBM(net_c, net_y)\n",
    "    \n",
    "    # train\n",
    "    print('training concepts ...')\n",
    "    opt_c = optim.Adam(net_c.parameters())\n",
    "    train(net_c, \n",
    "          DataLoader(TensorDataset(X, Z[:, :c]), batch_size=bs, shuffle=True), \n",
    "          opt_c, criterion=nn.BCELoss(), n_epochs=n_epochs, report_every=report_every)\n",
    "\n",
    "    print('training tasks ...')\n",
    "    opt_y = optim.Adam(net_y.parameters())\n",
    "    log = train(net_y, \n",
    "                DataLoader(TensorDataset(Z[:, :c], Y), batch_size=bs, shuffle=True), \n",
    "                opt_y, n_epochs=n_epochs, report_every=report_every)\n",
    "    if plot: plot_log(log)\n",
    "\n",
    "    return net\n",
    "\n",
    "ebm_ind = ind_EBM(d, c, X, Y, Z, n_epochs=n_epochs, report_every=n_epochs//10)"
   ]
  },
  {
   "cell_type": "code",
   "execution_count": 9,
   "id": "30e50f36",
   "metadata": {
    "tags": []
   },
   "outputs": [
    {
     "name": "stderr",
     "output_type": "stream",
     "text": [
      "test eval: 100%|██████████| 100/100 [00:00<00:00, 640.90it/s]\n"
     ]
    },
    {
     "name": "stdout",
     "output_type": "stream",
     "text": [
      "task acc after training: 87.36%\n",
      "concept 0 acc after training: 100.0%\n"
     ]
    }
   ],
   "source": [
    "print('task acc after training: {:.2f}%'.format(test(ebm_ind, loader_xy_te, acc_criterion ) * 100)) # the optimum is 1/16 + 3/4; the strategy is to randomize if the first concept is 1, otherwise output 0\n",
    "print_concept_acc(ebm_ind.net_c[0], c, X_te, Z_te) # net_c[0] because it is the logit part"
   ]
  },
  {
   "cell_type": "code",
   "execution_count": 10,
   "id": "7e5cf071",
   "metadata": {},
   "outputs": [
    {
     "name": "stdout",
     "output_type": "stream",
     "text": [
      "task acc 95% CI (86.62, 87.95)%\n"
     ]
    }
   ],
   "source": [
    "o = get_output(ebm_ind, \n",
    "               DataLoader(TensorDataset(X_te), batch_size=bs, shuffle=False)).argmax(1)\n",
    "ci_l, ci_h = bootstrap(lambda o, y: (o==y).mean(), o, Y_te.numpy())\n",
    "print(f'task acc 95% CI ({ci_l*100:.2f}, {ci_h*100:.2f})%')"
   ]
  },
  {
   "cell_type": "markdown",
   "id": "8f9f93c9",
   "metadata": {},
   "source": [
    "## Concept completeness\n",
    "\n",
    "Since concept can overload in joint EBM, concept completeness measure would only help if we can understand what concept it is using, which defeats the purpose of using high level feature."
   ]
  },
  {
   "cell_type": "code",
   "execution_count": 11,
   "id": "f7d64c16",
   "metadata": {
    "tags": []
   },
   "outputs": [
    {
     "data": {
      "text/html": [
       "<div>\n",
       "<style scoped>\n",
       "    .dataframe tbody tr th:only-of-type {\n",
       "        vertical-align: middle;\n",
       "    }\n",
       "\n",
       "    .dataframe tbody tr th {\n",
       "        vertical-align: top;\n",
       "    }\n",
       "\n",
       "    .dataframe thead th {\n",
       "        text-align: right;\n",
       "    }\n",
       "</style>\n",
       "<table border=\"1\" class=\"dataframe\">\n",
       "  <thead>\n",
       "    <tr style=\"text-align: right;\">\n",
       "      <th></th>\n",
       "      <th>X0</th>\n",
       "      <th>X1</th>\n",
       "      <th>X2</th>\n",
       "    </tr>\n",
       "  </thead>\n",
       "  <tbody>\n",
       "    <tr>\n",
       "      <th>0</th>\n",
       "      <td>0.0</td>\n",
       "      <td>0.0</td>\n",
       "      <td>0.0</td>\n",
       "    </tr>\n",
       "    <tr>\n",
       "      <th>1</th>\n",
       "      <td>0.0</td>\n",
       "      <td>0.0</td>\n",
       "      <td>1.0</td>\n",
       "    </tr>\n",
       "    <tr>\n",
       "      <th>2</th>\n",
       "      <td>0.0</td>\n",
       "      <td>1.0</td>\n",
       "      <td>0.0</td>\n",
       "    </tr>\n",
       "    <tr>\n",
       "      <th>3</th>\n",
       "      <td>0.0</td>\n",
       "      <td>1.0</td>\n",
       "      <td>1.0</td>\n",
       "    </tr>\n",
       "    <tr>\n",
       "      <th>4</th>\n",
       "      <td>1.0</td>\n",
       "      <td>0.0</td>\n",
       "      <td>0.0</td>\n",
       "    </tr>\n",
       "    <tr>\n",
       "      <th>5</th>\n",
       "      <td>1.0</td>\n",
       "      <td>0.0</td>\n",
       "      <td>1.0</td>\n",
       "    </tr>\n",
       "    <tr>\n",
       "      <th>6</th>\n",
       "      <td>1.0</td>\n",
       "      <td>1.0</td>\n",
       "      <td>0.0</td>\n",
       "    </tr>\n",
       "    <tr>\n",
       "      <th>7</th>\n",
       "      <td>1.0</td>\n",
       "      <td>1.0</td>\n",
       "      <td>1.0</td>\n",
       "    </tr>\n",
       "  </tbody>\n",
       "</table>\n",
       "</div>"
      ],
      "text/plain": [
       "    X0   X1   X2\n",
       "0  0.0  0.0  0.0\n",
       "1  0.0  0.0  1.0\n",
       "2  0.0  1.0  0.0\n",
       "3  0.0  1.0  1.0\n",
       "4  1.0  0.0  0.0\n",
       "5  1.0  0.0  1.0\n",
       "6  1.0  1.0  0.0\n",
       "7  1.0  1.0  1.0"
      ]
     },
     "execution_count": 11,
     "metadata": {},
     "output_type": "execute_result"
    }
   ],
   "source": [
    "# generate all possible input\n",
    "explain_X = []\n",
    "for i in range(2**d):\n",
    "    item = np.zeros(d)\n",
    "    idx = 0\n",
    "    while i != 0:\n",
    "        idx += 1\n",
    "        item[-idx] = i % 2\n",
    "        i = i // 2\n",
    "    explain_X.append(item)\n",
    "explain_X = torch.from_numpy(np.array(explain_X)).float()\n",
    "shap_x = pd.DataFrame(explain_X.numpy(), columns=[f'X{i}' for i in range(d)])\n",
    "shap_x"
   ]
  },
  {
   "cell_type": "code",
   "execution_count": 12,
   "id": "00a046f2",
   "metadata": {},
   "outputs": [
    {
     "name": "stdout",
     "output_type": "stream",
     "text": [
      "    X0   X1   X2  logit Z0\n",
      "2  0.0  1.0  0.0     -7.09\n",
      "0  0.0  0.0  0.0     -6.52\n",
      "1  0.0  0.0  1.0     -5.71\n",
      "3  0.0  1.0  1.0     -5.54\n",
      "4  1.0  0.0  0.0      5.12\n",
      "6  1.0  1.0  0.0      6.08\n",
      "5  1.0  0.0  1.0      6.09\n",
      "7  1.0  1.0  1.0      8.65\n",
      "Explaining logit Z0\n"
     ]
    },
    {
     "data": {
      "application/vnd.jupyter.widget-view+json": {
       "model_id": "871529c99c794fe9b447f439f29abbfa",
       "version_major": 2,
       "version_minor": 0
      },
      "text/plain": [
       "  0%|          | 0/8 [00:00<?, ?it/s]"
      ]
     },
     "metadata": {},
     "output_type": "display_data"
    },
    {
     "data": {
      "image/png": "[encoded data removed]",
      "text/plain": [
       "<Figure size 576x194.4 with 2 Axes>"
      ]
     },
     "metadata": {
      "needs_background": "light"
     },
     "output_type": "display_data"
    }
   ],
   "source": [
    "shap_net_x(ebm_joint.net_c, shap_x, bs, output_name=\"logit Z\")"
   ]
  },
  {
   "cell_type": "code",
   "execution_count": 13,
   "id": "adfe55c7",
   "metadata": {},
   "outputs": [
    {
     "name": "stdout",
     "output_type": "stream",
     "text": [
      "    X0   X1   X2  logit Z0\n",
      "3  0.0  1.0  1.0     -8.18\n",
      "1  0.0  0.0  1.0     -7.72\n",
      "2  0.0  1.0  0.0     -7.68\n",
      "0  0.0  0.0  0.0     -7.22\n",
      "4  1.0  0.0  0.0      6.78\n",
      "7  1.0  1.0  1.0      7.34\n",
      "5  1.0  0.0  1.0      7.76\n",
      "6  1.0  1.0  0.0      7.84\n",
      "Explaining logit Z0\n"
     ]
    },
    {
     "data": {
      "application/vnd.jupyter.widget-view+json": {
       "model_id": "6b6925aa4a044d618ec67990ab4d5ec4",
       "version_major": 2,
       "version_minor": 0
      },
      "text/plain": [
       "  0%|          | 0/8 [00:00<?, ?it/s]"
      ]
     },
     "metadata": {},
     "output_type": "display_data"
    },
    {
     "data": {
      "image/png": "[encoded data removed]",
      "text/plain": [
       "<Figure size 576x194.4 with 2 Axes>"
      ]
     },
     "metadata": {
      "needs_background": "light"
     },
     "output_type": "display_data"
    }
   ],
   "source": [
    "shap_net_x(LambdaNet(lambda x: ebm_ind.net_c[0](x)), shap_x, bs, output_name=\"logit Z\")"
   ]
  },
  {
   "cell_type": "code",
   "execution_count": 14,
   "id": "47db1be2",
   "metadata": {},
   "outputs": [
    {
     "name": "stdout",
     "output_type": "stream",
     "text": [
      "    X0   X1   X2  output0\n",
      "0  0.0  0.0  0.0     0.00\n",
      "1  0.0  0.0  1.0     0.00\n",
      "2  0.0  1.0  0.0     0.00\n",
      "3  0.0  1.0  1.0     0.00\n",
      "4  1.0  0.0  0.0     0.24\n",
      "5  1.0  0.0  1.0     0.24\n",
      "6  1.0  1.0  0.0     0.24\n",
      "7  1.0  1.0  1.0     0.24\n",
      "Explaining output0\n"
     ]
    },
    {
     "data": {
      "application/vnd.jupyter.widget-view+json": {
       "model_id": "378a40cf71924934aa3e35e6656cece8",
       "version_major": 2,
       "version_minor": 0
      },
      "text/plain": [
       "  0%|          | 0/8 [00:00<?, ?it/s]"
      ]
     },
     "metadata": {},
     "output_type": "display_data"
    },
    {
     "data": {
      "image/png": "[encoded data removed]",
      "text/plain": [
       "<Figure size 576x194.4 with 2 Axes>"
      ]
     },
     "metadata": {
      "needs_background": "light"
     },
     "output_type": "display_data"
    },
    {
     "name": "stdout",
     "output_type": "stream",
     "text": [
      "    X0   X1   X2  concept 00\n",
      "0  0.0  0.0  0.0        0.50\n",
      "1  0.0  0.0  1.0        0.50\n",
      "2  0.0  1.0  0.0        0.50\n",
      "3  0.0  1.0  1.0        0.50\n",
      "4  1.0  0.0  0.0        0.73\n",
      "5  1.0  0.0  1.0        0.73\n",
      "6  1.0  1.0  0.0        0.73\n",
      "7  1.0  1.0  1.0        0.73\n",
      "Explaining concept 00\n"
     ]
    },
    {
     "data": {
      "application/vnd.jupyter.widget-view+json": {
       "model_id": "2676f674f1ce46ff8da6aefffe4973f7",
       "version_major": 2,
       "version_minor": 0
      },
      "text/plain": [
       "  0%|          | 0/8 [00:00<?, ?it/s]"
      ]
     },
     "metadata": {},
     "output_type": "display_data"
    },
    {
     "data": {
      "image/png": "[encoded data removed]",
      "text/plain": [
       "<Figure size 576x194.4 with 2 Axes>"
      ]
     },
     "metadata": {
      "needs_background": "light"
     },
     "output_type": "display_data"
    }
   ],
   "source": [
    "shap_net_x(LambdaNet(lambda x: torch.softmax(ebm_ind(x), 1)[:, 1:]), shap_x, bs, output_name=\"output\")\n",
    "\n",
    "shap_net_x(LambdaNet(lambda x: torch.sigmoid(ebm_ind.net_c(x))), shap_x, bs, output_name=\"concept 0\")"
   ]
  },
  {
   "cell_type": "code",
   "execution_count": 15,
   "id": "8df35d42",
   "metadata": {
    "tags": []
   },
   "outputs": [
    {
     "name": "stdout",
     "output_type": "stream",
     "text": [
      "    X0   X1   X2  output0\n",
      "0  0.0  0.0  0.0      0.0\n",
      "1  0.0  0.0  1.0      0.0\n",
      "2  0.0  1.0  0.0      0.0\n",
      "3  0.0  1.0  1.0      0.0\n",
      "4  1.0  0.0  0.0      0.0\n",
      "5  1.0  0.0  1.0      0.0\n",
      "6  1.0  1.0  0.0      0.0\n",
      "7  1.0  1.0  1.0      1.0\n",
      "Explaining output0\n"
     ]
    },
    {
     "data": {
      "application/vnd.jupyter.widget-view+json": {
       "model_id": "3c34580c05724cd78b018cac16e47001",
       "version_major": 2,
       "version_minor": 0
      },
      "text/plain": [
       "  0%|          | 0/8 [00:00<?, ?it/s]"
      ]
     },
     "metadata": {},
     "output_type": "display_data"
    },
    {
     "data": {
      "image/png": "[encoded data removed]",
      "text/plain": [
       "<Figure size 576x194.4 with 2 Axes>"
      ]
     },
     "metadata": {
      "needs_background": "light"
     },
     "output_type": "display_data"
    },
    {
     "name": "stdout",
     "output_type": "stream",
     "text": [
      "    X0   X1   X2  concept 00\n",
      "0  0.0  0.0  0.0        0.00\n",
      "1  0.0  0.0  1.0        0.00\n",
      "2  0.0  1.0  0.0        0.00\n",
      "3  0.0  1.0  1.0        0.00\n",
      "4  1.0  0.0  0.0        0.99\n",
      "5  1.0  0.0  1.0        1.00\n",
      "6  1.0  1.0  0.0        1.00\n",
      "7  1.0  1.0  1.0        1.00\n",
      "Explaining concept 00\n"
     ]
    },
    {
     "data": {
      "application/vnd.jupyter.widget-view+json": {
       "model_id": "e02fa0f59064471586338cbcf8adcf41",
       "version_major": 2,
       "version_minor": 0
      },
      "text/plain": [
       "  0%|          | 0/8 [00:00<?, ?it/s]"
      ]
     },
     "metadata": {},
     "output_type": "display_data"
    },
    {
     "data": {
      "image/png": "[encoded data removed]",
      "text/plain": [
       "<Figure size 576x194.4 with 2 Axes>"
      ]
     },
     "metadata": {
      "needs_background": "light"
     },
     "output_type": "display_data"
    }
   ],
   "source": [
    "shap_net_x(LambdaNet(lambda x: torch.softmax(ebm_joint(x), 1)[:, 1:]), shap_x, bs, output_name=\"output\")\n",
    "\n",
    "shap_net_x(LambdaNet(lambda x: torch.sigmoid(ebm_joint.net_c(x))), shap_x, bs, output_name=\"concept 0\")"
   ]
  },
  {
   "cell_type": "markdown",
   "id": "48222806",
   "metadata": {},
   "source": [
    "It's very hard to tell whether the concept detector is overloaded as it is clearly more dependent on the first concept.\n",
    "\n",
    "### TODO: run this example with Yeh et al's measure and its interpretable model\n",
    "\n",
    "In fact we can even analytically define the concept vector as $[1, -0.1, -0.1]$. This clearly would prefer concept 0 in order to activate. However, it still gives away information about both concept 1 and concept 2.\n"
   ]
  },
  {
   "cell_type": "markdown",
   "id": "09ce88bf",
   "metadata": {},
   "source": [
    "## TODO: EBM sequential\n",
    "\n",
    "EBM sequential don't need concept dataset and the classification task to overlap, which is way more flexible. The lesson is we should not jointly train interpretable models: this would transfer to CCM."
   ]
  },
  {
   "cell_type": "code",
   "execution_count": null,
   "id": "af9977c1",
   "metadata": {},
   "outputs": [],
   "source": []
  },
  {
   "cell_type": "markdown",
   "id": "fde7bde5",
   "metadata": {},
   "source": [
    "## CCM residue\n",
    "\n",
    "It would fail because we know the impact should be the same for $Z_0$ and $Z_1$ and $Z_2$, but we would have observed $Z_0$ have less impact."
   ]
  },
  {
   "cell_type": "code",
   "execution_count": 17,
   "id": "c232a756",
   "metadata": {},
   "outputs": [
    {
     "name": "stderr",
     "output_type": "stream",
     "text": [
      "train step for 1 epoch:  36%|███▌      | 36/100 [00:00<00:00, 359.17it/s]"
     ]
    },
    {
     "name": "stdout",
     "output_type": "stream",
     "text": [
      "number of concepts to learn: 1\n",
      "true number of concepts: 3\n"
     ]
    },
    {
     "name": "stderr",
     "output_type": "stream",
     "text": [
      "train step for 1 epoch: 100%|██████████| 100/100 [00:00<00:00, 356.43it/s]\n",
      "train step for 1 epoch: 100%|██████████| 100/100 [00:00<00:00, 359.54it/s]\n",
      "train step for 1 epoch: 100%|██████████| 100/100 [00:00<00:00, 403.00it/s]\n",
      "train step for 1 epoch: 100%|██████████| 100/100 [00:00<00:00, 387.56it/s]\n",
      "train step for 1 epoch: 100%|██████████| 100/100 [00:00<00:00, 431.86it/s]\n",
      "train step for 1 epoch:  47%|████▋     | 47/100 [00:00<00:00, 469.70it/s]"
     ]
    },
    {
     "name": "stdout",
     "output_type": "stream",
     "text": [
      "epoch   4: loss 1.292e-01\n"
     ]
    },
    {
     "name": "stderr",
     "output_type": "stream",
     "text": [
      "train step for 1 epoch: 100%|██████████| 100/100 [00:00<00:00, 437.41it/s]\n",
      "train step for 1 epoch: 100%|██████████| 100/100 [00:00<00:00, 421.52it/s]\n",
      "train step for 1 epoch: 100%|██████████| 100/100 [00:00<00:00, 445.93it/s]\n",
      "train step for 1 epoch: 100%|██████████| 100/100 [00:00<00:00, 384.18it/s]\n",
      "train step for 1 epoch: 100%|██████████| 100/100 [00:00<00:00, 360.82it/s]\n",
      "train step for 1 epoch:  37%|███▋      | 37/100 [00:00<00:00, 368.30it/s]"
     ]
    },
    {
     "name": "stdout",
     "output_type": "stream",
     "text": [
      "epoch   9: loss 3.601e-02\n"
     ]
    },
    {
     "name": "stderr",
     "output_type": "stream",
     "text": [
      "train step for 1 epoch: 100%|██████████| 100/100 [00:00<00:00, 367.11it/s]\n",
      "train step for 1 epoch: 100%|██████████| 100/100 [00:00<00:00, 342.11it/s]\n",
      "train step for 1 epoch: 100%|██████████| 100/100 [00:00<00:00, 442.50it/s]\n",
      "train step for 1 epoch: 100%|██████████| 100/100 [00:00<00:00, 447.34it/s]\n",
      "train step for 1 epoch: 100%|██████████| 100/100 [00:00<00:00, 440.82it/s]\n",
      "train step for 1 epoch:  38%|███▊      | 38/100 [00:00<00:00, 374.65it/s]"
     ]
    },
    {
     "name": "stdout",
     "output_type": "stream",
     "text": [
      "epoch  14: loss 1.459e-02\n"
     ]
    },
    {
     "name": "stderr",
     "output_type": "stream",
     "text": [
      "train step for 1 epoch: 100%|██████████| 100/100 [00:00<00:00, 353.67it/s]\n",
      "train step for 1 epoch: 100%|██████████| 100/100 [00:00<00:00, 371.82it/s]\n",
      "train step for 1 epoch: 100%|██████████| 100/100 [00:00<00:00, 476.46it/s]\n",
      "train step for 1 epoch: 100%|██████████| 100/100 [00:00<00:00, 454.68it/s]\n",
      "train step for 1 epoch: 100%|██████████| 100/100 [00:00<00:00, 430.57it/s]\n",
      "train step for 1 epoch:  40%|████      | 40/100 [00:00<00:00, 394.15it/s]"
     ]
    },
    {
     "name": "stdout",
     "output_type": "stream",
     "text": [
      "epoch  19: loss 7.783e-03\n"
     ]
    },
    {
     "name": "stderr",
     "output_type": "stream",
     "text": [
      "train step for 1 epoch: 100%|██████████| 100/100 [00:00<00:00, 404.21it/s]\n",
      "train step for 1 epoch: 100%|██████████| 100/100 [00:00<00:00, 408.33it/s]\n",
      "train step for 1 epoch: 100%|██████████| 100/100 [00:00<00:00, 392.64it/s]\n",
      "train step for 1 epoch: 100%|██████████| 100/100 [00:00<00:00, 419.32it/s]\n",
      "train step for 1 epoch: 100%|██████████| 100/100 [00:00<00:00, 418.63it/s]\n",
      "train step for 1 epoch:  40%|████      | 40/100 [00:00<00:00, 396.73it/s]"
     ]
    },
    {
     "name": "stdout",
     "output_type": "stream",
     "text": [
      "epoch  24: loss 4.410e-03\n"
     ]
    },
    {
     "name": "stderr",
     "output_type": "stream",
     "text": [
      "train step for 1 epoch: 100%|██████████| 100/100 [00:00<00:00, 410.15it/s]\n",
      "train step for 1 epoch: 100%|██████████| 100/100 [00:00<00:00, 400.46it/s]\n",
      "train step for 1 epoch: 100%|██████████| 100/100 [00:00<00:00, 508.89it/s]\n",
      "train step for 1 epoch: 100%|██████████| 100/100 [00:00<00:00, 397.62it/s]\n",
      "train step for 1 epoch: 100%|██████████| 100/100 [00:00<00:00, 416.40it/s]\n",
      "train step for 1 epoch:  36%|███▌      | 36/100 [00:00<00:00, 350.94it/s]"
     ]
    },
    {
     "name": "stdout",
     "output_type": "stream",
     "text": [
      "epoch  29: loss 2.625e-03\n"
     ]
    },
    {
     "name": "stderr",
     "output_type": "stream",
     "text": [
      "train step for 1 epoch: 100%|██████████| 100/100 [00:00<00:00, 404.57it/s]\n",
      "train step for 1 epoch: 100%|██████████| 100/100 [00:00<00:00, 312.39it/s]\n",
      "train step for 1 epoch: 100%|██████████| 100/100 [00:00<00:00, 322.85it/s]\n",
      "train step for 1 epoch: 100%|██████████| 100/100 [00:00<00:00, 297.99it/s]\n",
      "train step for 1 epoch: 100%|██████████| 100/100 [00:00<00:00, 329.06it/s]\n",
      "train step for 1 epoch:  35%|███▌      | 35/100 [00:00<00:00, 342.28it/s]"
     ]
    },
    {
     "name": "stdout",
     "output_type": "stream",
     "text": [
      "epoch  34: loss 1.648e-03\n"
     ]
    },
    {
     "name": "stderr",
     "output_type": "stream",
     "text": [
      "train step for 1 epoch: 100%|██████████| 100/100 [00:00<00:00, 393.26it/s]\n",
      "train step for 1 epoch: 100%|██████████| 100/100 [00:00<00:00, 335.94it/s]\n",
      "train step for 1 epoch: 100%|██████████| 100/100 [00:00<00:00, 352.51it/s]\n",
      "train step for 1 epoch: 100%|██████████| 100/100 [00:00<00:00, 382.08it/s]\n",
      "train step for 1 epoch: 100%|██████████| 100/100 [00:00<00:00, 394.32it/s]\n",
      "train step for 1 epoch:  41%|████      | 41/100 [00:00<00:00, 409.76it/s]"
     ]
    },
    {
     "name": "stdout",
     "output_type": "stream",
     "text": [
      "epoch  39: loss 1.079e-03\n"
     ]
    },
    {
     "name": "stderr",
     "output_type": "stream",
     "text": [
      "train step for 1 epoch: 100%|██████████| 100/100 [00:00<00:00, 418.18it/s]\n",
      "train step for 1 epoch: 100%|██████████| 100/100 [00:00<00:00, 392.94it/s]\n",
      "train step for 1 epoch: 100%|██████████| 100/100 [00:00<00:00, 435.52it/s]\n",
      "train step for 1 epoch: 100%|██████████| 100/100 [00:00<00:00, 354.48it/s]\n",
      "train step for 1 epoch: 100%|██████████| 100/100 [00:00<00:00, 383.05it/s]\n",
      "train step for 1 epoch:  40%|████      | 40/100 [00:00<00:00, 398.22it/s]"
     ]
    },
    {
     "name": "stdout",
     "output_type": "stream",
     "text": [
      "epoch  44: loss 7.288e-04\n"
     ]
    },
    {
     "name": "stderr",
     "output_type": "stream",
     "text": [
      "train step for 1 epoch: 100%|██████████| 100/100 [00:00<00:00, 392.64it/s]\n",
      "train step for 1 epoch: 100%|██████████| 100/100 [00:00<00:00, 422.12it/s]\n",
      "train step for 1 epoch: 100%|██████████| 100/100 [00:00<00:00, 419.02it/s]\n",
      "train step for 1 epoch: 100%|██████████| 100/100 [00:00<00:00, 353.32it/s]\n",
      "train step for 1 epoch: 100%|██████████| 100/100 [00:00<00:00, 411.62it/s]\n"
     ]
    },
    {
     "name": "stdout",
     "output_type": "stream",
     "text": [
      "epoch  49: loss 5.042e-04\n"
     ]
    },
    {
     "data": {
      "image/png": "[encoded data removed]",
      "text/plain": [
       "<Figure size 432x288 with 1 Axes>"
      ]
     },
     "metadata": {
      "needs_background": "light"
     },
     "output_type": "display_data"
    }
   ],
   "source": [
    "def res_CCM(ebm, d, c, X, Y, n_epochs=10, report_every=1, bs=100, plot=True):\n",
    "    '''\n",
    "    residue CCM: net_y adds ebm(x) and cbm_res(x)\n",
    "    where cbm_res is cbm with not interpretable concepts\n",
    "    '''\n",
    "    c = min(d, c)\n",
    "    print(f'number of concepts to learn: {c}')\n",
    "    print(f'true number of concepts: {d}')\n",
    "\n",
    "    # freeze ebm (don't require grad) so that it does not train\n",
    "    ebm.eval()\n",
    "    dfs_freeze(ebm)\n",
    "\n",
    "    # additional channel to fit residue\n",
    "    # classification problem: pure residue does not work b/c y is not continous (cannot test acc)\n",
    "    # we need to fit to the logit\n",
    "    cbm_res = CBM(LambdaNet(lambda x: x), MLP([d, d * 2, 2]))\n",
    "    net_y = LambdaNet(lambda c: ebm.net_y(c[0]) + cbm_res.net_y(c[1])) # c[0] is known c, c[1] is u\n",
    "    net = CCM(ebm.net_c, cbm_res.net_c, net_y)\n",
    "\n",
    "    # train\n",
    "    opt = optim.Adam(cbm_res.parameters())\n",
    "    log = train(net, \n",
    "                DataLoader(TensorDataset(X, Y), batch_size=bs), \n",
    "                opt, n_epochs=n_epochs, report_every=report_every)\n",
    "    if plot: plot_log(log)\n",
    "    return net\n",
    "    \n",
    "ccm_res = res_CCM(copy.deepcopy(ebm_ind), d, c, X, Y, n_epochs=n_epochs, report_every=n_epochs//10)"
   ]
  },
  {
   "cell_type": "code",
   "execution_count": 18,
   "id": "f2fa8f83",
   "metadata": {},
   "outputs": [
    {
     "name": "stderr",
     "output_type": "stream",
     "text": [
      "test eval: 100%|██████████| 100/100 [00:00<00:00, 524.63it/s]"
     ]
    },
    {
     "name": "stdout",
     "output_type": "stream",
     "text": [
      "task acc after training: 100.00%\n"
     ]
    },
    {
     "name": "stderr",
     "output_type": "stream",
     "text": [
      "\n"
     ]
    }
   ],
   "source": [
    "print('task acc after training: {:.2f}%'.format(test(ccm_res, loader_xy_te, acc_criterion ) * 100))"
   ]
  },
  {
   "cell_type": "code",
   "execution_count": 19,
   "id": "874ab32e",
   "metadata": {},
   "outputs": [
    {
     "name": "stdout",
     "output_type": "stream",
     "text": [
      "    X0   X1   X2  hat Y0  hat Y1\n",
      "7  1.0  1.0  1.0     0.0     1.0\n",
      "0  0.0  0.0  0.0     1.0     0.0\n",
      "1  0.0  0.0  1.0     1.0     0.0\n",
      "2  0.0  1.0  0.0     1.0     0.0\n",
      "3  0.0  1.0  1.0     1.0     0.0\n",
      "4  1.0  0.0  0.0     1.0     0.0\n",
      "5  1.0  0.0  1.0     1.0     0.0\n",
      "6  1.0  1.0  0.0     1.0     0.0\n",
      "Explaining hat Y1\n"
     ]
    },
    {
     "data": {
      "application/vnd.jupyter.widget-view+json": {
       "model_id": "b10f125d22db4459b874816db81ab518",
       "version_major": 2,
       "version_minor": 0
      },
      "text/plain": [
       "  0%|          | 0/8 [00:00<?, ?it/s]"
      ]
     },
     "metadata": {},
     "output_type": "display_data"
    },
    {
     "data": {
      "image/png": "[encoded data removed]",
      "text/plain": [
       "<Figure size 576x194.4 with 2 Axes>"
      ]
     },
     "metadata": {
      "needs_background": "light"
     },
     "output_type": "display_data"
    }
   ],
   "source": [
    "shap_net_x(nn.Sequential(ccm_res, nn.Softmax(dim=1)), shap_x, bs, output_name=\"hat Y\", output_idx=1)"
   ]
  },
  {
   "cell_type": "markdown",
   "id": "bb02195b",
   "metadata": {},
   "source": [
    "They seem very symmetrical in the input space. However, if we focus on concept attribution:"
   ]
  },
  {
   "cell_type": "code",
   "execution_count": 20,
   "id": "1f0dc90c",
   "metadata": {},
   "outputs": [
    {
     "name": "stdout",
     "output_type": "stream",
     "text": [
      "    Z0   X0   X1   X2  hat Y0  hat Y1\n",
      "7  1.0  1.0  1.0  1.0     0.0     1.0\n",
      "0  0.0  0.0  0.0  0.0     1.0     0.0\n",
      "1  0.0  0.0  0.0  1.0     1.0     0.0\n",
      "2  0.0  0.0  1.0  0.0     1.0     0.0\n",
      "3  0.0  0.0  1.0  1.0     1.0     0.0\n",
      "4  1.0  1.0  0.0  0.0     1.0     0.0\n",
      "5  1.0  1.0  0.0  1.0     1.0     0.0\n",
      "6  1.0  1.0  1.0  0.0     1.0     0.0\n",
      "Explaining hat Y1\n"
     ]
    },
    {
     "data": {
      "application/vnd.jupyter.widget-view+json": {
       "model_id": "1ea57776c7aa4f1ab7be09298edfdd7b",
       "version_major": 2,
       "version_minor": 0
      },
      "text/plain": [
       "  0%|          | 0/8 [00:00<?, ?it/s]"
      ]
     },
     "metadata": {},
     "output_type": "display_data"
    },
    {
     "data": {
      "image/png": "[encoded data removed]",
      "text/plain": [
       "<Figure size 576x223.2 with 2 Axes>"
      ]
     },
     "metadata": {
      "needs_background": "light"
     },
     "output_type": "display_data"
    }
   ],
   "source": [
    "shap_ccm_c(ccm_res, shap_x, bs, u_name='X', output_idx=1) # not_c_name is input b/c I used identity for ccm.not_c"
   ]
  },
  {
   "cell_type": "markdown",
   "id": "749f1125",
   "metadata": {},
   "source": [
    "**Z's influence is divided by X: the model recompute concepts from scratch**"
   ]
  },
  {
   "cell_type": "code",
   "execution_count": 21,
   "id": "f962e885",
   "metadata": {},
   "outputs": [
    {
     "name": "stdout",
     "output_type": "stream",
     "text": [
      "number of concepts to learn: 1\n",
      "true number of concepts: 3\n",
      "   logit Z0   X0   X1   X2  hat Y0  hat Y1\n",
      "7      8.65  1.0  1.0  1.0     0.0     1.0\n",
      "0     -6.52  0.0  0.0  0.0     1.0     0.0\n",
      "1     -5.71  0.0  0.0  1.0     1.0     0.0\n",
      "2     -7.09  0.0  1.0  0.0     1.0     0.0\n",
      "3     -5.54  0.0  1.0  1.0     1.0     0.0\n",
      "4      5.12  1.0  0.0  0.0     1.0     0.0\n",
      "5      6.09  1.0  0.0  1.0     1.0     0.0\n",
      "6      6.08  1.0  1.0  0.0     1.0     0.0\n",
      "Explaining hat Y1\n"
     ]
    },
    {
     "data": {
      "application/vnd.jupyter.widget-view+json": {
       "model_id": "66629d42948747d69a58a44f700ac358",
       "version_major": 2,
       "version_minor": 0
      },
      "text/plain": [
       "  0%|          | 0/8 [00:00<?, ?it/s]"
      ]
     },
     "metadata": {},
     "output_type": "display_data"
    },
    {
     "data": {
      "image/png": "[encoded data removed]",
      "text/plain": [
       "<Figure size 576x223.2 with 2 Axes>"
      ]
     },
     "metadata": {
      "needs_background": "light"
     },
     "output_type": "display_data"
    }
   ],
   "source": [
    "ccm_res_joint = res_CCM(copy.deepcopy(ebm_joint), d, c, X, Y, n_epochs=0, report_every=1, plot=False) #n_epochs//10)\n",
    "shap_ccm_c(ccm_res_joint, shap_x, bs, u_name='X', output_idx=1, c_name='logit Z')"
   ]
  },
  {
   "cell_type": "markdown",
   "id": "5de19f7b",
   "metadata": {},
   "source": [
    "The above graph sanity checks that joint EBM based residue CCM does not use raw input"
   ]
  },
  {
   "cell_type": "markdown",
   "id": "49c8d68a",
   "metadata": {},
   "source": [
    "## TODO: CCM EYE"
   ]
  },
  {
   "cell_type": "code",
   "execution_count": null,
   "id": "e1d270de",
   "metadata": {},
   "outputs": [],
   "source": []
  }
 ],
 "metadata": {
  "kernelspec": {
   "display_name": "Python 3",
   "language": "python",
   "name": "python3"
  },
  "language_info": {
   "codemirror_mode": {
    "name": "ipython",
    "version": 3
   },
   "file_extension": ".py",
   "mimetype": "text/x-python",
   "name": "python",
   "nbconvert_exporter": "python",
   "pygments_lexer": "ipython3",
   "version": "3.7.9"
  }
 },
 "nbformat": 4,
 "nbformat_minor": 5
}
