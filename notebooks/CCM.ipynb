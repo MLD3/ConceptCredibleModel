{
 "cells": [
  {
   "cell_type": "markdown",
   "id": "9f8e6a2d",
   "metadata": {},
   "source": [
    "# Credible Concept Model (CCM) tutorial: extending credible model to uninterpretable raw features\n",
    "\n",
    "By the end of the tutorial, one should be able to\n",
    "\n",
    "1. understand the motivation of CCM\n",
    "2. understand the CCM algorithm\n",
    "3. able to train an CCM model"
   ]
  },
  {
   "cell_type": "code",
   "execution_count": 1,
   "id": "7ef7858a",
   "metadata": {
    "tags": []
   },
   "outputs": [],
   "source": [
    "import sys\n",
    "import numpy as np\n",
    "import copy\n",
    "import shap\n",
    "import pandas as pd\n",
    "import matplotlib.pyplot as plt\n",
    "import copy\n",
    "import torch\n",
    "import torch.nn as nn\n",
    "import torch.optim as optim\n",
    "import torch.nn.functional as F\n",
    "from torch.utils.data import TensorDataset, DataLoader\n",
    "\n",
    "# specific packages\n",
    "if '../' not in sys.path:\n",
    "    sys.path = ['../'] + sys.path\n",
    "from lib.models import CCM, CBM, MLP, LambdaNet\n",
    "from lib.train import train_step_standard, train_step_xyz, train\n",
    "from lib.eval import get_output, test, plot_log, shap_net_x, shap_ccm_c, bootstrap\n",
    "from lib.utils import dfs_freeze"
   ]
  },
  {
   "cell_type": "markdown",
   "id": "c86d58fe",
   "metadata": {},
   "source": [
    "# A motivating example\n",
    "\n",
    "Despite the fact that model interpretation suffers from faithfulness and fragility issues (and also people's overtrust of the interpretation), it is still useful to enforce prior knowledge. Feature attribution tools often assume that features are interpretable. This makes them less applicable when raw features are complicated (say in the image or audio domain). Thus, a lot of recent research effort have been poured in to explanation with high level concepts. Among them is this idea of concept bottleneck network (CBM). In this work, we expose the flaw of CBM and suggest a simple fix. \n",
    "\n",
    "**We define EBM as CBM only using expert identified features as concepts**.\n",
    "\n",
    "This examples shows why missing concept is a nastier problem than one would think.\n",
    "\n",
    "$Z \\sim U(\\{0, 1\\})^d$ are $d$ latent concepts\n",
    "\n",
    "$X = project(Z)$ is a random linear projection of concepts presented to the human (the following just used identity for simplicity)\n",
    "\n",
    "$X \\rightarrow C \\rightarrow X$ where $C \\in \\mathbb{R}^{d-1}$ is concept detectors\n",
    "\n",
    "$Y = and(Z)$ where $\\theta$ is the true coefficient.\n",
    "\n",
    "This setup will fail raw feature attribution (because $X$ distribute concepts across dimensions), concept discovery (when the function is a \"and\" concept), jointly trained concept (because $C$ has 1 less dimension off $Z$)."
   ]
  },
  {
   "cell_type": "code",
   "execution_count": 2,
   "id": "75656ebc",
   "metadata": {
    "tags": []
   },
   "outputs": [
    {
     "name": "stdout",
     "output_type": "stream",
     "text": [
      "Percentage of ones 87.50%\n"
     ]
    }
   ],
   "source": [
    "n = 10000\n",
    "d = 3 # true number of concepts needed for classification\n",
    "c = 1 # number of expert identified concepts\n",
    "bs = 100\n",
    "n_epochs = 50\n",
    "\n",
    "def gen_data(n, d):\n",
    "    Z = np.random.choice([0, 1], (n, d))\n",
    "    X = Z\n",
    "    # and of the arguments\n",
    "    Y = np.ones(n)\n",
    "    for i in range(d):\n",
    "        Y = np.logical_and(Y, Z[:, i])\n",
    "\n",
    "    return torch.from_numpy(X).float(), torch.from_numpy(Y).long(), torch.from_numpy(Z).float()\n",
    "\n",
    "X, Y, Z = gen_data(n, d)\n",
    "X_te, Y_te, Z_te = gen_data(n, d)\n",
    "print(f'Percentage of ones {(1-0.5**d)*100:.2f}%')"
   ]
  },
  {
   "cell_type": "markdown",
   "id": "d73cc2d7",
   "metadata": {},
   "source": [
    "**Note that the above value ($1-1/2^d$) is also the theoretical limit the accuracy of EBM** because\n",
    "\n",
    "\\begin{align}\n",
    "P(\\hat{y} = y) &= P(Z_1=Z_2=\\cdots=Z_c=1) P (\\hat{y} = y | Z_1=Z_2=\\cdots=Z_c=1) + P(\\overline{Z_1=Z_2=\\cdots=Z_c=1}) P(\\hat{y} = y | \\overline{Z_1=Z_2=\\cdots=Z_c=1})\\\\\n",
    "&= 1 / 2^c \\cdot (1 - 1 / 2^{d-c}) + (1 - 1 / 2^c) \\cdot 1\\\\\n",
    "&= 1 - 1 / 2^d\n",
    "\\end{align}"
   ]
  },
  {
   "cell_type": "code",
   "execution_count": 3,
   "id": "0a14dc3d",
   "metadata": {
    "tags": []
   },
   "outputs": [],
   "source": [
    "# accuracy\n",
    "acc_criterion = lambda o, y: (o.argmax(1) == y).float()\n",
    "\n",
    "# dataset\n",
    "loader_xy = DataLoader(TensorDataset(X, Y), batch_size=bs, shuffle=True) # regular dataset\n",
    "loader_xyz = DataLoader(TensorDataset(X, Y, Z), batch_size=bs, shuffle=True) # joint concept and regular dataset\n",
    "\n",
    "loader_xy_te = DataLoader(TensorDataset(X_te, Y_te), batch_size=bs, shuffle=False) # regular dataset\n",
    "loader_xyz_te = DataLoader(TensorDataset(X_te, Y_te, Z_te), batch_size=bs, shuffle=False) # joint concept and regular dataset"
   ]
  },
  {
   "cell_type": "markdown",
   "id": "0666d37e",
   "metadata": {},
   "source": [
    "## standard model"
   ]
  },
  {
   "cell_type": "code",
   "execution_count": 4,
   "id": "b2f68f92",
   "metadata": {
    "tags": []
   },
   "outputs": [
    {
     "name": "stderr",
     "output_type": "stream",
     "text": [
      "train step for 1 epoch: 100%|██████████| 100/100 [00:03<00:00, 27.22it/s]\n",
      "train step for 1 epoch: 100%|██████████| 100/100 [00:00<00:00, 659.01it/s]\n",
      "train step for 1 epoch: 100%|██████████| 100/100 [00:00<00:00, 750.17it/s]\n",
      "train step for 1 epoch: 100%|██████████| 100/100 [00:00<00:00, 646.53it/s]\n",
      "train step for 1 epoch: 100%|██████████| 100/100 [00:00<00:00, 578.44it/s]\n",
      "train step for 1 epoch: 100%|██████████| 100/100 [00:00<00:00, 597.50it/s]\n",
      "train step for 1 epoch:   0%|          | 0/100 [00:00<?, ?it/s]"
     ]
    },
    {
     "name": "stdout",
     "output_type": "stream",
     "text": [
      "epoch   4: loss 2.287e-01\n"
     ]
    },
    {
     "name": "stderr",
     "output_type": "stream",
     "text": [
      "train step for 1 epoch: 100%|██████████| 100/100 [00:00<00:00, 593.66it/s]\n",
      "train step for 1 epoch: 100%|██████████| 100/100 [00:00<00:00, 707.39it/s]\n",
      "train step for 1 epoch: 100%|██████████| 100/100 [00:00<00:00, 750.59it/s]\n",
      "train step for 1 epoch: 100%|██████████| 100/100 [00:00<00:00, 759.34it/s]\n",
      "train step for 1 epoch: 100%|██████████| 100/100 [00:00<00:00, 722.93it/s]\n",
      "train step for 1 epoch:   0%|          | 0/100 [00:00<?, ?it/s]"
     ]
    },
    {
     "name": "stdout",
     "output_type": "stream",
     "text": [
      "epoch   9: loss 7.557e-02\n"
     ]
    },
    {
     "name": "stderr",
     "output_type": "stream",
     "text": [
      "train step for 1 epoch: 100%|██████████| 100/100 [00:00<00:00, 746.78it/s]\n",
      "train step for 1 epoch: 100%|██████████| 100/100 [00:00<00:00, 745.78it/s]\n",
      "train step for 1 epoch: 100%|██████████| 100/100 [00:00<00:00, 752.54it/s]\n",
      "train step for 1 epoch: 100%|██████████| 100/100 [00:00<00:00, 754.87it/s]\n",
      "train step for 1 epoch: 100%|██████████| 100/100 [00:00<00:00, 733.46it/s]\n",
      "train step for 1 epoch:   0%|          | 0/100 [00:00<?, ?it/s]"
     ]
    },
    {
     "name": "stdout",
     "output_type": "stream",
     "text": [
      "epoch  14: loss 2.979e-02\n"
     ]
    },
    {
     "name": "stderr",
     "output_type": "stream",
     "text": [
      "train step for 1 epoch: 100%|██████████| 100/100 [00:00<00:00, 742.48it/s]\n",
      "train step for 1 epoch: 100%|██████████| 100/100 [00:00<00:00, 753.83it/s]\n",
      "train step for 1 epoch: 100%|██████████| 100/100 [00:00<00:00, 766.61it/s]\n",
      "train step for 1 epoch: 100%|██████████| 100/100 [00:00<00:00, 758.93it/s]\n",
      "train step for 1 epoch: 100%|██████████| 100/100 [00:00<00:00, 744.00it/s]\n",
      "train step for 1 epoch:   0%|          | 0/100 [00:00<?, ?it/s]"
     ]
    },
    {
     "name": "stdout",
     "output_type": "stream",
     "text": [
      "epoch  19: loss 1.398e-02\n"
     ]
    },
    {
     "name": "stderr",
     "output_type": "stream",
     "text": [
      "train step for 1 epoch: 100%|██████████| 100/100 [00:00<00:00, 721.52it/s]\n",
      "train step for 1 epoch: 100%|██████████| 100/100 [00:00<00:00, 755.15it/s]\n",
      "train step for 1 epoch: 100%|██████████| 100/100 [00:00<00:00, 755.43it/s]\n",
      "train step for 1 epoch: 100%|██████████| 100/100 [00:00<00:00, 726.37it/s]\n",
      "train step for 1 epoch: 100%|██████████| 100/100 [00:00<00:00, 737.12it/s]\n",
      "train step for 1 epoch:   0%|          | 0/100 [00:00<?, ?it/s]"
     ]
    },
    {
     "name": "stdout",
     "output_type": "stream",
     "text": [
      "epoch  24: loss 7.485e-03\n"
     ]
    },
    {
     "name": "stderr",
     "output_type": "stream",
     "text": [
      "train step for 1 epoch: 100%|██████████| 100/100 [00:00<00:00, 743.66it/s]\n",
      "train step for 1 epoch: 100%|██████████| 100/100 [00:00<00:00, 752.07it/s]\n",
      "train step for 1 epoch: 100%|██████████| 100/100 [00:00<00:00, 766.98it/s]\n",
      "train step for 1 epoch: 100%|██████████| 100/100 [00:00<00:00, 753.05it/s]\n",
      "train step for 1 epoch: 100%|██████████| 100/100 [00:00<00:00, 753.15it/s]\n",
      "train step for 1 epoch:   0%|          | 0/100 [00:00<?, ?it/s]"
     ]
    },
    {
     "name": "stdout",
     "output_type": "stream",
     "text": [
      "epoch  29: loss 4.397e-03\n"
     ]
    },
    {
     "name": "stderr",
     "output_type": "stream",
     "text": [
      "train step for 1 epoch: 100%|██████████| 100/100 [00:00<00:00, 743.52it/s]\n",
      "train step for 1 epoch: 100%|██████████| 100/100 [00:00<00:00, 751.46it/s]\n",
      "train step for 1 epoch: 100%|██████████| 100/100 [00:00<00:00, 740.72it/s]\n",
      "train step for 1 epoch: 100%|██████████| 100/100 [00:00<00:00, 736.49it/s]\n",
      "train step for 1 epoch: 100%|██████████| 100/100 [00:00<00:00, 765.31it/s]\n",
      "train step for 1 epoch:   0%|          | 0/100 [00:00<?, ?it/s]"
     ]
    },
    {
     "name": "stdout",
     "output_type": "stream",
     "text": [
      "epoch  34: loss 2.760e-03\n"
     ]
    },
    {
     "name": "stderr",
     "output_type": "stream",
     "text": [
      "train step for 1 epoch: 100%|██████████| 100/100 [00:00<00:00, 735.94it/s]\n",
      "train step for 1 epoch: 100%|██████████| 100/100 [00:00<00:00, 736.98it/s]\n",
      "train step for 1 epoch: 100%|██████████| 100/100 [00:00<00:00, 753.91it/s]\n",
      "train step for 1 epoch: 100%|██████████| 100/100 [00:00<00:00, 741.38it/s]\n",
      "train step for 1 epoch: 100%|██████████| 100/100 [00:00<00:00, 739.69it/s]\n",
      "train step for 1 epoch:   0%|          | 0/100 [00:00<?, ?it/s]"
     ]
    },
    {
     "name": "stdout",
     "output_type": "stream",
     "text": [
      "epoch  39: loss 1.810e-03\n"
     ]
    },
    {
     "name": "stderr",
     "output_type": "stream",
     "text": [
      "train step for 1 epoch: 100%|██████████| 100/100 [00:00<00:00, 744.51it/s]\n",
      "train step for 1 epoch: 100%|██████████| 100/100 [00:00<00:00, 753.43it/s]\n",
      "train step for 1 epoch: 100%|██████████| 100/100 [00:00<00:00, 745.01it/s]\n",
      "train step for 1 epoch: 100%|██████████| 100/100 [00:00<00:00, 771.10it/s]\n",
      "train step for 1 epoch: 100%|██████████| 100/100 [00:00<00:00, 784.17it/s]\n",
      "train step for 1 epoch:   0%|          | 0/100 [00:00<?, ?it/s]"
     ]
    },
    {
     "name": "stdout",
     "output_type": "stream",
     "text": [
      "epoch  44: loss 1.224e-03\n"
     ]
    },
    {
     "name": "stderr",
     "output_type": "stream",
     "text": [
      "train step for 1 epoch: 100%|██████████| 100/100 [00:00<00:00, 757.24it/s]\n",
      "train step for 1 epoch: 100%|██████████| 100/100 [00:00<00:00, 766.11it/s]\n",
      "train step for 1 epoch: 100%|██████████| 100/100 [00:00<00:00, 772.67it/s]\n",
      "train step for 1 epoch: 100%|██████████| 100/100 [00:00<00:00, 762.82it/s]\n"
     ]
    },
    {
     "name": "stdout",
     "output_type": "stream",
     "text": [
      "epoch  49: loss 8.473e-04\n"
     ]
    },
    {
     "data": {
      "image/png": "[encoded data removed]",
      "text/plain": [
       "<Figure size 432x288 with 1 Axes>"
      ]
     },
     "metadata": {
      "needs_background": "light"
     },
     "output_type": "display_data"
    }
   ],
   "source": [
    "def standard_model(loader_xy, d, n_epochs=10, report_every=1, plot=True):\n",
    "    # regular model\n",
    "    net = MLP([d, d * 2, 2])\n",
    "\n",
    "    # train\n",
    "    opt = optim.Adam(net.parameters())\n",
    "    log = train(net, loader_xy, opt, n_epochs=n_epochs, report_every=report_every)\n",
    "    if plot: plot_log(log)\n",
    "    return net\n",
    "\n",
    "standard_net = standard_model(loader_xy, d, n_epochs=n_epochs, report_every=n_epochs//10)"
   ]
  },
  {
   "cell_type": "code",
   "execution_count": 5,
   "id": "5690e624",
   "metadata": {
    "tags": []
   },
   "outputs": [
    {
     "name": "stderr",
     "output_type": "stream",
     "text": [
      "test eval: 100%|██████████| 100/100 [00:00<00:00, 670.42it/s]"
     ]
    },
    {
     "name": "stdout",
     "output_type": "stream",
     "text": [
      "task acc after training: 100.0%\n"
     ]
    },
    {
     "name": "stderr",
     "output_type": "stream",
     "text": [
      "\n"
     ]
    }
   ],
   "source": [
    "print('task acc after training: {:.1f}%'.format(test(standard_net, loader_xy_te, acc_criterion) * 100))"
   ]
  },
  {
   "cell_type": "markdown",
   "id": "7af844af",
   "metadata": {},
   "source": [
    "## joint EBM"
   ]
  },
  {
   "cell_type": "code",
   "execution_count": 6,
   "id": "de460212",
   "metadata": {
    "tags": []
   },
   "outputs": [
    {
     "name": "stdout",
     "output_type": "stream",
     "text": [
      "number of concepts to learn: 1\n",
      "true number of concepts: 3\n",
      "epoch   4: loss 9.426e-03\n",
      "epoch   9: loss 3.729e-03\n",
      "epoch  14: loss 2.099e-03\n",
      "epoch  19: loss 1.453e-03\n",
      "epoch  24: loss 1.027e-03\n",
      "epoch  29: loss 7.320e-04\n",
      "epoch  34: loss 5.281e-04\n",
      "epoch  39: loss 3.875e-04\n",
      "epoch  44: loss 2.887e-04\n",
      "epoch  49: loss 2.181e-04\n"
     ]
    },
    {
     "data": {
      "image/png": "[encoded data removed]",
      "text/plain": [
       "<Figure size 432x288 with 1 Axes>"
      ]
     },
     "metadata": {
      "needs_background": "light"
     },
     "output_type": "display_data"
    }
   ],
   "source": [
    "def joint_EBM(d, c, loader_xyz, n_epochs=10, report_every=1, plot=True):\n",
    "    c = min(d, c)\n",
    "    print(f'number of concepts to learn: {c}')\n",
    "    print(f'true number of concepts: {d}')\n",
    "    \n",
    "    # EBM with concept and task jointly trained\n",
    "    net_c = MLP([d, d * 2, c])\n",
    "    net_y = MLP([c, d * 2, 2])\n",
    "    net = CBM(net_c, net_y)\n",
    "    \n",
    "    # train\n",
    "    def criterion(o_y, y, o_z, z):\n",
    "        y_loss = F.cross_entropy(o_y, y).sum()\n",
    "        z_loss = F.binary_cross_entropy(torch.sigmoid(o_z), z[:, :c]).sum()\n",
    "        return (y_loss + z_loss) / len(y)\n",
    "    \n",
    "    opt = optim.Adam(net.parameters())\n",
    "    log = train(net, loader_xyz, opt, train_step=train_step_xyz, \n",
    "                criterion=criterion, n_epochs=n_epochs, report_every=report_every)\n",
    "    if plot: plot_log(log)\n",
    "    \n",
    "    return net\n",
    "\n",
    "ebm_joint = joint_EBM(d, c, loader_xyz, n_epochs=n_epochs, report_every=n_epochs//10)"
   ]
  },
  {
   "cell_type": "markdown",
   "id": "16e6b509",
   "metadata": {},
   "source": [
    "### TODO: the current setup only conciders concepts being binary, need to rewrite for multiclass concepts and regression concepts"
   ]
  },
  {
   "cell_type": "code",
   "execution_count": 7,
   "id": "b3b77856",
   "metadata": {
    "tags": []
   },
   "outputs": [
    {
     "name": "stderr",
     "output_type": "stream",
     "text": [
      "test eval: 100%|██████████| 100/100 [00:00<00:00, 646.75it/s]\n"
     ]
    },
    {
     "name": "stdout",
     "output_type": "stream",
     "text": [
      "task acc after training: 100.0%\n",
      "concept 0 acc after training: 100.0%\n"
     ]
    }
   ],
   "source": [
    "def test_concept(net, concept_idx, loader):\n",
    "    '''net output many logit for concepts, concept_idx is the concept index'''\n",
    "    net.eval()\n",
    "    losses = []\n",
    "    total = 0\n",
    "    for x, y in loader:\n",
    "        o = net(x) # (bs, c)\n",
    "        o2 = torch.sigmoid(o[:, concept_idx]) > 0.5\n",
    "        l = (o2 == y).float().mean()\n",
    "        bs = o.shape[0]\n",
    "        total += bs        \n",
    "        losses.append(l.detach().item() * bs)\n",
    "    net.train()\n",
    "    return sum(losses) / total\n",
    "\n",
    "def print_concept_acc(net_c, c, X_te, Z_te):\n",
    "    for i in range(c):\n",
    "        print('concept {} acc after training: {:.1f}%'.format(i, test_concept(net_c,\n",
    "                                                                              i,\n",
    "                                                                              DataLoader(TensorDataset(X_te, Z_te[:, i]), batch_size=bs)) * 100))\n",
    "\n",
    "print('task acc after training: {:.1f}%'.format(test(ebm_joint, loader_xy_te, acc_criterion ) * 100))\n",
    "print_concept_acc(ebm_joint.net_c, c, X_te, Z_te)"
   ]
  },
  {
   "cell_type": "markdown",
   "id": "25d09d2d",
   "metadata": {},
   "source": [
    "**Note Jointly trained EBM has accuracy above the thoretical limit of ($1 - 2^d$) without sacrificing concept accuracy. This is why it is wrong!**"
   ]
  },
  {
   "cell_type": "markdown",
   "id": "d83945d4",
   "metadata": {},
   "source": [
    "## independent EBM"
   ]
  },
  {
   "cell_type": "code",
   "execution_count": 8,
   "id": "b5a015d7",
   "metadata": {
    "tags": []
   },
   "outputs": [
    {
     "name": "stderr",
     "output_type": "stream",
     "text": [
      "train step for 1 epoch:   0%|          | 0/100 [00:00<?, ?it/s]"
     ]
    },
    {
     "name": "stdout",
     "output_type": "stream",
     "text": [
      "number of concepts to learn: 1\n",
      "true number of concepts: 3\n",
      "training concepts ...\n"
     ]
    },
    {
     "name": "stderr",
     "output_type": "stream",
     "text": [
      "train step for 1 epoch: 100%|██████████| 100/100 [00:00<00:00, 529.67it/s]\n",
      "train step for 1 epoch: 100%|██████████| 100/100 [00:00<00:00, 586.70it/s]\n",
      "train step for 1 epoch: 100%|██████████| 100/100 [00:00<00:00, 592.37it/s]\n",
      "train step for 1 epoch: 100%|██████████| 100/100 [00:00<00:00, 521.70it/s]\n",
      "train step for 1 epoch: 100%|██████████| 100/100 [00:00<00:00, 584.23it/s]\n",
      "train step for 1 epoch: 100%|██████████| 100/100 [00:00<00:00, 598.87it/s]\n",
      "train step for 1 epoch:   0%|          | 0/100 [00:00<?, ?it/s]"
     ]
    },
    {
     "name": "stdout",
     "output_type": "stream",
     "text": [
      "epoch   4: loss 3.072e-01\n"
     ]
    },
    {
     "name": "stderr",
     "output_type": "stream",
     "text": [
      "train step for 1 epoch: 100%|██████████| 100/100 [00:00<00:00, 596.62it/s]\n",
      "train step for 1 epoch: 100%|██████████| 100/100 [00:00<00:00, 600.62it/s]\n",
      "train step for 1 epoch: 100%|██████████| 100/100 [00:00<00:00, 654.68it/s]\n",
      "train step for 1 epoch: 100%|██████████| 100/100 [00:00<00:00, 736.44it/s]\n",
      "train step for 1 epoch: 100%|██████████| 100/100 [00:00<00:00, 737.62it/s]\n",
      "train step for 1 epoch:   0%|          | 0/100 [00:00<?, ?it/s]"
     ]
    },
    {
     "name": "stdout",
     "output_type": "stream",
     "text": [
      "epoch   9: loss 7.126e-02\n"
     ]
    },
    {
     "name": "stderr",
     "output_type": "stream",
     "text": [
      "train step for 1 epoch: 100%|██████████| 100/100 [00:00<00:00, 728.08it/s]\n",
      "train step for 1 epoch: 100%|██████████| 100/100 [00:00<00:00, 733.16it/s]\n",
      "train step for 1 epoch: 100%|██████████| 100/100 [00:00<00:00, 521.45it/s]\n",
      "train step for 1 epoch: 100%|██████████| 100/100 [00:00<00:00, 597.18it/s]\n",
      "train step for 1 epoch: 100%|██████████| 100/100 [00:00<00:00, 595.76it/s]\n",
      "train step for 1 epoch:   0%|          | 0/100 [00:00<?, ?it/s]"
     ]
    },
    {
     "name": "stdout",
     "output_type": "stream",
     "text": [
      "epoch  14: loss 2.633e-02\n"
     ]
    },
    {
     "name": "stderr",
     "output_type": "stream",
     "text": [
      "train step for 1 epoch: 100%|██████████| 100/100 [00:00<00:00, 597.65it/s]\n",
      "train step for 1 epoch: 100%|██████████| 100/100 [00:00<00:00, 751.97it/s]\n",
      "train step for 1 epoch: 100%|██████████| 100/100 [00:00<00:00, 756.56it/s]\n",
      "train step for 1 epoch: 100%|██████████| 100/100 [00:00<00:00, 752.06it/s]\n",
      "train step for 1 epoch: 100%|██████████| 100/100 [00:00<00:00, 762.05it/s]\n",
      "train step for 1 epoch:   0%|          | 0/100 [00:00<?, ?it/s]"
     ]
    },
    {
     "name": "stdout",
     "output_type": "stream",
     "text": [
      "epoch  19: loss 1.260e-02\n"
     ]
    },
    {
     "name": "stderr",
     "output_type": "stream",
     "text": [
      "train step for 1 epoch: 100%|██████████| 100/100 [00:00<00:00, 768.40it/s]\n",
      "train step for 1 epoch: 100%|██████████| 100/100 [00:00<00:00, 660.31it/s]\n",
      "train step for 1 epoch: 100%|██████████| 100/100 [00:00<00:00, 572.21it/s]\n",
      "train step for 1 epoch: 100%|██████████| 100/100 [00:00<00:00, 597.59it/s]\n",
      "train step for 1 epoch: 100%|██████████| 100/100 [00:00<00:00, 598.27it/s]\n",
      "train step for 1 epoch:   0%|          | 0/100 [00:00<?, ?it/s]"
     ]
    },
    {
     "name": "stdout",
     "output_type": "stream",
     "text": [
      "epoch  24: loss 6.970e-03\n"
     ]
    },
    {
     "name": "stderr",
     "output_type": "stream",
     "text": [
      "train step for 1 epoch: 100%|██████████| 100/100 [00:00<00:00, 647.61it/s]\n",
      "train step for 1 epoch: 100%|██████████| 100/100 [00:00<00:00, 751.34it/s]\n",
      "train step for 1 epoch: 100%|██████████| 100/100 [00:00<00:00, 741.67it/s]\n",
      "train step for 1 epoch: 100%|██████████| 100/100 [00:00<00:00, 746.28it/s]\n",
      "train step for 1 epoch: 100%|██████████| 100/100 [00:00<00:00, 774.45it/s]\n",
      "train step for 1 epoch:   0%|          | 0/100 [00:00<?, ?it/s]"
     ]
    },
    {
     "name": "stdout",
     "output_type": "stream",
     "text": [
      "epoch  29: loss 4.213e-03\n"
     ]
    },
    {
     "name": "stderr",
     "output_type": "stream",
     "text": [
      "train step for 1 epoch: 100%|██████████| 100/100 [00:00<00:00, 779.85it/s]\n",
      "train step for 1 epoch: 100%|██████████| 100/100 [00:00<00:00, 747.28it/s]\n",
      "train step for 1 epoch: 100%|██████████| 100/100 [00:00<00:00, 516.14it/s]\n",
      "train step for 1 epoch: 100%|██████████| 100/100 [00:00<00:00, 594.38it/s]\n",
      "train step for 1 epoch: 100%|██████████| 100/100 [00:00<00:00, 599.32it/s]\n",
      "train step for 1 epoch:   0%|          | 0/100 [00:00<?, ?it/s]"
     ]
    },
    {
     "name": "stdout",
     "output_type": "stream",
     "text": [
      "epoch  34: loss 2.700e-03\n"
     ]
    },
    {
     "name": "stderr",
     "output_type": "stream",
     "text": [
      "train step for 1 epoch: 100%|██████████| 100/100 [00:00<00:00, 595.31it/s]\n",
      "train step for 1 epoch: 100%|██████████| 100/100 [00:00<00:00, 721.86it/s]\n",
      "train step for 1 epoch: 100%|██████████| 100/100 [00:00<00:00, 750.87it/s]\n",
      "train step for 1 epoch: 100%|██████████| 100/100 [00:00<00:00, 745.26it/s]\n",
      "train step for 1 epoch: 100%|██████████| 100/100 [00:00<00:00, 747.31it/s]\n",
      "train step for 1 epoch:   0%|          | 0/100 [00:00<?, ?it/s]"
     ]
    },
    {
     "name": "stdout",
     "output_type": "stream",
     "text": [
      "epoch  39: loss 1.801e-03\n"
     ]
    },
    {
     "name": "stderr",
     "output_type": "stream",
     "text": [
      "train step for 1 epoch: 100%|██████████| 100/100 [00:00<00:00, 739.22it/s]\n",
      "train step for 1 epoch: 100%|██████████| 100/100 [00:00<00:00, 755.85it/s]\n",
      "train step for 1 epoch: 100%|██████████| 100/100 [00:00<00:00, 768.52it/s]\n",
      "train step for 1 epoch: 100%|██████████| 100/100 [00:00<00:00, 745.45it/s]\n",
      "train step for 1 epoch: 100%|██████████| 100/100 [00:00<00:00, 736.70it/s]\n",
      "train step for 1 epoch:   0%|          | 0/100 [00:00<?, ?it/s]"
     ]
    },
    {
     "name": "stdout",
     "output_type": "stream",
     "text": [
      "epoch  44: loss 1.236e-03\n"
     ]
    },
    {
     "name": "stderr",
     "output_type": "stream",
     "text": [
      "train step for 1 epoch: 100%|██████████| 100/100 [00:00<00:00, 747.71it/s]\n",
      "train step for 1 epoch: 100%|██████████| 100/100 [00:00<00:00, 751.10it/s]\n",
      "train step for 1 epoch: 100%|██████████| 100/100 [00:00<00:00, 735.55it/s]\n",
      "train step for 1 epoch: 100%|██████████| 100/100 [00:00<00:00, 551.90it/s]\n",
      "train step for 1 epoch: 100%|██████████| 100/100 [00:00<00:00, 602.48it/s]\n",
      "train step for 1 epoch:   0%|          | 0/100 [00:00<?, ?it/s]"
     ]
    },
    {
     "name": "stdout",
     "output_type": "stream",
     "text": [
      "epoch  49: loss 8.663e-04\n",
      "training tasks ...\n"
     ]
    },
    {
     "name": "stderr",
     "output_type": "stream",
     "text": [
      "train step for 1 epoch: 100%|██████████| 100/100 [00:00<00:00, 599.75it/s]\n",
      "train step for 1 epoch: 100%|██████████| 100/100 [00:00<00:00, 602.28it/s]\n",
      "train step for 1 epoch: 100%|██████████| 100/100 [00:00<00:00, 730.75it/s]\n",
      "train step for 1 epoch: 100%|██████████| 100/100 [00:00<00:00, 766.13it/s]\n",
      "train step for 1 epoch: 100%|██████████| 100/100 [00:00<00:00, 761.64it/s]\n",
      "train step for 1 epoch:   0%|          | 0/100 [00:00<?, ?it/s]"
     ]
    },
    {
     "name": "stdout",
     "output_type": "stream",
     "text": [
      "epoch   4: loss 4.476e-01\n"
     ]
    },
    {
     "name": "stderr",
     "output_type": "stream",
     "text": [
      "train step for 1 epoch: 100%|██████████| 100/100 [00:00<00:00, 788.89it/s]\n",
      "train step for 1 epoch: 100%|██████████| 100/100 [00:00<00:00, 763.56it/s]\n",
      "train step for 1 epoch: 100%|██████████| 100/100 [00:00<00:00, 779.67it/s]\n",
      "train step for 1 epoch: 100%|██████████| 100/100 [00:00<00:00, 766.82it/s]\n",
      "train step for 1 epoch: 100%|██████████| 100/100 [00:00<00:00, 761.28it/s]\n",
      "train step for 1 epoch:   0%|          | 0/100 [00:00<?, ?it/s]"
     ]
    },
    {
     "name": "stdout",
     "output_type": "stream",
     "text": [
      "epoch   9: loss 3.616e-01\n"
     ]
    },
    {
     "name": "stderr",
     "output_type": "stream",
     "text": [
      "train step for 1 epoch: 100%|██████████| 100/100 [00:00<00:00, 765.35it/s]\n",
      "train step for 1 epoch: 100%|██████████| 100/100 [00:00<00:00, 770.33it/s]\n",
      "train step for 1 epoch: 100%|██████████| 100/100 [00:00<00:00, 761.83it/s]\n",
      "train step for 1 epoch: 100%|██████████| 100/100 [00:00<00:00, 765.82it/s]\n",
      "train step for 1 epoch: 100%|██████████| 100/100 [00:00<00:00, 761.71it/s]\n",
      "train step for 1 epoch:   0%|          | 0/100 [00:00<?, ?it/s]"
     ]
    },
    {
     "name": "stdout",
     "output_type": "stream",
     "text": [
      "epoch  14: loss 3.206e-01\n"
     ]
    },
    {
     "name": "stderr",
     "output_type": "stream",
     "text": [
      "train step for 1 epoch: 100%|██████████| 100/100 [00:00<00:00, 515.13it/s]\n",
      "train step for 1 epoch: 100%|██████████| 100/100 [00:00<00:00, 604.45it/s]\n",
      "train step for 1 epoch: 100%|██████████| 100/100 [00:00<00:00, 606.99it/s]\n",
      "train step for 1 epoch: 100%|██████████| 100/100 [00:00<00:00, 606.78it/s]\n",
      "train step for 1 epoch: 100%|██████████| 100/100 [00:00<00:00, 753.10it/s]\n",
      "train step for 1 epoch:   0%|          | 0/100 [00:00<?, ?it/s]"
     ]
    },
    {
     "name": "stdout",
     "output_type": "stream",
     "text": [
      "epoch  19: loss 2.988e-01\n"
     ]
    },
    {
     "name": "stderr",
     "output_type": "stream",
     "text": [
      "train step for 1 epoch: 100%|██████████| 100/100 [00:00<00:00, 764.48it/s]\n",
      "train step for 1 epoch: 100%|██████████| 100/100 [00:00<00:00, 777.58it/s]\n",
      "train step for 1 epoch: 100%|██████████| 100/100 [00:00<00:00, 777.41it/s]\n",
      "train step for 1 epoch: 100%|██████████| 100/100 [00:00<00:00, 785.80it/s]\n",
      "train step for 1 epoch: 100%|██████████| 100/100 [00:00<00:00, 783.28it/s]\n",
      "train step for 1 epoch:   0%|          | 0/100 [00:00<?, ?it/s]"
     ]
    },
    {
     "name": "stdout",
     "output_type": "stream",
     "text": [
      "epoch  24: loss 2.888e-01\n"
     ]
    },
    {
     "name": "stderr",
     "output_type": "stream",
     "text": [
      "train step for 1 epoch: 100%|██████████| 100/100 [00:00<00:00, 774.67it/s]\n",
      "train step for 1 epoch: 100%|██████████| 100/100 [00:00<00:00, 776.58it/s]\n",
      "train step for 1 epoch: 100%|██████████| 100/100 [00:00<00:00, 772.89it/s]\n",
      "train step for 1 epoch: 100%|██████████| 100/100 [00:00<00:00, 778.82it/s]\n",
      "train step for 1 epoch: 100%|██████████| 100/100 [00:00<00:00, 777.00it/s]\n",
      "train step for 1 epoch:   0%|          | 0/100 [00:00<?, ?it/s]"
     ]
    },
    {
     "name": "stdout",
     "output_type": "stream",
     "text": [
      "epoch  29: loss 2.841e-01\n"
     ]
    },
    {
     "name": "stderr",
     "output_type": "stream",
     "text": [
      "train step for 1 epoch: 100%|██████████| 100/100 [00:00<00:00, 778.94it/s]\n",
      "train step for 1 epoch: 100%|██████████| 100/100 [00:00<00:00, 795.04it/s]\n",
      "train step for 1 epoch: 100%|██████████| 100/100 [00:00<00:00, 773.22it/s]\n",
      "train step for 1 epoch: 100%|██████████| 100/100 [00:00<00:00, 803.54it/s]\n",
      "train step for 1 epoch: 100%|██████████| 100/100 [00:00<00:00, 775.28it/s]\n",
      "train step for 1 epoch:   0%|          | 0/100 [00:00<?, ?it/s]"
     ]
    },
    {
     "name": "stdout",
     "output_type": "stream",
     "text": [
      "epoch  34: loss 2.817e-01\n"
     ]
    },
    {
     "name": "stderr",
     "output_type": "stream",
     "text": [
      "train step for 1 epoch: 100%|██████████| 100/100 [00:00<00:00, 758.44it/s]\n",
      "train step for 1 epoch: 100%|██████████| 100/100 [00:00<00:00, 784.30it/s]\n",
      "train step for 1 epoch: 100%|██████████| 100/100 [00:00<00:00, 769.74it/s]\n",
      "train step for 1 epoch: 100%|██████████| 100/100 [00:00<00:00, 786.48it/s]\n",
      "train step for 1 epoch: 100%|██████████| 100/100 [00:00<00:00, 520.17it/s]\n",
      "train step for 1 epoch:   0%|          | 0/100 [00:00<?, ?it/s]"
     ]
    },
    {
     "name": "stdout",
     "output_type": "stream",
     "text": [
      "epoch  39: loss 2.803e-01\n"
     ]
    },
    {
     "name": "stderr",
     "output_type": "stream",
     "text": [
      "train step for 1 epoch: 100%|██████████| 100/100 [00:00<00:00, 602.34it/s]\n",
      "train step for 1 epoch: 100%|██████████| 100/100 [00:00<00:00, 602.54it/s]\n",
      "train step for 1 epoch: 100%|██████████| 100/100 [00:00<00:00, 603.81it/s]\n",
      "train step for 1 epoch: 100%|██████████| 100/100 [00:00<00:00, 774.23it/s]\n",
      "train step for 1 epoch: 100%|██████████| 100/100 [00:00<00:00, 763.55it/s]\n",
      "train step for 1 epoch:   0%|          | 0/100 [00:00<?, ?it/s]"
     ]
    },
    {
     "name": "stdout",
     "output_type": "stream",
     "text": [
      "epoch  44: loss 2.794e-01\n"
     ]
    },
    {
     "name": "stderr",
     "output_type": "stream",
     "text": [
      "train step for 1 epoch: 100%|██████████| 100/100 [00:00<00:00, 793.41it/s]\n",
      "train step for 1 epoch: 100%|██████████| 100/100 [00:00<00:00, 780.71it/s]\n",
      "train step for 1 epoch: 100%|██████████| 100/100 [00:00<00:00, 779.23it/s]\n",
      "train step for 1 epoch: 100%|██████████| 100/100 [00:00<00:00, 776.71it/s]\n"
     ]
    },
    {
     "name": "stdout",
     "output_type": "stream",
     "text": [
      "epoch  49: loss 2.788e-01\n"
     ]
    },
    {
     "data": {
      "image/png": "[encoded data removed]",
      "text/plain": [
       "<Figure size 432x288 with 1 Axes>"
      ]
     },
     "metadata": {
      "needs_background": "light"
     },
     "output_type": "display_data"
    }
   ],
   "source": [
    "def ind_EBM(d, c, X, Y, Z, n_epochs=10, report_every=1, plot=True):\n",
    "    c = min(d, c)\n",
    "    print(f'number of concepts to learn: {c}')\n",
    "    print(f'true number of concepts: {d}')\n",
    "    \n",
    "    # EBM with concept and task independently trained\n",
    "    net_c = nn.Sequential(MLP([d, d * 2, c]), nn.Sigmoid())\n",
    "    net_y = MLP([c, d * 2, 2])\n",
    "    net = CBM(net_c, net_y)\n",
    "    \n",
    "    # train\n",
    "    print('training concepts ...')\n",
    "    opt_c = optim.Adam(net_c.parameters())\n",
    "    train(net_c, \n",
    "          DataLoader(TensorDataset(X, Z[:, :c]), batch_size=bs, shuffle=True), \n",
    "          opt_c, criterion=nn.BCELoss(), n_epochs=n_epochs, report_every=report_every)\n",
    "\n",
    "    print('training tasks ...')\n",
    "    opt_y = optim.Adam(net_y.parameters())\n",
    "    log = train(net_y, \n",
    "                DataLoader(TensorDataset(Z[:, :c], Y), batch_size=bs, shuffle=True), \n",
    "                opt_y, n_epochs=n_epochs, report_every=report_every)\n",
    "    if plot: plot_log(log)\n",
    "\n",
    "    return net\n",
    "\n",
    "ebm_ind = ind_EBM(d, c, X, Y, Z, n_epochs=n_epochs, report_every=n_epochs//10)"
   ]
  },
  {
   "cell_type": "code",
   "execution_count": 9,
   "id": "30e50f36",
   "metadata": {
    "tags": []
   },
   "outputs": [
    {
     "name": "stderr",
     "output_type": "stream",
     "text": [
      "test eval: 100%|██████████| 100/100 [00:00<00:00, 727.49it/s]\n"
     ]
    },
    {
     "name": "stdout",
     "output_type": "stream",
     "text": [
      "task acc after training: 87.10%\n",
      "concept 0 acc after training: 100.0%\n"
     ]
    }
   ],
   "source": [
    "print('task acc after training: {:.2f}%'.format(test(ebm_ind, loader_xy_te, acc_criterion ) * 100)) # the optimum is 1/16 + 3/4; the strategy is to randomize if the first concept is 1, otherwise output 0\n",
    "print_concept_acc(ebm_ind.net_c[0], c, X_te, Z_te) # net_c[0] because it is the logit part"
   ]
  },
  {
   "cell_type": "code",
   "execution_count": 10,
   "id": "7e5cf071",
   "metadata": {},
   "outputs": [
    {
     "name": "stdout",
     "output_type": "stream",
     "text": [
      "task acc 95% CI (86.39, 87.58)%\n"
     ]
    }
   ],
   "source": [
    "o = get_output(ebm_ind, \n",
    "               DataLoader(TensorDataset(X_te), batch_size=bs, shuffle=False)).argmax(1)\n",
    "ci_l, ci_h = bootstrap(lambda o, y: (o==y).mean(), o, Y_te.numpy())\n",
    "print(f'task acc 95% CI ({ci_l*100:.2f}, {ci_h*100:.2f})%')"
   ]
  },
  {
   "cell_type": "markdown",
   "id": "8f9f93c9",
   "metadata": {},
   "source": [
    "## Concept completeness\n",
    "\n",
    "Since concept can overload in joint EBM, concept completeness measure would only help if we can understand what concept it is using, which defeats the purpose of using high level feature."
   ]
  },
  {
   "cell_type": "code",
   "execution_count": 11,
   "id": "f7d64c16",
   "metadata": {
    "tags": []
   },
   "outputs": [
    {
     "data": {
      "text/html": [
       "<div>\n",
       "<style scoped>\n",
       "    .dataframe tbody tr th:only-of-type {\n",
       "        vertical-align: middle;\n",
       "    }\n",
       "\n",
       "    .dataframe tbody tr th {\n",
       "        vertical-align: top;\n",
       "    }\n",
       "\n",
       "    .dataframe thead th {\n",
       "        text-align: right;\n",
       "    }\n",
       "</style>\n",
       "<table border=\"1\" class=\"dataframe\">\n",
       "  <thead>\n",
       "    <tr style=\"text-align: right;\">\n",
       "      <th></th>\n",
       "      <th>X0</th>\n",
       "      <th>X1</th>\n",
       "      <th>X2</th>\n",
       "    </tr>\n",
       "  </thead>\n",
       "  <tbody>\n",
       "    <tr>\n",
       "      <th>0</th>\n",
       "      <td>0.0</td>\n",
       "      <td>0.0</td>\n",
       "      <td>0.0</td>\n",
       "    </tr>\n",
       "    <tr>\n",
       "      <th>1</th>\n",
       "      <td>0.0</td>\n",
       "      <td>0.0</td>\n",
       "      <td>1.0</td>\n",
       "    </tr>\n",
       "    <tr>\n",
       "      <th>2</th>\n",
       "      <td>0.0</td>\n",
       "      <td>1.0</td>\n",
       "      <td>0.0</td>\n",
       "    </tr>\n",
       "    <tr>\n",
       "      <th>3</th>\n",
       "      <td>0.0</td>\n",
       "      <td>1.0</td>\n",
       "      <td>1.0</td>\n",
       "    </tr>\n",
       "    <tr>\n",
       "      <th>4</th>\n",
       "      <td>1.0</td>\n",
       "      <td>0.0</td>\n",
       "      <td>0.0</td>\n",
       "    </tr>\n",
       "    <tr>\n",
       "      <th>5</th>\n",
       "      <td>1.0</td>\n",
       "      <td>0.0</td>\n",
       "      <td>1.0</td>\n",
       "    </tr>\n",
       "    <tr>\n",
       "      <th>6</th>\n",
       "      <td>1.0</td>\n",
       "      <td>1.0</td>\n",
       "      <td>0.0</td>\n",
       "    </tr>\n",
       "    <tr>\n",
       "      <th>7</th>\n",
       "      <td>1.0</td>\n",
       "      <td>1.0</td>\n",
       "      <td>1.0</td>\n",
       "    </tr>\n",
       "  </tbody>\n",
       "</table>\n",
       "</div>"
      ],
      "text/plain": [
       "    X0   X1   X2\n",
       "0  0.0  0.0  0.0\n",
       "1  0.0  0.0  1.0\n",
       "2  0.0  1.0  0.0\n",
       "3  0.0  1.0  1.0\n",
       "4  1.0  0.0  0.0\n",
       "5  1.0  0.0  1.0\n",
       "6  1.0  1.0  0.0\n",
       "7  1.0  1.0  1.0"
      ]
     },
     "execution_count": 11,
     "metadata": {},
     "output_type": "execute_result"
    }
   ],
   "source": [
    "# generate all possible input\n",
    "explain_X = []\n",
    "for i in range(2**d):\n",
    "    item = np.zeros(d)\n",
    "    idx = 0\n",
    "    while i != 0:\n",
    "        idx += 1\n",
    "        item[-idx] = i % 2\n",
    "        i = i // 2\n",
    "    explain_X.append(item)\n",
    "explain_X = torch.from_numpy(np.array(explain_X)).float()\n",
    "shap_x = pd.DataFrame(explain_X.numpy(), columns=[f'X{i}' for i in range(d)])\n",
    "shap_x"
   ]
  },
  {
   "cell_type": "code",
   "execution_count": 12,
   "id": "00a046f2",
   "metadata": {},
   "outputs": [
    {
     "name": "stdout",
     "output_type": "stream",
     "text": [
      "    X0   X1   X2  logit Z0\n",
      "3  0.0  1.0  1.0     -8.61\n",
      "1  0.0  0.0  1.0     -6.56\n",
      "2  0.0  1.0  0.0     -6.54\n",
      "0  0.0  0.0  0.0     -4.02\n",
      "7  1.0  1.0  1.0      3.29\n",
      "5  1.0  0.0  1.0      6.00\n",
      "6  1.0  1.0  0.0      6.02\n",
      "4  1.0  0.0  0.0      8.00\n",
      "Explaining logit Z0\n"
     ]
    },
    {
     "data": {
      "application/vnd.jupyter.widget-view+json": {
       "model_id": "aa456bc9af024bc494ac398128127fea",
       "version_major": 2,
       "version_minor": 0
      },
      "text/plain": [
       "  0%|          | 0/8 [00:00<?, ?it/s]"
      ]
     },
     "metadata": {},
     "output_type": "display_data"
    },
    {
     "data": {
      "image/png": "[encoded data removed]",
      "text/plain": [
       "<Figure size 576x194.4 with 2 Axes>"
      ]
     },
     "metadata": {
      "needs_background": "light"
     },
     "output_type": "display_data"
    }
   ],
   "source": [
    "shap_net_x(ebm_joint.net_c, shap_x, bs, output_name=\"logit Z\")"
   ]
  },
  {
   "cell_type": "code",
   "execution_count": 13,
   "id": "adfe55c7",
   "metadata": {},
   "outputs": [
    {
     "name": "stdout",
     "output_type": "stream",
     "text": [
      "    X0   X1   X2  logit Z0\n",
      "3  0.0  1.0  1.0     -7.85\n",
      "1  0.0  0.0  1.0     -7.20\n",
      "2  0.0  1.0  0.0     -7.16\n",
      "0  0.0  0.0  0.0     -5.84\n",
      "7  1.0  1.0  1.0      7.12\n",
      "5  1.0  0.0  1.0      7.76\n",
      "6  1.0  1.0  0.0      7.81\n",
      "4  1.0  0.0  0.0      8.45\n",
      "Explaining logit Z0\n"
     ]
    },
    {
     "data": {
      "application/vnd.jupyter.widget-view+json": {
       "model_id": "f15b1b295f2f4736b0b633c4ebdc8359",
       "version_major": 2,
       "version_minor": 0
      },
      "text/plain": [
       "  0%|          | 0/8 [00:00<?, ?it/s]"
      ]
     },
     "metadata": {},
     "output_type": "display_data"
    },
    {
     "data": {
      "image/png": "[encoded data removed]",
      "text/plain": [
       "<Figure size 576x194.4 with 2 Axes>"
      ]
     },
     "metadata": {
      "needs_background": "light"
     },
     "output_type": "display_data"
    }
   ],
   "source": [
    "shap_net_x(LambdaNet(lambda x: ebm_ind.net_c[0](x)), shap_x, bs, output_name=\"logit Z\")"
   ]
  },
  {
   "cell_type": "code",
   "execution_count": 14,
   "id": "47db1be2",
   "metadata": {},
   "outputs": [
    {
     "name": "stdout",
     "output_type": "stream",
     "text": [
      "    X0   X1   X2  output0\n",
      "0  0.0  0.0  0.0     0.00\n",
      "1  0.0  0.0  1.0     0.00\n",
      "2  0.0  1.0  0.0     0.00\n",
      "3  0.0  1.0  1.0     0.00\n",
      "4  1.0  0.0  0.0     0.23\n",
      "5  1.0  0.0  1.0     0.23\n",
      "6  1.0  1.0  0.0     0.23\n",
      "7  1.0  1.0  1.0     0.23\n",
      "Explaining output0\n"
     ]
    },
    {
     "data": {
      "application/vnd.jupyter.widget-view+json": {
       "model_id": "5e221d435061408b8bca51515ea07311",
       "version_major": 2,
       "version_minor": 0
      },
      "text/plain": [
       "  0%|          | 0/8 [00:00<?, ?it/s]"
      ]
     },
     "metadata": {},
     "output_type": "display_data"
    },
    {
     "data": {
      "image/png": "[encoded data removed]",
      "text/plain": [
       "<Figure size 576x194.4 with 2 Axes>"
      ]
     },
     "metadata": {
      "needs_background": "light"
     },
     "output_type": "display_data"
    },
    {
     "name": "stdout",
     "output_type": "stream",
     "text": [
      "    X0   X1   X2  concept 00\n",
      "0  0.0  0.0  0.0        0.50\n",
      "1  0.0  0.0  1.0        0.50\n",
      "2  0.0  1.0  0.0        0.50\n",
      "3  0.0  1.0  1.0        0.50\n",
      "4  1.0  0.0  0.0        0.73\n",
      "5  1.0  0.0  1.0        0.73\n",
      "6  1.0  1.0  0.0        0.73\n",
      "7  1.0  1.0  1.0        0.73\n",
      "Explaining concept 00\n"
     ]
    },
    {
     "data": {
      "application/vnd.jupyter.widget-view+json": {
       "model_id": "62ba16ff3b8640598ba9d828c2ec5912",
       "version_major": 2,
       "version_minor": 0
      },
      "text/plain": [
       "  0%|          | 0/8 [00:00<?, ?it/s]"
      ]
     },
     "metadata": {},
     "output_type": "display_data"
    },
    {
     "data": {
      "image/png": "[encoded data removed]",
      "text/plain": [
       "<Figure size 576x194.4 with 2 Axes>"
      ]
     },
     "metadata": {
      "needs_background": "light"
     },
     "output_type": "display_data"
    }
   ],
   "source": [
    "shap_net_x(LambdaNet(lambda x: torch.softmax(ebm_ind(x), 1)[:, 1:]), shap_x, bs, output_name=\"output\")\n",
    "\n",
    "shap_net_x(LambdaNet(lambda x: torch.sigmoid(ebm_ind.net_c(x))), shap_x, bs, output_name=\"concept 0\")"
   ]
  },
  {
   "cell_type": "code",
   "execution_count": 15,
   "id": "8df35d42",
   "metadata": {
    "tags": []
   },
   "outputs": [
    {
     "name": "stdout",
     "output_type": "stream",
     "text": [
      "    X0   X1   X2  output0\n",
      "0  0.0  0.0  0.0      0.0\n",
      "1  0.0  0.0  1.0      0.0\n",
      "2  0.0  1.0  0.0      0.0\n",
      "3  0.0  1.0  1.0      0.0\n",
      "4  1.0  0.0  0.0      0.0\n",
      "5  1.0  0.0  1.0      0.0\n",
      "6  1.0  1.0  0.0      0.0\n",
      "7  1.0  1.0  1.0      0.9\n",
      "Explaining output0\n"
     ]
    },
    {
     "data": {
      "application/vnd.jupyter.widget-view+json": {
       "model_id": "b26d99c614314cfdaa14d48aa4820665",
       "version_major": 2,
       "version_minor": 0
      },
      "text/plain": [
       "  0%|          | 0/8 [00:00<?, ?it/s]"
      ]
     },
     "metadata": {},
     "output_type": "display_data"
    },
    {
     "data": {
      "image/png": "[encoded data removed]",
      "text/plain": [
       "<Figure size 576x194.4 with 2 Axes>"
      ]
     },
     "metadata": {
      "needs_background": "light"
     },
     "output_type": "display_data"
    },
    {
     "name": "stdout",
     "output_type": "stream",
     "text": [
      "    X0   X1   X2  concept 00\n",
      "1  0.0  0.0  1.0        0.00\n",
      "2  0.0  1.0  0.0        0.00\n",
      "3  0.0  1.0  1.0        0.00\n",
      "0  0.0  0.0  0.0        0.02\n",
      "7  1.0  1.0  1.0        0.96\n",
      "4  1.0  0.0  0.0        1.00\n",
      "5  1.0  0.0  1.0        1.00\n",
      "6  1.0  1.0  0.0        1.00\n",
      "Explaining concept 00\n"
     ]
    },
    {
     "data": {
      "application/vnd.jupyter.widget-view+json": {
       "model_id": "74cb1c2aa8b2408491198cb6dfc51043",
       "version_major": 2,
       "version_minor": 0
      },
      "text/plain": [
       "  0%|          | 0/8 [00:00<?, ?it/s]"
      ]
     },
     "metadata": {},
     "output_type": "display_data"
    },
    {
     "data": {
      "image/png": "[encoded data removed]",
      "text/plain": [
       "<Figure size 576x194.4 with 2 Axes>"
      ]
     },
     "metadata": {
      "needs_background": "light"
     },
     "output_type": "display_data"
    }
   ],
   "source": [
    "shap_net_x(LambdaNet(lambda x: torch.softmax(ebm_joint(x), 1)[:, 1:]), shap_x, bs, output_name=\"output\")\n",
    "\n",
    "shap_net_x(LambdaNet(lambda x: torch.sigmoid(ebm_joint.net_c(x))), shap_x, bs, output_name=\"concept 0\")"
   ]
  },
  {
   "cell_type": "markdown",
   "id": "48222806",
   "metadata": {},
   "source": [
    "It's very hard to tell whether the concept detector is overloaded as it is clearly more dependent on the first concept.\n",
    "\n",
    "### TODO: run this example with Yeh et al's measure and its interpretable model\n",
    "\n",
    "In fact we can even analytically define the concept vector as $[1, -0.1, -0.1]$. This clearly would prefer concept 0 in order to activate. However, it still gives away information about both concept 1 and concept 2.\n"
   ]
  },
  {
   "cell_type": "markdown",
   "id": "09ce88bf",
   "metadata": {},
   "source": [
    "## TODO: EBM sequential\n",
    "\n",
    "EBM sequential don't need concept dataset and the classification task to overlap, which is way more flexible. The lesson is we should not jointly train interpretable models: this would transfer to CCM."
   ]
  },
  {
   "cell_type": "code",
   "execution_count": null,
   "id": "af9977c1",
   "metadata": {},
   "outputs": [],
   "source": []
  },
  {
   "cell_type": "markdown",
   "id": "fde7bde5",
   "metadata": {},
   "source": [
    "## CCM residue\n",
    "\n",
    "It would fail because we know the impact should be the same for $Z_0$ and $Z_1$ and $Z_2$, but we would have observed $Z_0$ have less impact."
   ]
  },
  {
   "cell_type": "code",
   "execution_count": 16,
   "id": "c232a756",
   "metadata": {},
   "outputs": [
    {
     "name": "stderr",
     "output_type": "stream",
     "text": [
      "train step for 1 epoch:  30%|███       | 30/100 [00:00<00:00, 299.80it/s]"
     ]
    },
    {
     "name": "stdout",
     "output_type": "stream",
     "text": [
      "number of concepts to learn: 1\n",
      "true number of concepts: 3\n"
     ]
    },
    {
     "name": "stderr",
     "output_type": "stream",
     "text": [
      "train step for 1 epoch: 100%|██████████| 100/100 [00:00<00:00, 407.55it/s]\n",
      "train step for 1 epoch: 100%|██████████| 100/100 [00:00<00:00, 685.88it/s]\n",
      "train step for 1 epoch: 100%|██████████| 100/100 [00:00<00:00, 692.41it/s]\n",
      "train step for 1 epoch: 100%|██████████| 100/100 [00:00<00:00, 678.19it/s]\n",
      "train step for 1 epoch: 100%|██████████| 100/100 [00:00<00:00, 675.67it/s]\n",
      "train step for 1 epoch: 100%|██████████| 100/100 [00:00<00:00, 676.18it/s]\n",
      "train step for 1 epoch:   0%|          | 0/100 [00:00<?, ?it/s]"
     ]
    },
    {
     "name": "stdout",
     "output_type": "stream",
     "text": [
      "epoch   4: loss 1.397e-01\n"
     ]
    },
    {
     "name": "stderr",
     "output_type": "stream",
     "text": [
      "train step for 1 epoch: 100%|██████████| 100/100 [00:00<00:00, 673.79it/s]\n",
      "train step for 1 epoch: 100%|██████████| 100/100 [00:00<00:00, 711.34it/s]\n",
      "train step for 1 epoch: 100%|██████████| 100/100 [00:00<00:00, 714.01it/s]\n",
      "train step for 1 epoch: 100%|██████████| 100/100 [00:00<00:00, 688.87it/s]\n",
      "train step for 1 epoch: 100%|██████████| 100/100 [00:00<00:00, 691.51it/s]\n",
      "train step for 1 epoch:   0%|          | 0/100 [00:00<?, ?it/s]"
     ]
    },
    {
     "name": "stdout",
     "output_type": "stream",
     "text": [
      "epoch   9: loss 5.007e-02\n"
     ]
    },
    {
     "name": "stderr",
     "output_type": "stream",
     "text": [
      "train step for 1 epoch: 100%|██████████| 100/100 [00:00<00:00, 694.15it/s]\n",
      "train step for 1 epoch: 100%|██████████| 100/100 [00:00<00:00, 694.97it/s]\n",
      "train step for 1 epoch: 100%|██████████| 100/100 [00:00<00:00, 706.61it/s]\n",
      "train step for 1 epoch: 100%|██████████| 100/100 [00:00<00:00, 570.19it/s]\n",
      "train step for 1 epoch: 100%|██████████| 100/100 [00:00<00:00, 520.70it/s]\n",
      "train step for 1 epoch:   0%|          | 0/100 [00:00<?, ?it/s]"
     ]
    },
    {
     "name": "stdout",
     "output_type": "stream",
     "text": [
      "epoch  14: loss 2.588e-02\n"
     ]
    },
    {
     "name": "stderr",
     "output_type": "stream",
     "text": [
      "train step for 1 epoch: 100%|██████████| 100/100 [00:00<00:00, 530.25it/s]\n",
      "train step for 1 epoch: 100%|██████████| 100/100 [00:00<00:00, 529.16it/s]\n",
      "train step for 1 epoch: 100%|██████████| 100/100 [00:00<00:00, 659.99it/s]\n",
      "train step for 1 epoch: 100%|██████████| 100/100 [00:00<00:00, 427.44it/s]\n",
      "train step for 1 epoch:  37%|███▋      | 37/100 [00:00<00:00, 363.62it/s]"
     ]
    },
    {
     "name": "stdout",
     "output_type": "stream",
     "text": [
      "epoch  19: loss 1.558e-02\n"
     ]
    },
    {
     "name": "stderr",
     "output_type": "stream",
     "text": [
      "train step for 1 epoch: 100%|██████████| 100/100 [00:00<00:00, 384.47it/s]\n",
      "train step for 1 epoch: 100%|██████████| 100/100 [00:00<00:00, 400.83it/s]\n",
      "train step for 1 epoch: 100%|██████████| 100/100 [00:00<00:00, 471.27it/s]\n",
      "train step for 1 epoch: 100%|██████████| 100/100 [00:00<00:00, 414.47it/s]\n",
      "train step for 1 epoch: 100%|██████████| 100/100 [00:00<00:00, 561.05it/s]\n",
      "train step for 1 epoch: 100%|██████████| 100/100 [00:00<00:00, 643.19it/s]\n",
      "train step for 1 epoch:   0%|          | 0/100 [00:00<?, ?it/s]"
     ]
    },
    {
     "name": "stdout",
     "output_type": "stream",
     "text": [
      "epoch  24: loss 9.288e-03\n"
     ]
    },
    {
     "name": "stderr",
     "output_type": "stream",
     "text": [
      "train step for 1 epoch: 100%|██████████| 100/100 [00:00<00:00, 642.87it/s]\n",
      "train step for 1 epoch: 100%|██████████| 100/100 [00:00<00:00, 613.12it/s]\n",
      "train step for 1 epoch: 100%|██████████| 100/100 [00:00<00:00, 625.28it/s]\n",
      "train step for 1 epoch: 100%|██████████| 100/100 [00:00<00:00, 666.92it/s]\n",
      "train step for 1 epoch: 100%|██████████| 100/100 [00:00<00:00, 660.58it/s]\n",
      "train step for 1 epoch:   0%|          | 0/100 [00:00<?, ?it/s]"
     ]
    },
    {
     "name": "stdout",
     "output_type": "stream",
     "text": [
      "epoch  29: loss 5.593e-03\n"
     ]
    },
    {
     "name": "stderr",
     "output_type": "stream",
     "text": [
      "train step for 1 epoch: 100%|██████████| 100/100 [00:00<00:00, 648.24it/s]\n",
      "train step for 1 epoch: 100%|██████████| 100/100 [00:00<00:00, 654.21it/s]\n",
      "train step for 1 epoch: 100%|██████████| 100/100 [00:00<00:00, 656.15it/s]\n",
      "train step for 1 epoch: 100%|██████████| 100/100 [00:00<00:00, 659.64it/s]\n",
      "train step for 1 epoch: 100%|██████████| 100/100 [00:00<00:00, 652.07it/s]\n",
      "train step for 1 epoch:   0%|          | 0/100 [00:00<?, ?it/s]"
     ]
    },
    {
     "name": "stdout",
     "output_type": "stream",
     "text": [
      "epoch  34: loss 3.510e-03\n"
     ]
    },
    {
     "name": "stderr",
     "output_type": "stream",
     "text": [
      "train step for 1 epoch: 100%|██████████| 100/100 [00:00<00:00, 651.45it/s]\n",
      "train step for 1 epoch: 100%|██████████| 100/100 [00:00<00:00, 660.78it/s]\n",
      "train step for 1 epoch: 100%|██████████| 100/100 [00:00<00:00, 657.71it/s]\n",
      "train step for 1 epoch: 100%|██████████| 100/100 [00:00<00:00, 663.33it/s]\n",
      "train step for 1 epoch: 100%|██████████| 100/100 [00:00<00:00, 681.60it/s]\n",
      "train step for 1 epoch:   0%|          | 0/100 [00:00<?, ?it/s]"
     ]
    },
    {
     "name": "stdout",
     "output_type": "stream",
     "text": [
      "epoch  39: loss 2.271e-03\n"
     ]
    },
    {
     "name": "stderr",
     "output_type": "stream",
     "text": [
      "train step for 1 epoch: 100%|██████████| 100/100 [00:00<00:00, 684.04it/s]\n",
      "train step for 1 epoch: 100%|██████████| 100/100 [00:00<00:00, 681.65it/s]\n",
      "train step for 1 epoch: 100%|██████████| 100/100 [00:00<00:00, 677.83it/s]\n",
      "train step for 1 epoch: 100%|██████████| 100/100 [00:00<00:00, 677.35it/s]\n",
      "train step for 1 epoch: 100%|██████████| 100/100 [00:00<00:00, 696.50it/s]\n",
      "train step for 1 epoch:   0%|          | 0/100 [00:00<?, ?it/s]"
     ]
    },
    {
     "name": "stdout",
     "output_type": "stream",
     "text": [
      "epoch  44: loss 1.513e-03\n"
     ]
    },
    {
     "name": "stderr",
     "output_type": "stream",
     "text": [
      "train step for 1 epoch: 100%|██████████| 100/100 [00:00<00:00, 670.84it/s]\n",
      "train step for 1 epoch: 100%|██████████| 100/100 [00:00<00:00, 687.16it/s]\n",
      "train step for 1 epoch: 100%|██████████| 100/100 [00:00<00:00, 689.23it/s]\n",
      "train step for 1 epoch: 100%|██████████| 100/100 [00:00<00:00, 688.85it/s]\n"
     ]
    },
    {
     "name": "stdout",
     "output_type": "stream",
     "text": [
      "epoch  49: loss 1.032e-03\n"
     ]
    },
    {
     "data": {
      "image/png": "[encoded data removed]",
      "text/plain": [
       "<Figure size 432x288 with 1 Axes>"
      ]
     },
     "metadata": {
      "needs_background": "light"
     },
     "output_type": "display_data"
    }
   ],
   "source": [
    "def res_CCM(ebm, d, c, X, Y, n_epochs=10, report_every=1, bs=100, plot=True):\n",
    "    '''\n",
    "    residue CCM: net_y adds ebm(x) and cbm_res(x)\n",
    "    where cbm_res is cbm with not interpretable concepts\n",
    "    '''\n",
    "    c = min(d, c)\n",
    "    print(f'number of concepts to learn: {c}')\n",
    "    print(f'true number of concepts: {d}')\n",
    "\n",
    "    # freeze ebm (don't require grad) so that it does not train\n",
    "    ebm.eval()\n",
    "    dfs_freeze(ebm)\n",
    "\n",
    "    # additional channel to fit residue\n",
    "    # classification problem: pure residue does not work b/c y is not continous (cannot test acc)\n",
    "    # we need to fit to the logit\n",
    "    cbm_res = CBM(LambdaNet(lambda x: x), MLP([d, d * 2, 2]))\n",
    "    net_y = LambdaNet(lambda c: ebm.net_y(c[0]) + cbm_res.net_y(c[1])) # c[0] is known c, c[1] is u\n",
    "    net = CCM(ebm.net_c, cbm_res.net_c, net_y)\n",
    "\n",
    "    # train\n",
    "    opt = optim.Adam(cbm_res.parameters())\n",
    "    log = train(net, \n",
    "                DataLoader(TensorDataset(X, Y), batch_size=bs), \n",
    "                opt, n_epochs=n_epochs, report_every=report_every)\n",
    "    if plot: plot_log(log)\n",
    "    return net\n",
    "    \n",
    "ccm_res = res_CCM(copy.deepcopy(ebm_ind), d, c, X, Y, n_epochs=n_epochs, report_every=n_epochs//10)"
   ]
  },
  {
   "cell_type": "code",
   "execution_count": 17,
   "id": "f2fa8f83",
   "metadata": {},
   "outputs": [
    {
     "name": "stderr",
     "output_type": "stream",
     "text": [
      "test eval: 100%|██████████| 100/100 [00:00<00:00, 645.48it/s]"
     ]
    },
    {
     "name": "stdout",
     "output_type": "stream",
     "text": [
      "task acc after training: 100.00%\n"
     ]
    },
    {
     "name": "stderr",
     "output_type": "stream",
     "text": [
      "\n"
     ]
    }
   ],
   "source": [
    "print('task acc after training: {:.2f}%'.format(test(ccm_res, loader_xy_te, acc_criterion ) * 100))"
   ]
  },
  {
   "cell_type": "code",
   "execution_count": 18,
   "id": "874ab32e",
   "metadata": {},
   "outputs": [
    {
     "name": "stdout",
     "output_type": "stream",
     "text": [
      "    X0   X1   X2  hat Y0  hat Y1\n",
      "7  1.0  1.0  1.0     0.0     1.0\n",
      "0  0.0  0.0  0.0     1.0     0.0\n",
      "1  0.0  0.0  1.0     1.0     0.0\n",
      "2  0.0  1.0  0.0     1.0     0.0\n",
      "3  0.0  1.0  1.0     1.0     0.0\n",
      "4  1.0  0.0  0.0     1.0     0.0\n",
      "5  1.0  0.0  1.0     1.0     0.0\n",
      "6  1.0  1.0  0.0     1.0     0.0\n",
      "Explaining hat Y1\n"
     ]
    },
    {
     "data": {
      "application/vnd.jupyter.widget-view+json": {
       "model_id": "fd8c5e267a234365b1c3f525fcfcc739",
       "version_major": 2,
       "version_minor": 0
      },
      "text/plain": [
       "  0%|          | 0/8 [00:00<?, ?it/s]"
      ]
     },
     "metadata": {},
     "output_type": "display_data"
    },
    {
     "data": {
      "image/png": "[encoded data removed]",
      "text/plain": [
       "<Figure size 576x194.4 with 2 Axes>"
      ]
     },
     "metadata": {
      "needs_background": "light"
     },
     "output_type": "display_data"
    }
   ],
   "source": [
    "shap_net_x(nn.Sequential(ccm_res, nn.Softmax(dim=1)), shap_x, bs, output_name=\"hat Y\", output_idx=1)"
   ]
  },
  {
   "cell_type": "markdown",
   "id": "bb02195b",
   "metadata": {},
   "source": [
    "They seem very symmetrical in the input space. However, if we focus on concept attribution:"
   ]
  },
  {
   "cell_type": "code",
   "execution_count": 20,
   "id": "1f0dc90c",
   "metadata": {},
   "outputs": [
    {
     "name": "stdout",
     "output_type": "stream",
     "text": [
      "    Z0   X0   X1   X2  hat Y0  hat Y1\n",
      "7  1.0  1.0  1.0  1.0     0.0     1.0\n",
      "0  0.0  0.0  0.0  0.0     1.0     0.0\n",
      "1  0.0  0.0  0.0  1.0     1.0     0.0\n",
      "2  0.0  0.0  1.0  0.0     1.0     0.0\n",
      "3  0.0  0.0  1.0  1.0     1.0     0.0\n",
      "4  1.0  1.0  0.0  0.0     1.0     0.0\n",
      "5  1.0  1.0  0.0  1.0     1.0     0.0\n",
      "6  1.0  1.0  1.0  0.0     1.0     0.0\n",
      "Explaining hat Y1\n"
     ]
    },
    {
     "data": {
      "application/vnd.jupyter.widget-view+json": {
       "model_id": "69be54db9ccb4072a9bf296b3e58d1cd",
       "version_major": 2,
       "version_minor": 0
      },
      "text/plain": [
       "  0%|          | 0/8 [00:00<?, ?it/s]"
      ]
     },
     "metadata": {},
     "output_type": "display_data"
    },
    {
     "data": {
      "image/png": "[encoded data removed]",
      "text/plain": [
       "<Figure size 576x223.2 with 2 Axes>"
      ]
     },
     "metadata": {
      "needs_background": "light"
     },
     "output_type": "display_data"
    }
   ],
   "source": [
    "shap_ccm_c(ccm_res, shap_x, bs, not_c_name='X', output_idx=1) # not_c_name is input b/c I used identity for ccm.not_c"
   ]
  },
  {
   "cell_type": "markdown",
   "id": "749f1125",
   "metadata": {},
   "source": [
    "**Z's influence is divided by X: the model recompute concepts from scratch**"
   ]
  },
  {
   "cell_type": "code",
   "execution_count": 21,
   "id": "f962e885",
   "metadata": {},
   "outputs": [
    {
     "name": "stdout",
     "output_type": "stream",
     "text": [
      "number of concepts to learn: 1\n",
      "true number of concepts: 3\n",
      "   logit Z0   X0   X1   X2  hat Y0  hat Y1\n",
      "7      3.29  1.0  1.0  1.0    0.14    0.86\n",
      "0     -4.02  0.0  0.0  0.0    1.00    0.00\n",
      "1     -6.56  0.0  0.0  1.0    1.00    0.00\n",
      "2     -6.54  0.0  1.0  0.0    1.00    0.00\n",
      "3     -8.61  0.0  1.0  1.0    1.00    0.00\n",
      "4      8.00  1.0  0.0  0.0    1.00    0.00\n",
      "5      6.00  1.0  0.0  1.0    1.00    0.00\n",
      "6      6.02  1.0  1.0  0.0    1.00    0.00\n",
      "Explaining hat Y1\n"
     ]
    },
    {
     "data": {
      "application/vnd.jupyter.widget-view+json": {
       "model_id": "562bdad0dcdc43629aa0ad7902c463fa",
       "version_major": 2,
       "version_minor": 0
      },
      "text/plain": [
       "  0%|          | 0/8 [00:00<?, ?it/s]"
      ]
     },
     "metadata": {},
     "output_type": "display_data"
    },
    {
     "data": {
      "image/png": "[encoded data removed]",
      "text/plain": [
       "<Figure size 576x223.2 with 2 Axes>"
      ]
     },
     "metadata": {
      "needs_background": "light"
     },
     "output_type": "display_data"
    }
   ],
   "source": [
    "ccm_res_joint = res_CCM(copy.deepcopy(ebm_joint), d, c, X, Y, n_epochs=0, report_every=1, plot=False) #n_epochs//10)\n",
    "shap_ccm_c(ccm_res_joint, shap_x, bs, not_c_name='X', output_idx=1, c_name='logit Z')"
   ]
  },
  {
   "cell_type": "markdown",
   "id": "5de19f7b",
   "metadata": {},
   "source": [
    "The above graph sanity checks that joint EBM based residue CCM does not use raw input"
   ]
  },
  {
   "cell_type": "markdown",
   "id": "49c8d68a",
   "metadata": {},
   "source": [
    "## TODO: CCM EYE"
   ]
  },
  {
   "cell_type": "code",
   "execution_count": null,
   "id": "e1d270de",
   "metadata": {},
   "outputs": [],
   "source": []
  }
 ],
 "metadata": {
  "kernelspec": {
   "display_name": "Python 3",
   "language": "python",
   "name": "python3"
  },
  "language_info": {
   "codemirror_mode": {
    "name": "ipython",
    "version": 3
   },
   "file_extension": ".py",
   "mimetype": "text/x-python",
   "name": "python",
   "nbconvert_exporter": "python",
   "pygments_lexer": "ipython3",
   "version": "3.7.9"
  }
 },
 "nbformat": 4,
 "nbformat_minor": 5
}
