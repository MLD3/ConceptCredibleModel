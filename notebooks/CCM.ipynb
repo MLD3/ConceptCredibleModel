{
 "cells": [
  {
   "cell_type": "markdown",
   "id": "9f8e6a2d",
   "metadata": {},
   "source": [
    "# Credible Concept Model (CCM) tutorial: extending credible model to uninterpretable raw features\n",
    "\n",
    "By the end of the tutorial, one should be able to\n",
    "\n",
    "1. understand the motivation of CCM\n",
    "2. understand the CCM algorithm\n",
    "3. able to train an CCM model"
   ]
  },
  {
   "cell_type": "code",
   "execution_count": 1,
   "id": "7ef7858a",
   "metadata": {
    "tags": []
   },
   "outputs": [],
   "source": [
    "import sys\n",
    "import numpy as np\n",
    "import copy\n",
    "import shap\n",
    "import pandas as pd\n",
    "import matplotlib.pyplot as plt\n",
    "import copy\n",
    "import torch\n",
    "import torch.nn as nn\n",
    "import torch.optim as optim\n",
    "import torch.nn.functional as F\n",
    "from torch.utils.data import TensorDataset, DataLoader\n",
    "\n",
    "# specific packages\n",
    "if '../' not in sys.path:\n",
    "    sys.path = ['../'] + sys.path\n",
    "from lib.models import CCM, CBM, MLP, LambdaNet\n",
    "from lib.train import train_step_standard, train_step_xyc, train\n",
    "from lib.eval import get_output, test, plot_log, shap_net_x, shap_ccm_c, bootstrap\n",
    "from lib.utils import dfs_freeze"
   ]
  },
  {
   "cell_type": "markdown",
   "id": "c86d58fe",
   "metadata": {},
   "source": [
    "# A motivating example\n",
    "\n",
    "Despite the fact that model interpretation suffers from faithfulness and fragility issues (and also people's overtrust of the interpretation), it is still useful to enforce prior knowledge. Feature attribution tools often assume that features are interpretable. This makes them less applicable when raw features are complicated (say in the image or audio domain). Thus, a lot of recent research effort have been poured in to explanation with high level concepts. Among them is this idea of concept bottleneck network (CBM). In this work, we expose the flaw of CBM and suggest a simple fix. \n",
    "\n",
    "**We define EBM as CBM only using expert identified features as concepts**.\n",
    "\n",
    "This examples shows why missing concept is a nastier problem than one would think.\n",
    "\n",
    "$Z \\sim U(\\{0, 1\\})^d$ are $d$ latent concepts\n",
    "\n",
    "$X = project(Z)$ is a random linear projection of concepts presented to the human (the following just used identity for simplicity)\n",
    "\n",
    "$X \\rightarrow C \\rightarrow X$ where $C \\in \\mathbb{R}^{d-1}$ is concept detectors\n",
    "\n",
    "$Y = and(Z)$ where $\\theta$ is the true coefficient.\n",
    "\n",
    "This setup will fail raw feature attribution (because $X$ distribute concepts across dimensions), concept discovery (when the function is a \"and\" concept), jointly trained concept (because $C$ has 1 less dimension off $Z$)."
   ]
  },
  {
   "cell_type": "code",
   "execution_count": 2,
   "id": "75656ebc",
   "metadata": {
    "tags": []
   },
   "outputs": [
    {
     "name": "stdout",
     "output_type": "stream",
     "text": [
      "Percentage of ones 87.50%\n"
     ]
    }
   ],
   "source": [
    "n = 10000\n",
    "d = 3 # true number of concepts needed for classification\n",
    "c = 1 # number of expert identified concepts\n",
    "bs = 100\n",
    "n_epochs = 50\n",
    "\n",
    "def gen_data(n, d):\n",
    "    Z = np.random.choice([0, 1], (n, d))\n",
    "    X = Z\n",
    "    # and of the arguments\n",
    "    Y = np.ones(n)\n",
    "    for i in range(d):\n",
    "        Y = np.logical_and(Y, Z[:, i])\n",
    "\n",
    "    return torch.from_numpy(X).float(), torch.from_numpy(Y).long(), torch.from_numpy(Z).float()\n",
    "\n",
    "X, Y, Z = gen_data(n, d)\n",
    "X_te, Y_te, Z_te = gen_data(n, d)\n",
    "print(f'Percentage of ones {(1-0.5**d)*100:.2f}%')"
   ]
  },
  {
   "cell_type": "markdown",
   "id": "d73cc2d7",
   "metadata": {},
   "source": [
    "**Note that the above value ($1-1/2^d$) is also the theoretical limit the accuracy of EBM** because\n",
    "\n",
    "\\begin{align}\n",
    "P(\\hat{y} = y) &= P(Z_1=Z_2=\\cdots=Z_c=1) P (\\hat{y} = y | Z_1=Z_2=\\cdots=Z_c=1) + P(\\overline{Z_1=Z_2=\\cdots=Z_c=1}) P(\\hat{y} = y | \\overline{Z_1=Z_2=\\cdots=Z_c=1})\\\\\n",
    "&= 1 / 2^c \\cdot (1 - 1 / 2^{d-c}) + (1 - 1 / 2^c) \\cdot 1\\\\\n",
    "&= 1 - 1 / 2^d\n",
    "\\end{align}"
   ]
  },
  {
   "cell_type": "code",
   "execution_count": 3,
   "id": "0a14dc3d",
   "metadata": {
    "tags": []
   },
   "outputs": [],
   "source": [
    "# accuracy\n",
    "acc_criterion = lambda o, y: (o.argmax(1) == y).float()\n",
    "\n",
    "# dataset\n",
    "loader_xy = DataLoader(TensorDataset(X, Y), batch_size=bs, shuffle=True) # regular dataset\n",
    "loader_xyc = DataLoader(TensorDataset(X, Y, Z), batch_size=bs, shuffle=True) # joint concept and regular dataset\n",
    "\n",
    "loader_xy_te = DataLoader(TensorDataset(X_te, Y_te), batch_size=bs, shuffle=False) # regular dataset\n",
    "loader_xyc_te = DataLoader(TensorDataset(X_te, Y_te, Z_te), batch_size=bs, shuffle=False) # joint concept and regular dataset"
   ]
  },
  {
   "cell_type": "markdown",
   "id": "0666d37e",
   "metadata": {},
   "source": [
    "## standard model"
   ]
  },
  {
   "cell_type": "code",
   "execution_count": 4,
   "id": "b2f68f92",
   "metadata": {
    "tags": []
   },
   "outputs": [
    {
     "name": "stderr",
     "output_type": "stream",
     "text": [
      "train step for 1 epoch: 100%|██████████| 100/100 [00:00<00:00, 456.06it/s]\n",
      "train step for 1 epoch: 100%|██████████| 100/100 [00:00<00:00, 640.96it/s]\n",
      "train step for 1 epoch: 100%|██████████| 100/100 [00:00<00:00, 654.44it/s]\n",
      "train step for 1 epoch: 100%|██████████| 100/100 [00:00<00:00, 605.32it/s]\n",
      "train step for 1 epoch: 100%|██████████| 100/100 [00:00<00:00, 631.72it/s]\n",
      "train step for 1 epoch: 100%|██████████| 100/100 [00:00<00:00, 626.76it/s]\n",
      "train step for 1 epoch:   0%|          | 0/100 [00:00<?, ?it/s]"
     ]
    },
    {
     "name": "stdout",
     "output_type": "stream",
     "text": [
      "epoch   4: loss 2.995e-01\n"
     ]
    },
    {
     "name": "stderr",
     "output_type": "stream",
     "text": [
      "train step for 1 epoch: 100%|██████████| 100/100 [00:00<00:00, 640.50it/s]\n",
      "train step for 1 epoch: 100%|██████████| 100/100 [00:00<00:00, 641.47it/s]\n",
      "train step for 1 epoch: 100%|██████████| 100/100 [00:00<00:00, 632.49it/s]\n",
      "train step for 1 epoch: 100%|██████████| 100/100 [00:00<00:00, 510.03it/s]\n",
      "train step for 1 epoch: 100%|██████████| 100/100 [00:00<00:00, 592.78it/s]\n",
      "train step for 1 epoch:   0%|          | 0/100 [00:00<?, ?it/s]"
     ]
    },
    {
     "name": "stdout",
     "output_type": "stream",
     "text": [
      "epoch   9: loss 1.258e-01\n"
     ]
    },
    {
     "name": "stderr",
     "output_type": "stream",
     "text": [
      "train step for 1 epoch: 100%|██████████| 100/100 [00:00<00:00, 642.14it/s]\n",
      "train step for 1 epoch: 100%|██████████| 100/100 [00:00<00:00, 631.22it/s]\n",
      "train step for 1 epoch: 100%|██████████| 100/100 [00:00<00:00, 511.83it/s]\n",
      "train step for 1 epoch: 100%|██████████| 100/100 [00:00<00:00, 602.81it/s]\n",
      "train step for 1 epoch: 100%|██████████| 100/100 [00:00<00:00, 645.70it/s]\n",
      "train step for 1 epoch:   0%|          | 0/100 [00:00<?, ?it/s]"
     ]
    },
    {
     "name": "stdout",
     "output_type": "stream",
     "text": [
      "epoch  14: loss 8.276e-02\n"
     ]
    },
    {
     "name": "stderr",
     "output_type": "stream",
     "text": [
      "train step for 1 epoch: 100%|██████████| 100/100 [00:00<00:00, 639.30it/s]\n",
      "train step for 1 epoch: 100%|██████████| 100/100 [00:00<00:00, 621.77it/s]\n",
      "train step for 1 epoch: 100%|██████████| 100/100 [00:00<00:00, 642.84it/s]\n",
      "train step for 1 epoch: 100%|██████████| 100/100 [00:00<00:00, 627.64it/s]\n",
      "train step for 1 epoch: 100%|██████████| 100/100 [00:00<00:00, 642.29it/s]\n",
      "train step for 1 epoch:   0%|          | 0/100 [00:00<?, ?it/s]"
     ]
    },
    {
     "name": "stdout",
     "output_type": "stream",
     "text": [
      "epoch  19: loss 5.619e-02\n"
     ]
    },
    {
     "name": "stderr",
     "output_type": "stream",
     "text": [
      "train step for 1 epoch: 100%|██████████| 100/100 [00:00<00:00, 603.40it/s]\n",
      "train step for 1 epoch: 100%|██████████| 100/100 [00:00<00:00, 676.13it/s]\n",
      "train step for 1 epoch: 100%|██████████| 100/100 [00:00<00:00, 472.32it/s]\n",
      "train step for 1 epoch: 100%|██████████| 100/100 [00:00<00:00, 666.97it/s]\n",
      "train step for 1 epoch: 100%|██████████| 100/100 [00:00<00:00, 607.57it/s]\n",
      "train step for 1 epoch:   0%|          | 0/100 [00:00<?, ?it/s]"
     ]
    },
    {
     "name": "stdout",
     "output_type": "stream",
     "text": [
      "epoch  24: loss 3.825e-02\n"
     ]
    },
    {
     "name": "stderr",
     "output_type": "stream",
     "text": [
      "train step for 1 epoch: 100%|██████████| 100/100 [00:00<00:00, 648.83it/s]\n",
      "train step for 1 epoch: 100%|██████████| 100/100 [00:00<00:00, 649.52it/s]\n",
      "train step for 1 epoch: 100%|██████████| 100/100 [00:00<00:00, 603.44it/s]\n",
      "train step for 1 epoch: 100%|██████████| 100/100 [00:00<00:00, 645.06it/s]\n",
      "train step for 1 epoch: 100%|██████████| 100/100 [00:00<00:00, 643.99it/s]\n",
      "train step for 1 epoch:   0%|          | 0/100 [00:00<?, ?it/s]"
     ]
    },
    {
     "name": "stdout",
     "output_type": "stream",
     "text": [
      "epoch  29: loss 2.644e-02\n"
     ]
    },
    {
     "name": "stderr",
     "output_type": "stream",
     "text": [
      "train step for 1 epoch: 100%|██████████| 100/100 [00:00<00:00, 652.06it/s]\n",
      "train step for 1 epoch: 100%|██████████| 100/100 [00:00<00:00, 664.31it/s]\n",
      "train step for 1 epoch: 100%|██████████| 100/100 [00:00<00:00, 604.11it/s]\n",
      "train step for 1 epoch: 100%|██████████| 100/100 [00:00<00:00, 672.26it/s]\n",
      "train step for 1 epoch: 100%|██████████| 100/100 [00:00<00:00, 692.46it/s]\n",
      "train step for 1 epoch:   0%|          | 0/100 [00:00<?, ?it/s]"
     ]
    },
    {
     "name": "stdout",
     "output_type": "stream",
     "text": [
      "epoch  34: loss 1.864e-02\n"
     ]
    },
    {
     "name": "stderr",
     "output_type": "stream",
     "text": [
      "train step for 1 epoch: 100%|██████████| 100/100 [00:00<00:00, 610.34it/s]\n",
      "train step for 1 epoch: 100%|██████████| 100/100 [00:00<00:00, 658.65it/s]\n",
      "train step for 1 epoch: 100%|██████████| 100/100 [00:00<00:00, 637.58it/s]\n",
      "train step for 1 epoch: 100%|██████████| 100/100 [00:00<00:00, 650.84it/s]\n",
      "train step for 1 epoch: 100%|██████████| 100/100 [00:00<00:00, 651.01it/s]\n",
      "train step for 1 epoch:   0%|          | 0/100 [00:00<?, ?it/s]"
     ]
    },
    {
     "name": "stdout",
     "output_type": "stream",
     "text": [
      "epoch  39: loss 1.339e-02\n"
     ]
    },
    {
     "name": "stderr",
     "output_type": "stream",
     "text": [
      "train step for 1 epoch: 100%|██████████| 100/100 [00:00<00:00, 633.79it/s]\n",
      "train step for 1 epoch: 100%|██████████| 100/100 [00:00<00:00, 655.13it/s]\n",
      "train step for 1 epoch: 100%|██████████| 100/100 [00:00<00:00, 566.25it/s]\n",
      "train step for 1 epoch: 100%|██████████| 100/100 [00:00<00:00, 664.31it/s]\n",
      "train step for 1 epoch: 100%|██████████| 100/100 [00:00<00:00, 685.99it/s]\n",
      "train step for 1 epoch:   0%|          | 0/100 [00:00<?, ?it/s]"
     ]
    },
    {
     "name": "stdout",
     "output_type": "stream",
     "text": [
      "epoch  44: loss 9.776e-03\n"
     ]
    },
    {
     "name": "stderr",
     "output_type": "stream",
     "text": [
      "train step for 1 epoch: 100%|██████████| 100/100 [00:00<00:00, 624.20it/s]\n",
      "train step for 1 epoch: 100%|██████████| 100/100 [00:00<00:00, 577.23it/s]\n",
      "train step for 1 epoch: 100%|██████████| 100/100 [00:00<00:00, 691.80it/s]\n",
      "train step for 1 epoch: 100%|██████████| 100/100 [00:00<00:00, 656.92it/s]\n"
     ]
    },
    {
     "name": "stdout",
     "output_type": "stream",
     "text": [
      "epoch  49: loss 7.235e-03\n"
     ]
    },
    {
     "data": {
      "image/png": "[encoded data removed]",
      "text/plain": [
       "<Figure size 432x288 with 1 Axes>"
      ]
     },
     "metadata": {
      "needs_background": "light"
     },
     "output_type": "display_data"
    }
   ],
   "source": [
    "def standard_model(loader_xy, d, n_epochs=10, report_every=1, plot=True):\n",
    "    # regular model\n",
    "    net = MLP([d, d * 2, 2])\n",
    "\n",
    "    # train\n",
    "    opt = optim.Adam(net.parameters())\n",
    "    log = train(net, loader_xy, opt, n_epochs=n_epochs, report_every=report_every)\n",
    "    if plot: plot_log(log)\n",
    "    return net\n",
    "\n",
    "standard_net = standard_model(loader_xy, d, n_epochs=n_epochs, report_every=n_epochs//10)"
   ]
  },
  {
   "cell_type": "code",
   "execution_count": 5,
   "id": "5690e624",
   "metadata": {
    "tags": []
   },
   "outputs": [
    {
     "name": "stderr",
     "output_type": "stream",
     "text": [
      "test eval: 100%|██████████| 100/100 [00:00<00:00, 891.85it/s]"
     ]
    },
    {
     "name": "stdout",
     "output_type": "stream",
     "text": [
      "task acc after training: 100.0%\n"
     ]
    },
    {
     "name": "stderr",
     "output_type": "stream",
     "text": [
      "\n"
     ]
    }
   ],
   "source": [
    "print('task acc after training: {:.1f}%'.format(test(standard_net, loader_xy_te, acc_criterion) * 100))"
   ]
  },
  {
   "cell_type": "markdown",
   "id": "7af844af",
   "metadata": {},
   "source": [
    "## joint EBM"
   ]
  },
  {
   "cell_type": "code",
   "execution_count": 6,
   "id": "de460212",
   "metadata": {
    "tags": []
   },
   "outputs": [
    {
     "name": "stderr",
     "output_type": "stream",
     "text": [
      "train step for 1 epoch CBM:  42%|████▏     | 42/100 [00:00<00:00, 411.66it/s]"
     ]
    },
    {
     "name": "stdout",
     "output_type": "stream",
     "text": [
      "number of concepts to learn: 1\n",
      "true number of concepts: 3\n"
     ]
    },
    {
     "name": "stderr",
     "output_type": "stream",
     "text": [
      "train step for 1 epoch CBM: 100%|██████████| 100/100 [00:00<00:00, 420.25it/s]\n",
      "train step for 1 epoch CBM: 100%|██████████| 100/100 [00:00<00:00, 447.09it/s]\n",
      "train step for 1 epoch CBM: 100%|██████████| 100/100 [00:00<00:00, 513.06it/s]\n",
      "train step for 1 epoch CBM: 100%|██████████| 100/100 [00:00<00:00, 520.96it/s]\n",
      "train step for 1 epoch CBM: 100%|██████████| 100/100 [00:00<00:00, 512.17it/s]\n",
      "train step for 1 epoch CBM:  38%|███▊      | 38/100 [00:00<00:00, 372.08it/s]"
     ]
    },
    {
     "name": "stdout",
     "output_type": "stream",
     "text": [
      "epoch   4: loss 1.077e-02\n"
     ]
    },
    {
     "name": "stderr",
     "output_type": "stream",
     "text": [
      "train step for 1 epoch CBM: 100%|██████████| 100/100 [00:00<00:00, 402.78it/s]\n",
      "train step for 1 epoch CBM: 100%|██████████| 100/100 [00:00<00:00, 439.09it/s]\n",
      "train step for 1 epoch CBM: 100%|██████████| 100/100 [00:00<00:00, 494.83it/s]\n",
      "train step for 1 epoch CBM: 100%|██████████| 100/100 [00:00<00:00, 475.78it/s]\n",
      "train step for 1 epoch CBM: 100%|██████████| 100/100 [00:00<00:00, 422.92it/s]\n",
      "train step for 1 epoch CBM:  31%|███       | 31/100 [00:00<00:00, 308.61it/s]"
     ]
    },
    {
     "name": "stdout",
     "output_type": "stream",
     "text": [
      "epoch   9: loss 1.052e-02\n"
     ]
    },
    {
     "name": "stderr",
     "output_type": "stream",
     "text": [
      "train step for 1 epoch CBM: 100%|██████████| 100/100 [00:00<00:00, 402.39it/s]\n",
      "train step for 1 epoch CBM: 100%|██████████| 100/100 [00:00<00:00, 362.93it/s]\n",
      "train step for 1 epoch CBM: 100%|██████████| 100/100 [00:00<00:00, 487.52it/s]\n",
      "train step for 1 epoch CBM: 100%|██████████| 100/100 [00:00<00:00, 469.85it/s]\n",
      "train step for 1 epoch CBM: 100%|██████████| 100/100 [00:00<00:00, 467.38it/s]\n",
      "train step for 1 epoch CBM:  41%|████      | 41/100 [00:00<00:00, 401.73it/s]"
     ]
    },
    {
     "name": "stdout",
     "output_type": "stream",
     "text": [
      "epoch  14: loss 1.044e-02\n"
     ]
    },
    {
     "name": "stderr",
     "output_type": "stream",
     "text": [
      "train step for 1 epoch CBM: 100%|██████████| 100/100 [00:00<00:00, 409.95it/s]\n",
      "train step for 1 epoch CBM: 100%|██████████| 100/100 [00:00<00:00, 450.88it/s]\n",
      "train step for 1 epoch CBM: 100%|██████████| 100/100 [00:00<00:00, 446.09it/s]\n",
      "train step for 1 epoch CBM: 100%|██████████| 100/100 [00:00<00:00, 442.97it/s]\n",
      "train step for 1 epoch CBM: 100%|██████████| 100/100 [00:00<00:00, 473.19it/s]\n",
      "train step for 1 epoch CBM:  44%|████▍     | 44/100 [00:00<00:00, 436.47it/s]"
     ]
    },
    {
     "name": "stdout",
     "output_type": "stream",
     "text": [
      "epoch  19: loss 1.036e-02\n"
     ]
    },
    {
     "name": "stderr",
     "output_type": "stream",
     "text": [
      "train step for 1 epoch CBM: 100%|██████████| 100/100 [00:00<00:00, 451.15it/s]\n",
      "train step for 1 epoch CBM: 100%|██████████| 100/100 [00:00<00:00, 459.55it/s]\n",
      "train step for 1 epoch CBM: 100%|██████████| 100/100 [00:00<00:00, 413.56it/s]\n",
      "train step for 1 epoch CBM: 100%|██████████| 100/100 [00:00<00:00, 463.69it/s]\n",
      "train step for 1 epoch CBM: 100%|██████████| 100/100 [00:00<00:00, 406.59it/s]\n",
      "train step for 1 epoch CBM:  47%|████▋     | 47/100 [00:00<00:00, 463.33it/s]"
     ]
    },
    {
     "name": "stdout",
     "output_type": "stream",
     "text": [
      "epoch  24: loss 1.027e-02\n"
     ]
    },
    {
     "name": "stderr",
     "output_type": "stream",
     "text": [
      "train step for 1 epoch CBM: 100%|██████████| 100/100 [00:00<00:00, 447.53it/s]\n",
      "train step for 1 epoch CBM: 100%|██████████| 100/100 [00:00<00:00, 353.81it/s]\n",
      "train step for 1 epoch CBM: 100%|██████████| 100/100 [00:00<00:00, 456.49it/s]\n",
      "train step for 1 epoch CBM: 100%|██████████| 100/100 [00:00<00:00, 457.10it/s]\n",
      "train step for 1 epoch CBM: 100%|██████████| 100/100 [00:00<00:00, 451.28it/s]\n",
      "train step for 1 epoch CBM:  49%|████▉     | 49/100 [00:00<00:00, 485.48it/s]"
     ]
    },
    {
     "name": "stdout",
     "output_type": "stream",
     "text": [
      "epoch  29: loss 1.018e-02\n"
     ]
    },
    {
     "name": "stderr",
     "output_type": "stream",
     "text": [
      "train step for 1 epoch CBM: 100%|██████████| 100/100 [00:00<00:00, 466.73it/s]\n",
      "train step for 1 epoch CBM: 100%|██████████| 100/100 [00:00<00:00, 467.94it/s]\n",
      "train step for 1 epoch CBM: 100%|██████████| 100/100 [00:00<00:00, 461.03it/s]\n",
      "train step for 1 epoch CBM: 100%|██████████| 100/100 [00:00<00:00, 477.79it/s]\n",
      "train step for 1 epoch CBM: 100%|██████████| 100/100 [00:00<00:00, 425.26it/s]\n",
      "train step for 1 epoch CBM:  50%|█████     | 50/100 [00:00<00:00, 492.07it/s]"
     ]
    },
    {
     "name": "stdout",
     "output_type": "stream",
     "text": [
      "epoch  34: loss 1.010e-02\n"
     ]
    },
    {
     "name": "stderr",
     "output_type": "stream",
     "text": [
      "train step for 1 epoch CBM: 100%|██████████| 100/100 [00:00<00:00, 483.09it/s]\n",
      "train step for 1 epoch CBM: 100%|██████████| 100/100 [00:00<00:00, 434.41it/s]\n",
      "train step for 1 epoch CBM: 100%|██████████| 100/100 [00:00<00:00, 456.32it/s]\n",
      "train step for 1 epoch CBM: 100%|██████████| 100/100 [00:00<00:00, 412.00it/s]\n",
      "train step for 1 epoch CBM: 100%|██████████| 100/100 [00:00<00:00, 454.28it/s]\n",
      "train step for 1 epoch CBM:  47%|████▋     | 47/100 [00:00<00:00, 467.47it/s]"
     ]
    },
    {
     "name": "stdout",
     "output_type": "stream",
     "text": [
      "epoch  39: loss 1.005e-02\n"
     ]
    },
    {
     "name": "stderr",
     "output_type": "stream",
     "text": [
      "train step for 1 epoch CBM: 100%|██████████| 100/100 [00:00<00:00, 389.78it/s]\n",
      "train step for 1 epoch CBM: 100%|██████████| 100/100 [00:00<00:00, 443.67it/s]\n",
      "train step for 1 epoch CBM: 100%|██████████| 100/100 [00:00<00:00, 476.11it/s]\n",
      "train step for 1 epoch CBM: 100%|██████████| 100/100 [00:00<00:00, 466.25it/s]\n",
      "train step for 1 epoch CBM: 100%|██████████| 100/100 [00:00<00:00, 421.53it/s]\n",
      "train step for 1 epoch CBM:  85%|████████▌ | 85/100 [00:00<00:00, 427.58it/s]"
     ]
    },
    {
     "name": "stdout",
     "output_type": "stream",
     "text": [
      "epoch  44: loss 1.002e-02\n"
     ]
    },
    {
     "name": "stderr",
     "output_type": "stream",
     "text": [
      "train step for 1 epoch CBM: 100%|██████████| 100/100 [00:00<00:00, 426.73it/s]\n",
      "train step for 1 epoch CBM: 100%|██████████| 100/100 [00:00<00:00, 465.52it/s]\n",
      "train step for 1 epoch CBM: 100%|██████████| 100/100 [00:00<00:00, 446.83it/s]\n",
      "train step for 1 epoch CBM: 100%|██████████| 100/100 [00:00<00:00, 420.32it/s]\n",
      "train step for 1 epoch CBM: 100%|██████████| 100/100 [00:00<00:00, 431.02it/s]\n"
     ]
    },
    {
     "name": "stdout",
     "output_type": "stream",
     "text": [
      "epoch  49: loss 1.001e-02\n"
     ]
    },
    {
     "data": {
      "image/png": "[encoded data removed]",
      "text/plain": [
       "<Figure size 432x288 with 1 Axes>"
      ]
     },
     "metadata": {
      "needs_background": "light"
     },
     "output_type": "display_data"
    }
   ],
   "source": [
    "def joint_EBM(d, c, loader_xyc, n_epochs=10, report_every=1, plot=True):\n",
    "    c = min(d, c)\n",
    "    print(f'number of concepts to learn: {c}')\n",
    "    print(f'true number of concepts: {d}')\n",
    "    \n",
    "    # EBM with concept and task jointly trained\n",
    "    net_c = MLP([d, d * 2, c])\n",
    "    net_y = MLP([c, d * 2, 2])\n",
    "    net = CBM(net_c, net_y)\n",
    "    \n",
    "    # train\n",
    "    def criterion(o_y, y, o_z, z):\n",
    "        y_loss = F.cross_entropy(o_y, y).sum()\n",
    "        z_loss = F.binary_cross_entropy(torch.sigmoid(o_z), z[:, :c]).sum()\n",
    "        return (y_loss + z_loss) / len(y)\n",
    "    \n",
    "    opt = optim.Adam(net.parameters())\n",
    "    log = train(net, loader_xyc, opt, train_step=train_step_xyc, \n",
    "                criterion=criterion, n_epochs=n_epochs, report_every=report_every)\n",
    "    if plot: plot_log(log)\n",
    "    \n",
    "    return net\n",
    "\n",
    "ebm_joint = joint_EBM(d, c, loader_xyc, n_epochs=n_epochs, report_every=n_epochs//10)"
   ]
  },
  {
   "cell_type": "code",
   "execution_count": 7,
   "id": "b3b77856",
   "metadata": {
    "tags": []
   },
   "outputs": [
    {
     "name": "stderr",
     "output_type": "stream",
     "text": [
      "test eval: 100%|██████████| 100/100 [00:00<00:00, 938.72it/s]\n"
     ]
    },
    {
     "name": "stdout",
     "output_type": "stream",
     "text": [
      "task acc after training: 87.8%\n",
      "concept 0 acc after training: 50.4%\n"
     ]
    }
   ],
   "source": [
    "def test_concept(net, concept_idx, loader):\n",
    "    '''net output many logit for concepts, concept_idx is the concept index'''\n",
    "    net.eval()\n",
    "    losses = []\n",
    "    total = 0\n",
    "    for x, y in loader:\n",
    "        o = net(x) # (bs, c)\n",
    "        o2 = torch.sigmoid(o[:, concept_idx]) > 0.5\n",
    "        l = (o2 == y).float().mean()\n",
    "        bs = o.shape[0]\n",
    "        total += bs        \n",
    "        losses.append(l.detach().item() * bs)\n",
    "    net.train()\n",
    "    return sum(losses) / total\n",
    "\n",
    "def print_concept_acc(net_c, c, X_te, Z_te):\n",
    "    for i in range(c):\n",
    "        print('concept {} acc after training: {:.1f}%'.format(i, test_concept(net_c,\n",
    "                                                                              i,\n",
    "                                                                              DataLoader(TensorDataset(X_te, Z_te[:, i]), batch_size=bs)) * 100))\n",
    "\n",
    "print('task acc after training: {:.1f}%'.format(test(ebm_joint, loader_xy_te, acc_criterion ) * 100))\n",
    "print_concept_acc(ebm_joint.net_c, c, X_te, Z_te)"
   ]
  },
  {
   "cell_type": "markdown",
   "id": "25d09d2d",
   "metadata": {},
   "source": [
    "**Note Jointly trained EBM has accuracy above the thoretical limit of ($1 - 2^d$) without sacrificing concept accuracy. This is why it is wrong!**"
   ]
  },
  {
   "cell_type": "markdown",
   "id": "d83945d4",
   "metadata": {},
   "source": [
    "## independent EBM"
   ]
  },
  {
   "cell_type": "code",
   "execution_count": 8,
   "id": "b5a015d7",
   "metadata": {
    "tags": []
   },
   "outputs": [
    {
     "name": "stderr",
     "output_type": "stream",
     "text": [
      "train step for 1 epoch:   0%|          | 0/100 [00:00<?, ?it/s]"
     ]
    },
    {
     "name": "stdout",
     "output_type": "stream",
     "text": [
      "number of concepts to learn: 1\n",
      "true number of concepts: 3\n",
      "training concepts ...\n"
     ]
    },
    {
     "name": "stderr",
     "output_type": "stream",
     "text": [
      "train step for 1 epoch: 100%|██████████| 100/100 [00:00<00:00, 693.58it/s]\n",
      "train step for 1 epoch: 100%|██████████| 100/100 [00:00<00:00, 538.35it/s]\n",
      "train step for 1 epoch: 100%|██████████| 100/100 [00:00<00:00, 539.21it/s]\n",
      "train step for 1 epoch: 100%|██████████| 100/100 [00:00<00:00, 693.91it/s]\n",
      "train step for 1 epoch: 100%|██████████| 100/100 [00:00<00:00, 668.47it/s]\n",
      "train step for 1 epoch: 100%|██████████| 100/100 [00:00<00:00, 602.36it/s]\n",
      "train step for 1 epoch:   0%|          | 0/100 [00:00<?, ?it/s]"
     ]
    },
    {
     "name": "stdout",
     "output_type": "stream",
     "text": [
      "epoch   4: loss 2.083e-01\n"
     ]
    },
    {
     "name": "stderr",
     "output_type": "stream",
     "text": [
      "train step for 1 epoch: 100%|██████████| 100/100 [00:00<00:00, 633.12it/s]\n",
      "train step for 1 epoch: 100%|██████████| 100/100 [00:00<00:00, 600.82it/s]\n",
      "train step for 1 epoch: 100%|██████████| 100/100 [00:00<00:00, 623.91it/s]\n",
      "train step for 1 epoch: 100%|██████████| 100/100 [00:00<00:00, 554.58it/s]\n",
      "train step for 1 epoch: 100%|██████████| 100/100 [00:00<00:00, 574.44it/s]\n",
      "train step for 1 epoch:   0%|          | 0/100 [00:00<?, ?it/s]"
     ]
    },
    {
     "name": "stdout",
     "output_type": "stream",
     "text": [
      "epoch   9: loss 4.108e-02\n"
     ]
    },
    {
     "name": "stderr",
     "output_type": "stream",
     "text": [
      "train step for 1 epoch: 100%|██████████| 100/100 [00:00<00:00, 597.25it/s]\n",
      "train step for 1 epoch: 100%|██████████| 100/100 [00:00<00:00, 673.12it/s]\n",
      "train step for 1 epoch: 100%|██████████| 100/100 [00:00<00:00, 683.07it/s]\n",
      "train step for 1 epoch: 100%|██████████| 100/100 [00:00<00:00, 711.73it/s]\n",
      "train step for 1 epoch: 100%|██████████| 100/100 [00:00<00:00, 533.19it/s]\n",
      "train step for 1 epoch:   0%|          | 0/100 [00:00<?, ?it/s]"
     ]
    },
    {
     "name": "stdout",
     "output_type": "stream",
     "text": [
      "epoch  14: loss 1.453e-02\n"
     ]
    },
    {
     "name": "stderr",
     "output_type": "stream",
     "text": [
      "train step for 1 epoch: 100%|██████████| 100/100 [00:00<00:00, 613.46it/s]\n",
      "train step for 1 epoch: 100%|██████████| 100/100 [00:00<00:00, 658.21it/s]\n",
      "train step for 1 epoch: 100%|██████████| 100/100 [00:00<00:00, 664.51it/s]\n",
      "train step for 1 epoch: 100%|██████████| 100/100 [00:00<00:00, 627.15it/s]\n",
      "train step for 1 epoch: 100%|██████████| 100/100 [00:00<00:00, 650.81it/s]\n",
      "train step for 1 epoch:   0%|          | 0/100 [00:00<?, ?it/s]"
     ]
    },
    {
     "name": "stdout",
     "output_type": "stream",
     "text": [
      "epoch  19: loss 6.931e-03\n"
     ]
    },
    {
     "name": "stderr",
     "output_type": "stream",
     "text": [
      "train step for 1 epoch: 100%|██████████| 100/100 [00:00<00:00, 551.27it/s]\n",
      "train step for 1 epoch: 100%|██████████| 100/100 [00:00<00:00, 595.25it/s]\n",
      "train step for 1 epoch: 100%|██████████| 100/100 [00:00<00:00, 618.21it/s]\n",
      "train step for 1 epoch: 100%|██████████| 100/100 [00:00<00:00, 695.14it/s]\n",
      "train step for 1 epoch: 100%|██████████| 100/100 [00:00<00:00, 635.19it/s]\n",
      "train step for 1 epoch:   0%|          | 0/100 [00:00<?, ?it/s]"
     ]
    },
    {
     "name": "stdout",
     "output_type": "stream",
     "text": [
      "epoch  24: loss 3.859e-03\n"
     ]
    },
    {
     "name": "stderr",
     "output_type": "stream",
     "text": [
      "train step for 1 epoch: 100%|██████████| 100/100 [00:00<00:00, 709.06it/s]\n",
      "train step for 1 epoch: 100%|██████████| 100/100 [00:00<00:00, 619.46it/s]\n",
      "train step for 1 epoch: 100%|██████████| 100/100 [00:00<00:00, 616.66it/s]\n",
      "train step for 1 epoch: 100%|██████████| 100/100 [00:00<00:00, 594.45it/s]\n",
      "train step for 1 epoch: 100%|██████████| 100/100 [00:00<00:00, 604.15it/s]\n",
      "train step for 1 epoch:   0%|          | 0/100 [00:00<?, ?it/s]"
     ]
    },
    {
     "name": "stdout",
     "output_type": "stream",
     "text": [
      "epoch  29: loss 2.353e-03\n"
     ]
    },
    {
     "name": "stderr",
     "output_type": "stream",
     "text": [
      "train step for 1 epoch: 100%|██████████| 100/100 [00:00<00:00, 604.86it/s]\n",
      "train step for 1 epoch: 100%|██████████| 100/100 [00:00<00:00, 580.72it/s]\n",
      "train step for 1 epoch: 100%|██████████| 100/100 [00:00<00:00, 571.81it/s]\n",
      "train step for 1 epoch: 100%|██████████| 100/100 [00:00<00:00, 534.53it/s]\n",
      "train step for 1 epoch: 100%|██████████| 100/100 [00:00<00:00, 644.29it/s]\n",
      "train step for 1 epoch:   0%|          | 0/100 [00:00<?, ?it/s]"
     ]
    },
    {
     "name": "stdout",
     "output_type": "stream",
     "text": [
      "epoch  34: loss 1.520e-03\n"
     ]
    },
    {
     "name": "stderr",
     "output_type": "stream",
     "text": [
      "train step for 1 epoch: 100%|██████████| 100/100 [00:00<00:00, 660.46it/s]\n",
      "train step for 1 epoch: 100%|██████████| 100/100 [00:00<00:00, 669.70it/s]\n",
      "train step for 1 epoch: 100%|██████████| 100/100 [00:00<00:00, 685.97it/s]\n",
      "train step for 1 epoch: 100%|██████████| 100/100 [00:00<00:00, 681.17it/s]\n",
      "train step for 1 epoch: 100%|██████████| 100/100 [00:00<00:00, 691.24it/s]\n",
      "train step for 1 epoch:   0%|          | 0/100 [00:00<?, ?it/s]"
     ]
    },
    {
     "name": "stdout",
     "output_type": "stream",
     "text": [
      "epoch  39: loss 1.022e-03\n"
     ]
    },
    {
     "name": "stderr",
     "output_type": "stream",
     "text": [
      "train step for 1 epoch: 100%|██████████| 100/100 [00:00<00:00, 619.15it/s]\n",
      "train step for 1 epoch: 100%|██████████| 100/100 [00:00<00:00, 660.50it/s]\n",
      "train step for 1 epoch: 100%|██████████| 100/100 [00:00<00:00, 664.34it/s]\n",
      "train step for 1 epoch: 100%|██████████| 100/100 [00:00<00:00, 649.16it/s]\n",
      "train step for 1 epoch: 100%|██████████| 100/100 [00:00<00:00, 647.08it/s]\n",
      "train step for 1 epoch:   0%|          | 0/100 [00:00<?, ?it/s]"
     ]
    },
    {
     "name": "stdout",
     "output_type": "stream",
     "text": [
      "epoch  44: loss 7.062e-04\n"
     ]
    },
    {
     "name": "stderr",
     "output_type": "stream",
     "text": [
      "train step for 1 epoch: 100%|██████████| 100/100 [00:00<00:00, 642.04it/s]\n",
      "train step for 1 epoch: 100%|██████████| 100/100 [00:00<00:00, 641.44it/s]\n",
      "train step for 1 epoch: 100%|██████████| 100/100 [00:00<00:00, 697.55it/s]\n",
      "train step for 1 epoch: 100%|██████████| 100/100 [00:00<00:00, 598.59it/s]\n",
      "train step for 1 epoch: 100%|██████████| 100/100 [00:00<00:00, 687.47it/s]\n",
      "train step for 1 epoch:   0%|          | 0/100 [00:00<?, ?it/s]"
     ]
    },
    {
     "name": "stdout",
     "output_type": "stream",
     "text": [
      "epoch  49: loss 4.981e-04\n",
      "training tasks ...\n"
     ]
    },
    {
     "name": "stderr",
     "output_type": "stream",
     "text": [
      "train step for 1 epoch: 100%|██████████| 100/100 [00:00<00:00, 603.95it/s]\n",
      "train step for 1 epoch: 100%|██████████| 100/100 [00:00<00:00, 557.45it/s]\n",
      "train step for 1 epoch: 100%|██████████| 100/100 [00:00<00:00, 498.19it/s]\n",
      "train step for 1 epoch: 100%|██████████| 100/100 [00:00<00:00, 660.56it/s]\n",
      "train step for 1 epoch: 100%|██████████| 100/100 [00:00<00:00, 602.49it/s]\n",
      "train step for 1 epoch:   0%|          | 0/100 [00:00<?, ?it/s]"
     ]
    },
    {
     "name": "stdout",
     "output_type": "stream",
     "text": [
      "epoch   4: loss 3.454e-01\n"
     ]
    },
    {
     "name": "stderr",
     "output_type": "stream",
     "text": [
      "train step for 1 epoch: 100%|██████████| 100/100 [00:00<00:00, 494.47it/s]\n",
      "train step for 1 epoch: 100%|██████████| 100/100 [00:00<00:00, 464.45it/s]\n",
      "train step for 1 epoch: 100%|██████████| 100/100 [00:00<00:00, 649.38it/s]\n",
      "train step for 1 epoch: 100%|██████████| 100/100 [00:00<00:00, 533.82it/s]\n",
      "train step for 1 epoch: 100%|██████████| 100/100 [00:00<00:00, 643.38it/s]\n",
      "train step for 1 epoch:   0%|          | 0/100 [00:00<?, ?it/s]"
     ]
    },
    {
     "name": "stdout",
     "output_type": "stream",
     "text": [
      "epoch   9: loss 3.015e-01\n"
     ]
    },
    {
     "name": "stderr",
     "output_type": "stream",
     "text": [
      "train step for 1 epoch: 100%|██████████| 100/100 [00:00<00:00, 677.91it/s]\n",
      "train step for 1 epoch: 100%|██████████| 100/100 [00:00<00:00, 684.54it/s]\n",
      "train step for 1 epoch: 100%|██████████| 100/100 [00:00<00:00, 566.96it/s]\n",
      "train step for 1 epoch: 100%|██████████| 100/100 [00:00<00:00, 425.49it/s]\n",
      "train step for 1 epoch: 100%|██████████| 100/100 [00:00<00:00, 641.12it/s]\n",
      "train step for 1 epoch:   0%|          | 0/100 [00:00<?, ?it/s]"
     ]
    },
    {
     "name": "stdout",
     "output_type": "stream",
     "text": [
      "epoch  14: loss 2.888e-01\n"
     ]
    },
    {
     "name": "stderr",
     "output_type": "stream",
     "text": [
      "train step for 1 epoch: 100%|██████████| 100/100 [00:00<00:00, 631.55it/s]\n",
      "train step for 1 epoch: 100%|██████████| 100/100 [00:00<00:00, 538.30it/s]\n",
      "train step for 1 epoch: 100%|██████████| 100/100 [00:00<00:00, 659.17it/s]\n",
      "train step for 1 epoch: 100%|██████████| 100/100 [00:00<00:00, 640.00it/s]\n",
      "train step for 1 epoch: 100%|██████████| 100/100 [00:00<00:00, 522.22it/s]\n",
      "train step for 1 epoch:   0%|          | 0/100 [00:00<?, ?it/s]"
     ]
    },
    {
     "name": "stdout",
     "output_type": "stream",
     "text": [
      "epoch  19: loss 2.841e-01\n"
     ]
    },
    {
     "name": "stderr",
     "output_type": "stream",
     "text": [
      "train step for 1 epoch: 100%|██████████| 100/100 [00:00<00:00, 568.17it/s]\n",
      "train step for 1 epoch: 100%|██████████| 100/100 [00:00<00:00, 573.63it/s]\n",
      "train step for 1 epoch: 100%|██████████| 100/100 [00:00<00:00, 665.44it/s]\n",
      "train step for 1 epoch: 100%|██████████| 100/100 [00:00<00:00, 567.68it/s]\n",
      "train step for 1 epoch: 100%|██████████| 100/100 [00:00<00:00, 644.41it/s]\n",
      "train step for 1 epoch:   0%|          | 0/100 [00:00<?, ?it/s]"
     ]
    },
    {
     "name": "stdout",
     "output_type": "stream",
     "text": [
      "epoch  24: loss 2.821e-01\n"
     ]
    },
    {
     "name": "stderr",
     "output_type": "stream",
     "text": [
      "train step for 1 epoch: 100%|██████████| 100/100 [00:00<00:00, 563.40it/s]\n",
      "train step for 1 epoch: 100%|██████████| 100/100 [00:00<00:00, 646.85it/s]\n",
      "train step for 1 epoch: 100%|██████████| 100/100 [00:00<00:00, 584.10it/s]\n",
      "train step for 1 epoch: 100%|██████████| 100/100 [00:00<00:00, 629.97it/s]\n",
      "train step for 1 epoch: 100%|██████████| 100/100 [00:00<00:00, 576.02it/s]\n",
      "train step for 1 epoch:   0%|          | 0/100 [00:00<?, ?it/s]"
     ]
    },
    {
     "name": "stdout",
     "output_type": "stream",
     "text": [
      "epoch  29: loss 2.811e-01\n"
     ]
    },
    {
     "name": "stderr",
     "output_type": "stream",
     "text": [
      "train step for 1 epoch: 100%|██████████| 100/100 [00:00<00:00, 558.38it/s]\n",
      "train step for 1 epoch: 100%|██████████| 100/100 [00:00<00:00, 580.16it/s]\n",
      "train step for 1 epoch: 100%|██████████| 100/100 [00:00<00:00, 631.86it/s]\n",
      "train step for 1 epoch: 100%|██████████| 100/100 [00:00<00:00, 650.82it/s]\n",
      "train step for 1 epoch: 100%|██████████| 100/100 [00:00<00:00, 624.77it/s]\n",
      "train step for 1 epoch:   0%|          | 0/100 [00:00<?, ?it/s]"
     ]
    },
    {
     "name": "stdout",
     "output_type": "stream",
     "text": [
      "epoch  34: loss 2.804e-01\n"
     ]
    },
    {
     "name": "stderr",
     "output_type": "stream",
     "text": [
      "train step for 1 epoch: 100%|██████████| 100/100 [00:00<00:00, 582.47it/s]\n",
      "train step for 1 epoch: 100%|██████████| 100/100 [00:00<00:00, 642.17it/s]\n",
      "train step for 1 epoch: 100%|██████████| 100/100 [00:00<00:00, 637.52it/s]\n",
      "train step for 1 epoch: 100%|██████████| 100/100 [00:00<00:00, 648.95it/s]\n",
      "train step for 1 epoch: 100%|██████████| 100/100 [00:00<00:00, 633.44it/s]\n",
      "train step for 1 epoch:   0%|          | 0/100 [00:00<?, ?it/s]"
     ]
    },
    {
     "name": "stdout",
     "output_type": "stream",
     "text": [
      "epoch  39: loss 2.801e-01\n"
     ]
    },
    {
     "name": "stderr",
     "output_type": "stream",
     "text": [
      "train step for 1 epoch: 100%|██████████| 100/100 [00:00<00:00, 643.00it/s]\n",
      "train step for 1 epoch: 100%|██████████| 100/100 [00:00<00:00, 641.15it/s]\n",
      "train step for 1 epoch: 100%|██████████| 100/100 [00:00<00:00, 630.81it/s]\n",
      "train step for 1 epoch: 100%|██████████| 100/100 [00:00<00:00, 596.76it/s]\n",
      "train step for 1 epoch: 100%|██████████| 100/100 [00:00<00:00, 654.94it/s]\n",
      "train step for 1 epoch:   0%|          | 0/100 [00:00<?, ?it/s]"
     ]
    },
    {
     "name": "stdout",
     "output_type": "stream",
     "text": [
      "epoch  44: loss 2.798e-01\n"
     ]
    },
    {
     "name": "stderr",
     "output_type": "stream",
     "text": [
      "train step for 1 epoch: 100%|██████████| 100/100 [00:00<00:00, 604.74it/s]\n",
      "train step for 1 epoch: 100%|██████████| 100/100 [00:00<00:00, 664.09it/s]\n",
      "train step for 1 epoch: 100%|██████████| 100/100 [00:00<00:00, 661.88it/s]\n",
      "train step for 1 epoch: 100%|██████████| 100/100 [00:00<00:00, 614.09it/s]\n"
     ]
    },
    {
     "name": "stdout",
     "output_type": "stream",
     "text": [
      "epoch  49: loss 2.795e-01\n"
     ]
    },
    {
     "data": {
      "image/png": "[encoded data removed]",
      "text/plain": [
       "<Figure size 432x288 with 1 Axes>"
      ]
     },
     "metadata": {
      "needs_background": "light"
     },
     "output_type": "display_data"
    }
   ],
   "source": [
    "def ind_EBM(d, c, X, Y, Z, n_epochs=10, report_every=1, plot=True):\n",
    "    c = min(d, c)\n",
    "    print(f'number of concepts to learn: {c}')\n",
    "    print(f'true number of concepts: {d}')\n",
    "    \n",
    "    # EBM with concept and task independently trained\n",
    "    net_c = nn.Sequential(MLP([d, d * 2, c]), nn.Sigmoid())\n",
    "    net_y = MLP([c, d * 2, 2])\n",
    "    net = CBM(net_c, net_y)\n",
    "    \n",
    "    # train\n",
    "    print('training concepts ...')\n",
    "    opt_c = optim.Adam(net_c.parameters())\n",
    "    train(net_c, \n",
    "          DataLoader(TensorDataset(X, Z[:, :c]), batch_size=bs, shuffle=True), \n",
    "          opt_c, criterion=nn.BCELoss(), n_epochs=n_epochs, report_every=report_every)\n",
    "\n",
    "    print('training tasks ...')\n",
    "    opt_y = optim.Adam(net_y.parameters())\n",
    "    log = train(net_y, \n",
    "                DataLoader(TensorDataset(Z[:, :c], Y), batch_size=bs, shuffle=True), \n",
    "                opt_y, n_epochs=n_epochs, report_every=report_every)\n",
    "    if plot: plot_log(log)\n",
    "\n",
    "    return net\n",
    "\n",
    "ebm_ind = ind_EBM(d, c, X, Y, Z, n_epochs=n_epochs, report_every=n_epochs//10)"
   ]
  },
  {
   "cell_type": "code",
   "execution_count": 9,
   "id": "30e50f36",
   "metadata": {
    "tags": []
   },
   "outputs": [
    {
     "name": "stderr",
     "output_type": "stream",
     "text": [
      "test eval: 100%|██████████| 100/100 [00:00<00:00, 883.15it/s]\n"
     ]
    },
    {
     "name": "stdout",
     "output_type": "stream",
     "text": [
      "task acc after training: 87.85%\n",
      "concept 0 acc after training: 100.0%\n"
     ]
    }
   ],
   "source": [
    "print('task acc after training: {:.2f}%'.format(test(ebm_ind, loader_xy_te, acc_criterion ) * 100)) # the optimum is 1/16 + 3/4; the strategy is to randomize if the first concept is 1, otherwise output 0\n",
    "print_concept_acc(ebm_ind.net_c[0], c, X_te, Z_te) # net_c[0] because it is the logit part"
   ]
  },
  {
   "cell_type": "code",
   "execution_count": 10,
   "id": "7e5cf071",
   "metadata": {},
   "outputs": [
    {
     "name": "stdout",
     "output_type": "stream",
     "text": [
      "task acc 95% CI (87.29, 88.55)%\n"
     ]
    }
   ],
   "source": [
    "o = get_output(ebm_ind, \n",
    "               DataLoader(TensorDataset(X_te), batch_size=bs, shuffle=False)).argmax(1)\n",
    "ci_l, ci_h = bootstrap(lambda o, y: (o==y).mean(), o, Y_te.numpy())\n",
    "print(f'task acc 95% CI ({ci_l*100:.2f}, {ci_h*100:.2f})%')"
   ]
  },
  {
   "cell_type": "markdown",
   "id": "8f9f93c9",
   "metadata": {},
   "source": [
    "## Concept completeness\n",
    "\n",
    "Since concept can overload in joint EBM, concept completeness measure would only help if we can understand what concept it is using, which defeats the purpose of using high level feature."
   ]
  },
  {
   "cell_type": "code",
   "execution_count": 11,
   "id": "f7d64c16",
   "metadata": {
    "tags": []
   },
   "outputs": [
    {
     "data": {
      "text/html": [
       "<div>\n",
       "<style scoped>\n",
       "    .dataframe tbody tr th:only-of-type {\n",
       "        vertical-align: middle;\n",
       "    }\n",
       "\n",
       "    .dataframe tbody tr th {\n",
       "        vertical-align: top;\n",
       "    }\n",
       "\n",
       "    .dataframe thead th {\n",
       "        text-align: right;\n",
       "    }\n",
       "</style>\n",
       "<table border=\"1\" class=\"dataframe\">\n",
       "  <thead>\n",
       "    <tr style=\"text-align: right;\">\n",
       "      <th></th>\n",
       "      <th>X0</th>\n",
       "      <th>X1</th>\n",
       "      <th>X2</th>\n",
       "    </tr>\n",
       "  </thead>\n",
       "  <tbody>\n",
       "    <tr>\n",
       "      <th>0</th>\n",
       "      <td>0.0</td>\n",
       "      <td>0.0</td>\n",
       "      <td>0.0</td>\n",
       "    </tr>\n",
       "    <tr>\n",
       "      <th>1</th>\n",
       "      <td>0.0</td>\n",
       "      <td>0.0</td>\n",
       "      <td>1.0</td>\n",
       "    </tr>\n",
       "    <tr>\n",
       "      <th>2</th>\n",
       "      <td>0.0</td>\n",
       "      <td>1.0</td>\n",
       "      <td>0.0</td>\n",
       "    </tr>\n",
       "    <tr>\n",
       "      <th>3</th>\n",
       "      <td>0.0</td>\n",
       "      <td>1.0</td>\n",
       "      <td>1.0</td>\n",
       "    </tr>\n",
       "    <tr>\n",
       "      <th>4</th>\n",
       "      <td>1.0</td>\n",
       "      <td>0.0</td>\n",
       "      <td>0.0</td>\n",
       "    </tr>\n",
       "    <tr>\n",
       "      <th>5</th>\n",
       "      <td>1.0</td>\n",
       "      <td>0.0</td>\n",
       "      <td>1.0</td>\n",
       "    </tr>\n",
       "    <tr>\n",
       "      <th>6</th>\n",
       "      <td>1.0</td>\n",
       "      <td>1.0</td>\n",
       "      <td>0.0</td>\n",
       "    </tr>\n",
       "    <tr>\n",
       "      <th>7</th>\n",
       "      <td>1.0</td>\n",
       "      <td>1.0</td>\n",
       "      <td>1.0</td>\n",
       "    </tr>\n",
       "  </tbody>\n",
       "</table>\n",
       "</div>"
      ],
      "text/plain": [
       "    X0   X1   X2\n",
       "0  0.0  0.0  0.0\n",
       "1  0.0  0.0  1.0\n",
       "2  0.0  1.0  0.0\n",
       "3  0.0  1.0  1.0\n",
       "4  1.0  0.0  0.0\n",
       "5  1.0  0.0  1.0\n",
       "6  1.0  1.0  0.0\n",
       "7  1.0  1.0  1.0"
      ]
     },
     "execution_count": 11,
     "metadata": {},
     "output_type": "execute_result"
    }
   ],
   "source": [
    "# generate all possible input\n",
    "explain_X = []\n",
    "for i in range(2**d):\n",
    "    item = np.zeros(d)\n",
    "    idx = 0\n",
    "    while i != 0:\n",
    "        idx += 1\n",
    "        item[-idx] = i % 2\n",
    "        i = i // 2\n",
    "    explain_X.append(item)\n",
    "explain_X = torch.from_numpy(np.array(explain_X)).float()\n",
    "shap_x = pd.DataFrame(explain_X.numpy(), columns=[f'X{i}' for i in range(d)])\n",
    "shap_x"
   ]
  },
  {
   "cell_type": "code",
   "execution_count": 12,
   "id": "00a046f2",
   "metadata": {},
   "outputs": [
    {
     "name": "stdout",
     "output_type": "stream",
     "text": [
      "    X0   X1   X2  logit Z0\n",
      "5  1.0  0.0  1.0     -0.10\n",
      "3  0.0  1.0  1.0     -0.07\n",
      "7  1.0  1.0  1.0     -0.07\n",
      "1  0.0  0.0  1.0     -0.04\n",
      "2  0.0  1.0  0.0      0.03\n",
      "4  1.0  0.0  0.0      0.06\n",
      "6  1.0  1.0  0.0      0.09\n",
      "0  0.0  0.0  0.0      0.13\n",
      "Explaining logit Z0\n"
     ]
    },
    {
     "data": {
      "application/vnd.jupyter.widget-view+json": {
       "model_id": "d53c3a105c1d4241a6cd373bc9a0e45d",
       "version_major": 2,
       "version_minor": 0
      },
      "text/plain": [
       "  0%|          | 0/8 [00:00<?, ?it/s]"
      ]
     },
     "metadata": {},
     "output_type": "display_data"
    },
    {
     "data": {
      "image/png": "[encoded data removed]",
      "text/plain": [
       "<Figure size 576x194.4 with 2 Axes>"
      ]
     },
     "metadata": {
      "needs_background": "light"
     },
     "output_type": "display_data"
    }
   ],
   "source": [
    "shap_net_x(ebm_joint.net_c, shap_x, bs, output_name=\"logit Z\")"
   ]
  },
  {
   "cell_type": "code",
   "execution_count": 13,
   "id": "adfe55c7",
   "metadata": {},
   "outputs": [
    {
     "name": "stdout",
     "output_type": "stream",
     "text": [
      "    X0   X1   X2  logit Z0\n",
      "3  0.0  1.0  1.0     -8.33\n",
      "2  0.0  1.0  0.0     -7.75\n",
      "1  0.0  0.0  1.0     -7.70\n",
      "0  0.0  0.0  0.0     -7.12\n",
      "4  1.0  0.0  0.0      7.01\n",
      "7  1.0  1.0  1.0      7.68\n",
      "5  1.0  0.0  1.0      8.12\n",
      "6  1.0  1.0  0.0      8.26\n",
      "Explaining logit Z0\n"
     ]
    },
    {
     "data": {
      "application/vnd.jupyter.widget-view+json": {
       "model_id": "b8be28779b0a450e97a3e8db1219d9fa",
       "version_major": 2,
       "version_minor": 0
      },
      "text/plain": [
       "  0%|          | 0/8 [00:00<?, ?it/s]"
      ]
     },
     "metadata": {},
     "output_type": "display_data"
    },
    {
     "data": {
      "image/png": "[encoded data removed]",
      "text/plain": [
       "<Figure size 576x194.4 with 2 Axes>"
      ]
     },
     "metadata": {
      "needs_background": "light"
     },
     "output_type": "display_data"
    }
   ],
   "source": [
    "shap_net_x(LambdaNet(lambda x: ebm_ind.net_c[0](x)), shap_x, bs, output_name=\"logit Z\")"
   ]
  },
  {
   "cell_type": "code",
   "execution_count": 14,
   "id": "47db1be2",
   "metadata": {},
   "outputs": [
    {
     "name": "stdout",
     "output_type": "stream",
     "text": [
      "    X0   X1   X2  output0\n",
      "0  0.0  0.0  0.0     0.00\n",
      "1  0.0  0.0  1.0     0.00\n",
      "2  0.0  1.0  0.0     0.00\n",
      "3  0.0  1.0  1.0     0.00\n",
      "4  1.0  0.0  0.0     0.24\n",
      "5  1.0  0.0  1.0     0.24\n",
      "6  1.0  1.0  0.0     0.24\n",
      "7  1.0  1.0  1.0     0.24\n",
      "Explaining output0\n"
     ]
    },
    {
     "data": {
      "application/vnd.jupyter.widget-view+json": {
       "model_id": "646d2791301648abac5061acb0abc948",
       "version_major": 2,
       "version_minor": 0
      },
      "text/plain": [
       "  0%|          | 0/8 [00:00<?, ?it/s]"
      ]
     },
     "metadata": {},
     "output_type": "display_data"
    },
    {
     "data": {
      "image/png": "[encoded data removed]",
      "text/plain": [
       "<Figure size 576x194.4 with 2 Axes>"
      ]
     },
     "metadata": {
      "needs_background": "light"
     },
     "output_type": "display_data"
    },
    {
     "name": "stdout",
     "output_type": "stream",
     "text": [
      "    X0   X1   X2  concept 00\n",
      "0  0.0  0.0  0.0        0.50\n",
      "1  0.0  0.0  1.0        0.50\n",
      "2  0.0  1.0  0.0        0.50\n",
      "3  0.0  1.0  1.0        0.50\n",
      "4  1.0  0.0  0.0        0.73\n",
      "5  1.0  0.0  1.0        0.73\n",
      "6  1.0  1.0  0.0        0.73\n",
      "7  1.0  1.0  1.0        0.73\n",
      "Explaining concept 00\n"
     ]
    },
    {
     "data": {
      "application/vnd.jupyter.widget-view+json": {
       "model_id": "efe92d13910140a480c3bf52502a2e4c",
       "version_major": 2,
       "version_minor": 0
      },
      "text/plain": [
       "  0%|          | 0/8 [00:00<?, ?it/s]"
      ]
     },
     "metadata": {},
     "output_type": "display_data"
    },
    {
     "data": {
      "image/png": "[encoded data removed]",
      "text/plain": [
       "<Figure size 576x194.4 with 2 Axes>"
      ]
     },
     "metadata": {
      "needs_background": "light"
     },
     "output_type": "display_data"
    }
   ],
   "source": [
    "shap_net_x(LambdaNet(lambda x: torch.softmax(ebm_ind(x), 1)[:, 1:]), shap_x, bs, output_name=\"output\")\n",
    "\n",
    "shap_net_x(LambdaNet(lambda x: torch.sigmoid(ebm_ind.net_c(x))), shap_x, bs, output_name=\"concept 0\")"
   ]
  },
  {
   "cell_type": "code",
   "execution_count": 15,
   "id": "8df35d42",
   "metadata": {
    "tags": []
   },
   "outputs": [
    {
     "name": "stdout",
     "output_type": "stream",
     "text": [
      "    X0   X1   X2  output0\n",
      "0  0.0  0.0  0.0     0.01\n",
      "6  1.0  1.0  0.0     0.02\n",
      "4  1.0  0.0  0.0     0.03\n",
      "2  0.0  1.0  0.0     0.05\n",
      "1  0.0  0.0  1.0     0.13\n",
      "7  1.0  1.0  1.0     0.21\n",
      "3  0.0  1.0  1.0     0.23\n",
      "5  1.0  0.0  1.0     0.31\n",
      "Explaining output0\n"
     ]
    },
    {
     "data": {
      "application/vnd.jupyter.widget-view+json": {
       "model_id": "a64c88bba94a4dca8de56e0a0b8a45b5",
       "version_major": 2,
       "version_minor": 0
      },
      "text/plain": [
       "  0%|          | 0/8 [00:00<?, ?it/s]"
      ]
     },
     "metadata": {},
     "output_type": "display_data"
    },
    {
     "data": {
      "image/png": "[encoded data removed]",
      "text/plain": [
       "<Figure size 576x194.4 with 2 Axes>"
      ]
     },
     "metadata": {
      "needs_background": "light"
     },
     "output_type": "display_data"
    },
    {
     "name": "stdout",
     "output_type": "stream",
     "text": [
      "    X0   X1   X2  concept 00\n",
      "3  0.0  1.0  1.0        0.48\n",
      "5  1.0  0.0  1.0        0.48\n",
      "7  1.0  1.0  1.0        0.48\n",
      "1  0.0  0.0  1.0        0.49\n",
      "2  0.0  1.0  0.0        0.51\n",
      "4  1.0  0.0  0.0        0.51\n",
      "6  1.0  1.0  0.0        0.52\n",
      "0  0.0  0.0  0.0        0.53\n",
      "Explaining concept 00\n"
     ]
    },
    {
     "data": {
      "application/vnd.jupyter.widget-view+json": {
       "model_id": "7e981705411c490faea4bc3f61bd2812",
       "version_major": 2,
       "version_minor": 0
      },
      "text/plain": [
       "  0%|          | 0/8 [00:00<?, ?it/s]"
      ]
     },
     "metadata": {},
     "output_type": "display_data"
    },
    {
     "data": {
      "image/png": "[encoded data removed]",
      "text/plain": [
       "<Figure size 576x194.4 with 2 Axes>"
      ]
     },
     "metadata": {
      "needs_background": "light"
     },
     "output_type": "display_data"
    }
   ],
   "source": [
    "shap_net_x(LambdaNet(lambda x: torch.softmax(ebm_joint(x), 1)[:, 1:]), shap_x, bs, output_name=\"output\")\n",
    "\n",
    "shap_net_x(LambdaNet(lambda x: torch.sigmoid(ebm_joint.net_c(x))), shap_x, bs, output_name=\"concept 0\")"
   ]
  },
  {
   "cell_type": "markdown",
   "id": "48222806",
   "metadata": {},
   "source": [
    "It's very hard to tell whether the concept detector is overloaded as it is clearly more dependent on the first concept.\n",
    "\n",
    "### TODO: run this example with Yeh et al's measure and its interpretable model\n",
    "\n",
    "In fact we can even analytically define the concept vector as $[1, -0.1, -0.1]$. This clearly would prefer concept 0 in order to activate. However, it still gives away information about both concept 1 and concept 2.\n"
   ]
  },
  {
   "cell_type": "markdown",
   "id": "09ce88bf",
   "metadata": {},
   "source": [
    "## TODO: EBM sequential\n",
    "\n",
    "EBM sequential don't need concept dataset and the classification task to overlap, which is way more flexible. The lesson is we should not jointly train interpretable models: this would transfer to CCM."
   ]
  },
  {
   "cell_type": "code",
   "execution_count": null,
   "id": "af9977c1",
   "metadata": {},
   "outputs": [],
   "source": []
  },
  {
   "cell_type": "markdown",
   "id": "fde7bde5",
   "metadata": {},
   "source": [
    "## CCM residue\n",
    "\n",
    "It would fail because we know the impact should be the same for $Z_0$ and $Z_1$ and $Z_2$, but we would have observed $Z_0$ have less impact."
   ]
  },
  {
   "cell_type": "code",
   "execution_count": 16,
   "id": "c232a756",
   "metadata": {},
   "outputs": [
    {
     "name": "stderr",
     "output_type": "stream",
     "text": [
      "train step for 1 epoch:  39%|███▉      | 39/100 [00:00<00:00, 384.61it/s]"
     ]
    },
    {
     "name": "stdout",
     "output_type": "stream",
     "text": [
      "number of concepts to learn: 1\n",
      "true number of concepts: 3\n"
     ]
    },
    {
     "name": "stderr",
     "output_type": "stream",
     "text": [
      "train step for 1 epoch: 100%|██████████| 100/100 [00:00<00:00, 462.01it/s]\n",
      "train step for 1 epoch: 100%|██████████| 100/100 [00:00<00:00, 546.73it/s]\n",
      "train step for 1 epoch: 100%|██████████| 100/100 [00:00<00:00, 567.38it/s]\n",
      "train step for 1 epoch: 100%|██████████| 100/100 [00:00<00:00, 400.21it/s]\n",
      "train step for 1 epoch: 100%|██████████| 100/100 [00:00<00:00, 556.10it/s]\n",
      "train step for 1 epoch: 100%|██████████| 100/100 [00:00<00:00, 551.73it/s]\n",
      "train step for 1 epoch:   0%|          | 0/100 [00:00<?, ?it/s]"
     ]
    },
    {
     "name": "stdout",
     "output_type": "stream",
     "text": [
      "epoch   4: loss 1.051e-01\n"
     ]
    },
    {
     "name": "stderr",
     "output_type": "stream",
     "text": [
      "train step for 1 epoch: 100%|██████████| 100/100 [00:00<00:00, 547.80it/s]\n",
      "train step for 1 epoch: 100%|██████████| 100/100 [00:00<00:00, 561.47it/s]\n",
      "train step for 1 epoch: 100%|██████████| 100/100 [00:00<00:00, 568.02it/s]\n",
      "train step for 1 epoch: 100%|██████████| 100/100 [00:00<00:00, 543.86it/s]\n",
      "train step for 1 epoch: 100%|██████████| 100/100 [00:00<00:00, 522.80it/s]\n",
      "train step for 1 epoch:   0%|          | 0/100 [00:00<?, ?it/s]"
     ]
    },
    {
     "name": "stdout",
     "output_type": "stream",
     "text": [
      "epoch   9: loss 3.986e-02\n"
     ]
    },
    {
     "name": "stderr",
     "output_type": "stream",
     "text": [
      "train step for 1 epoch: 100%|██████████| 100/100 [00:00<00:00, 554.84it/s]\n",
      "train step for 1 epoch: 100%|██████████| 100/100 [00:00<00:00, 528.65it/s]\n",
      "train step for 1 epoch: 100%|██████████| 100/100 [00:00<00:00, 579.64it/s]\n",
      "train step for 1 epoch: 100%|██████████| 100/100 [00:00<00:00, 531.44it/s]\n",
      "train step for 1 epoch: 100%|██████████| 100/100 [00:00<00:00, 504.91it/s]\n",
      "train step for 1 epoch:   0%|          | 0/100 [00:00<?, ?it/s]"
     ]
    },
    {
     "name": "stdout",
     "output_type": "stream",
     "text": [
      "epoch  14: loss 1.755e-02\n"
     ]
    },
    {
     "name": "stderr",
     "output_type": "stream",
     "text": [
      "train step for 1 epoch: 100%|██████████| 100/100 [00:00<00:00, 526.30it/s]\n",
      "train step for 1 epoch: 100%|██████████| 100/100 [00:00<00:00, 462.19it/s]\n",
      "train step for 1 epoch: 100%|██████████| 100/100 [00:00<00:00, 477.31it/s]\n",
      "train step for 1 epoch: 100%|██████████| 100/100 [00:00<00:00, 515.23it/s]\n",
      "train step for 1 epoch: 100%|██████████| 100/100 [00:00<00:00, 556.86it/s]\n",
      "train step for 1 epoch:   0%|          | 0/100 [00:00<?, ?it/s]"
     ]
    },
    {
     "name": "stdout",
     "output_type": "stream",
     "text": [
      "epoch  19: loss 9.282e-03\n"
     ]
    },
    {
     "name": "stderr",
     "output_type": "stream",
     "text": [
      "train step for 1 epoch: 100%|██████████| 100/100 [00:00<00:00, 458.71it/s]\n",
      "train step for 1 epoch: 100%|██████████| 100/100 [00:00<00:00, 524.10it/s]\n",
      "train step for 1 epoch: 100%|██████████| 100/100 [00:00<00:00, 530.40it/s]\n",
      "train step for 1 epoch: 100%|██████████| 100/100 [00:00<00:00, 461.34it/s]\n",
      "train step for 1 epoch: 100%|██████████| 100/100 [00:00<00:00, 566.12it/s]\n",
      "train step for 1 epoch:   0%|          | 0/100 [00:00<?, ?it/s]"
     ]
    },
    {
     "name": "stdout",
     "output_type": "stream",
     "text": [
      "epoch  24: loss 5.373e-03\n"
     ]
    },
    {
     "name": "stderr",
     "output_type": "stream",
     "text": [
      "train step for 1 epoch: 100%|██████████| 100/100 [00:00<00:00, 562.91it/s]\n",
      "train step for 1 epoch: 100%|██████████| 100/100 [00:00<00:00, 564.20it/s]\n",
      "train step for 1 epoch: 100%|██████████| 100/100 [00:00<00:00, 546.69it/s]\n",
      "train step for 1 epoch: 100%|██████████| 100/100 [00:00<00:00, 556.64it/s]\n",
      "train step for 1 epoch: 100%|██████████| 100/100 [00:00<00:00, 562.95it/s]\n",
      "train step for 1 epoch:   0%|          | 0/100 [00:00<?, ?it/s]"
     ]
    },
    {
     "name": "stdout",
     "output_type": "stream",
     "text": [
      "epoch  29: loss 3.297e-03\n"
     ]
    },
    {
     "name": "stderr",
     "output_type": "stream",
     "text": [
      "train step for 1 epoch: 100%|██████████| 100/100 [00:00<00:00, 521.20it/s]\n",
      "train step for 1 epoch: 100%|██████████| 100/100 [00:00<00:00, 545.74it/s]\n",
      "train step for 1 epoch: 100%|██████████| 100/100 [00:00<00:00, 503.49it/s]\n",
      "train step for 1 epoch: 100%|██████████| 100/100 [00:00<00:00, 568.12it/s]\n",
      "train step for 1 epoch: 100%|██████████| 100/100 [00:00<00:00, 559.26it/s]\n",
      "train step for 1 epoch:   0%|          | 0/100 [00:00<?, ?it/s]"
     ]
    },
    {
     "name": "stdout",
     "output_type": "stream",
     "text": [
      "epoch  34: loss 2.111e-03\n"
     ]
    },
    {
     "name": "stderr",
     "output_type": "stream",
     "text": [
      "train step for 1 epoch: 100%|██████████| 100/100 [00:00<00:00, 551.39it/s]\n",
      "train step for 1 epoch: 100%|██████████| 100/100 [00:00<00:00, 560.68it/s]\n",
      "train step for 1 epoch: 100%|██████████| 100/100 [00:00<00:00, 532.49it/s]\n",
      "train step for 1 epoch: 100%|██████████| 100/100 [00:00<00:00, 418.79it/s]\n",
      "train step for 1 epoch: 100%|██████████| 100/100 [00:00<00:00, 526.88it/s]\n",
      "train step for 1 epoch:   0%|          | 0/100 [00:00<?, ?it/s]"
     ]
    },
    {
     "name": "stdout",
     "output_type": "stream",
     "text": [
      "epoch  39: loss 1.397e-03\n"
     ]
    },
    {
     "name": "stderr",
     "output_type": "stream",
     "text": [
      "train step for 1 epoch: 100%|██████████| 100/100 [00:00<00:00, 538.07it/s]\n",
      "train step for 1 epoch: 100%|██████████| 100/100 [00:00<00:00, 544.60it/s]\n",
      "train step for 1 epoch: 100%|██████████| 100/100 [00:00<00:00, 447.90it/s]\n",
      "train step for 1 epoch: 100%|██████████| 100/100 [00:00<00:00, 513.59it/s]\n",
      "train step for 1 epoch: 100%|██████████| 100/100 [00:00<00:00, 524.85it/s]\n",
      "train step for 1 epoch:   0%|          | 0/100 [00:00<?, ?it/s]"
     ]
    },
    {
     "name": "stdout",
     "output_type": "stream",
     "text": [
      "epoch  44: loss 9.510e-04\n"
     ]
    },
    {
     "name": "stderr",
     "output_type": "stream",
     "text": [
      "train step for 1 epoch: 100%|██████████| 100/100 [00:00<00:00, 551.30it/s]\n",
      "train step for 1 epoch: 100%|██████████| 100/100 [00:00<00:00, 525.07it/s]\n",
      "train step for 1 epoch: 100%|██████████| 100/100 [00:00<00:00, 495.96it/s]\n",
      "train step for 1 epoch: 100%|██████████| 100/100 [00:00<00:00, 494.44it/s]\n"
     ]
    },
    {
     "name": "stdout",
     "output_type": "stream",
     "text": [
      "epoch  49: loss 6.632e-04\n"
     ]
    },
    {
     "data": {
      "image/png": "[encoded data removed]",
      "text/plain": [
       "<Figure size 432x288 with 1 Axes>"
      ]
     },
     "metadata": {
      "needs_background": "light"
     },
     "output_type": "display_data"
    }
   ],
   "source": [
    "def res_CCM(ebm, d, c, X, Y, n_epochs=10, report_every=1, bs=100, plot=True):\n",
    "    '''\n",
    "    residue CCM: net_y adds ebm(x) and cbm_res(x)\n",
    "    where cbm_res is cbm with not interpretable concepts\n",
    "    '''\n",
    "    c = min(d, c)\n",
    "    print(f'number of concepts to learn: {c}')\n",
    "    print(f'true number of concepts: {d}')\n",
    "\n",
    "    # freeze ebm (don't require grad) so that it does not train\n",
    "    ebm.eval()\n",
    "    dfs_freeze(ebm)\n",
    "\n",
    "    # additional channel to fit residue\n",
    "    # classification problem: pure residue does not work b/c y is not continous (cannot test acc)\n",
    "    # we need to fit to the logit\n",
    "    cbm_res = CBM(LambdaNet(lambda x: x), MLP([d, d * 2, 2]))\n",
    "    net_y = LambdaNet(lambda c: ebm.net_y(c[0]) + cbm_res.net_y(c[1])) # c[0] is known c, c[1] is u\n",
    "    net = CCM(ebm.net_c, cbm_res.net_c, net_y)\n",
    "\n",
    "    # train\n",
    "    opt = optim.Adam(cbm_res.parameters())\n",
    "    log = train(net, \n",
    "                DataLoader(TensorDataset(X, Y), batch_size=bs), \n",
    "                opt, n_epochs=n_epochs, report_every=report_every)\n",
    "    if plot: plot_log(log)\n",
    "    return net\n",
    "    \n",
    "ccm_res = res_CCM(copy.deepcopy(ebm_ind), d, c, X, Y, n_epochs=n_epochs, report_every=n_epochs//10)"
   ]
  },
  {
   "cell_type": "code",
   "execution_count": 17,
   "id": "f2fa8f83",
   "metadata": {},
   "outputs": [
    {
     "name": "stderr",
     "output_type": "stream",
     "text": [
      "test eval: 100%|██████████| 100/100 [00:00<00:00, 848.69it/s]"
     ]
    },
    {
     "name": "stdout",
     "output_type": "stream",
     "text": [
      "task acc after training: 100.00%\n"
     ]
    },
    {
     "name": "stderr",
     "output_type": "stream",
     "text": [
      "\n"
     ]
    }
   ],
   "source": [
    "print('task acc after training: {:.2f}%'.format(test(ccm_res, loader_xy_te, acc_criterion ) * 100))"
   ]
  },
  {
   "cell_type": "code",
   "execution_count": 18,
   "id": "874ab32e",
   "metadata": {},
   "outputs": [
    {
     "name": "stdout",
     "output_type": "stream",
     "text": [
      "    X0   X1   X2  hat Y0  hat Y1\n",
      "7  1.0  1.0  1.0     0.0     1.0\n",
      "0  0.0  0.0  0.0     1.0     0.0\n",
      "1  0.0  0.0  1.0     1.0     0.0\n",
      "2  0.0  1.0  0.0     1.0     0.0\n",
      "3  0.0  1.0  1.0     1.0     0.0\n",
      "4  1.0  0.0  0.0     1.0     0.0\n",
      "5  1.0  0.0  1.0     1.0     0.0\n",
      "6  1.0  1.0  0.0     1.0     0.0\n",
      "Explaining hat Y1\n"
     ]
    },
    {
     "data": {
      "application/vnd.jupyter.widget-view+json": {
       "model_id": "9a9d77ddb6d8426882d3e993d31efd3d",
       "version_major": 2,
       "version_minor": 0
      },
      "text/plain": [
       "  0%|          | 0/8 [00:00<?, ?it/s]"
      ]
     },
     "metadata": {},
     "output_type": "display_data"
    },
    {
     "data": {
      "image/png": "[encoded data removed]",
      "text/plain": [
       "<Figure size 576x194.4 with 2 Axes>"
      ]
     },
     "metadata": {
      "needs_background": "light"
     },
     "output_type": "display_data"
    }
   ],
   "source": [
    "shap_net_x(nn.Sequential(ccm_res, nn.Softmax(dim=1)), shap_x, bs, output_name=\"hat Y\", output_idx=1)"
   ]
  },
  {
   "cell_type": "markdown",
   "id": "bb02195b",
   "metadata": {},
   "source": [
    "They seem very symmetrical in the input space. However, if we focus on concept attribution:"
   ]
  },
  {
   "cell_type": "code",
   "execution_count": 19,
   "id": "1f0dc90c",
   "metadata": {},
   "outputs": [
    {
     "name": "stdout",
     "output_type": "stream",
     "text": [
      "    Z0   X0   X1   X2  hat Y0  hat Y1\n",
      "7  1.0  1.0  1.0  1.0     0.0     1.0\n",
      "0  0.0  0.0  0.0  0.0     1.0     0.0\n",
      "1  0.0  0.0  0.0  1.0     1.0     0.0\n",
      "2  0.0  0.0  1.0  0.0     1.0     0.0\n",
      "3  0.0  0.0  1.0  1.0     1.0     0.0\n",
      "4  1.0  1.0  0.0  0.0     1.0     0.0\n",
      "5  1.0  1.0  0.0  1.0     1.0     0.0\n",
      "6  1.0  1.0  1.0  0.0     1.0     0.0\n",
      "Explaining hat Y1\n"
     ]
    },
    {
     "data": {
      "application/vnd.jupyter.widget-view+json": {
       "model_id": "fc7292285efe4927ab59653c615e972f",
       "version_major": 2,
       "version_minor": 0
      },
      "text/plain": [
       "  0%|          | 0/8 [00:00<?, ?it/s]"
      ]
     },
     "metadata": {},
     "output_type": "display_data"
    },
    {
     "data": {
      "image/png": "[encoded data removed]",
      "text/plain": [
       "<Figure size 576x223.2 with 2 Axes>"
      ]
     },
     "metadata": {
      "needs_background": "light"
     },
     "output_type": "display_data"
    }
   ],
   "source": [
    "shap_ccm_c(ccm_res, shap_x, bs, u_name='X', output_idx=1) # not_c_name is input b/c I used identity for ccm.not_c"
   ]
  },
  {
   "cell_type": "markdown",
   "id": "749f1125",
   "metadata": {},
   "source": [
    "**Z's influence is divided by X: the model recompute concepts from scratch**"
   ]
  },
  {
   "cell_type": "code",
   "execution_count": 20,
   "id": "f962e885",
   "metadata": {},
   "outputs": [
    {
     "name": "stdout",
     "output_type": "stream",
     "text": [
      "number of concepts to learn: 1\n",
      "true number of concepts: 3\n",
      "   logit Z0   X0   X1   X2  hat Y0  hat Y1\n",
      "5     -0.10  1.0  0.0  1.0    0.77    0.23\n",
      "3     -0.07  0.0  1.0  1.0    0.83    0.17\n",
      "7     -0.07  1.0  1.0  1.0    0.85    0.15\n",
      "1     -0.04  0.0  0.0  1.0    0.91    0.09\n",
      "2      0.03  0.0  1.0  0.0    0.97    0.03\n",
      "4      0.06  1.0  0.0  0.0    0.98    0.02\n",
      "0      0.13  0.0  0.0  0.0    0.99    0.01\n",
      "6      0.09  1.0  1.0  0.0    0.99    0.01\n",
      "Explaining hat Y1\n"
     ]
    },
    {
     "data": {
      "application/vnd.jupyter.widget-view+json": {
       "model_id": "a45ad4c576154b88bde361edff5e2859",
       "version_major": 2,
       "version_minor": 0
      },
      "text/plain": [
       "  0%|          | 0/8 [00:00<?, ?it/s]"
      ]
     },
     "metadata": {},
     "output_type": "display_data"
    },
    {
     "data": {
      "image/png": "[encoded data removed]",
      "text/plain": [
       "<Figure size 576x223.2 with 2 Axes>"
      ]
     },
     "metadata": {
      "needs_background": "light"
     },
     "output_type": "display_data"
    }
   ],
   "source": [
    "ccm_res_joint = res_CCM(copy.deepcopy(ebm_joint), d, c, X, Y, n_epochs=0, report_every=1, plot=False) #n_epochs//10)\n",
    "shap_ccm_c(ccm_res_joint, shap_x, bs, u_name='X', output_idx=1, c_name='logit Z')"
   ]
  },
  {
   "cell_type": "markdown",
   "id": "5de19f7b",
   "metadata": {},
   "source": [
    "The above graph sanity checks that joint EBM based residue CCM does not use raw input"
   ]
  },
  {
   "cell_type": "markdown",
   "id": "49c8d68a",
   "metadata": {},
   "source": [
    "## TODO: CCM EYE"
   ]
  },
  {
   "cell_type": "code",
   "execution_count": null,
   "id": "e1d270de",
   "metadata": {},
   "outputs": [],
   "source": []
  }
 ],
 "metadata": {
  "kernelspec": {
   "display_name": "Python 3",
   "language": "python",
   "name": "python3"
  },
  "language_info": {
   "codemirror_mode": {
    "name": "ipython",
    "version": 3
   },
   "file_extension": ".py",
   "mimetype": "text/x-python",
   "name": "python",
   "nbconvert_exporter": "python",
   "pygments_lexer": "ipython3",
   "version": "3.7.9"
  }
 },
 "nbformat": 4,
 "nbformat_minor": 5
}
