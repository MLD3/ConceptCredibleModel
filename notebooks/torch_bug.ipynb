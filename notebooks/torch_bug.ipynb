{
 "cells": [
  {
   "cell_type": "markdown",
   "id": "d380cf29-37c9-458c-bc3a-8d28795ea53f",
   "metadata": {},
   "source": [
    "# simplest example to expose torch bug"
   ]
  },
  {
   "cell_type": "code",
   "execution_count": 1,
   "id": "cb88d8e2-020e-4baf-8732-e74b8457b5a1",
   "metadata": {},
   "outputs": [
    {
     "data": {
      "text/plain": [
       "'1.9.0+cu102'"
      ]
     },
     "execution_count": 1,
     "metadata": {},
     "output_type": "execute_result"
    }
   ],
   "source": [
    "import torch\n",
    "from torch import nn\n",
    "from torch.utils.data import TensorDataset, DataLoader\n",
    "from torch.optim import Adam, SGD\n",
    "import tqdm\n",
    "import copy\n",
    "torch.__version__"
   ]
  },
  {
   "cell_type": "code",
   "execution_count": 2,
   "id": "839684d3-c549-4bf9-b94d-021abc662f7f",
   "metadata": {},
   "outputs": [
    {
     "name": "stderr",
     "output_type": "stream",
     "text": [
      "  0%|                                                                                                                                                          | 0/3 [00:00<?, ?it/s]/home/jiaxuan/.local/share/virtualenvs/CredibleConceptModel-f6EBRjEz/lib/python3.7/site-packages/torch/nn/modules/loss.py:528: UserWarning: Using a target size (torch.Size([30])) that is different to the input size (torch.Size([30, 1])). This will likely lead to incorrect results due to broadcasting. Please ensure they have the same size.\n",
      "  return F.mse_loss(input, target, reduction=self.reduction)\n",
      "100%|██████████████████████████████████████████████████████████████████████████████████████████████████████████████████████████████████████████████████| 3/3 [00:00<00:00, 39.83it/s]"
     ]
    },
    {
     "name": "stdout",
     "output_type": "stream",
     "text": [
      "[Parameter containing:\n",
      "tensor([[ 0.3954, -0.5826]], requires_grad=True), Parameter containing:\n",
      "tensor([-0.4809], requires_grad=True)]\n",
      "[True, True]\n",
      "[tensor([[ 0.6346, -0.9830]]), tensor([-1.4661])]\n"
     ]
    },
    {
     "name": "stderr",
     "output_type": "stream",
     "text": [
      "\n"
     ]
    }
   ],
   "source": [
    "# random data\n",
    "n, d = 30, 2\n",
    "X = torch.randn(n, d)\n",
    "Y = torch.randn(n)\n",
    "loader = DataLoader(TensorDataset(X, Y), batch_size=n, shuffle=True)\n",
    "\n",
    "# simple training code\n",
    "def train(net, loader, epoch=3):\n",
    "    \n",
    "    net.train()\n",
    "    opt = Adam(net.parameters(), weight_decay=1e-4) # seems like wd is needed to reproduce the error\n",
    "    criterion = nn.MSELoss()\n",
    "    for _ in tqdm.trange(epoch):\n",
    "        for x, y in loader:\n",
    "            opt.zero_grad()\n",
    "            o = net(x)\n",
    "            l = criterion(o, y).mean()\n",
    "            l.backward()\n",
    "            opt.step()\n",
    "\n",
    "net_orig = nn.Linear(d, 1)\n",
    "train(net_orig, loader)\n",
    "print([p for p in net_orig.parameters()])\n",
    "print([p.requires_grad for p in net_orig.parameters()])\n",
    "print([p.grad for p in net_orig.parameters()])\n",
    "\n",
    "net = copy.deepcopy(net_orig) # for experiment"
   ]
  },
  {
   "cell_type": "code",
   "execution_count": 3,
   "id": "1167b0fb-b068-4fe4-ba7a-cd952007762a",
   "metadata": {},
   "outputs": [
    {
     "name": "stderr",
     "output_type": "stream",
     "text": [
      "100%|█████████████████████████████████████████████████████████████████████████████████████████████████████████████████████████████████████████████████| 3/3 [00:00<00:00, 539.67it/s]"
     ]
    },
    {
     "name": "stdout",
     "output_type": "stream",
     "text": [
      "[Parameter containing:\n",
      "tensor([[ 0.3924, -0.5796]], requires_grad=True), Parameter containing:\n",
      "tensor([-0.4779], requires_grad=True)]\n",
      "[True, True]\n",
      "[tensor([[ 0.4468, -0.7045]]), tensor([-2.3036])]\n"
     ]
    },
    {
     "name": "stderr",
     "output_type": "stream",
     "text": [
      "\n"
     ]
    }
   ],
   "source": [
    "class Sequential_no_grad(nn.Module):\n",
    "    def __init__(self, net1, net2):\n",
    "        super().__init__()\n",
    "        self.net1 = net1\n",
    "        self.net2 = net2\n",
    "    \n",
    "    def forward(self, x):\n",
    "        with torch.no_grad():\n",
    "            self.net1.eval()\n",
    "            o = self.net1(x)\n",
    "        return self.net2(o)\n",
    "    \n",
    "def train_on_top(net, no_grad=False):\n",
    "    if no_grad:\n",
    "        net2 = Sequential_no_grad(net, nn.Linear(1, 1))\n",
    "    else:\n",
    "        net2 = nn.Sequential(net, nn.Linear(1, 1))\n",
    "    train(net2, loader)\n",
    "    print([p for p in net.parameters()])\n",
    "    print([p.requires_grad for p in net.parameters()])\n",
    "    print([p.grad for p in net.parameters()])\n",
    "    \n",
    "train_on_top(net)"
   ]
  },
  {
   "cell_type": "code",
   "execution_count": 4,
   "id": "22fb8312-83db-4b93-8e8e-3023b255c8e8",
   "metadata": {},
   "outputs": [
    {
     "name": "stderr",
     "output_type": "stream",
     "text": [
      "100%|█████████████████████████████████████████████████████████████████████████████████████████████████████████████████████████████████████████████████| 3/3 [00:00<00:00, 537.73it/s]"
     ]
    },
    {
     "name": "stdout",
     "output_type": "stream",
     "text": [
      "[Parameter containing:\n",
      "tensor([[ 0.3894, -0.5766]]), Parameter containing:\n",
      "tensor([-0.4749])]\n",
      "[False, False]\n",
      "[tensor([[0., 0.]]), tensor([0.])]\n"
     ]
    },
    {
     "name": "stderr",
     "output_type": "stream",
     "text": [
      "\n"
     ]
    }
   ],
   "source": [
    "for p in net.parameters():\n",
    "    p.requires_grad = False\n",
    "    # p.grad=None # with this also work\n",
    "\n",
    "train_on_top(net, no_grad=True)"
   ]
  },
  {
   "cell_type": "markdown",
   "id": "1be21452-61a4-4992-ae57-b2ad38f73c30",
   "metadata": {},
   "source": [
    "Note that the above cell is supposed to be equal to the cell before, but that is not the case!!! this is a bug on pytorch end!"
   ]
  },
  {
   "cell_type": "code",
   "execution_count": 5,
   "id": "67ee3e80-7685-4093-9326-d4c2d54cc147",
   "metadata": {},
   "outputs": [
    {
     "name": "stderr",
     "output_type": "stream",
     "text": [
      "100%|█████████████████████████████████████████████████████████████████████████████████████████████████████████████████████████████████████████████████| 3/3 [00:00<00:00, 519.03it/s]"
     ]
    },
    {
     "name": "stdout",
     "output_type": "stream",
     "text": [
      "[Parameter containing:\n",
      "tensor([[ 0.3894, -0.5766]]), Parameter containing:\n",
      "tensor([-0.4749])]\n",
      "[False, False]\n",
      "[None, None]\n"
     ]
    },
    {
     "name": "stderr",
     "output_type": "stream",
     "text": [
      "\n"
     ]
    }
   ],
   "source": [
    "for p in net.parameters():\n",
    "    p.grad=None\n",
    "\n",
    "train_on_top(net, no_grad=True)"
   ]
  },
  {
   "cell_type": "markdown",
   "id": "566856b6-e463-49ef-b4ed-e5a7801721d8",
   "metadata": {},
   "source": [
    "turn grad to None also works"
   ]
  },
  {
   "cell_type": "code",
   "execution_count": 6,
   "id": "354c6585-2f94-42db-87bd-3f64bfd6e724",
   "metadata": {},
   "outputs": [
    {
     "name": "stderr",
     "output_type": "stream",
     "text": [
      "100%|█████████████████████████████████████████████████████████████████████████████████████████████████████████████████████████████████████████████████| 3/3 [00:00<00:00, 669.59it/s]"
     ]
    },
    {
     "name": "stdout",
     "output_type": "stream",
     "text": [
      "[Parameter containing:\n",
      "tensor([[ 0.3954, -0.5826]]), Parameter containing:\n",
      "tensor([-0.4809])]\n",
      "[False, False]\n",
      "[None, None]\n"
     ]
    },
    {
     "name": "stderr",
     "output_type": "stream",
     "text": [
      "\n"
     ]
    }
   ],
   "source": [
    "net_copy = copy.deepcopy(net_orig)\n",
    "for p in net_copy.parameters():\n",
    "    p.requires_grad = False\n",
    "\n",
    "train_on_top(net_copy)"
   ]
  },
  {
   "cell_type": "markdown",
   "id": "879fbce5-e3a1-4aa1-b8ff-25e562299b43",
   "metadata": {},
   "source": [
    "Apparrently copying the network works!"
   ]
  },
  {
   "cell_type": "code",
   "execution_count": 7,
   "id": "1d701442-1f87-4fca-8add-fd1f3fef11f0",
   "metadata": {},
   "outputs": [
    {
     "name": "stderr",
     "output_type": "stream",
     "text": [
      "100%|█████████████████████████████████████████████████████████████████████████████████████████████████████████████████████████████████████████████████| 3/3 [00:00<00:00, 741.26it/s]"
     ]
    },
    {
     "name": "stdout",
     "output_type": "stream",
     "text": [
      "[Parameter containing:\n",
      "tensor([[ 0.3954, -0.5826]]), Parameter containing:\n",
      "tensor([-0.4809])]\n",
      "[False, False]\n",
      "[None, None]\n"
     ]
    },
    {
     "name": "stderr",
     "output_type": "stream",
     "text": [
      "\n"
     ]
    }
   ],
   "source": [
    "torch.save(net_orig, 'debug.pt')\n",
    "net_copy = torch.load('debug.pt')\n",
    "for p in net_copy.parameters():\n",
    "    p.requires_grad = False\n",
    "\n",
    "train_on_top(net_copy)"
   ]
  },
  {
   "cell_type": "markdown",
   "id": "bfa5da08-936f-4d59-a4d4-43d9cb2a1550",
   "metadata": {},
   "source": [
    "save and load also doesn't get affected!"
   ]
  },
  {
   "cell_type": "code",
   "execution_count": 8,
   "id": "6397fa45-1f09-4496-b1b6-a938e133654c",
   "metadata": {},
   "outputs": [
    {
     "name": "stderr",
     "output_type": "stream",
     "text": [
      "100%|█████████████████████████████████████████████████████████████████████████████████████████████████████████████████████████████████████████████████| 3/3 [00:00<00:00, 591.08it/s]"
     ]
    },
    {
     "name": "stdout",
     "output_type": "stream",
     "text": [
      "[Parameter containing:\n",
      "tensor([[ 0.3954, -0.5826]], requires_grad=True), Parameter containing:\n",
      "tensor([-0.4809], requires_grad=True)]\n",
      "[True, True]\n",
      "[None, None]\n"
     ]
    },
    {
     "name": "stderr",
     "output_type": "stream",
     "text": [
      "\n"
     ]
    }
   ],
   "source": [
    "net_copy = copy.deepcopy(net_orig)\n",
    "train_on_top(net_copy, no_grad=True)"
   ]
  },
  {
   "cell_type": "markdown",
   "id": "2bc28d90-d9c6-4965-b81f-c74f4aca95b1",
   "metadata": {},
   "source": [
    "no grad with copy also works!"
   ]
  },
  {
   "cell_type": "code",
   "execution_count": null,
   "id": "ffaa98cb-7761-4ff1-89c5-dc8ef1ba7c17",
   "metadata": {},
   "outputs": [],
   "source": []
  }
 ],
 "metadata": {
  "kernelspec": {
   "display_name": "Python 3 (ipykernel)",
   "language": "python",
   "name": "python3"
  },
  "language_info": {
   "codemirror_mode": {
    "name": "ipython",
    "version": 3
   },
   "file_extension": ".py",
   "mimetype": "text/x-python",
   "name": "python",
   "nbconvert_exporter": "python",
   "pygments_lexer": "ipython3",
   "version": "3.7.9"
  }
 },
 "nbformat": 4,
 "nbformat_minor": 5
}
