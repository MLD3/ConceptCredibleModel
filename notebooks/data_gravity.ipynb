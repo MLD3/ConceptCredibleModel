{
 "cells": [
  {
   "cell_type": "code",
   "execution_count": 1,
   "id": "73ca3e70-9b29-443a-867f-46c7e593f555",
   "metadata": {},
   "outputs": [],
   "source": [
    "import sys\n",
    "import numpy as np\n",
    "import torch\n",
    "import torch.nn as nn\n",
    "import torch.optim as optim\n",
    "import torch.nn.functional as F\n",
    "from torch.utils.data import TensorDataset, DataLoader\n",
    "import matplotlib.pyplot as plt\n",
    "\n",
    "###\n",
    "if '../' not in sys.path:\n",
    "    sys.path = ['../'] + sys.path\n",
    "from lib.train import train\n",
    "from lib.models import MLP\n",
    "from lib.eval import get_output, test, plot_log, shap_net_x, shap_ccm_c, bootstrap"
   ]
  },
  {
   "cell_type": "code",
   "execution_count": 2,
   "id": "844ae143-cb09-44d8-9275-d5f442009c7d",
   "metadata": {},
   "outputs": [
    {
     "data": {
      "image/png": "[encoded data removed]",
      "text/plain": [
       "<Figure size 432x288 with 1 Axes>"
      ]
     },
     "metadata": {
      "needs_background": "light"
     },
     "output_type": "display_data"
    }
   ],
   "source": [
    "n = 10000\n",
    "bs = 100\n",
    "wd = 0\n",
    "\n",
    "#X = torch.randn(n, 1)\n",
    "#Y = X\n",
    "\n",
    "XY = [[0, 1] for _ in range(n)] + [[1, 1] for _ in range(n)] + [[0.5, 0] for _ in range(n//10)]\n",
    "\n",
    "X = torch.tensor(list(map(lambda xy: xy[0], XY))).unsqueeze(1).float()\n",
    "Y = torch.tensor(list(map(lambda xy: xy[1], XY))).unsqueeze(1).float()\n",
    "\n",
    "plt.scatter(X.numpy(), Y.numpy(), label='Y')\n",
    "plt.ylabel('Y', fontsize=15)\n",
    "plt.xlabel('X', fontsize=15)\n",
    "\n",
    "# dataset\n",
    "loader_xy = DataLoader(TensorDataset(X, Y), batch_size=bs, shuffle=False) # regular dataset"
   ]
  },
  {
   "cell_type": "code",
   "execution_count": 3,
   "id": "da4063b3-1f8e-445c-9f2f-c96e23df0650",
   "metadata": {
    "tags": []
   },
   "outputs": [
    {
     "name": "stderr",
     "output_type": "stream",
     "text": [
      "train step for 1 epoch: 100%|██████████████████████████████████████████████████████████████████████████████████████████████████████████████████████| 210/210 [00:06<00:00, 33.74it/s]\n",
      "train step for 1 epoch: 100%|██████████████████████████████████████████████████████████████████████████████████████████████████████████████████████| 210/210 [00:03<00:00, 62.02it/s]\n",
      "train step for 1 epoch: 100%|██████████████████████████████████████████████████████████████████████████████████████████████████████████████████████| 210/210 [00:05<00:00, 36.91it/s]\n"
     ]
    },
    {
     "name": "stdout",
     "output_type": "stream",
     "text": [
      "epoch   2: loss 7.604e-02\n"
     ]
    },
    {
     "name": "stderr",
     "output_type": "stream",
     "text": [
      "train step for 1 epoch: 100%|██████████████████████████████████████████████████████████████████████████████████████████████████████████████████████| 210/210 [00:03<00:00, 57.68it/s]\n",
      "train step for 1 epoch: 100%|██████████████████████████████████████████████████████████████████████████████████████████████████████████████████████| 210/210 [00:04<00:00, 45.20it/s]\n",
      "train step for 1 epoch: 100%|██████████████████████████████████████████████████████████████████████████████████████████████████████████████████████| 210/210 [00:05<00:00, 37.87it/s]\n"
     ]
    },
    {
     "name": "stdout",
     "output_type": "stream",
     "text": [
      "epoch   5: loss 5.075e-02\n"
     ]
    },
    {
     "name": "stderr",
     "output_type": "stream",
     "text": [
      "train step for 1 epoch: 100%|██████████████████████████████████████████████████████████████████████████████████████████████████████████████████████| 210/210 [00:03<00:00, 54.45it/s]\n",
      "train step for 1 epoch: 100%|██████████████████████████████████████████████████████████████████████████████████████████████████████████████████████| 210/210 [00:04<00:00, 46.67it/s]\n",
      "train step for 1 epoch: 100%|██████████████████████████████████████████████████████████████████████████████████████████████████████████████████████| 210/210 [00:04<00:00, 46.38it/s]\n"
     ]
    },
    {
     "name": "stdout",
     "output_type": "stream",
     "text": [
      "epoch   8: loss 3.902e-02\n"
     ]
    },
    {
     "name": "stderr",
     "output_type": "stream",
     "text": [
      "train step for 1 epoch: 100%|██████████████████████████████████████████████████████████████████████████████████████████████████████████████████████| 210/210 [00:05<00:00, 37.05it/s]\n",
      "train step for 1 epoch: 100%|██████████████████████████████████████████████████████████████████████████████████████████████████████████████████████| 210/210 [00:06<00:00, 34.50it/s]\n",
      "train step for 1 epoch: 100%|██████████████████████████████████████████████████████████████████████████████████████████████████████████████████████| 210/210 [00:05<00:00, 40.65it/s]\n"
     ]
    },
    {
     "name": "stdout",
     "output_type": "stream",
     "text": [
      "epoch  11: loss 2.089e-02\n"
     ]
    },
    {
     "name": "stderr",
     "output_type": "stream",
     "text": [
      "train step for 1 epoch: 100%|██████████████████████████████████████████████████████████████████████████████████████████████████████████████████████| 210/210 [00:02<00:00, 90.02it/s]\n",
      "train step for 1 epoch: 100%|█████████████████████████████████████████████████████████████████████████████████████████████████████████████████████| 210/210 [00:01<00:00, 115.78it/s]\n",
      "train step for 1 epoch: 100%|██████████████████████████████████████████████████████████████████████████████████████████████████████████████████████| 210/210 [00:02<00:00, 79.28it/s]\n"
     ]
    },
    {
     "name": "stdout",
     "output_type": "stream",
     "text": [
      "epoch  14: loss 6.297e-04\n"
     ]
    },
    {
     "name": "stderr",
     "output_type": "stream",
     "text": [
      "train step for 1 epoch: 100%|█████████████████████████████████████████████████████████████████████████████████████████████████████████████████████| 210/210 [00:01<00:00, 105.02it/s]\n",
      "train step for 1 epoch: 100%|█████████████████████████████████████████████████████████████████████████████████████████████████████████████████████| 210/210 [00:01<00:00, 109.09it/s]\n",
      "train step for 1 epoch: 100%|██████████████████████████████████████████████████████████████████████████████████████████████████████████████████████| 210/210 [00:02<00:00, 99.04it/s]\n"
     ]
    },
    {
     "name": "stdout",
     "output_type": "stream",
     "text": [
      "epoch  17: loss 4.825e-05\n"
     ]
    },
    {
     "name": "stderr",
     "output_type": "stream",
     "text": [
      "train step for 1 epoch: 100%|█████████████████████████████████████████████████████████████████████████████████████████████████████████████████████| 210/210 [00:01<00:00, 114.44it/s]\n",
      "train step for 1 epoch: 100%|█████████████████████████████████████████████████████████████████████████████████████████████████████████████████████| 210/210 [00:01<00:00, 154.56it/s]\n",
      "train step for 1 epoch: 100%|██████████████████████████████████████████████████████████████████████████████████████████████████████████████████████| 210/210 [00:04<00:00, 43.19it/s]\n"
     ]
    },
    {
     "name": "stdout",
     "output_type": "stream",
     "text": [
      "epoch  20: loss 5.293e-05\n"
     ]
    },
    {
     "name": "stderr",
     "output_type": "stream",
     "text": [
      "train step for 1 epoch: 100%|██████████████████████████████████████████████████████████████████████████████████████████████████████████████████████| 210/210 [00:05<00:00, 39.46it/s]\n",
      "train step for 1 epoch: 100%|██████████████████████████████████████████████████████████████████████████████████████████████████████████████████████| 210/210 [00:05<00:00, 41.31it/s]\n",
      "train step for 1 epoch: 100%|██████████████████████████████████████████████████████████████████████████████████████████████████████████████████████| 210/210 [00:03<00:00, 56.47it/s]\n"
     ]
    },
    {
     "name": "stdout",
     "output_type": "stream",
     "text": [
      "epoch  23: loss 1.013e-04\n"
     ]
    },
    {
     "name": "stderr",
     "output_type": "stream",
     "text": [
      "train step for 1 epoch: 100%|██████████████████████████████████████████████████████████████████████████████████████████████████████████████████████| 210/210 [00:04<00:00, 46.94it/s]\n",
      "train step for 1 epoch: 100%|██████████████████████████████████████████████████████████████████████████████████████████████████████████████████████| 210/210 [00:04<00:00, 43.61it/s]\n",
      "train step for 1 epoch: 100%|██████████████████████████████████████████████████████████████████████████████████████████████████████████████████████| 210/210 [00:03<00:00, 61.47it/s]\n"
     ]
    },
    {
     "name": "stdout",
     "output_type": "stream",
     "text": [
      "epoch  26: loss 7.667e-05\n"
     ]
    },
    {
     "name": "stderr",
     "output_type": "stream",
     "text": [
      "train step for 1 epoch: 100%|██████████████████████████████████████████████████████████████████████████████████████████████████████████████████████| 210/210 [00:05<00:00, 41.77it/s]\n",
      "train step for 1 epoch: 100%|██████████████████████████████████████████████████████████████████████████████████████████████████████████████████████| 210/210 [00:03<00:00, 53.76it/s]\n",
      "train step for 1 epoch: 100%|██████████████████████████████████████████████████████████████████████████████████████████████████████████████████████| 210/210 [00:05<00:00, 41.36it/s]\n"
     ]
    },
    {
     "name": "stdout",
     "output_type": "stream",
     "text": [
      "epoch  29: loss 8.301e-05\n"
     ]
    },
    {
     "data": {
      "image/png": "[encoded data removed]",
      "text/plain": [
       "<Figure size 432x288 with 1 Axes>"
      ]
     },
     "metadata": {
      "needs_background": "light"
     },
     "output_type": "display_data"
    }
   ],
   "source": [
    "def standard_model(loader_xy, d, n_epochs=10, report_every=1, plot=True, weight_decay=0):\n",
    "    # regular model\n",
    "    net = MLP([d, 100, 100, 100, 100, 1])\n",
    "    \n",
    "    # train\n",
    "    # opt = optim.SGD(net.parameters(), lr=0.1, weight_decay=weight_decay)\n",
    "    opt = optim.Adam(net.parameters(), weight_decay=weight_decay)\n",
    "    log = train(net, loader_xy, opt, n_epochs=n_epochs, report_every=report_every,\n",
    "                criterion=nn.MSELoss())\n",
    "    if plot: plot_log(log)\n",
    "    return net\n",
    "\n",
    "n_epochs = 30\n",
    "STD = standard_model(loader_xy, 1, n_epochs=n_epochs, report_every=max(n_epochs//10,1), weight_decay=wd)"
   ]
  },
  {
   "cell_type": "code",
   "execution_count": 4,
   "id": "15ceca92-4deb-402a-a796-76e8c60c65e6",
   "metadata": {},
   "outputs": [],
   "source": [
    "n_range = 30\n",
    "x_range = torch.linspace(-0.4, 1.4, n_range).unsqueeze(1)\n",
    "loader_arange = DataLoader(TensorDataset(x_range, torch.arange(n_range)), batch_size=bs, shuffle=False)\n",
    "o = get_output(STD, loader_arange)"
   ]
  },
  {
   "cell_type": "code",
   "execution_count": 5,
   "id": "0ef8576d-7066-416d-a689-5aaa7600bd95",
   "metadata": {},
   "outputs": [
    {
     "data": {
      "text/plain": [
       "<matplotlib.legend.Legend at 0x7f1b8073ae50>"
      ]
     },
     "execution_count": 5,
     "metadata": {},
     "output_type": "execute_result"
    },
    {
     "data": {
      "image/png": "[encoded data removed]",
      "text/plain": [
       "<Figure size 432x288 with 1 Axes>"
      ]
     },
     "metadata": {
      "needs_background": "light"
     },
     "output_type": "display_data"
    }
   ],
   "source": [
    "plt.scatter(x_range.numpy(), o, label='O')\n",
    "plt.scatter(X.numpy(), Y.numpy(), label='Y')\n",
    "plt.legend(fontsize=15)"
   ]
  },
  {
   "cell_type": "code",
   "execution_count": null,
   "id": "4b0d586b-0ef9-497b-abe4-183271c9d14d",
   "metadata": {},
   "outputs": [],
   "source": []
  }
 ],
 "metadata": {
  "kernelspec": {
   "display_name": "Python 3 (ipykernel)",
   "language": "python",
   "name": "python3"
  },
  "language_info": {
   "codemirror_mode": {
    "name": "ipython",
    "version": 3
   },
   "file_extension": ".py",
   "mimetype": "text/x-python",
   "name": "python",
   "nbconvert_exporter": "python",
   "pygments_lexer": "ipython3",
   "version": "3.7.9"
  }
 },
 "nbformat": 4,
 "nbformat_minor": 5
}
