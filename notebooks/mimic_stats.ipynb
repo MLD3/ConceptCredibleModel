{
 "cells": [
  {
   "cell_type": "code",
   "execution_count": 161,
   "id": "b932873a-90dd-4e9a-8f90-ba1c6008867c",
   "metadata": {},
   "outputs": [],
   "source": [
    "import pandas as pd\n",
    "import numpy as np\n",
    "import matplotlib.pyplot as plt\n",
    "import sys\n",
    "from sklearn import metrics\n",
    "import torch\n",
    "import torch.functional as F\n",
    "from scipy.special import softmax\n",
    "from sklearn.model_selection import train_test_split\n",
    "from sklearn import metrics\n",
    "\n",
    "###\n",
    "if '../' not in sys.path:\n",
    "    sys.path = ['../'] + sys.path\n",
    "from lib.data import MIMIC"
   ]
  },
  {
   "cell_type": "markdown",
   "id": "a3e39d43-8eb9-4ec6-8235-c553d928b26f",
   "metadata": {},
   "source": [
    "# Is the clean source and target task unbiased? Yes"
   ]
  },
  {
   "cell_type": "code",
   "execution_count": 58,
   "id": "ef1bb2ee-7847-461e-8f53-730abec01d3c",
   "metadata": {},
   "outputs": [],
   "source": [
    "task = 'Edema'\n",
    "# task = 'Cardiomegaly'\n",
    "m = MIMIC(task)"
   ]
  },
  {
   "cell_type": "code",
   "execution_count": 59,
   "id": "50e43343-747b-4793-81e6-6f330ad79c71",
   "metadata": {},
   "outputs": [
    {
     "data": {
      "text/html": [
       "<div>\n",
       "<style scoped>\n",
       "    .dataframe tbody tr th:only-of-type {\n",
       "        vertical-align: middle;\n",
       "    }\n",
       "\n",
       "    .dataframe tbody tr th {\n",
       "        vertical-align: top;\n",
       "    }\n",
       "\n",
       "    .dataframe thead th {\n",
       "        text-align: right;\n",
       "    }\n",
       "</style>\n",
       "<table border=\"1\" class=\"dataframe\">\n",
       "  <thead>\n",
       "    <tr style=\"text-align: right;\">\n",
       "      <th></th>\n",
       "      <th>is_male</th>\n",
       "      <th>Edema</th>\n",
       "    </tr>\n",
       "  </thead>\n",
       "  <tbody>\n",
       "    <tr>\n",
       "      <th>is_male</th>\n",
       "      <td>1.000000</td>\n",
       "      <td>-0.009445</td>\n",
       "    </tr>\n",
       "    <tr>\n",
       "      <th>Edema</th>\n",
       "      <td>-0.009445</td>\n",
       "      <td>1.000000</td>\n",
       "    </tr>\n",
       "  </tbody>\n",
       "</table>\n",
       "</div>"
      ],
      "text/plain": [
       "          is_male     Edema\n",
       "is_male  1.000000 -0.009445\n",
       "Edema   -0.009445  1.000000"
      ]
     },
     "execution_count": 59,
     "metadata": {},
     "output_type": "execute_result"
    }
   ],
   "source": [
    "m.df[['is_male', task]].corr()"
   ]
  },
  {
   "cell_type": "code",
   "execution_count": 64,
   "id": "0f0b2a17-8551-4f33-b738-3ef7ac961e5e",
   "metadata": {},
   "outputs": [
    {
     "name": "stdout",
     "output_type": "stream",
     "text": [
      "4.462104700964087e-05 0.6725106982356779 0.6867981495124605\n",
      "I(Edema; male) = 0.00, I(Edema; male)/H(Edema) = 0.00, I(Edema; male)/H(male) = 0.00\n"
     ]
    }
   ],
   "source": [
    "def MI(x, y):\n",
    "    '''\n",
    "    mutual information between two binary attributes\n",
    "    x and y are two equal length list\n",
    "    '''\n",
    "    def H(p):\n",
    "        return - p * np.log(p) - (1-p) * np.log(1-p)\n",
    "    \n",
    "    px, py = x.mean(), y.mean()\n",
    "    py_x, py_notx = y[x==1].mean(), y[x==0].mean()\n",
    "    return H(py) - (px * H(py_x) + (1-px) * H(py_notx)), H(px), H(py)\n",
    "\n",
    "mi, ht, hm = MI(m.df[task], m.df['is_male'])\n",
    "print(mi, ht, hm)\n",
    "print(f'I({task}; male) = {mi:.2f}, I({task}; male)/H({task}) = {mi/ht:.2f}, I({task}; male)/H(male) = {mi/hm:.2f}')"
   ]
  },
  {
   "cell_type": "markdown",
   "id": "5962d31f-20b0-4acd-99b2-e4ae5d7c2e13",
   "metadata": {},
   "source": [
    "# Data statistics"
   ]
  },
  {
   "cell_type": "code",
   "execution_count": 68,
   "id": "27441bdb-50cd-4a73-a55c-925708262562",
   "metadata": {},
   "outputs": [
    {
     "name": "stdout",
     "output_type": "stream",
     "text": [
      "107510 x-rays, 62697 studies\n",
      "22738 patients, 11307 (49.73%) male, 11431 (50.27%) female\n"
     ]
    }
   ],
   "source": [
    "n_samples = len(np.unique(m.df.subject_id))\n",
    "n_males = len(np.unique(m.df[m.df.gender=='M'].subject_id))\n",
    "n_females = len(np.unique(m.df[m.df.gender=='F'].subject_id))\n",
    "print(f'{len(m.df)} x-rays, {len(np.unique(m.df.pt_id))} studies')\n",
    "print(f'{n_samples} patients, {n_males} ({n_males/n_samples*100:.2f}%) male, {n_females} ({n_females/n_samples*100:.2f}%) female')"
   ]
  },
  {
   "cell_type": "code",
   "execution_count": 66,
   "id": "807615d8-6375-4c06-bc38-821639ead915",
   "metadata": {},
   "outputs": [
    {
     "name": "stdout",
     "output_type": "stream",
     "text": [
      "P(Edema) = 0.60\n",
      "P(Edema|male) = 0.60\n",
      "P(Edema|female) = 0.61\n"
     ]
    }
   ],
   "source": [
    "print(f\"P({task}) = {m.df[task].mean():.2f}\")\n",
    "print(f\"P({task}|male) = {m.df[m.df.gender=='M'][task].mean():.2f}\")\n",
    "print(f\"P({task}|female) = {m.df[m.df.gender=='F'][task].mean():.2f}\")"
   ]
  },
  {
   "cell_type": "code",
   "execution_count": 55,
   "id": "fc7bf712-a5d5-4c21-8742-c418c7352d82",
   "metadata": {},
   "outputs": [
    {
     "data": {
      "text/html": [
       "<div>\n",
       "<style scoped>\n",
       "    .dataframe tbody tr th:only-of-type {\n",
       "        vertical-align: middle;\n",
       "    }\n",
       "\n",
       "    .dataframe tbody tr th {\n",
       "        vertical-align: top;\n",
       "    }\n",
       "\n",
       "    .dataframe thead th {\n",
       "        text-align: right;\n",
       "    }\n",
       "</style>\n",
       "<table border=\"1\" class=\"dataframe\">\n",
       "  <thead>\n",
       "    <tr style=\"text-align: right;\">\n",
       "      <th></th>\n",
       "      <th>Unnamed: 0</th>\n",
       "      <th>index</th>\n",
       "      <th>No Finding</th>\n",
       "      <th>Enlarged Cardiomediastinum</th>\n",
       "      <th>Cardiomegaly</th>\n",
       "      <th>Lung Lesion</th>\n",
       "      <th>Lung Opacity</th>\n",
       "      <th>Edema</th>\n",
       "      <th>Consolidation</th>\n",
       "      <th>Pneumonia</th>\n",
       "      <th>...</th>\n",
       "      <th>Support Devices</th>\n",
       "      <th>local_path</th>\n",
       "      <th>pt_id</th>\n",
       "      <th>split</th>\n",
       "      <th>subject_id</th>\n",
       "      <th>gender</th>\n",
       "      <th>anchor_age</th>\n",
       "      <th>anchor_year</th>\n",
       "      <th>anchor_year_group</th>\n",
       "      <th>dod</th>\n",
       "    </tr>\n",
       "  </thead>\n",
       "  <tbody>\n",
       "    <tr>\n",
       "      <th>0</th>\n",
       "      <td>17</td>\n",
       "      <td>35</td>\n",
       "      <td>-1.0</td>\n",
       "      <td>-1.0</td>\n",
       "      <td>-1.0</td>\n",
       "      <td>-1.0</td>\n",
       "      <td>1.0</td>\n",
       "      <td>1.0</td>\n",
       "      <td>-1.0</td>\n",
       "      <td>1.0</td>\n",
       "      <td>...</td>\n",
       "      <td>-1.0</td>\n",
       "      <td>~/Fused/mimic-cxr/preprocessed_images//p10/p10...</td>\n",
       "      <td>50578979</td>\n",
       "      <td>train</td>\n",
       "      <td>10000935</td>\n",
       "      <td>F</td>\n",
       "      <td>52</td>\n",
       "      <td>2182</td>\n",
       "      <td>2008 - 2010</td>\n",
       "      <td>NaN</td>\n",
       "    </tr>\n",
       "    <tr>\n",
       "      <th>1</th>\n",
       "      <td>26</td>\n",
       "      <td>52</td>\n",
       "      <td>-1.0</td>\n",
       "      <td>-1.0</td>\n",
       "      <td>-1.0</td>\n",
       "      <td>-1.0</td>\n",
       "      <td>-1.0</td>\n",
       "      <td>1.0</td>\n",
       "      <td>-1.0</td>\n",
       "      <td>-1.0</td>\n",
       "      <td>...</td>\n",
       "      <td>-1.0</td>\n",
       "      <td>~/Fused/mimic-cxr/preprocessed_images//p10/p10...</td>\n",
       "      <td>58219844</td>\n",
       "      <td>train</td>\n",
       "      <td>10000935</td>\n",
       "      <td>F</td>\n",
       "      <td>52</td>\n",
       "      <td>2182</td>\n",
       "      <td>2008 - 2010</td>\n",
       "      <td>NaN</td>\n",
       "    </tr>\n",
       "    <tr>\n",
       "      <th>2</th>\n",
       "      <td>27</td>\n",
       "      <td>53</td>\n",
       "      <td>-1.0</td>\n",
       "      <td>-1.0</td>\n",
       "      <td>-1.0</td>\n",
       "      <td>-1.0</td>\n",
       "      <td>-1.0</td>\n",
       "      <td>0.0</td>\n",
       "      <td>-1.0</td>\n",
       "      <td>0.0</td>\n",
       "      <td>...</td>\n",
       "      <td>-1.0</td>\n",
       "      <td>~/Fused/mimic-cxr/preprocessed_images//p10/p10...</td>\n",
       "      <td>50985099</td>\n",
       "      <td>train</td>\n",
       "      <td>10000980</td>\n",
       "      <td>F</td>\n",
       "      <td>73</td>\n",
       "      <td>2186</td>\n",
       "      <td>2008 - 2010</td>\n",
       "      <td>NaN</td>\n",
       "    </tr>\n",
       "    <tr>\n",
       "      <th>3</th>\n",
       "      <td>28</td>\n",
       "      <td>55</td>\n",
       "      <td>-1.0</td>\n",
       "      <td>-1.0</td>\n",
       "      <td>-1.0</td>\n",
       "      <td>-1.0</td>\n",
       "      <td>-1.0</td>\n",
       "      <td>0.0</td>\n",
       "      <td>-1.0</td>\n",
       "      <td>0.0</td>\n",
       "      <td>...</td>\n",
       "      <td>-1.0</td>\n",
       "      <td>~/Fused/mimic-cxr/preprocessed_images//p10/p10...</td>\n",
       "      <td>50985099</td>\n",
       "      <td>train</td>\n",
       "      <td>10000980</td>\n",
       "      <td>F</td>\n",
       "      <td>73</td>\n",
       "      <td>2186</td>\n",
       "      <td>2008 - 2010</td>\n",
       "      <td>NaN</td>\n",
       "    </tr>\n",
       "    <tr>\n",
       "      <th>4</th>\n",
       "      <td>32</td>\n",
       "      <td>62</td>\n",
       "      <td>-1.0</td>\n",
       "      <td>-1.0</td>\n",
       "      <td>-1.0</td>\n",
       "      <td>-1.0</td>\n",
       "      <td>-1.0</td>\n",
       "      <td>1.0</td>\n",
       "      <td>1.0</td>\n",
       "      <td>1.0</td>\n",
       "      <td>...</td>\n",
       "      <td>-1.0</td>\n",
       "      <td>~/Fused/mimic-cxr/preprocessed_images//p10/p10...</td>\n",
       "      <td>54935705</td>\n",
       "      <td>train</td>\n",
       "      <td>10000980</td>\n",
       "      <td>F</td>\n",
       "      <td>73</td>\n",
       "      <td>2186</td>\n",
       "      <td>2008 - 2010</td>\n",
       "      <td>NaN</td>\n",
       "    </tr>\n",
       "    <tr>\n",
       "      <th>...</th>\n",
       "      <td>...</td>\n",
       "      <td>...</td>\n",
       "      <td>...</td>\n",
       "      <td>...</td>\n",
       "      <td>...</td>\n",
       "      <td>...</td>\n",
       "      <td>...</td>\n",
       "      <td>...</td>\n",
       "      <td>...</td>\n",
       "      <td>...</td>\n",
       "      <td>...</td>\n",
       "      <td>...</td>\n",
       "      <td>...</td>\n",
       "      <td>...</td>\n",
       "      <td>...</td>\n",
       "      <td>...</td>\n",
       "      <td>...</td>\n",
       "      <td>...</td>\n",
       "      <td>...</td>\n",
       "      <td>...</td>\n",
       "      <td>...</td>\n",
       "    </tr>\n",
       "    <tr>\n",
       "      <th>107505</th>\n",
       "      <td>425895</td>\n",
       "      <td>729287</td>\n",
       "      <td>-1.0</td>\n",
       "      <td>1.0</td>\n",
       "      <td>1.0</td>\n",
       "      <td>-1.0</td>\n",
       "      <td>1.0</td>\n",
       "      <td>0.0</td>\n",
       "      <td>-1.0</td>\n",
       "      <td>-1.0</td>\n",
       "      <td>...</td>\n",
       "      <td>1.0</td>\n",
       "      <td>~/Fused/mimic-cxr/preprocessed_images//p19/p19...</td>\n",
       "      <td>55683952</td>\n",
       "      <td>train</td>\n",
       "      <td>19998843</td>\n",
       "      <td>M</td>\n",
       "      <td>45</td>\n",
       "      <td>2187</td>\n",
       "      <td>2011 - 2013</td>\n",
       "      <td>NaN</td>\n",
       "    </tr>\n",
       "    <tr>\n",
       "      <th>107506</th>\n",
       "      <td>425896</td>\n",
       "      <td>729288</td>\n",
       "      <td>-1.0</td>\n",
       "      <td>-1.0</td>\n",
       "      <td>-1.0</td>\n",
       "      <td>-1.0</td>\n",
       "      <td>1.0</td>\n",
       "      <td>0.0</td>\n",
       "      <td>-1.0</td>\n",
       "      <td>1.0</td>\n",
       "      <td>...</td>\n",
       "      <td>1.0</td>\n",
       "      <td>~/Fused/mimic-cxr/preprocessed_images//p19/p19...</td>\n",
       "      <td>56350227</td>\n",
       "      <td>train</td>\n",
       "      <td>19998843</td>\n",
       "      <td>M</td>\n",
       "      <td>45</td>\n",
       "      <td>2187</td>\n",
       "      <td>2011 - 2013</td>\n",
       "      <td>NaN</td>\n",
       "    </tr>\n",
       "    <tr>\n",
       "      <th>107507</th>\n",
       "      <td>425897</td>\n",
       "      <td>729289</td>\n",
       "      <td>-1.0</td>\n",
       "      <td>-1.0</td>\n",
       "      <td>-1.0</td>\n",
       "      <td>-1.0</td>\n",
       "      <td>1.0</td>\n",
       "      <td>0.0</td>\n",
       "      <td>-1.0</td>\n",
       "      <td>1.0</td>\n",
       "      <td>...</td>\n",
       "      <td>1.0</td>\n",
       "      <td>~/Fused/mimic-cxr/preprocessed_images//p19/p19...</td>\n",
       "      <td>56350227</td>\n",
       "      <td>train</td>\n",
       "      <td>19998843</td>\n",
       "      <td>M</td>\n",
       "      <td>45</td>\n",
       "      <td>2187</td>\n",
       "      <td>2011 - 2013</td>\n",
       "      <td>NaN</td>\n",
       "    </tr>\n",
       "    <tr>\n",
       "      <th>107508</th>\n",
       "      <td>425898</td>\n",
       "      <td>729290</td>\n",
       "      <td>-1.0</td>\n",
       "      <td>-1.0</td>\n",
       "      <td>-1.0</td>\n",
       "      <td>-1.0</td>\n",
       "      <td>1.0</td>\n",
       "      <td>0.0</td>\n",
       "      <td>-1.0</td>\n",
       "      <td>1.0</td>\n",
       "      <td>...</td>\n",
       "      <td>1.0</td>\n",
       "      <td>~/Fused/mimic-cxr/preprocessed_images//p19/p19...</td>\n",
       "      <td>56350227</td>\n",
       "      <td>train</td>\n",
       "      <td>19998843</td>\n",
       "      <td>M</td>\n",
       "      <td>45</td>\n",
       "      <td>2187</td>\n",
       "      <td>2011 - 2013</td>\n",
       "      <td>NaN</td>\n",
       "    </tr>\n",
       "    <tr>\n",
       "      <th>107509</th>\n",
       "      <td>425899</td>\n",
       "      <td>729291</td>\n",
       "      <td>-1.0</td>\n",
       "      <td>-1.0</td>\n",
       "      <td>-1.0</td>\n",
       "      <td>-1.0</td>\n",
       "      <td>1.0</td>\n",
       "      <td>0.0</td>\n",
       "      <td>-1.0</td>\n",
       "      <td>1.0</td>\n",
       "      <td>...</td>\n",
       "      <td>1.0</td>\n",
       "      <td>~/Fused/mimic-cxr/preprocessed_images//p19/p19...</td>\n",
       "      <td>56350227</td>\n",
       "      <td>train</td>\n",
       "      <td>19998843</td>\n",
       "      <td>M</td>\n",
       "      <td>45</td>\n",
       "      <td>2187</td>\n",
       "      <td>2011 - 2013</td>\n",
       "      <td>NaN</td>\n",
       "    </tr>\n",
       "  </tbody>\n",
       "</table>\n",
       "<p>107510 rows × 25 columns</p>\n",
       "</div>"
      ],
      "text/plain": [
       "        Unnamed: 0   index  No Finding  Enlarged Cardiomediastinum  \\\n",
       "0               17      35        -1.0                        -1.0   \n",
       "1               26      52        -1.0                        -1.0   \n",
       "2               27      53        -1.0                        -1.0   \n",
       "3               28      55        -1.0                        -1.0   \n",
       "4               32      62        -1.0                        -1.0   \n",
       "...            ...     ...         ...                         ...   \n",
       "107505      425895  729287        -1.0                         1.0   \n",
       "107506      425896  729288        -1.0                        -1.0   \n",
       "107507      425897  729289        -1.0                        -1.0   \n",
       "107508      425898  729290        -1.0                        -1.0   \n",
       "107509      425899  729291        -1.0                        -1.0   \n",
       "\n",
       "        Cardiomegaly  Lung Lesion  Lung Opacity  Edema  Consolidation  \\\n",
       "0               -1.0         -1.0           1.0    1.0           -1.0   \n",
       "1               -1.0         -1.0          -1.0    1.0           -1.0   \n",
       "2               -1.0         -1.0          -1.0    0.0           -1.0   \n",
       "3               -1.0         -1.0          -1.0    0.0           -1.0   \n",
       "4               -1.0         -1.0          -1.0    1.0            1.0   \n",
       "...              ...          ...           ...    ...            ...   \n",
       "107505           1.0         -1.0           1.0    0.0           -1.0   \n",
       "107506          -1.0         -1.0           1.0    0.0           -1.0   \n",
       "107507          -1.0         -1.0           1.0    0.0           -1.0   \n",
       "107508          -1.0         -1.0           1.0    0.0           -1.0   \n",
       "107509          -1.0         -1.0           1.0    0.0           -1.0   \n",
       "\n",
       "        Pneumonia  ...  Support Devices  \\\n",
       "0             1.0  ...             -1.0   \n",
       "1            -1.0  ...             -1.0   \n",
       "2             0.0  ...             -1.0   \n",
       "3             0.0  ...             -1.0   \n",
       "4             1.0  ...             -1.0   \n",
       "...           ...  ...              ...   \n",
       "107505       -1.0  ...              1.0   \n",
       "107506        1.0  ...              1.0   \n",
       "107507        1.0  ...              1.0   \n",
       "107508        1.0  ...              1.0   \n",
       "107509        1.0  ...              1.0   \n",
       "\n",
       "                                               local_path     pt_id  split  \\\n",
       "0       ~/Fused/mimic-cxr/preprocessed_images//p10/p10...  50578979  train   \n",
       "1       ~/Fused/mimic-cxr/preprocessed_images//p10/p10...  58219844  train   \n",
       "2       ~/Fused/mimic-cxr/preprocessed_images//p10/p10...  50985099  train   \n",
       "3       ~/Fused/mimic-cxr/preprocessed_images//p10/p10...  50985099  train   \n",
       "4       ~/Fused/mimic-cxr/preprocessed_images//p10/p10...  54935705  train   \n",
       "...                                                   ...       ...    ...   \n",
       "107505  ~/Fused/mimic-cxr/preprocessed_images//p19/p19...  55683952  train   \n",
       "107506  ~/Fused/mimic-cxr/preprocessed_images//p19/p19...  56350227  train   \n",
       "107507  ~/Fused/mimic-cxr/preprocessed_images//p19/p19...  56350227  train   \n",
       "107508  ~/Fused/mimic-cxr/preprocessed_images//p19/p19...  56350227  train   \n",
       "107509  ~/Fused/mimic-cxr/preprocessed_images//p19/p19...  56350227  train   \n",
       "\n",
       "        subject_id  gender anchor_age  anchor_year anchor_year_group  dod  \n",
       "0         10000935       F         52         2182       2008 - 2010  NaN  \n",
       "1         10000935       F         52         2182       2008 - 2010  NaN  \n",
       "2         10000980       F         73         2186       2008 - 2010  NaN  \n",
       "3         10000980       F         73         2186       2008 - 2010  NaN  \n",
       "4         10000980       F         73         2186       2008 - 2010  NaN  \n",
       "...            ...     ...        ...          ...               ...  ...  \n",
       "107505    19998843       M         45         2187       2011 - 2013  NaN  \n",
       "107506    19998843       M         45         2187       2011 - 2013  NaN  \n",
       "107507    19998843       M         45         2187       2011 - 2013  NaN  \n",
       "107508    19998843       M         45         2187       2011 - 2013  NaN  \n",
       "107509    19998843       M         45         2187       2011 - 2013  NaN  \n",
       "\n",
       "[107510 rows x 25 columns]"
      ]
     },
     "execution_count": 55,
     "metadata": {},
     "output_type": "execute_result"
    }
   ],
   "source": [
    "m.df"
   ]
  },
  {
   "cell_type": "markdown",
   "id": "e837c636-464d-4b7d-87ec-116a0dca2de4",
   "metadata": {},
   "source": [
    "# Threshold to Accuracy and Correlation"
   ]
  },
  {
   "cell_type": "code",
   "execution_count": 246,
   "id": "48a880eb-be32-4c2c-be0e-a3e6603285e4",
   "metadata": {},
   "outputs": [
    {
     "data": {
      "text/html": [
       "<div>\n",
       "<style scoped>\n",
       "    .dataframe tbody tr th:only-of-type {\n",
       "        vertical-align: middle;\n",
       "    }\n",
       "\n",
       "    .dataframe tbody tr th {\n",
       "        vertical-align: top;\n",
       "    }\n",
       "\n",
       "    .dataframe thead th {\n",
       "        text-align: right;\n",
       "    }\n",
       "</style>\n",
       "<table border=\"1\" class=\"dataframe\">\n",
       "  <thead>\n",
       "    <tr style=\"text-align: right;\">\n",
       "      <th></th>\n",
       "      <th>is_male</th>\n",
       "      <th>Edema</th>\n",
       "    </tr>\n",
       "  </thead>\n",
       "  <tbody>\n",
       "    <tr>\n",
       "      <th>is_male</th>\n",
       "      <td>1.0</td>\n",
       "      <td>1.0</td>\n",
       "    </tr>\n",
       "    <tr>\n",
       "      <th>Edema</th>\n",
       "      <td>1.0</td>\n",
       "      <td>1.0</td>\n",
       "    </tr>\n",
       "  </tbody>\n",
       "</table>\n",
       "</div>"
      ],
      "text/plain": [
       "         is_male  Edema\n",
       "is_male      1.0    1.0\n",
       "Edema        1.0    1.0"
      ]
     },
     "execution_count": 246,
     "metadata": {},
     "output_type": "execute_result"
    }
   ],
   "source": [
    "def subsample_gender(df, threshold):\n",
    "    '''\n",
    "    df is the mimic dataset\n",
    "    remove male negative and female positive\n",
    "    '''\n",
    "    z = np.random.rand(len(df))\n",
    "    drop = (df['gender'] == 'M') * (df[m.task] == 0) + (df['gender'] == 'F') * (df[m.task] == 1)\n",
    "    drop = drop * (z <= threshold)\n",
    "    new_df = df[~drop]\n",
    "    return new_df\n",
    "    \n",
    "subsample_gender(m.df, 1)[['is_male', task]].corr()"
   ]
  },
  {
   "cell_type": "code",
   "execution_count": 247,
   "id": "dc0b3ad5-ff46-4783-ae03-5aa6a0989736",
   "metadata": {},
   "outputs": [
    {
     "data": {
      "image/png": "[encoded data removed]",
      "text/plain": [
       "<Figure size 432x288 with 1 Axes>"
      ]
     },
     "metadata": {
      "needs_background": "light"
     },
     "output_type": "display_data"
    }
   ],
   "source": [
    "x = np.linspace(0.8, 1, 10)\n",
    "correlation = [subsample_gender(m.df, t)[['is_male', task]].corr().iloc[0, 1] for t in x]\n",
    "plt.plot(x, correlation, label=f'correlation({task}, male)')\n",
    "plt.xlabel('drop pct T (no bias -> full bias)', fontsize=15)\n",
    "plt.ylabel(f'correlation({task}, Male)', fontsize=15)\n",
    "plt.grid()\n",
    "# plt.legend(fontsize=15)\n",
    "plt.show()"
   ]
  },
  {
   "cell_type": "code",
   "execution_count": 248,
   "id": "696093fe-017a-4b3f-a61d-8f87ef55a991",
   "metadata": {},
   "outputs": [
    {
     "data": {
      "image/png": "[encoded data removed]",
      "text/plain": [
       "<Figure size 432x288 with 1 Axes>"
      ]
     },
     "metadata": {
      "needs_background": "light"
     },
     "output_type": "display_data"
    }
   ],
   "source": [
    "def ACC_male(m, t, task, f):\n",
    "    '''\n",
    "    accuracy of using isMale to predict task when subsampling at threshold t\n",
    "    '''\n",
    "    df = subsample_gender(m.df, t)\n",
    "    return f(df[task], df['gender'] == 'M')\n",
    "\n",
    "reduce_fn = metrics.accuracy_score\n",
    "x = np.linspace(0, 1, 10)\n",
    "acc = [ACC_male(m, t, task, reduce_fn) for t in x]\n",
    "plt.plot(x, acc, label='predict isMale(x)')\n",
    "plt.axhline(reduce_fn(m.df[task], np.ones_like(m.df[task])), ls='--', color='r', label='predict 1')\n",
    "plt.xlabel('drop pct T (no bias -> full bias)', fontsize=15)\n",
    "plt.ylabel('ACC', fontsize=15)\n",
    "plt.grid()\n",
    "plt.legend(fontsize=15)\n",
    "plt.show()"
   ]
  },
  {
   "cell_type": "code",
   "execution_count": 249,
   "id": "68516da9-7e71-44bb-9d8a-11e632c44d05",
   "metadata": {},
   "outputs": [
    {
     "data": {
      "image/png": "[encoded data removed]",
      "text/plain": [
       "<Figure size 432x288 with 1 Axes>"
      ]
     },
     "metadata": {
      "needs_background": "light"
     },
     "output_type": "display_data"
    }
   ],
   "source": [
    "reduce_fn = metrics.roc_auc_score\n",
    "x = np.linspace(0, 1, 10)\n",
    "acc = [ACC_male(m, t, task, reduce_fn) for t in x]\n",
    "plt.plot(x, acc, label='predict isMale(x)')\n",
    "# plt.axhline(reduce_fn(m.df[task], np.ones_like(m.df[task])), ls='--', color='r', label='predict 1')\n",
    "plt.xlabel('drop pct T (no bias -> full bias)', fontsize=15)\n",
    "plt.ylabel('AUC', fontsize=15)\n",
    "plt.grid()\n",
    "plt.legend(fontsize=15)\n",
    "plt.show()"
   ]
  },
  {
   "cell_type": "markdown",
   "id": "9b738b3a-1315-4e95-8b0b-e2fb4473bbcb",
   "metadata": {},
   "source": [
    "# Results"
   ]
  },
  {
   "cell_type": "code",
   "execution_count": 120,
   "id": "291bbf93-0b3c-4a70-ab24-a7f984e9c153",
   "metadata": {},
   "outputs": [
    {
     "data": {
      "image/png": "[encoded data removed]",
      "text/plain": [
       "<Figure size 432x288 with 1 Axes>"
      ]
     },
     "metadata": {
      "needs_background": "light"
     },
     "output_type": "display_data"
    },
    {
     "data": {
      "image/png": "[encoded data removed]",
      "text/plain": [
       "<Figure size 432x288 with 1 Axes>"
      ]
     },
     "metadata": {
      "needs_background": "light"
     },
     "output_type": "display_data"
    }
   ],
   "source": [
    "# key is dim_noise, value is [clean acc, t=1]\n",
    "perf_dict_cbm = {\n",
    "    1.0: [76.9, 90.3, 67.3],\n",
    "    0.9: [78.1, 89.7, 65.9],\n",
    "    0.8: [80.1, 87.6, 63.4]\n",
    "}\n",
    "perf_dict_alpha = { # EYE\n",
    "    0.8: [85.4, 94.3],\n",
    "    # 0.9: [81.3, 95.4], # 0.1\n",
    "    0.9: [80.6, 96.6], # full batch [80.5, 96.4] \n",
    "    # 1.0: [73.2, 94.7],\n",
    "    1.0: [63.7, 99.8],\n",
    "}\n",
    "perf_dict_std = { # alpha=0\n",
    "    0.8: [84.3, 94.4],\n",
    "    0.9: [80.1, 96.7], # small batch\n",
    "    0.95: [70.0, 96.6],\n",
    "    1.0: [60.4, 99.9]\n",
    "}\n",
    "perf_dict_ccmr = {\n",
    "    0.8: [83.1, 93.4],\n",
    "    0.9: [79.8, 95.6],\n",
    "    1.0: [60.5, 99.6]\n",
    "}\n",
    "perf_dict_stdx = {    \n",
    "    0.8: [84.5, 94.4, 76.7],\n",
    "    0.9: [80.1, 96.7, 85.5],\n",
    "    # 0.9: [79.8, 96.6], larger batch\n",
    "    1.0: [60.6, 99.9, 99.2]\n",
    "}\n",
    "\n",
    "def select_list(l, *args):\n",
    "    return [l[a] for a in args]\n",
    "\n",
    "def report_latex(name, d, fmt='.1f'):\n",
    "    res = [name]\n",
    "    for a in d:\n",
    "        l, h = get_error(a/100.0)\n",
    "        res.append(f\"{a:{fmt}} ({l*100:{fmt}}, {h*100:{fmt}})\")\n",
    "\n",
    "    print(\" & \".join(res))\n",
    "\n",
    "def get_error(p, n=100):\n",
    "    '''bootstrap'''\n",
    "    assert 0 <= p <= 1, \"probablity is non-negative\"\n",
    "    n_test = 32 * 672 # 374\n",
    "    a, b = np.percentile([sum(np.random.choice(2, n_test, p=[1-p, p])) / float(n_test) for _ in range(n)], [2.5, 97.5])\n",
    "    return a, b\n",
    "\n",
    "\n",
    "def plot_d_noise(d, dim=0, label=None):\n",
    "    x = d.keys()\n",
    "    y = list(map(lambda x: x[dim], d.values()))\n",
    "    # plt.plot(x, y, label=label)\n",
    "    yerr = list(zip(*[get_error(a/100.0) for a in y]))\n",
    "    plt.errorbar(x, y, yerr=yerr, label=label)\n",
    "\n",
    "xlabel = \"T (-> higher correlation)\"\n",
    "\n",
    "plot_d_noise(perf_dict_alpha, 0, \"CCM EYE\")\n",
    "plot_d_noise(perf_dict_ccmr, 0, \"CCM RES\")\n",
    "plot_d_noise(perf_dict_std, 0, \"STD(C,X)\")\n",
    "plot_d_noise(perf_dict_cbm, 0, \"CBM\")\n",
    "plot_d_noise(perf_dict_stdx, 0, \"STD(X)\")\n",
    "plt.ylabel('test auc (clean)', fontsize=15)\n",
    "plt.xlabel(xlabel, fontsize=15)\n",
    "plt.legend(fontsize=15)\n",
    "plt.grid()\n",
    "plt.show()\n",
    "\n",
    "plot_d_noise(perf_dict_alpha, 1, \"CCM EYE\")\n",
    "plot_d_noise(perf_dict_ccmr, 1, \"CCM RES\")\n",
    "plot_d_noise(perf_dict_std, 1, \"STD(C,X)\")\n",
    "plot_d_noise(perf_dict_cbm, 1, \"CBM\")\n",
    "plot_d_noise(perf_dict_stdx, 1, \"STD(X)\")\n",
    "plt.ylabel('test auc (biased)', fontsize=15)\n",
    "plt.xlabel(xlabel, fontsize=15)\n",
    "plt.legend(fontsize=15)\n",
    "plt.grid()\n",
    "plt.show()"
   ]
  },
  {
   "cell_type": "code",
   "execution_count": 118,
   "id": "d88c0850-8a63-49db-991f-fb2cb3d61601",
   "metadata": {},
   "outputs": [
    {
     "data": {
      "image/png": "[encoded data removed]",
      "text/plain": [
       "<Figure size 432x288 with 1 Axes>"
      ]
     },
     "metadata": {
      "needs_background": "light"
     },
     "output_type": "display_data"
    }
   ],
   "source": [
    "xlabel = \"T (->higher correlation)\"\n",
    "\n",
    "plot_d_noise(perf_dict_cbm, 2, \"CBM\")\n",
    "plot_d_noise(perf_dict_stdx, 2, \"STD(X)\")\n",
    "plt.ylabel('test auc (clean isMale)', fontsize=15)\n",
    "plt.xlabel(xlabel, fontsize=15)\n",
    "plt.legend(fontsize=15)\n",
    "plt.grid()\n",
    "plt.show()\n"
   ]
  },
  {
   "cell_type": "code",
   "execution_count": 39,
   "id": "a84c3300-f7ad-4387-837b-3ab4c9631f23",
   "metadata": {},
   "outputs": [
    {
     "data": {
      "image/png": "[encoded data removed]",
      "text/plain": [
       "<Figure size 432x288 with 1 Axes>"
      ]
     },
     "metadata": {
      "needs_background": "light"
     },
     "output_type": "display_data"
    }
   ],
   "source": [
    "perf_dict_stdx = {\n",
    "    300*1: [94.8, 70.9, 87.3], # save every 300 batches corresponds to outputs/standard_0.pt\n",
    "    300*2: [95.6, 67.9, 92.1], # outputs/standard_1.pt\n",
    "    300*3: [95.2, 67.5, 90.8],\n",
    "    300*4: [96.4, 71.2, 90.1],\n",
    "    300*5: [96.9, 71.0, 92.1],\n",
    "    300*6: [96.8, 70.5, 90.3],\n",
    "    300*7: [97.1, 70.7, 92.5],\n",
    "    300*8: [97.0, 73.2, 90.1],\n",
    "    300*9: [97.2, 71.9, 90.4],\n",
    "    300*10: [97.0, 72.4, 92.3],\n",
    "    300*11: [96.6, 70.0, 93.4]\n",
    "}\n",
    "\n",
    "xlabel = \"batches\"\n",
    "\n",
    "plot_d_noise(perf_dict_stdx, 2, \"STD(X) clean isMale\")\n",
    "plot_d_noise(perf_dict_stdx, 0, \"STD(X) biased Edema\")\n",
    "plot_d_noise(perf_dict_stdx, 1, \"STD(X) clean Edema\")\n",
    "plt.ylabel('test auc', fontsize=15)\n",
    "plt.xlabel(xlabel, fontsize=15)\n",
    "plt.legend(fontsize=15)\n",
    "plt.grid()\n",
    "plt.show()\n"
   ]
  },
  {
   "cell_type": "markdown",
   "id": "7d3984d4-64d3-4298-817f-389479785ce8",
   "metadata": {},
   "source": [
    "# Per group investigation"
   ]
  },
  {
   "cell_type": "code",
   "execution_count": 255,
   "id": "f8608517-5fd9-43b2-8c09-2a7f25e16dbb",
   "metadata": {},
   "outputs": [
    {
     "name": "stdout",
     "output_type": "stream",
     "text": [
      "317410 unknown Edema value in mimic data\n",
      "(107510, 200)\n"
     ]
    }
   ],
   "source": [
    "fn = '../outputs/7b0a1aac4b6111ecb773ac1f6b24a434/ccm_Edema.npz'\n",
    "# fn = '../outputs/5a4ce99a4b3711ecb773ac1f6b24a434/standard_Edema.npz'\n",
    "# fn = '../outputs/5df7a9fe4b3711ecb773ac1f6b24a434/cbm_Edema.npz'\n",
    "task = fn.split('/')[-1].split('_')[-1].split('.')[0]\n",
    "output = torch.load(fn)\n",
    "m = MIMIC(task)\n",
    "print(output.shape) # 200 is a mistake but it shouldn't change the result in any way\n",
    "m.df['output'] = softmax(output, 1)[:, 1]"
   ]
  },
  {
   "cell_type": "code",
   "execution_count": 256,
   "id": "0b9b7dd4-e913-4f2f-b23b-b58c4e960245",
   "metadata": {},
   "outputs": [
    {
     "data": {
      "text/plain": [
       "Edema      0.601235\n",
       "is_male    0.553836\n",
       "output     0.574208\n",
       "dtype: float64"
      ]
     },
     "execution_count": 256,
     "metadata": {},
     "output_type": "execute_result"
    }
   ],
   "source": [
    "indices = list(range(len(m)))\n",
    "labels = list(m.df[task])\n",
    "_, test_indices = train_test_split(indices, stratify=labels, random_state=42)\n",
    "m_test = m.df.iloc[test_indices]\n",
    "m_test[[task, 'is_male', 'output']].mean()"
   ]
  },
  {
   "cell_type": "code",
   "execution_count": 257,
   "id": "89283a4f-db7e-421a-8f05-11d44b3da0e1",
   "metadata": {},
   "outputs": [
    {
     "name": "stdout",
     "output_type": "stream",
     "text": [
      "average softmax prediction Male   Edema=1: 0.85\n",
      "average softmax prediction Male   Edema=0: 0.54\n",
      "average softmax prediction Female Edema=1: 0.54\n",
      "average softmax prediction Female Edema=0: 0.16\n"
     ]
    }
   ],
   "source": [
    "print('average softmax prediction Male   Edema=1: {:.2f}'.format(m_test[(m_test['is_male']==1) * (m_test[task]==1)]['output'].mean()))\n",
    "print('average softmax prediction Male   Edema=0: {:.2f}'.format(m_test[(m_test['is_male']==1) * (m_test[task]==0)]['output'].mean()))\n",
    "print('average softmax prediction Female Edema=1: {:.2f}'.format(m_test[(m_test['is_male']==0) * (m_test[task]==1)]['output'].mean()))\n",
    "print('average softmax prediction Female Edema=0: {:.2f}'.format(m_test[(m_test['is_male']==0) * (m_test[task]==0)]['output'].mean()))"
   ]
  },
  {
   "cell_type": "code",
   "execution_count": 259,
   "id": "7b836193-8602-468b-a9e9-fa12d7a62de9",
   "metadata": {},
   "outputs": [
    {
     "name": "stdout",
     "output_type": "stream",
     "text": [
      "AUC Edema: 0.8084173051856874\n",
      "AUC Edema T=0.9: 0.9667530621317024\n",
      "AUC is_male: 0.8139296276786969\n"
     ]
    }
   ],
   "source": [
    "metric = metrics.roc_auc_score\n",
    "y, yhat = m_test[task], m_test['output']\n",
    "print(f'AUC {task}:', metric(y, yhat))\n",
    "\n",
    "t = 0.9\n",
    "m_sub = subsample_gender(m_test, t)\n",
    "y, yhat = m_sub[task], m_sub['output']\n",
    "print(f'AUC {task} T={t}:', metric(y, yhat))\n",
    "\n",
    "y, yhat = m_test['is_male'], m_test['output']\n",
    "print(f'AUC is_male:', metric(y, yhat))\n",
    "\n",
    "# y, yhat = m_test[m_test['is_male']==1][task], m_test[m_test['is_male']==1]['output']\n",
    "# print(f'AUC {task} for male:', metric(y, yhat))\n",
    "\n",
    "# y, yhat = m_test[m_test['is_male']==0][task], m_test[m_test['is_male']==0]['output']\n",
    "# print(f'AUC {task} for female:', metric(y, yhat))"
   ]
  },
  {
   "cell_type": "code",
   "execution_count": 260,
   "id": "81058e8f-3bb3-4882-adfd-75ba1d542b6e",
   "metadata": {},
   "outputs": [
    {
     "name": "stdout",
     "output_type": "stream",
     "text": [
      "ACC Edema: 0.7389314681151872\n",
      "ACC is_male: 0.7264305379864573\n",
      "ACC Edema for male: 0.7478167405616015\n",
      "ACC Edema for female: 0.7279019346230821\n"
     ]
    }
   ],
   "source": [
    "y, yhat = m_test[task], m_test['output']\n",
    "print(f'ACC {task}:', (y == (yhat > 0.5)).mean())\n",
    "\n",
    "y, yhat = m_test['is_male'], m_test['output']\n",
    "print(f'ACC is_male:', (y == (yhat > 0.5)).mean())\n",
    "\n",
    "y, yhat = m_test[m_test['is_male']==1][task], m_test[m_test['is_male']==1]['output']\n",
    "print(f'ACC {task} for male:', (y == (yhat > 0.5)).mean())\n",
    "\n",
    "y, yhat = m_test[m_test['is_male']==0][task], m_test[m_test['is_male']==0]['output']\n",
    "print(f'ACC {task} for female:', (y == (yhat > 0.5)).mean())"
   ]
  },
  {
   "cell_type": "code",
   "execution_count": 199,
   "id": "eb966fc9-511d-46c6-b8bb-da001c317ad7",
   "metadata": {},
   "outputs": [
    {
     "data": {
      "text/plain": [
       "0.8368912804469851"
      ]
     },
     "execution_count": 199,
     "metadata": {},
     "output_type": "execute_result"
    }
   ],
   "source": [
    "metrics.roc_auc_score(m_test['is_male'], m_test['output'])"
   ]
  },
  {
   "cell_type": "code",
   "execution_count": 200,
   "id": "326d57c8-31e3-40c3-be08-6aec64e5414b",
   "metadata": {},
   "outputs": [],
   "source": [
    "q0, q1, q2, q3 = np.percentile(m_test['output'], [0, 25, 50, 75])"
   ]
  },
  {
   "cell_type": "code",
   "execution_count": 201,
   "id": "c35988a7-7767-43b4-a8da-2f08fb319b14",
   "metadata": {},
   "outputs": [
    {
     "data": {
      "text/plain": [
       "Edema      0.247917\n",
       "is_male    0.168304\n",
       "output     0.047949\n",
       "dtype: float64"
      ]
     },
     "execution_count": 201,
     "metadata": {},
     "output_type": "execute_result"
    }
   ],
   "source": [
    "m_test[(m_test['output'] >= q0) * (m_test['output'] <= q1)][[task, 'is_male', 'output']].mean()"
   ]
  },
  {
   "cell_type": "code",
   "execution_count": 202,
   "id": "b07f5aac-d451-498e-b0da-7829d9a1a18d",
   "metadata": {},
   "outputs": [
    {
     "data": {
      "text/plain": [
       "Edema      0.532222\n",
       "is_male    0.440839\n",
       "output     0.462149\n",
       "dtype: float64"
      ]
     },
     "execution_count": 202,
     "metadata": {},
     "output_type": "execute_result"
    }
   ],
   "source": [
    "m_test[(m_test['output'] >= q1) * (m_test['output'] <= q2)][[task, 'is_male', 'output']].mean()"
   ]
  },
  {
   "cell_type": "code",
   "execution_count": 203,
   "id": "c294525f-9fe5-4a7c-a4c9-32c56be77742",
   "metadata": {},
   "outputs": [
    {
     "data": {
      "text/plain": [
       "Edema      0.717220\n",
       "is_male    0.688942\n",
       "output     0.917055\n",
       "dtype: float64"
      ]
     },
     "execution_count": 203,
     "metadata": {},
     "output_type": "execute_result"
    }
   ],
   "source": [
    "m_test[(m_test['output'] >= q2) * (m_test['output'] <= q3)][[task, 'is_male', 'output']].mean()"
   ]
  },
  {
   "cell_type": "code",
   "execution_count": 204,
   "id": "a78cfb61-2cbc-4c77-86b2-96520d9c9aa0",
   "metadata": {},
   "outputs": [
    {
     "data": {
      "text/plain": [
       "Edema      0.907589\n",
       "is_male    0.917262\n",
       "output     0.995925\n",
       "dtype: float64"
      ]
     },
     "execution_count": 204,
     "metadata": {},
     "output_type": "execute_result"
    }
   ],
   "source": [
    "m_test[(m_test['output'] >= q3)][[task, 'is_male', 'output']].mean()"
   ]
  },
  {
   "cell_type": "code",
   "execution_count": 232,
   "id": "1cfc66d6-424b-4724-82a5-0ef567b26b3c",
   "metadata": {},
   "outputs": [
    {
     "name": "stdout",
     "output_type": "stream",
     "text": [
      "I(Edema; male) = 0.00, I(Edema; male)/H(Edema) = 0.00, I(Edema; male)/H(male) = 0.00\n"
     ]
    },
    {
     "data": {
      "text/html": [
       "<div>\n",
       "<style scoped>\n",
       "    .dataframe tbody tr th:only-of-type {\n",
       "        vertical-align: middle;\n",
       "    }\n",
       "\n",
       "    .dataframe tbody tr th {\n",
       "        vertical-align: top;\n",
       "    }\n",
       "\n",
       "    .dataframe thead th {\n",
       "        text-align: right;\n",
       "    }\n",
       "</style>\n",
       "<table border=\"1\" class=\"dataframe\">\n",
       "  <thead>\n",
       "    <tr style=\"text-align: right;\">\n",
       "      <th></th>\n",
       "      <th>is_male</th>\n",
       "      <th>Edema</th>\n",
       "    </tr>\n",
       "  </thead>\n",
       "  <tbody>\n",
       "    <tr>\n",
       "      <th>is_male</th>\n",
       "      <td>1.000000</td>\n",
       "      <td>-0.010851</td>\n",
       "    </tr>\n",
       "    <tr>\n",
       "      <th>Edema</th>\n",
       "      <td>-0.010851</td>\n",
       "      <td>1.000000</td>\n",
       "    </tr>\n",
       "  </tbody>\n",
       "</table>\n",
       "</div>"
      ],
      "text/plain": [
       "          is_male     Edema\n",
       "is_male  1.000000 -0.010851\n",
       "Edema   -0.010851  1.000000"
      ]
     },
     "execution_count": 232,
     "metadata": {},
     "output_type": "execute_result"
    }
   ],
   "source": [
    "mi, ht, hm = MI(m_test[task], m_test['is_male'])\n",
    "print(f'I({task}; male) = {mi:.2f}, I({task}; male)/H({task}) = {mi/ht:.2f}, I({task}; male)/H(male) = {mi/hm:.2f}')\n",
    "m_test[['is_male', task]].corr()"
   ]
  },
  {
   "cell_type": "code",
   "execution_count": null,
   "id": "0409dac0-899f-4ffd-90b1-ac8df5574116",
   "metadata": {},
   "outputs": [],
   "source": []
  }
 ],
 "metadata": {
  "kernelspec": {
   "display_name": "Python 3 (ipykernel)",
   "language": "python",
   "name": "python3"
  },
  "language_info": {
   "codemirror_mode": {
    "name": "ipython",
    "version": 3
   },
   "file_extension": ".py",
   "mimetype": "text/x-python",
   "name": "python",
   "nbconvert_exporter": "python",
   "pygments_lexer": "ipython3",
   "version": "3.7.9"
  }
 },
 "nbformat": 4,
 "nbformat_minor": 5
}
