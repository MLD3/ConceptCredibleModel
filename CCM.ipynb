{
 "cells": [
  {
   "cell_type": "markdown",
   "id": "national-association",
   "metadata": {},
   "source": [
    "# Credible Concept Model (CCM) tutorial: Extend credible model to uninterpretable raw features\n",
    "\n",
    "By the end of the tutorial, one should be able to\n",
    "\n",
    "1. understand the motivation of CCM\n",
    "2. understand the CCM algorithm\n",
    "3. able to train an CCM model"
   ]
  },
  {
   "cell_type": "code",
   "execution_count": 23,
   "id": "moving-share",
   "metadata": {
    "tags": []
   },
   "outputs": [],
   "source": [
    "import numpy as np\n",
    "import types\n",
    "import copy\n",
    "import shap\n",
    "import pandas as pd\n",
    "import matplotlib.pyplot as plt\n",
    "import copy\n",
    "import torch\n",
    "import torch.nn as nn\n",
    "import torch.optim as optim\n",
    "import torch.nn.functional as F\n",
    "from torch.utils.data import TensorDataset, DataLoader"
   ]
  },
  {
   "cell_type": "markdown",
   "id": "previous-bookmark",
   "metadata": {},
   "source": [
    "# A motivating example\n",
    "\n",
    "Despite the fact that model interpretation suffers from faithfulness and fragility issues (and also people's overtrust of the interpretation), it is still useful to enforce prior knowledge. Feature attribution tools often assume that features are interpretable. This makes them less applicable when raw features are complicated (say in the image or audio domain). Thus, a lot of recent research effort have been poured in to explanation with high level concepts. Among them is this idea of concept bottleneck network (CBM). In this work, we expose the flaw of CBM and suggest a simple fix.\n",
    "\n",
    "This examples shows why missing concept is a nastier problem than one would think.\n",
    "\n",
    "$Z \\sim U(\\{0, 1\\})^d$ are $d$ latent concepts\n",
    "\n",
    "$X = project(Z)$ is a random linear projection of concepts presented to the human (the following just used identity for simplicity)\n",
    "\n",
    "$X \\rightarrow C \\rightarrow X$ where $C \\in \\mathbb{R}^{d-1}$ is concept detectors\n",
    "\n",
    "$Y = and(Z)$ where $\\theta$ is the true coefficient.\n",
    "\n",
    "This setup will fail raw feature attribution (because $X$ distribute concepts across dimensions), concept discovery (when the function is a \"and\" concept), jointly trained concept (because $C$ has 1 less dimension off $Z$)."
   ]
  },
  {
   "cell_type": "code",
   "execution_count": 2,
   "id": "defined-bradford",
   "metadata": {
    "tags": []
   },
   "outputs": [
    {
     "name": "stdout",
     "output_type": "stream",
     "text": [
      "Percentage of ones 87.50%\n"
     ]
    }
   ],
   "source": [
    "n = 10000\n",
    "d = 3 # true number of concepts needed for classification\n",
    "c = 1 # number concepts to learn for EBM\n",
    "bs = 100\n",
    "n_epochs = 50\n",
    "\n",
    "def gen_data(n, d):\n",
    "    Z = np.random.choice([0, 1], (n, d))\n",
    "    X = Z\n",
    "    # and of the arguments\n",
    "    Y = np.ones(n)\n",
    "    for i in range(d):\n",
    "        Y = np.logical_and(Y, Z[:, i])\n",
    "\n",
    "    return torch.from_numpy(X).float(), torch.from_numpy(Y).long(), torch.from_numpy(Z).float()\n",
    "\n",
    "def get_output(net, loader_x):\n",
    "    o = []\n",
    "    for x, in loader_x:\n",
    "        o.extend(net(x).detach().numpy())\n",
    "    return np.vstack(o) # (n, c)\n",
    "\n",
    "X, Y, Z = gen_data(n, d)\n",
    "X_te, Y_te, Z_te = gen_data(n, d)\n",
    "print(f'Percentage of ones {(1-0.5**d)*100:.2f}%')"
   ]
  },
  {
   "cell_type": "markdown",
   "id": "honest-mumbai",
   "metadata": {},
   "source": [
    "**Note that the above value ($1-1/2^d$) is also the theoretical limit the accuracy of EBM** because\n",
    "\n",
    "\\begin{align}\n",
    "P(\\hat{y} = y) &= P(Z_1=Z_2=\\cdots=Z_c=1) P (\\hat{y} = y | Z_1=Z_2=\\cdots=Z_c=1) + P(\\overline{Z_1=Z_2=\\cdots=Z_c=1}) P(\\hat{y} = y | \\overline{Z_1=Z_2=\\cdots=Z_c=1})\\\\\n",
    "&= 1 / 2^c \\cdot (1 - 1 / 2^{d-c}) + (1 - 1 / 2^c) \\cdot 1\\\\\n",
    "&= 1 - 1 / 2^d\n",
    "\\end{align}"
   ]
  },
  {
   "cell_type": "code",
   "execution_count": 3,
   "id": "invisible-change",
   "metadata": {
    "tags": []
   },
   "outputs": [],
   "source": [
    "class MLP(nn.Module):\n",
    "\n",
    "    def __init__(self, neuron_sizes, activation=nn.ReLU, bias=True): \n",
    "        super(MLP, self).__init__()\n",
    "        self.neuron_sizes = neuron_sizes\n",
    "        \n",
    "        layers = []\n",
    "        for s0, s1 in zip(neuron_sizes[:-1], neuron_sizes[1:]):\n",
    "            layers.extend([\n",
    "                nn.Linear(s0, s1, bias=bias),\n",
    "                activation()\n",
    "            ])\n",
    "        \n",
    "        self.classifier = nn.Sequential(*layers[:-1])\n",
    "        \n",
    "    def forward(self, x):\n",
    "        x = x.view(-1, self.neuron_sizes[0])\n",
    "        return self.classifier(x)\n",
    "\n",
    "class LambdaNet(nn.Module):\n",
    "    def __init__(self, lambd):\n",
    "        super().__init__()\n",
    "        import types\n",
    "        assert type(lambd) is types.LambdaType\n",
    "        self.lambd = lambd\n",
    "\n",
    "    def forward(self, x):\n",
    "        return self.lambd(x)\n",
    "\n",
    "class AdditionNet(nn.Module):\n",
    "    '''\n",
    "    output net_a(x) + net_b(x)\n",
    "    '''\n",
    "\n",
    "    def __init__(self, net_a, net_b): \n",
    "        super(AdditionNet, self).__init__()\n",
    "        self.net_a = net_a\n",
    "        self.net_b = net_b\n",
    "        \n",
    "    def forward(self, x):\n",
    "        return self.net_a(x) + self.net_b(x)\n",
    "\n",
    "def dfs_freeze(model):\n",
    "    for name, child in model.named_children():\n",
    "        for param in child.parameters():\n",
    "            param.requires_grad = False\n",
    "        dfs_freeze(child)\n",
    "\n",
    "def plot_log(log, key=\"loss\"):\n",
    "    '''log is train log [{epoch: xxx, loss: xxx}]'''\n",
    "    x = [item['epoch'] for item in log]\n",
    "    y = [item[key] for item in log]\n",
    "    plt.semilogy(x, y)\n",
    "    plt.xlabel('epochs', fontsize=15)\n",
    "    plt.ylabel(key, fontsize=15)\n",
    "    plt.plot()\n",
    "    \n",
    "def train_step_standard(net, loader, opt, criterion, device='cpu'):\n",
    "    losses = []\n",
    "    for x, y in loader:\n",
    "        x, y = x.to(device), y.to(device)\n",
    "        opt.zero_grad()\n",
    "        o = net(x)\n",
    "        l = criterion(o, y).mean()\n",
    "        l.backward()\n",
    "        opt.step()\n",
    "        losses.append(l.detach().item())\n",
    "    return losses\n",
    "    \n",
    "def train(net, loader, opt, train_step=train_step_standard, \n",
    "          criterion=F.cross_entropy, n_epochs=10, report_every=1,\n",
    "          device=\"cpu\"):\n",
    "    net.train()\n",
    "    train_log, losses = [], []\n",
    "\n",
    "    for i in range(n_epochs):\n",
    "        \n",
    "        _losses = train_step(net, loader, opt, criterion, device=device)\n",
    "        losses.extend(_losses)\n",
    "        \n",
    "        train_report = {\"loss\": np.mean(losses[-len(loader):])}\n",
    "        \n",
    "        if (i+1) % report_every == 0: # report loss\n",
    "            print('epoch {:>3}: '.format(i) + ' '.join('{} {:.3e}'.format(\n",
    "                      name, val\n",
    "                  ) for name, val in train_report.items()))\n",
    "\n",
    "        train_report.update({'epoch': i})\n",
    "        train_log.append(train_report)\n",
    "\n",
    "    return train_log    \n",
    "    \n",
    "def test(net, loader, criterion):\n",
    "    net.eval()\n",
    "    losses = []\n",
    "    total = 0\n",
    "    for x, y in loader:\n",
    "        o = net(x)\n",
    "        l = criterion(o, y).mean()\n",
    "        bs = o.shape[0]\n",
    "        total += bs        \n",
    "        losses.append(l.detach().item() * bs)\n",
    "    net.train()\n",
    "    return sum(losses) / total\n",
    "\n",
    "# report accuracy\n",
    "acc_criterion = lambda o, y: (o.argmax(1) == y).float()\n",
    "\n",
    "# dataset\n",
    "loader_xy = DataLoader(TensorDataset(X, Y), batch_size=bs, shuffle=True) # regular dataset\n",
    "loader_xyz = DataLoader(TensorDataset(X, Y, Z), batch_size=bs, shuffle=True) # joint concept and regular dataset\n",
    "\n",
    "loader_xy_te = DataLoader(TensorDataset(X_te, Y_te), batch_size=bs, shuffle=True) # regular dataset\n",
    "loader_xyz_te = DataLoader(TensorDataset(X_te, Y_te, Z_te), batch_size=bs, shuffle=True) # joint concept and regular dataset"
   ]
  },
  {
   "cell_type": "markdown",
   "id": "enhanced-overview",
   "metadata": {},
   "source": [
    "## standard model"
   ]
  },
  {
   "cell_type": "code",
   "execution_count": 4,
   "id": "thorough-biography",
   "metadata": {
    "tags": []
   },
   "outputs": [
    {
     "name": "stdout",
     "output_type": "stream",
     "text": [
      "epoch   4: loss 2.865e-01\n",
      "epoch   9: loss 1.509e-01\n",
      "epoch  14: loss 6.454e-02\n",
      "epoch  19: loss 2.821e-02\n",
      "epoch  24: loss 1.429e-02\n",
      "epoch  29: loss 8.049e-03\n",
      "epoch  34: loss 4.887e-03\n",
      "epoch  39: loss 3.126e-03\n",
      "epoch  44: loss 2.077e-03\n",
      "epoch  49: loss 1.418e-03\n"
     ]
    },
    {
     "data": {
      "image/png": "[encoded data removed]",
      "text/plain": [
       "<Figure size 432x288 with 1 Axes>"
      ]
     },
     "metadata": {
      "needs_background": "light"
     },
     "output_type": "display_data"
    }
   ],
   "source": [
    "def standard_model(loader_xy, d, n_epochs=10, report_every=1, plot=True):\n",
    "    # regular model\n",
    "    net = MLP([d, d * 2, 2])\n",
    "\n",
    "    # train\n",
    "    opt = optim.Adam(net.parameters())\n",
    "    log = train(net, loader_xy, opt, n_epochs=n_epochs, report_every=report_every)\n",
    "    if plot: plot_log(log)\n",
    "    return net\n",
    "\n",
    "standard_net = standard_model(loader_xy, d, n_epochs=n_epochs, report_every=n_epochs//10)"
   ]
  },
  {
   "cell_type": "code",
   "execution_count": 5,
   "id": "patient-variety",
   "metadata": {
    "tags": []
   },
   "outputs": [
    {
     "name": "stdout",
     "output_type": "stream",
     "text": [
      "task acc after training: 100.0%\n"
     ]
    }
   ],
   "source": [
    "print('task acc after training: {:.1f}%'.format(test(standard_net, loader_xy_te, acc_criterion) * 100))"
   ]
  },
  {
   "cell_type": "markdown",
   "id": "thirty-welsh",
   "metadata": {},
   "source": [
    "## joint EBM"
   ]
  },
  {
   "cell_type": "code",
   "execution_count": 6,
   "id": "periodic-morrison",
   "metadata": {
    "tags": []
   },
   "outputs": [
    {
     "name": "stdout",
     "output_type": "stream",
     "text": [
      "number of concepts to learn: 1\n",
      "true number of concepts: 3\n",
      "epoch   4: loss 8.863e-03\n",
      "epoch   9: loss 3.714e-03\n",
      "epoch  14: loss 2.278e-03\n",
      "epoch  19: loss 1.472e-03\n",
      "epoch  24: loss 9.852e-04\n",
      "epoch  29: loss 6.487e-04\n",
      "epoch  34: loss 4.003e-04\n",
      "epoch  39: loss 2.389e-04\n",
      "epoch  44: loss 1.588e-04\n",
      "epoch  49: loss 1.138e-04\n"
     ]
    },
    {
     "data": {
      "image/png": "[encoded data removed]",
      "text/plain": [
       "<Figure size 432x288 with 1 Axes>"
      ]
     },
     "metadata": {
      "needs_background": "light"
     },
     "output_type": "display_data"
    }
   ],
   "source": [
    "class EBM(nn.Module):\n",
    "    '''\n",
    "    net_c is concept net, net_y is the task net\n",
    "    it output net_y(net_c(x))\n",
    "    '''\n",
    "\n",
    "    def __init__(self, net_c, net_y): \n",
    "        super(EBM, self).__init__()\n",
    "        self.net_c = net_c\n",
    "        self.net_y = net_y\n",
    "        \n",
    "        self.classifier = nn.Sequential(net_c, net_y)\n",
    "        \n",
    "    def forward(self, x):\n",
    "        return self.classifier(x)\n",
    "\n",
    "def train_step_xyz(net, loader, opt, criterion, device='cpu'):\n",
    "    '''training step for EBM jont model'''\n",
    "    assert type(net) == EBM, f\"must use EBM model; currently {type(net)}\"\n",
    "    losses = []\n",
    "    for x, y, z in loader:\n",
    "        x, y, z = x.to(device), y.to(device), z.to(device)\n",
    "        opt.zero_grad()\n",
    "        o_z = net.net_c(x)\n",
    "        o_y = net.net_y(o_z)\n",
    "        l = criterion(o_y, y, o_z, z).mean()\n",
    "        l.backward()\n",
    "        opt.step()\n",
    "        losses.append(l.detach().item())\n",
    "    return losses\n",
    "\n",
    "def joint_EBM(d, c, loader_xyz, n_epochs=10, report_every=1, plot=True):\n",
    "    c = min(d, c)\n",
    "    print(f'number of concepts to learn: {c}')\n",
    "    print(f'true number of concepts: {d}')\n",
    "    \n",
    "    # EBM with concept and task jointly trained\n",
    "    net_c = MLP([d, d * 2, c])\n",
    "    net_y = MLP([c, d * 2, 2])\n",
    "    net = EBM(net_c, net_y)\n",
    "    \n",
    "    # train\n",
    "    def criterion(o_y, y, o_z, z):\n",
    "        y_loss = F.cross_entropy(o_y, y).sum()\n",
    "        z_loss = F.binary_cross_entropy(torch.sigmoid(o_z), z[:, :c]).sum()\n",
    "        return (y_loss + z_loss) / len(y)\n",
    "    \n",
    "    opt = optim.Adam(net.parameters())\n",
    "    log = train(net, loader_xyz, opt, train_step=train_step_xyz, \n",
    "                criterion=criterion, n_epochs=n_epochs, report_every=report_every)\n",
    "    if plot: plot_log(log)\n",
    "    \n",
    "    return net\n",
    "\n",
    "ebm_joint = joint_EBM(d, c, loader_xyz, n_epochs=n_epochs, report_every=n_epochs//10)"
   ]
  },
  {
   "cell_type": "code",
   "execution_count": 7,
   "id": "present-tutorial",
   "metadata": {
    "tags": []
   },
   "outputs": [
    {
     "name": "stdout",
     "output_type": "stream",
     "text": [
      "task acc after training: 100.0%\n",
      "concept 0 acc after training: 100.0%\n"
     ]
    }
   ],
   "source": [
    "# todo: clean: now assumes net_c output binary prediction\n",
    "def test_concept(net, concept_idx, loader):\n",
    "    '''net output many logit for concepts, concept_idx is the concept index'''\n",
    "    net.eval()\n",
    "    losses = []\n",
    "    total = 0\n",
    "    for x, y in loader:\n",
    "        o = net(x) # (bs, c)\n",
    "        o2 = torch.sigmoid(o[:, concept_idx]) > 0.5\n",
    "        l = (o2 == y).float().mean()\n",
    "        bs = o.shape[0]\n",
    "        total += bs        \n",
    "        losses.append(l.detach().item() * bs)\n",
    "    net.train()\n",
    "    return sum(losses) / total\n",
    "\n",
    "def print_concept_acc(net_c, c, X_te, Z_te):\n",
    "    for i in range(c):\n",
    "        print('concept {} acc after training: {:.1f}%'.format(i, test_concept(net_c,\n",
    "                                                                              i,\n",
    "                                                                              DataLoader(TensorDataset(X_te, Z_te[:, i]), batch_size=bs)) * 100))\n",
    "\n",
    "print('task acc after training: {:.1f}%'.format(test(ebm_joint, loader_xy_te, acc_criterion ) * 100))\n",
    "print_concept_acc(ebm_joint.net_c, c, X_te, Z_te)"
   ]
  },
  {
   "cell_type": "markdown",
   "id": "forced-delicious",
   "metadata": {},
   "source": [
    "**Note Jointly trained EBM has accuracy above the thoretical limit of ($1 - 2^d$) without sacrificing concept accuracy. This is why it is wrong!**"
   ]
  },
  {
   "cell_type": "markdown",
   "id": "widespread-context",
   "metadata": {},
   "source": [
    "## independent EBM"
   ]
  },
  {
   "cell_type": "code",
   "execution_count": 8,
   "id": "friendly-softball",
   "metadata": {
    "tags": []
   },
   "outputs": [
    {
     "name": "stdout",
     "output_type": "stream",
     "text": [
      "number of concepts to learn: 1\n",
      "true number of concepts: 3\n",
      "training concepts ...\n",
      "epoch   4: loss 3.581e-01\n",
      "epoch   9: loss 7.912e-02\n",
      "epoch  14: loss 2.580e-02\n",
      "epoch  19: loss 1.166e-02\n",
      "epoch  24: loss 6.286e-03\n",
      "epoch  29: loss 3.749e-03\n",
      "epoch  34: loss 2.385e-03\n",
      "epoch  39: loss 1.584e-03\n",
      "epoch  44: loss 1.085e-03\n",
      "epoch  49: loss 7.595e-04\n",
      "training tasks ...\n",
      "epoch   4: loss 3.381e-01\n",
      "epoch   9: loss 2.959e-01\n",
      "epoch  14: loss 2.868e-01\n",
      "epoch  19: loss 2.842e-01\n",
      "epoch  24: loss 2.832e-01\n",
      "epoch  29: loss 2.826e-01\n",
      "epoch  34: loss 2.823e-01\n",
      "epoch  39: loss 2.821e-01\n",
      "epoch  44: loss 2.819e-01\n",
      "epoch  49: loss 2.818e-01\n"
     ]
    },
    {
     "data": {
      "image/png": "[encoded data removed]",
      "text/plain": [
       "<Figure size 432x288 with 1 Axes>"
      ]
     },
     "metadata": {
      "needs_background": "light"
     },
     "output_type": "display_data"
    }
   ],
   "source": [
    "def ind_EBM(d, c, X, Y, Z, n_epochs=10, report_every=1, plot=True):\n",
    "    c = min(d, c)\n",
    "    print(f'number of concepts to learn: {c}')\n",
    "    print(f'true number of concepts: {d}')\n",
    "    \n",
    "    # EBM with concept and task independently trained\n",
    "    net_c = nn.Sequential(MLP([d, d * 2, c]), nn.Sigmoid())\n",
    "    net_y = MLP([c, d * 2, 2])\n",
    "    net = EBM(net_c, net_y)\n",
    "    \n",
    "    # train\n",
    "    print('training concepts ...')\n",
    "    opt_c = optim.Adam(net_c.parameters())\n",
    "    train(net_c, \n",
    "          DataLoader(TensorDataset(X, Z[:, :c]), batch_size=bs, shuffle=True), \n",
    "          opt_c, criterion=nn.BCELoss(), n_epochs=n_epochs, report_every=report_every)\n",
    "\n",
    "    print('training tasks ...')\n",
    "    opt_y = optim.Adam(net_y.parameters())\n",
    "    log = train(net_y, \n",
    "                DataLoader(TensorDataset(Z[:, :c], Y), batch_size=bs, shuffle=True), \n",
    "                opt_y, n_epochs=n_epochs, report_every=report_every)\n",
    "    if plot: plot_log(log)\n",
    "\n",
    "    return net\n",
    "\n",
    "ebm_ind = ind_EBM(d, c, X, Y, Z, n_epochs=n_epochs, report_every=n_epochs//10)"
   ]
  },
  {
   "cell_type": "code",
   "execution_count": 9,
   "id": "critical-effort",
   "metadata": {
    "tags": []
   },
   "outputs": [
    {
     "name": "stdout",
     "output_type": "stream",
     "text": [
      "task acc after training: 87.32%\n",
      "concept 0 acc after training: 100.0%\n"
     ]
    }
   ],
   "source": [
    "print('task acc after training: {:.2f}%'.format(test(ebm_ind, loader_xy_te, acc_criterion ) * 100)) # the optimum is 1/16 + 3/4; the strategy is to randomize if the first concept is 1, otherwise output 0\n",
    "print_concept_acc(ebm_ind.net_c[0], c, X_te, Z_te) # net_c[0] because it is the logit part"
   ]
  },
  {
   "cell_type": "markdown",
   "id": "large-inspector",
   "metadata": {},
   "source": [
    "## Concept completeness\n",
    "\n",
    "Since concept can overload in joint EBM, concept completeness measure would only help if we can understand what concept it is using, which defeats the purpose of using high level feature."
   ]
  },
  {
   "cell_type": "code",
   "execution_count": 10,
   "id": "federal-mills",
   "metadata": {
    "tags": []
   },
   "outputs": [
    {
     "data": {
      "text/html": [
       "<div>\n",
       "<style scoped>\n",
       "    .dataframe tbody tr th:only-of-type {\n",
       "        vertical-align: middle;\n",
       "    }\n",
       "\n",
       "    .dataframe tbody tr th {\n",
       "        vertical-align: top;\n",
       "    }\n",
       "\n",
       "    .dataframe thead th {\n",
       "        text-align: right;\n",
       "    }\n",
       "</style>\n",
       "<table border=\"1\" class=\"dataframe\">\n",
       "  <thead>\n",
       "    <tr style=\"text-align: right;\">\n",
       "      <th></th>\n",
       "      <th>X0</th>\n",
       "      <th>X1</th>\n",
       "      <th>X2</th>\n",
       "    </tr>\n",
       "  </thead>\n",
       "  <tbody>\n",
       "    <tr>\n",
       "      <th>0</th>\n",
       "      <td>0.0</td>\n",
       "      <td>0.0</td>\n",
       "      <td>0.0</td>\n",
       "    </tr>\n",
       "    <tr>\n",
       "      <th>1</th>\n",
       "      <td>0.0</td>\n",
       "      <td>0.0</td>\n",
       "      <td>1.0</td>\n",
       "    </tr>\n",
       "    <tr>\n",
       "      <th>2</th>\n",
       "      <td>0.0</td>\n",
       "      <td>1.0</td>\n",
       "      <td>0.0</td>\n",
       "    </tr>\n",
       "    <tr>\n",
       "      <th>3</th>\n",
       "      <td>0.0</td>\n",
       "      <td>1.0</td>\n",
       "      <td>1.0</td>\n",
       "    </tr>\n",
       "    <tr>\n",
       "      <th>4</th>\n",
       "      <td>1.0</td>\n",
       "      <td>0.0</td>\n",
       "      <td>0.0</td>\n",
       "    </tr>\n",
       "    <tr>\n",
       "      <th>5</th>\n",
       "      <td>1.0</td>\n",
       "      <td>0.0</td>\n",
       "      <td>1.0</td>\n",
       "    </tr>\n",
       "    <tr>\n",
       "      <th>6</th>\n",
       "      <td>1.0</td>\n",
       "      <td>1.0</td>\n",
       "      <td>0.0</td>\n",
       "    </tr>\n",
       "    <tr>\n",
       "      <th>7</th>\n",
       "      <td>1.0</td>\n",
       "      <td>1.0</td>\n",
       "      <td>1.0</td>\n",
       "    </tr>\n",
       "  </tbody>\n",
       "</table>\n",
       "</div>"
      ],
      "text/plain": [
       "    X0   X1   X2\n",
       "0  0.0  0.0  0.0\n",
       "1  0.0  0.0  1.0\n",
       "2  0.0  1.0  0.0\n",
       "3  0.0  1.0  1.0\n",
       "4  1.0  0.0  0.0\n",
       "5  1.0  0.0  1.0\n",
       "6  1.0  1.0  0.0\n",
       "7  1.0  1.0  1.0"
      ]
     },
     "execution_count": 10,
     "metadata": {},
     "output_type": "execute_result"
    }
   ],
   "source": [
    "# generate all possible input\n",
    "explain_X = []\n",
    "for i in range(2**d):\n",
    "    item = np.zeros(d)\n",
    "    idx = 0\n",
    "    while i != 0:\n",
    "        idx += 1\n",
    "        item[-idx] = i % 2\n",
    "        i = i // 2\n",
    "    explain_X.append(item)\n",
    "explain_X = torch.from_numpy(np.array(explain_X)).float()\n",
    "shap_x = pd.DataFrame(explain_X.numpy(), columns=[f'X{i}' for i in range(d)])\n",
    "shap_x"
   ]
  },
  {
   "cell_type": "code",
   "execution_count": 174,
   "id": "sweet-ballot",
   "metadata": {},
   "outputs": [
    {
     "name": "stdout",
     "output_type": "stream",
     "text": [
      "   X0  X1  X2  logit Z0\n",
      "3   0   1   1     -9.67\n",
      "2   0   1   0     -7.76\n",
      "1   0   0   1     -6.43\n",
      "0   0   0   0     -4.52\n",
      "7   1   1   1      3.73\n",
      "5   1   0   1      8.67\n",
      "6   1   1   0      8.71\n",
      "4   1   0   0     13.65\n",
      "Explaining logit Z0\n"
     ]
    },
    {
     "data": {
      "application/vnd.jupyter.widget-view+json": {
       "model_id": "5187e1023e3640c6a3a77cc37e28d189",
       "version_major": 2,
       "version_minor": 0
      },
      "text/plain": [
       "  0%|          | 0/8 [00:00<?, ?it/s]"
      ]
     },
     "metadata": {},
     "output_type": "display_data"
    },
    {
     "data": {
      "image/png": "[encoded data removed]",
      "text/plain": [
       "<Figure size 576x194.4 with 2 Axes>"
      ]
     },
     "metadata": {
      "needs_background": "light"
     },
     "output_type": "display_data"
    }
   ],
   "source": [
    "def shap_net_x(net, shap_x, bs, shap_idx=None, decimal=2, column_name=\"hat Y\"):\n",
    "    '''\n",
    "    explain net on input level\n",
    "    '''\n",
    "    prediction = get_output(net, \n",
    "                            DataLoader(TensorDataset(torch.from_numpy(np.array(shap_x))), \n",
    "                                       batch_size=bs, shuffle=False))\n",
    "    d_o = prediction.shape[1]\n",
    "\n",
    "    print(\n",
    "        pd.concat((shap_x.astype(int), \n",
    "                   pd.DataFrame(dict((f\"{column_name}{i}\", np.around(prediction[:, i], decimal)) for i in range(d_o)))), \n",
    "                  1).sort_values(f\"{column_name}0\"))\n",
    "\n",
    "    for i in range(d_o):\n",
    "        print(f'Explaining {column_name}{i}')\n",
    "        \n",
    "        # shap explanation\n",
    "        explainer = shap.KernelExplainer(lambda x: net(torch.from_numpy(x)).detach()[:, i].numpy(), \n",
    "                                         shap_x)\n",
    "        shap_values = explainer.shap_values(shap_x, nsamples=100)\n",
    "        if shap_idx:\n",
    "            shap.summary_plot(shap_values[shap_idx:shap_idx+1], shap_x[shap_idx:shap_idx+1])\n",
    "        else:\n",
    "            shap.summary_plot(shap_values, shap_x)\n",
    "            \n",
    "#     # individual visualization\n",
    "#     shap.initjs()\n",
    "#     shap_idx = 3\n",
    "#     shap.force_plot(explainer.expected_value, shap_values[shap_idx,:], shap_x.iloc[shap_idx,:])\n",
    "                        \n",
    "shap_net_x(ebm_joint.net_c, shap_x, bs, column_name=\"logit Z\")"
   ]
  },
  {
   "cell_type": "code",
   "execution_count": 175,
   "id": "cordless-advocate",
   "metadata": {},
   "outputs": [
    {
     "name": "stdout",
     "output_type": "stream",
     "text": [
      "   X0  X1  X2  logit Z0\n",
      "3   0   1   1     -7.71\n",
      "1   0   0   1     -7.28\n",
      "2   0   1   0     -7.25\n",
      "0   0   0   0     -6.81\n",
      "4   1   0   0      6.64\n",
      "7   1   1   1      7.22\n",
      "5   1   0   1      7.66\n",
      "6   1   1   0      7.69\n",
      "Explaining logit Z0\n"
     ]
    },
    {
     "data": {
      "application/vnd.jupyter.widget-view+json": {
       "model_id": "5f94f471a4764edabbe1d3991b92fb96",
       "version_major": 2,
       "version_minor": 0
      },
      "text/plain": [
       "  0%|          | 0/8 [00:00<?, ?it/s]"
      ]
     },
     "metadata": {},
     "output_type": "display_data"
    },
    {
     "data": {
      "image/png": "[encoded data removed]",
      "text/plain": [
       "<Figure size 576x194.4 with 2 Axes>"
      ]
     },
     "metadata": {
      "needs_background": "light"
     },
     "output_type": "display_data"
    }
   ],
   "source": [
    "shap_net_x(LambdaNet(lambda x: ebm_ind.net_c[0](x)), shap_x, bs, column_name=\"logit Z\")"
   ]
  },
  {
   "cell_type": "markdown",
   "id": "discrete-opportunity",
   "metadata": {},
   "source": [
    "It's very hard to tell whether the concept detector is overloaded as it is clearly more dependent on the first concept.\n",
    "\n",
    "In fact we can even analytically define the concept vector as $[1, -0.1, -0.1]$. This clearly would prefer concept 0 in order to activate. However, it still gives away information about both concept 1 and concept 2.\n",
    "\n",
    "### TODO: run this example with Yeh et al's measure"
   ]
  },
  {
   "cell_type": "markdown",
   "id": "proud-google",
   "metadata": {},
   "source": [
    "## TODO: EBM sequential\n",
    "\n",
    "EBM sequential don't need concept dataset and the classification task to overlap, which is way more flexible. The lesson is we should not jointly train interpretable models: this would transfer to CCM."
   ]
  },
  {
   "cell_type": "code",
   "execution_count": null,
   "id": "included-internship",
   "metadata": {},
   "outputs": [],
   "source": []
  },
  {
   "cell_type": "markdown",
   "id": "unauthorized-berkeley",
   "metadata": {},
   "source": [
    "## CCM residue: TODO refactor\n",
    "\n",
    "It would fail because we know the impact should be the same for $Z_0$ and $Z_1$ and $Z_2$, but we would have observed $Z_0$ have less impact."
   ]
  },
  {
   "cell_type": "code",
   "execution_count": 26,
   "id": "ongoing-jersey",
   "metadata": {},
   "outputs": [
    {
     "name": "stdout",
     "output_type": "stream",
     "text": [
      "number of concepts to learn: 1\n",
      "true number of concepts: 3\n",
      "epoch   4: loss 3.198e-08\n"
     ]
    },
    {
     "data": {
      "image/png": "[encoded data removed]",
      "text/plain": [
       "<Figure size 432x288 with 1 Axes>"
      ]
     },
     "metadata": {
      "needs_background": "light"
     },
     "output_type": "display_data"
    }
   ],
   "source": [
    "def res_CCM(ebm, d, c, X, Y, n_epochs=10, report_every=1, bs=100, plot=True):\n",
    "    '''residue CCM: ebm is expert bottleneck model'''\n",
    "    c = min(d, c)\n",
    "    print(f'number of concepts to learn: {c}')\n",
    "    print(f'true number of concepts: {d}')\n",
    "        \n",
    "    # additional channel to fit residue\n",
    "    # classification problem: pure residue does not work b/c y is not continous (cannot test acc)\n",
    "    # we need to fit to the logit\n",
    "    net_res = MLP([d, d * 2, 2])\n",
    "    ebm.eval()\n",
    "    dfs_freeze(ebm) # freeze parameter should be faster?\n",
    "    net = AdditionNet(ebm, net_res)\n",
    "\n",
    "    # train\n",
    "    opt = optim.Adam(net_res.parameters())\n",
    "    log = train(net, \n",
    "                DataLoader(TensorDataset(X, Y)), \n",
    "                opt, n_epochs=n_epochs, report_every=report_every)\n",
    "    if plot: plot_log(log)\n",
    "    return net\n",
    "    \n",
    "ccm_res = res_CCM(copy.deepcopy(ebm_ind), d, c, X, Y, n_epochs=5, report_every=1) #n_epochs//10)"
   ]
  },
  {
   "cell_type": "code",
   "execution_count": 28,
   "id": "proper-oregon",
   "metadata": {},
   "outputs": [
    {
     "name": "stdout",
     "output_type": "stream",
     "text": [
      "task acc after training: 100.00%\n"
     ]
    }
   ],
   "source": [
    "print('task acc after training: {:.2f}%'.format(test(ccm_res, loader_xy_te, acc_criterion ) * 100))"
   ]
  },
  {
   "cell_type": "code",
   "execution_count": 176,
   "id": "expanded-cowboy",
   "metadata": {},
   "outputs": [
    {
     "name": "stdout",
     "output_type": "stream",
     "text": [
      "   X0  X1  X2  hat Y0  hat Y1\n",
      "7   1   1   1     0.0     1.0\n",
      "0   0   0   0     1.0     0.0\n",
      "1   0   0   1     1.0     0.0\n",
      "2   0   1   0     1.0     0.0\n",
      "3   0   1   1     1.0     0.0\n",
      "4   1   0   0     1.0     0.0\n",
      "5   1   0   1     1.0     0.0\n",
      "6   1   1   0     1.0     0.0\n",
      "Explaining hat Y0\n"
     ]
    },
    {
     "data": {
      "application/vnd.jupyter.widget-view+json": {
       "model_id": "8fa5eca5cd604ee49a0373db27ab338c",
       "version_major": 2,
       "version_minor": 0
      },
      "text/plain": [
       "  0%|          | 0/8 [00:00<?, ?it/s]"
      ]
     },
     "metadata": {},
     "output_type": "display_data"
    },
    {
     "data": {
      "image/png": "[encoded data removed]",
      "text/plain": [
       "<Figure size 576x194.4 with 2 Axes>"
      ]
     },
     "metadata": {
      "needs_background": "light"
     },
     "output_type": "display_data"
    },
    {
     "name": "stdout",
     "output_type": "stream",
     "text": [
      "Explaining hat Y1\n"
     ]
    },
    {
     "data": {
      "application/vnd.jupyter.widget-view+json": {
       "model_id": "a7dfb01e440248c5b5b4ebfb21f0f87d",
       "version_major": 2,
       "version_minor": 0
      },
      "text/plain": [
       "  0%|          | 0/8 [00:00<?, ?it/s]"
      ]
     },
     "metadata": {},
     "output_type": "display_data"
    },
    {
     "data": {
      "image/png": "[encoded data removed]",
      "text/plain": [
       "<Figure size 576x194.4 with 2 Axes>"
      ]
     },
     "metadata": {
      "needs_background": "light"
     },
     "output_type": "display_data"
    }
   ],
   "source": [
    "shap_net_x(nn.Sequential(ccm_res, nn.Softmax(dim=1)), shap_x, bs, column_name=\"hat Y\")"
   ]
  },
  {
   "cell_type": "markdown",
   "id": "capable-smell",
   "metadata": {},
   "source": [
    "They seem very symmetrical in the input space. However, if we focus on concept attribution:"
   ]
  },
  {
   "cell_type": "code",
   "execution_count": null,
   "id": "mysterious-theorem",
   "metadata": {},
   "outputs": [],
   "source": [
    "def shap_net_xc(concept_net, net, shap_x, bs, shap_idx=None, concept_name='Z', output_name='hat Y'):\n",
    "    '''\n",
    "    explain net at [input, concept] level\n",
    "    '''\n",
    "    explain_X = torch.from_numpy(np.array(shap_x))\n",
    "    z_hat = get_output(concept_net,\n",
    "                       DataLoader(TensorDataset(explain_X), batch_size=bs, shuffle=False))\n",
    "    z_hat = pd.DataFrame(z_hat, columns=[f'{concept_name}{i}' for i in range(c)])\n",
    "    shap_concepts = pd.concat((shap_x, z_hat), 1)\n",
    "    \n",
    "    # todo: rewrite ccm_res_net in x->c, [x, c]->hat y form, this will make this function so much easier to read\n",
    "    ccm_res_concept = lambda x: F.softmax(ccm_res.net_a.net_y(torch.from_numpy(x[:, -c:])) + ccm_res.net_b(torch.from_numpy(x[:, :d])), 1).detach()[:, 1].numpy()\n",
    "\n",
    "    # print prediction\n",
    "    prediction = get_output(nn.Sequential(ccm_res, nn.Softmax(dim=1)),\n",
    "                            DataLoader(TensorDataset(explain_X), batch_size=bs, shuffle=False))\n",
    "    print(pd.concat((shap_concepts.round(2),\n",
    "                     pd.DataFrame({f\"{output_name}1\": np.around(prediction[:, 1], 2)})), 1).sort_values(f'{output_name}1'))\n",
    "\n",
    "    # shap explanation\n",
    "    explainer = shap.KernelExplainer(ccm_res_concept, \n",
    "                                     shap_concepts)\n",
    "    shap_values = explainer.shap_values(shap_concepts, nsamples=100)\n",
    "    if shap_idx:\n",
    "        shap.summary_plot(shap_values[shap_idx:shap_idx+1], shap_concepts)\n",
    "    else:\n",
    "        shap.summary_plot(shap_values, shap_concepts)"
   ]
  },
  {
   "cell_type": "code",
   "execution_count": 172,
   "id": "different-printer",
   "metadata": {},
   "outputs": [
    {
     "name": "stdout",
     "output_type": "stream",
     "text": [
      "    X0   X1   X2   Z0  hat Y1\n",
      "0  0.0  0.0  0.0  0.0     0.0\n",
      "1  0.0  0.0  1.0  0.0     0.0\n",
      "2  0.0  1.0  0.0  0.0     0.0\n",
      "3  0.0  1.0  1.0  0.0     0.0\n",
      "4  1.0  0.0  0.0  1.0     0.0\n",
      "5  1.0  0.0  1.0  1.0     0.0\n",
      "6  1.0  1.0  0.0  1.0     0.0\n",
      "7  1.0  1.0  1.0  1.0     1.0\n"
     ]
    },
    {
     "data": {
      "application/vnd.jupyter.widget-view+json": {
       "model_id": "587f7d90de784a93b790c9df1a263433",
       "version_major": 2,
       "version_minor": 0
      },
      "text/plain": [
       "  0%|          | 0/8 [00:00<?, ?it/s]"
      ]
     },
     "metadata": {},
     "output_type": "display_data"
    },
    {
     "data": {
      "image/png": "[encoded data removed]",
      "text/plain": [
       "<Figure size 576x223.2 with 2 Axes>"
      ]
     },
     "metadata": {
      "needs_background": "light"
     },
     "output_type": "display_data"
    }
   ],
   "source": [
    "# todo: make this consistent with shap_net\n",
    "def shap_ccm_res(ccm_res, shap_x, bs, c, shap_idx=None):\n",
    "    '''if ccm is paired with joint ebm, Z0 is logit, else it is after sigmoid'''\n",
    "    explain_X = torch.from_numpy(np.array(shap_x))\n",
    "    z_hat = get_output(ccm_res.net_a.net_c,\n",
    "                       DataLoader(TensorDataset(explain_X), batch_size=bs, shuffle=False))\n",
    "    z_hat = pd.DataFrame(z_hat, columns=[f'Z{i}' for i in range(c)])\n",
    "    shap_concepts = pd.concat((shap_x, z_hat), 1)\n",
    "\n",
    "    ccm_res_concept = lambda x: F.softmax(ccm_res.net_a.net_y(torch.from_numpy(x[:, -c:])) + ccm_res.net_b(torch.from_numpy(x[:, :d])), 1).detach()[:, 1].numpy()\n",
    "\n",
    "    # print prediction\n",
    "    prediction = get_output(nn.Sequential(ccm_res, nn.Softmax(dim=1)),\n",
    "                            DataLoader(TensorDataset(explain_X), batch_size=bs, shuffle=False))\n",
    "    print(pd.concat((shap_concepts.round(2),\n",
    "                     pd.DataFrame({\"hat Y1\": np.around(prediction[:, 1], 2)})), 1).sort_values('hat Y1'))\n",
    "\n",
    "    # shap explanation\n",
    "    explainer = shap.KernelExplainer(ccm_res_concept, \n",
    "                                     shap_concepts)\n",
    "    shap_values = explainer.shap_values(shap_concepts, nsamples=100)\n",
    "    if shap_idx:\n",
    "        shap.summary_plot(shap_values[shap_idx:shap_idx+1], shap_concepts)\n",
    "    else:\n",
    "        shap.summary_plot(shap_values, shap_concepts)\n",
    "    \n",
    "shap_ccm_res(ccm_res, shap_x, bs, c)"
   ]
  },
  {
   "cell_type": "markdown",
   "id": "demonstrated-coordinator",
   "metadata": {},
   "source": [
    "**The concept appears to have no influence at all: the model recompute concepts from scratch**"
   ]
  },
  {
   "cell_type": "code",
   "execution_count": 173,
   "id": "apart-gates",
   "metadata": {},
   "outputs": [
    {
     "name": "stdout",
     "output_type": "stream",
     "text": [
      "number of concepts to learn: 1\n",
      "true number of concepts: 3\n",
      "    X0   X1   X2     Z0  hat Y1\n",
      "0  0.0  0.0  0.0  -4.52    0.00\n",
      "1  0.0  0.0  1.0  -6.43    0.00\n",
      "2  0.0  1.0  0.0  -7.76    0.00\n",
      "3  0.0  1.0  1.0  -9.67    0.00\n",
      "4  1.0  0.0  0.0  13.65    0.00\n",
      "5  1.0  0.0  1.0   8.67    0.00\n",
      "6  1.0  1.0  0.0   8.71    0.00\n",
      "7  1.0  1.0  1.0   3.73    0.96\n"
     ]
    },
    {
     "data": {
      "application/vnd.jupyter.widget-view+json": {
       "model_id": "66b38f2e8daa4314afc97d3318a3f293",
       "version_major": 2,
       "version_minor": 0
      },
      "text/plain": [
       "  0%|          | 0/8 [00:00<?, ?it/s]"
      ]
     },
     "metadata": {},
     "output_type": "display_data"
    },
    {
     "data": {
      "image/png": "[encoded data removed]",
      "text/plain": [
       "<Figure size 576x223.2 with 2 Axes>"
      ]
     },
     "metadata": {
      "needs_background": "light"
     },
     "output_type": "display_data"
    }
   ],
   "source": [
    "ccm_res_joint = res_CCM(copy.deepcopy(ebm_joint), d, c, X, Y, n_epochs=0, report_every=1, plot=False) #n_epochs//10)\n",
    "shap_ccm_res(ccm_res_joint, shap_x, bs, c)"
   ]
  },
  {
   "cell_type": "markdown",
   "id": "pressed-participant",
   "metadata": {},
   "source": [
    "The above graph sanity checks that joint EBM based residue CCM does not use raw input"
   ]
  },
  {
   "cell_type": "code",
   "execution_count": null,
   "id": "unsigned-fashion",
   "metadata": {},
   "outputs": [],
   "source": []
  }
 ],
 "metadata": {
  "kernelspec": {
   "display_name": "Python 3",
   "language": "python",
   "name": "python3"
  },
  "language_info": {
   "codemirror_mode": {
    "name": "ipython",
    "version": 3
   },
   "file_extension": ".py",
   "mimetype": "text/x-python",
   "name": "python",
   "nbconvert_exporter": "python",
   "pygments_lexer": "ipython3",
   "version": "3.7.9"
  }
 },
 "nbformat": 4,
 "nbformat_minor": 5
}
