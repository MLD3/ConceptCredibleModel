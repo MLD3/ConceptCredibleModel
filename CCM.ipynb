{
 "cells": [
  {
   "cell_type": "markdown",
   "id": "sublime-tournament",
   "metadata": {},
   "source": [
    "# Credible Concept Model (CCM) tutorial: extending credible model to uninterpretable raw features\n",
    "\n",
    "By the end of the tutorial, one should be able to\n",
    "\n",
    "1. understand the motivation of CCM\n",
    "2. understand the CCM algorithm\n",
    "3. able to train an CCM model"
   ]
  },
  {
   "cell_type": "code",
   "execution_count": 1,
   "id": "beginning-april",
   "metadata": {
    "tags": []
   },
   "outputs": [],
   "source": [
    "import numpy as np\n",
    "import copy\n",
    "import shap\n",
    "import pandas as pd\n",
    "import matplotlib.pyplot as plt\n",
    "import copy\n",
    "import torch\n",
    "import torch.nn as nn\n",
    "import torch.optim as optim\n",
    "import torch.nn.functional as F\n",
    "from torch.utils.data import TensorDataset, DataLoader\n",
    "\n",
    "from lib.models import CCM, CBM, MLP, LambdaNet\n",
    "from lib.train import train_step_standard, train_step_xyz, train\n",
    "from lib.eval import get_output, test, plot_log, shap_net_x, shap_ccm_c, bootstrap\n",
    "from lib.utils import dfs_freeze"
   ]
  },
  {
   "cell_type": "markdown",
   "id": "legitimate-capture",
   "metadata": {},
   "source": [
    "# A motivating example\n",
    "\n",
    "Despite the fact that model interpretation suffers from faithfulness and fragility issues (and also people's overtrust of the interpretation), it is still useful to enforce prior knowledge. Feature attribution tools often assume that features are interpretable. This makes them less applicable when raw features are complicated (say in the image or audio domain). Thus, a lot of recent research effort have been poured in to explanation with high level concepts. Among them is this idea of concept bottleneck network (CBM). In this work, we expose the flaw of CBM and suggest a simple fix. \n",
    "\n",
    "**We define EBM as CBM only using expert identified features as concepts**.\n",
    "\n",
    "This examples shows why missing concept is a nastier problem than one would think.\n",
    "\n",
    "$Z \\sim U(\\{0, 1\\})^d$ are $d$ latent concepts\n",
    "\n",
    "$X = project(Z)$ is a random linear projection of concepts presented to the human (the following just used identity for simplicity)\n",
    "\n",
    "$X \\rightarrow C \\rightarrow X$ where $C \\in \\mathbb{R}^{d-1}$ is concept detectors\n",
    "\n",
    "$Y = and(Z)$ where $\\theta$ is the true coefficient.\n",
    "\n",
    "This setup will fail raw feature attribution (because $X$ distribute concepts across dimensions), concept discovery (when the function is a \"and\" concept), jointly trained concept (because $C$ has 1 less dimension off $Z$)."
   ]
  },
  {
   "cell_type": "code",
   "execution_count": 2,
   "id": "affecting-large",
   "metadata": {
    "tags": []
   },
   "outputs": [
    {
     "name": "stdout",
     "output_type": "stream",
     "text": [
      "Percentage of ones 87.50%\n"
     ]
    }
   ],
   "source": [
    "n = 10000\n",
    "d = 3 # true number of concepts needed for classification\n",
    "c = 1 # number of expert identified concepts\n",
    "bs = 100\n",
    "n_epochs = 50\n",
    "\n",
    "def gen_data(n, d):\n",
    "    Z = np.random.choice([0, 1], (n, d))\n",
    "    X = Z\n",
    "    # and of the arguments\n",
    "    Y = np.ones(n)\n",
    "    for i in range(d):\n",
    "        Y = np.logical_and(Y, Z[:, i])\n",
    "\n",
    "    return torch.from_numpy(X).float(), torch.from_numpy(Y).long(), torch.from_numpy(Z).float()\n",
    "\n",
    "X, Y, Z = gen_data(n, d)\n",
    "X_te, Y_te, Z_te = gen_data(n, d)\n",
    "print(f'Percentage of ones {(1-0.5**d)*100:.2f}%')"
   ]
  },
  {
   "cell_type": "markdown",
   "id": "formal-genealogy",
   "metadata": {},
   "source": [
    "**Note that the above value ($1-1/2^d$) is also the theoretical limit the accuracy of EBM** because\n",
    "\n",
    "\\begin{align}\n",
    "P(\\hat{y} = y) &= P(Z_1=Z_2=\\cdots=Z_c=1) P (\\hat{y} = y | Z_1=Z_2=\\cdots=Z_c=1) + P(\\overline{Z_1=Z_2=\\cdots=Z_c=1}) P(\\hat{y} = y | \\overline{Z_1=Z_2=\\cdots=Z_c=1})\\\\\n",
    "&= 1 / 2^c \\cdot (1 - 1 / 2^{d-c}) + (1 - 1 / 2^c) \\cdot 1\\\\\n",
    "&= 1 - 1 / 2^d\n",
    "\\end{align}"
   ]
  },
  {
   "cell_type": "code",
   "execution_count": 3,
   "id": "another-right",
   "metadata": {
    "tags": []
   },
   "outputs": [],
   "source": [
    "# accuracy\n",
    "acc_criterion = lambda o, y: (o.argmax(1) == y).float()\n",
    "\n",
    "# dataset\n",
    "loader_xy = DataLoader(TensorDataset(X, Y), batch_size=bs, shuffle=True) # regular dataset\n",
    "loader_xyz = DataLoader(TensorDataset(X, Y, Z), batch_size=bs, shuffle=True) # joint concept and regular dataset\n",
    "\n",
    "loader_xy_te = DataLoader(TensorDataset(X_te, Y_te), batch_size=bs, shuffle=False) # regular dataset\n",
    "loader_xyz_te = DataLoader(TensorDataset(X_te, Y_te, Z_te), batch_size=bs, shuffle=False) # joint concept and regular dataset"
   ]
  },
  {
   "cell_type": "markdown",
   "id": "reverse-ferry",
   "metadata": {},
   "source": [
    "## standard model"
   ]
  },
  {
   "cell_type": "code",
   "execution_count": 4,
   "id": "restricted-standard",
   "metadata": {
    "tags": []
   },
   "outputs": [
    {
     "name": "stdout",
     "output_type": "stream",
     "text": [
      "epoch   4: loss 2.345e-01\n",
      "epoch   9: loss 7.361e-02\n",
      "epoch  14: loss 2.911e-02\n",
      "epoch  19: loss 1.403e-02\n",
      "epoch  24: loss 7.652e-03\n",
      "epoch  29: loss 4.550e-03\n",
      "epoch  34: loss 2.877e-03\n",
      "epoch  39: loss 1.896e-03\n",
      "epoch  44: loss 1.290e-03\n",
      "epoch  49: loss 8.981e-04\n"
     ]
    },
    {
     "data": {
      "image/png": "[encoded data removed]",
      "text/plain": [
       "<Figure size 432x288 with 1 Axes>"
      ]
     },
     "metadata": {
      "needs_background": "light"
     },
     "output_type": "display_data"
    }
   ],
   "source": [
    "def standard_model(loader_xy, d, n_epochs=10, report_every=1, plot=True):\n",
    "    # regular model\n",
    "    net = MLP([d, d * 2, 2])\n",
    "\n",
    "    # train\n",
    "    opt = optim.Adam(net.parameters())\n",
    "    log = train(net, loader_xy, opt, n_epochs=n_epochs, report_every=report_every)\n",
    "    if plot: plot_log(log)\n",
    "    return net\n",
    "\n",
    "standard_net = standard_model(loader_xy, d, n_epochs=n_epochs, report_every=n_epochs//10)"
   ]
  },
  {
   "cell_type": "code",
   "execution_count": 5,
   "id": "bacterial-metro",
   "metadata": {
    "tags": []
   },
   "outputs": [
    {
     "name": "stdout",
     "output_type": "stream",
     "text": [
      "task acc after training: 100.0%\n"
     ]
    }
   ],
   "source": [
    "print('task acc after training: {:.1f}%'.format(test(standard_net, loader_xy_te, acc_criterion) * 100))"
   ]
  },
  {
   "cell_type": "markdown",
   "id": "bored-concept",
   "metadata": {},
   "source": [
    "## joint EBM"
   ]
  },
  {
   "cell_type": "code",
   "execution_count": 6,
   "id": "sixth-mumbai",
   "metadata": {
    "tags": []
   },
   "outputs": [
    {
     "name": "stdout",
     "output_type": "stream",
     "text": [
      "number of concepts to learn: 1\n",
      "true number of concepts: 3\n",
      "epoch   4: loss 6.564e-03\n",
      "epoch   9: loss 3.416e-03\n",
      "epoch  14: loss 2.411e-03\n",
      "epoch  19: loss 1.769e-03\n",
      "epoch  24: loss 1.243e-03\n",
      "epoch  29: loss 8.420e-04\n",
      "epoch  34: loss 5.675e-04\n",
      "epoch  39: loss 3.876e-04\n",
      "epoch  44: loss 2.696e-04\n",
      "epoch  49: loss 1.910e-04\n"
     ]
    },
    {
     "data": {
      "image/png": "[encoded data removed]",
      "text/plain": [
       "<Figure size 432x288 with 1 Axes>"
      ]
     },
     "metadata": {
      "needs_background": "light"
     },
     "output_type": "display_data"
    }
   ],
   "source": [
    "def joint_EBM(d, c, loader_xyz, n_epochs=10, report_every=1, plot=True):\n",
    "    c = min(d, c)\n",
    "    print(f'number of concepts to learn: {c}')\n",
    "    print(f'true number of concepts: {d}')\n",
    "    \n",
    "    # EBM with concept and task jointly trained\n",
    "    net_c = MLP([d, d * 2, c])\n",
    "    net_y = MLP([c, d * 2, 2])\n",
    "    net = CBM(net_c, net_y)\n",
    "    \n",
    "    # train\n",
    "    def criterion(o_y, y, o_z, z):\n",
    "        y_loss = F.cross_entropy(o_y, y).sum()\n",
    "        z_loss = F.binary_cross_entropy(torch.sigmoid(o_z), z[:, :c]).sum()\n",
    "        return (y_loss + z_loss) / len(y)\n",
    "    \n",
    "    opt = optim.Adam(net.parameters())\n",
    "    log = train(net, loader_xyz, opt, train_step=train_step_xyz, \n",
    "                criterion=criterion, n_epochs=n_epochs, report_every=report_every)\n",
    "    if plot: plot_log(log)\n",
    "    \n",
    "    return net\n",
    "\n",
    "ebm_joint = joint_EBM(d, c, loader_xyz, n_epochs=n_epochs, report_every=n_epochs//10)"
   ]
  },
  {
   "cell_type": "markdown",
   "id": "lyric-findings",
   "metadata": {},
   "source": [
    "### TODO: the current setup only conciders concepts being binary, need to rewrite for multiclass concepts and regression concepts"
   ]
  },
  {
   "cell_type": "code",
   "execution_count": 7,
   "id": "played-cornwall",
   "metadata": {
    "tags": []
   },
   "outputs": [
    {
     "name": "stdout",
     "output_type": "stream",
     "text": [
      "task acc after training: 100.0%\n",
      "concept 0 acc after training: 100.0%\n"
     ]
    }
   ],
   "source": [
    "def test_concept(net, concept_idx, loader):\n",
    "    '''net output many logit for concepts, concept_idx is the concept index'''\n",
    "    net.eval()\n",
    "    losses = []\n",
    "    total = 0\n",
    "    for x, y in loader:\n",
    "        o = net(x) # (bs, c)\n",
    "        o2 = torch.sigmoid(o[:, concept_idx]) > 0.5\n",
    "        l = (o2 == y).float().mean()\n",
    "        bs = o.shape[0]\n",
    "        total += bs        \n",
    "        losses.append(l.detach().item() * bs)\n",
    "    net.train()\n",
    "    return sum(losses) / total\n",
    "\n",
    "def print_concept_acc(net_c, c, X_te, Z_te):\n",
    "    for i in range(c):\n",
    "        print('concept {} acc after training: {:.1f}%'.format(i, test_concept(net_c,\n",
    "                                                                              i,\n",
    "                                                                              DataLoader(TensorDataset(X_te, Z_te[:, i]), batch_size=bs)) * 100))\n",
    "\n",
    "print('task acc after training: {:.1f}%'.format(test(ebm_joint, loader_xy_te, acc_criterion ) * 100))\n",
    "print_concept_acc(ebm_joint.net_c, c, X_te, Z_te)"
   ]
  },
  {
   "cell_type": "markdown",
   "id": "behavioral-formula",
   "metadata": {},
   "source": [
    "**Note Jointly trained EBM has accuracy above the thoretical limit of ($1 - 2^d$) without sacrificing concept accuracy. This is why it is wrong!**"
   ]
  },
  {
   "cell_type": "markdown",
   "id": "unique-least",
   "metadata": {},
   "source": [
    "## independent EBM"
   ]
  },
  {
   "cell_type": "code",
   "execution_count": 8,
   "id": "ready-anchor",
   "metadata": {
    "tags": []
   },
   "outputs": [
    {
     "name": "stdout",
     "output_type": "stream",
     "text": [
      "number of concepts to learn: 1\n",
      "true number of concepts: 3\n",
      "training concepts ...\n",
      "epoch   4: loss 2.224e-01\n",
      "epoch   9: loss 4.197e-02\n",
      "epoch  14: loss 1.470e-02\n",
      "epoch  19: loss 7.005e-03\n",
      "epoch  24: loss 3.912e-03\n",
      "epoch  29: loss 2.391e-03\n",
      "epoch  34: loss 1.548e-03\n",
      "epoch  39: loss 1.042e-03\n",
      "epoch  44: loss 7.214e-04\n",
      "epoch  49: loss 5.096e-04\n",
      "training tasks ...\n",
      "epoch   4: loss 3.724e-01\n",
      "epoch   9: loss 3.085e-01\n",
      "epoch  14: loss 2.918e-01\n",
      "epoch  19: loss 2.870e-01\n",
      "epoch  24: loss 2.852e-01\n",
      "epoch  29: loss 2.844e-01\n",
      "epoch  34: loss 2.838e-01\n",
      "epoch  39: loss 2.835e-01\n",
      "epoch  44: loss 2.832e-01\n",
      "epoch  49: loss 2.831e-01\n"
     ]
    },
    {
     "data": {
      "image/png": "[encoded data removed]",
      "text/plain": [
       "<Figure size 432x288 with 1 Axes>"
      ]
     },
     "metadata": {
      "needs_background": "light"
     },
     "output_type": "display_data"
    }
   ],
   "source": [
    "def ind_EBM(d, c, X, Y, Z, n_epochs=10, report_every=1, plot=True):\n",
    "    c = min(d, c)\n",
    "    print(f'number of concepts to learn: {c}')\n",
    "    print(f'true number of concepts: {d}')\n",
    "    \n",
    "    # EBM with concept and task independently trained\n",
    "    net_c = nn.Sequential(MLP([d, d * 2, c]), nn.Sigmoid())\n",
    "    net_y = MLP([c, d * 2, 2])\n",
    "    net = CBM(net_c, net_y)\n",
    "    \n",
    "    # train\n",
    "    print('training concepts ...')\n",
    "    opt_c = optim.Adam(net_c.parameters())\n",
    "    train(net_c, \n",
    "          DataLoader(TensorDataset(X, Z[:, :c]), batch_size=bs, shuffle=True), \n",
    "          opt_c, criterion=nn.BCELoss(), n_epochs=n_epochs, report_every=report_every)\n",
    "\n",
    "    print('training tasks ...')\n",
    "    opt_y = optim.Adam(net_y.parameters())\n",
    "    log = train(net_y, \n",
    "                DataLoader(TensorDataset(Z[:, :c], Y), batch_size=bs, shuffle=True), \n",
    "                opt_y, n_epochs=n_epochs, report_every=report_every)\n",
    "    if plot: plot_log(log)\n",
    "\n",
    "    return net\n",
    "\n",
    "ebm_ind = ind_EBM(d, c, X, Y, Z, n_epochs=n_epochs, report_every=n_epochs//10)"
   ]
  },
  {
   "cell_type": "code",
   "execution_count": 9,
   "id": "biological-milton",
   "metadata": {
    "tags": []
   },
   "outputs": [
    {
     "name": "stdout",
     "output_type": "stream",
     "text": [
      "task acc after training: 87.70%\n",
      "concept 0 acc after training: 100.0%\n"
     ]
    }
   ],
   "source": [
    "print('task acc after training: {:.2f}%'.format(test(ebm_ind, loader_xy_te, acc_criterion ) * 100)) # the optimum is 1/16 + 3/4; the strategy is to randomize if the first concept is 1, otherwise output 0\n",
    "print_concept_acc(ebm_ind.net_c[0], c, X_te, Z_te) # net_c[0] because it is the logit part"
   ]
  },
  {
   "cell_type": "code",
   "execution_count": 28,
   "id": "opposed-breathing",
   "metadata": {},
   "outputs": [
    {
     "name": "stdout",
     "output_type": "stream",
     "text": [
      "task acc 95% CI (87.25, 88.40)%\n"
     ]
    }
   ],
   "source": [
    "o = get_output(ebm_ind, \n",
    "               DataLoader(TensorDataset(X_te), batch_size=bs, shuffle=False)).argmax(1)\n",
    "ci_l, ci_h = bootstrap(lambda o, y: (o==y).mean(), o, Y_te.numpy())\n",
    "print(f'task acc 95% CI ({ci_l*100:.2f}, {ci_h*100:.2f})%')"
   ]
  },
  {
   "cell_type": "markdown",
   "id": "electric-crossing",
   "metadata": {},
   "source": [
    "## Concept completeness\n",
    "\n",
    "Since concept can overload in joint EBM, concept completeness measure would only help if we can understand what concept it is using, which defeats the purpose of using high level feature."
   ]
  },
  {
   "cell_type": "code",
   "execution_count": 10,
   "id": "falling-teach",
   "metadata": {
    "tags": []
   },
   "outputs": [
    {
     "data": {
      "text/html": [
       "<div>\n",
       "<style scoped>\n",
       "    .dataframe tbody tr th:only-of-type {\n",
       "        vertical-align: middle;\n",
       "    }\n",
       "\n",
       "    .dataframe tbody tr th {\n",
       "        vertical-align: top;\n",
       "    }\n",
       "\n",
       "    .dataframe thead th {\n",
       "        text-align: right;\n",
       "    }\n",
       "</style>\n",
       "<table border=\"1\" class=\"dataframe\">\n",
       "  <thead>\n",
       "    <tr style=\"text-align: right;\">\n",
       "      <th></th>\n",
       "      <th>X0</th>\n",
       "      <th>X1</th>\n",
       "      <th>X2</th>\n",
       "    </tr>\n",
       "  </thead>\n",
       "  <tbody>\n",
       "    <tr>\n",
       "      <th>0</th>\n",
       "      <td>0.0</td>\n",
       "      <td>0.0</td>\n",
       "      <td>0.0</td>\n",
       "    </tr>\n",
       "    <tr>\n",
       "      <th>1</th>\n",
       "      <td>0.0</td>\n",
       "      <td>0.0</td>\n",
       "      <td>1.0</td>\n",
       "    </tr>\n",
       "    <tr>\n",
       "      <th>2</th>\n",
       "      <td>0.0</td>\n",
       "      <td>1.0</td>\n",
       "      <td>0.0</td>\n",
       "    </tr>\n",
       "    <tr>\n",
       "      <th>3</th>\n",
       "      <td>0.0</td>\n",
       "      <td>1.0</td>\n",
       "      <td>1.0</td>\n",
       "    </tr>\n",
       "    <tr>\n",
       "      <th>4</th>\n",
       "      <td>1.0</td>\n",
       "      <td>0.0</td>\n",
       "      <td>0.0</td>\n",
       "    </tr>\n",
       "    <tr>\n",
       "      <th>5</th>\n",
       "      <td>1.0</td>\n",
       "      <td>0.0</td>\n",
       "      <td>1.0</td>\n",
       "    </tr>\n",
       "    <tr>\n",
       "      <th>6</th>\n",
       "      <td>1.0</td>\n",
       "      <td>1.0</td>\n",
       "      <td>0.0</td>\n",
       "    </tr>\n",
       "    <tr>\n",
       "      <th>7</th>\n",
       "      <td>1.0</td>\n",
       "      <td>1.0</td>\n",
       "      <td>1.0</td>\n",
       "    </tr>\n",
       "  </tbody>\n",
       "</table>\n",
       "</div>"
      ],
      "text/plain": [
       "    X0   X1   X2\n",
       "0  0.0  0.0  0.0\n",
       "1  0.0  0.0  1.0\n",
       "2  0.0  1.0  0.0\n",
       "3  0.0  1.0  1.0\n",
       "4  1.0  0.0  0.0\n",
       "5  1.0  0.0  1.0\n",
       "6  1.0  1.0  0.0\n",
       "7  1.0  1.0  1.0"
      ]
     },
     "execution_count": 10,
     "metadata": {},
     "output_type": "execute_result"
    }
   ],
   "source": [
    "# generate all possible input\n",
    "explain_X = []\n",
    "for i in range(2**d):\n",
    "    item = np.zeros(d)\n",
    "    idx = 0\n",
    "    while i != 0:\n",
    "        idx += 1\n",
    "        item[-idx] = i % 2\n",
    "        i = i // 2\n",
    "    explain_X.append(item)\n",
    "explain_X = torch.from_numpy(np.array(explain_X)).float()\n",
    "shap_x = pd.DataFrame(explain_X.numpy(), columns=[f'X{i}' for i in range(d)])\n",
    "shap_x"
   ]
  },
  {
   "cell_type": "code",
   "execution_count": 11,
   "id": "documentary-induction",
   "metadata": {},
   "outputs": [
    {
     "name": "stdout",
     "output_type": "stream",
     "text": [
      "    X0   X1   X2  logit Z0\n",
      "3  0.0  1.0  1.0     -5.97\n",
      "1  0.0  0.0  1.0     -4.87\n",
      "2  0.0  1.0  0.0     -4.87\n",
      "0  0.0  0.0  0.0     -3.83\n",
      "7  1.0  1.0  1.0      1.81\n",
      "4  1.0  0.0  0.0      2.89\n",
      "5  1.0  0.0  1.0      2.89\n",
      "6  1.0  1.0  0.0      2.89\n",
      "Explaining logit Z0\n"
     ]
    },
    {
     "data": {
      "application/vnd.jupyter.widget-view+json": {
       "model_id": "3a3ce4fae6764ea98b7c26bd085c2c55",
       "version_major": 2,
       "version_minor": 0
      },
      "text/plain": [
       "  0%|          | 0/8 [00:00<?, ?it/s]"
      ]
     },
     "metadata": {},
     "output_type": "display_data"
    },
    {
     "data": {
      "image/png": "[encoded data removed]",
      "text/plain": [
       "<Figure size 576x194.4 with 2 Axes>"
      ]
     },
     "metadata": {
      "needs_background": "light"
     },
     "output_type": "display_data"
    }
   ],
   "source": [
    "shap_net_x(ebm_joint.net_c, shap_x, bs, output_name=\"logit Z\")"
   ]
  },
  {
   "cell_type": "code",
   "execution_count": 12,
   "id": "electronic-trunk",
   "metadata": {},
   "outputs": [
    {
     "name": "stdout",
     "output_type": "stream",
     "text": [
      "    X0   X1   X2  logit Z0\n",
      "3  0.0  1.0  1.0     -7.57\n",
      "2  0.0  1.0  0.0     -7.11\n",
      "1  0.0  0.0  1.0     -7.07\n",
      "0  0.0  0.0  0.0     -6.61\n",
      "4  1.0  0.0  0.0      6.81\n",
      "7  1.0  1.0  1.0      7.06\n",
      "6  1.0  1.0  0.0      7.52\n",
      "5  1.0  0.0  1.0      7.57\n",
      "Explaining logit Z0\n"
     ]
    },
    {
     "data": {
      "application/vnd.jupyter.widget-view+json": {
       "model_id": "e6cd75554f0445948404eb65c5c44e73",
       "version_major": 2,
       "version_minor": 0
      },
      "text/plain": [
       "  0%|          | 0/8 [00:00<?, ?it/s]"
      ]
     },
     "metadata": {},
     "output_type": "display_data"
    },
    {
     "data": {
      "image/png": "[encoded data removed]",
      "text/plain": [
       "<Figure size 576x194.4 with 2 Axes>"
      ]
     },
     "metadata": {
      "needs_background": "light"
     },
     "output_type": "display_data"
    }
   ],
   "source": [
    "shap_net_x(LambdaNet(lambda x: ebm_ind.net_c[0](x)), shap_x, bs, output_name=\"logit Z\")"
   ]
  },
  {
   "cell_type": "markdown",
   "id": "preliminary-cooperation",
   "metadata": {},
   "source": [
    "It's very hard to tell whether the concept detector is overloaded as it is clearly more dependent on the first concept.\n",
    "\n",
    "### TODO: run this example with Yeh et al's measure and its interpretable model\n",
    "\n",
    "In fact we can even analytically define the concept vector as $[1, -0.1, -0.1]$. This clearly would prefer concept 0 in order to activate. However, it still gives away information about both concept 1 and concept 2.\n"
   ]
  },
  {
   "cell_type": "markdown",
   "id": "temporal-edinburgh",
   "metadata": {},
   "source": [
    "## TODO: EBM sequential\n",
    "\n",
    "EBM sequential don't need concept dataset and the classification task to overlap, which is way more flexible. The lesson is we should not jointly train interpretable models: this would transfer to CCM."
   ]
  },
  {
   "cell_type": "code",
   "execution_count": null,
   "id": "imperial-turkish",
   "metadata": {},
   "outputs": [],
   "source": []
  },
  {
   "cell_type": "markdown",
   "id": "intermediate-argument",
   "metadata": {},
   "source": [
    "## CCM residue\n",
    "\n",
    "It would fail because we know the impact should be the same for $Z_0$ and $Z_1$ and $Z_2$, but we would have observed $Z_0$ have less impact."
   ]
  },
  {
   "cell_type": "code",
   "execution_count": 13,
   "id": "closed-welsh",
   "metadata": {},
   "outputs": [
    {
     "name": "stdout",
     "output_type": "stream",
     "text": [
      "number of concepts to learn: 1\n",
      "true number of concepts: 3\n",
      "epoch   4: loss 1.989e-01\n",
      "epoch   9: loss 1.131e-01\n",
      "epoch  14: loss 6.481e-02\n",
      "epoch  19: loss 4.045e-02\n",
      "epoch  24: loss 2.708e-02\n",
      "epoch  29: loss 1.863e-02\n",
      "epoch  34: loss 1.323e-02\n",
      "epoch  39: loss 9.570e-03\n",
      "epoch  44: loss 7.015e-03\n",
      "epoch  49: loss 5.192e-03\n"
     ]
    },
    {
     "data": {
      "image/png": "[encoded data removed]",
      "text/plain": [
       "<Figure size 432x288 with 1 Axes>"
      ]
     },
     "metadata": {
      "needs_background": "light"
     },
     "output_type": "display_data"
    }
   ],
   "source": [
    "def res_CCM(ebm, d, c, X, Y, n_epochs=10, report_every=1, bs=100, plot=True):\n",
    "    '''\n",
    "    residue CCM: net_y adds ebm(x) and cbm_res(x)\n",
    "    where cbm_res is cbm with not interpretable concepts\n",
    "    '''\n",
    "    c = min(d, c)\n",
    "    print(f'number of concepts to learn: {c}')\n",
    "    print(f'true number of concepts: {d}')\n",
    "\n",
    "    # freeze ebm (don't require grad) so that it does not train\n",
    "    ebm.eval()\n",
    "    dfs_freeze(ebm)\n",
    "\n",
    "    # additional channel to fit residue\n",
    "    # classification problem: pure residue does not work b/c y is not continous (cannot test acc)\n",
    "    # we need to fit to the logit\n",
    "    cbm_res = CBM(LambdaNet(lambda x: x), MLP([d, d * 2, 2]))\n",
    "    net_y = LambdaNet(lambda c, not_c: ebm.net_y(c) + cbm_res.net_y(not_c))\n",
    "    net = CCM(ebm.net_c, cbm_res.net_c, net_y)\n",
    "\n",
    "    # train\n",
    "    opt = optim.Adam(cbm_res.parameters())\n",
    "    log = train(net, \n",
    "                DataLoader(TensorDataset(X, Y), batch_size=bs), \n",
    "                opt, n_epochs=n_epochs, report_every=report_every)\n",
    "    if plot: plot_log(log)\n",
    "    return net\n",
    "    \n",
    "ccm_res = res_CCM(copy.deepcopy(ebm_ind), d, c, X, Y, n_epochs=n_epochs, report_every=n_epochs//10)"
   ]
  },
  {
   "cell_type": "code",
   "execution_count": 14,
   "id": "located-notion",
   "metadata": {},
   "outputs": [
    {
     "name": "stdout",
     "output_type": "stream",
     "text": [
      "task acc after training: 100.00%\n"
     ]
    }
   ],
   "source": [
    "print('task acc after training: {:.2f}%'.format(test(ccm_res, loader_xy_te, acc_criterion ) * 100))"
   ]
  },
  {
   "cell_type": "code",
   "execution_count": 15,
   "id": "signed-smile",
   "metadata": {},
   "outputs": [
    {
     "name": "stdout",
     "output_type": "stream",
     "text": [
      "    X0   X1   X2  hat Y0  hat Y1\n",
      "7  1.0  1.0  1.0    0.03    0.97\n",
      "0  0.0  0.0  0.0    1.00    0.00\n",
      "1  0.0  0.0  1.0    1.00    0.00\n",
      "2  0.0  1.0  0.0    1.00    0.00\n",
      "3  0.0  1.0  1.0    1.00    0.00\n",
      "4  1.0  0.0  0.0    1.00    0.00\n",
      "5  1.0  0.0  1.0    1.00    0.00\n",
      "6  1.0  1.0  0.0    1.00    0.00\n",
      "Explaining hat Y1\n"
     ]
    },
    {
     "data": {
      "application/vnd.jupyter.widget-view+json": {
       "model_id": "036820adbffc428082752c9ec5a3982c",
       "version_major": 2,
       "version_minor": 0
      },
      "text/plain": [
       "  0%|          | 0/8 [00:00<?, ?it/s]"
      ]
     },
     "metadata": {},
     "output_type": "display_data"
    },
    {
     "data": {
      "image/png": "[encoded data removed]",
      "text/plain": [
       "<Figure size 576x194.4 with 2 Axes>"
      ]
     },
     "metadata": {
      "needs_background": "light"
     },
     "output_type": "display_data"
    }
   ],
   "source": [
    "shap_net_x(nn.Sequential(ccm_res, nn.Softmax(dim=1)), shap_x, bs, output_name=\"hat Y\", output_idx=1)"
   ]
  },
  {
   "cell_type": "markdown",
   "id": "extended-findings",
   "metadata": {},
   "source": [
    "They seem very symmetrical in the input space. However, if we focus on concept attribution:"
   ]
  },
  {
   "cell_type": "code",
   "execution_count": 16,
   "id": "addressed-stuart",
   "metadata": {},
   "outputs": [
    {
     "name": "stdout",
     "output_type": "stream",
     "text": [
      "    Z0   X0   X1   X2  hat Y0  hat Y1\n",
      "7  1.0  1.0  1.0  1.0    0.03    0.97\n",
      "0  0.0  0.0  0.0  0.0    1.00    0.00\n",
      "1  0.0  0.0  0.0  1.0    1.00    0.00\n",
      "2  0.0  0.0  1.0  0.0    1.00    0.00\n",
      "3  0.0  0.0  1.0  1.0    1.00    0.00\n",
      "4  1.0  1.0  0.0  0.0    1.00    0.00\n",
      "5  1.0  1.0  0.0  1.0    1.00    0.00\n",
      "6  1.0  1.0  1.0  0.0    1.00    0.00\n",
      "Explaining hat Y1\n"
     ]
    },
    {
     "data": {
      "application/vnd.jupyter.widget-view+json": {
       "model_id": "33ccaeef0b3d409593cd502006aec769",
       "version_major": 2,
       "version_minor": 0
      },
      "text/plain": [
       "  0%|          | 0/8 [00:00<?, ?it/s]"
      ]
     },
     "metadata": {},
     "output_type": "display_data"
    },
    {
     "data": {
      "image/png": "[encoded data removed]",
      "text/plain": [
       "<Figure size 576x223.2 with 2 Axes>"
      ]
     },
     "metadata": {
      "needs_background": "light"
     },
     "output_type": "display_data"
    }
   ],
   "source": [
    "shap_ccm_c(ccm_res, shap_x, bs, not_c_name='X', output_idx=1) # not_c_name is input b/c I used identity for ccm.not_c"
   ]
  },
  {
   "cell_type": "markdown",
   "id": "casual-michael",
   "metadata": {},
   "source": [
    "**Z's influence is divided by X: the model recompute concepts from scratch**"
   ]
  },
  {
   "cell_type": "code",
   "execution_count": 17,
   "id": "advisory-lottery",
   "metadata": {},
   "outputs": [
    {
     "name": "stdout",
     "output_type": "stream",
     "text": [
      "number of concepts to learn: 1\n",
      "true number of concepts: 3\n",
      "   logit Z0   X0   X1   X2  hat Y0  hat Y1\n",
      "7      1.81  1.0  1.0  1.0    0.01    0.99\n",
      "0     -3.83  0.0  0.0  0.0    1.00    0.00\n",
      "1     -4.87  0.0  0.0  1.0    1.00    0.00\n",
      "2     -4.87  0.0  1.0  0.0    1.00    0.00\n",
      "3     -5.97  0.0  1.0  1.0    1.00    0.00\n",
      "4      2.89  1.0  0.0  0.0    1.00    0.00\n",
      "5      2.89  1.0  0.0  1.0    1.00    0.00\n",
      "6      2.89  1.0  1.0  0.0    1.00    0.00\n",
      "Explaining hat Y1\n"
     ]
    },
    {
     "data": {
      "application/vnd.jupyter.widget-view+json": {
       "model_id": "1276ddfaba11477284352bee7bae2f66",
       "version_major": 2,
       "version_minor": 0
      },
      "text/plain": [
       "  0%|          | 0/8 [00:00<?, ?it/s]"
      ]
     },
     "metadata": {},
     "output_type": "display_data"
    },
    {
     "data": {
      "image/png": "[encoded data removed]",
      "text/plain": [
       "<Figure size 576x223.2 with 2 Axes>"
      ]
     },
     "metadata": {
      "needs_background": "light"
     },
     "output_type": "display_data"
    }
   ],
   "source": [
    "ccm_res_joint = res_CCM(copy.deepcopy(ebm_joint), d, c, X, Y, n_epochs=0, report_every=1, plot=False) #n_epochs//10)\n",
    "shap_ccm_c(ccm_res_joint, shap_x, bs, not_c_name='X', output_idx=1, c_name='logit Z')"
   ]
  },
  {
   "cell_type": "markdown",
   "id": "delayed-salvation",
   "metadata": {},
   "source": [
    "The above graph sanity checks that joint EBM based residue CCM does not use raw input"
   ]
  },
  {
   "cell_type": "markdown",
   "id": "rental-ranking",
   "metadata": {},
   "source": [
    "## TODO: CCM EYE"
   ]
  },
  {
   "cell_type": "code",
   "execution_count": null,
   "id": "imported-creativity",
   "metadata": {},
   "outputs": [],
   "source": []
  }
 ],
 "metadata": {
  "kernelspec": {
   "display_name": "Python 3",
   "language": "python",
   "name": "python3"
  },
  "language_info": {
   "codemirror_mode": {
    "name": "ipython",
    "version": 3
   },
   "file_extension": ".py",
   "mimetype": "text/x-python",
   "name": "python",
   "nbconvert_exporter": "python",
   "pygments_lexer": "ipython3",
   "version": "3.7.9"
  }
 },
 "nbformat": 4,
 "nbformat_minor": 5
}
