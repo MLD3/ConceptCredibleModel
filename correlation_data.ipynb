{
 "cells": [
  {
   "cell_type": "markdown",
   "id": "descending-forest",
   "metadata": {},
   "source": [
    "# Exploring correlated data with CCM"
   ]
  },
  {
   "cell_type": "code",
   "execution_count": 10,
   "id": "brave-spine",
   "metadata": {},
   "outputs": [],
   "source": [
    "import numpy as np\n",
    "import copy\n",
    "import shap\n",
    "import pandas as pd\n",
    "import matplotlib.pyplot as plt\n",
    "import copy\n",
    "import torch\n",
    "import torch.nn as nn\n",
    "import torch.optim as optim\n",
    "import torch.nn.functional as F\n",
    "from torch.utils.data import TensorDataset, DataLoader\n",
    "import matplotlib.pyplot as plt\n",
    "from scipy.linalg import block_diag\n",
    "from sympy.solvers.solveset import linsolve\n",
    "from sympy import Matrix, simplify, symbols\n",
    "from graphviz import Digraph\n",
    "\n",
    "from lib.models import CCM, CBM, MLP, LambdaNet\n",
    "from lib.train import train_step_standard, train_step_xyz, train\n",
    "from lib.eval import get_output, test, plot_log, shap_net_x, shap_ccm_c\n",
    "from lib.utils import dfs_freeze"
   ]
  },
  {
   "cell_type": "markdown",
   "id": "wired-gallery",
   "metadata": {},
   "source": [
    "# Linear regression with correlated data\n",
    "\n",
    "Given $X_1 = Y + n_1$, $X_2 = Y + n_2$ where $n_1 \\sim N(0, s_1)$ and $n_2 \\sim N(0, s_2)$, I'd expect the linear coefficient to add up to $1$,\n",
    "but it doesn't for a least square regression setting.\n",
    "\n",
    "$$min_\\theta \\mathbb{E}_{(x, y)} (y-\\theta^T x)^2$$ \n",
    "\n",
    "taking derivative on both sides and set to $0$ simplies to \n",
    "\n",
    "$$\\left[\\begin{matrix}\\mathbb{E}(Y^2) + s^{2}_{1} & \\mathbb{E}(Y^2) & \\mathbb{E}(Y)\\\\\\mathbb{E}(Y^2) & \\mathbb{E}(Y^2) + s^{2}_{2} & \\mathbb{E}(Y)\\\\\\mathbb{E}(Y) & \\mathbb{E}(Y) & 1\\end{matrix}\\right] \\boldsymbol{\\theta} = \\left[\\begin{matrix}\\mathbb{E}(Y^2)\\\\\\mathbb{E}(Y^2)\\\\\\mathbb{E}(Y)\\end{matrix}\\right]$$"
   ]
  },
  {
   "cell_type": "code",
   "execution_count": 2,
   "id": "fuzzy-emerald",
   "metadata": {
    "tags": []
   },
   "outputs": [
    {
     "data": {
      "text/latex": [
       "$\\displaystyle \\left\\{\\left( \\frac{\\mathbb{E}(Y)^{2} s^{2}_{2} - \\mathbb{E}(Y^2) s^{2}_{2}}{\\mathbb{E}(Y)^{2} s^{2}_{1} + \\mathbb{E}(Y)^{2} s^{2}_{2} - \\mathbb{E}(Y^2) s^{2}_{1} - \\mathbb{E}(Y^2) s^{2}_{2} - s^{2}_{1} s^{2}_{2}}, \\  \\frac{\\mathbb{E}(Y)^{2} s^{2}_{1} - \\mathbb{E}(Y^2) s^{2}_{1}}{\\mathbb{E}(Y)^{2} s^{2}_{1} + \\mathbb{E}(Y)^{2} s^{2}_{2} - \\mathbb{E}(Y^2) s^{2}_{1} - \\mathbb{E}(Y^2) s^{2}_{2} - s^{2}_{1} s^{2}_{2}}, \\  - \\frac{\\mathbb{E}(Y) s^{2}_{1} s^{2}_{2}}{\\mathbb{E}(Y)^{2} s^{2}_{1} + \\mathbb{E}(Y)^{2} s^{2}_{2} - \\mathbb{E}(Y^2) s^{2}_{1} - \\mathbb{E}(Y^2) s^{2}_{2} - s^{2}_{1} s^{2}_{2}}\\right)\\right\\}$"
      ],
      "text/plain": [
       "FiniteSet(((\\mathbb{E}(Y)**2*s_2^2 - \\mathbb{E}(Y^2)*s_2^2)/(\\mathbb{E}(Y)**2*s_1^2 + \\mathbb{E}(Y)**2*s_2^2 - \\mathbb{E}(Y^2)*s_1^2 - \\mathbb{E}(Y^2)*s_2^2 - s_1^2*s_2^2), (\\mathbb{E}(Y)**2*s_1^2 - \\mathbb{E}(Y^2)*s_1^2)/(\\mathbb{E}(Y)**2*s_1^2 + \\mathbb{E}(Y)**2*s_2^2 - \\mathbb{E}(Y^2)*s_1^2 - \\mathbb{E}(Y^2)*s_2^2 - s_1^2*s_2^2), -\\mathbb{E}(Y)*s_1^2*s_2^2/(\\mathbb{E}(Y)**2*s_1^2 + \\mathbb{E}(Y)**2*s_2^2 - \\mathbb{E}(Y^2)*s_1^2 - \\mathbb{E}(Y^2)*s_2^2 - s_1^2*s_2^2)))"
      ]
     },
     "execution_count": 2,
     "metadata": {},
     "output_type": "execute_result"
    }
   ],
   "source": [
    "s_y2, s_y, s_s12, s_s22 = symbols('\\mathbb{E}(Y^2) \\mathbb{E}(Y) s_1^2 s_2^2')\n",
    "\n",
    "A = Matrix([[s_y2 + s_s12, s_y2, s_y], [s_y2, s_y2 + s_s22, s_y], [s_y, s_y, 1]])\n",
    "b = Matrix([[s_y2], [s_y2], [s_y]])\n",
    "\n",
    "result = linsolve((A, b))\n",
    "result"
   ]
  },
  {
   "cell_type": "markdown",
   "id": "vocal-tsunami",
   "metadata": {},
   "source": [
    "The above is the solution (coefficient for $x_1$, $x_2$, and the bias term) to the system: Note that denominators are the same, also note that coefficient of the first feature is larger when the second feature has larger noise (e.g. $\\theta_1 / \\theta_2 = s_2^2 / s_1^2$). However, the sum of $1 - (\\theta_1 + \\theta_2) \\neq 0$, which is suprising: as shown below:"
   ]
  },
  {
   "cell_type": "code",
   "execution_count": 3,
   "id": "becoming-information",
   "metadata": {},
   "outputs": [
    {
     "data": {
      "text/latex": [
       "$\\displaystyle \\frac{s^{2}_{1} s^{2}_{2}}{- \\mathbb{E}(Y)^{2} s^{2}_{1} - \\mathbb{E}(Y)^{2} s^{2}_{2} + \\mathbb{E}(Y^2) s^{2}_{1} + \\mathbb{E}(Y^2) s^{2}_{2} + s^{2}_{1} s^{2}_{2}}$"
      ],
      "text/plain": [
       "s_1^2*s_2^2/(-\\mathbb{E}(Y)**2*s_1^2 - \\mathbb{E}(Y)**2*s_2^2 + \\mathbb{E}(Y^2)*s_1^2 + \\mathbb{E}(Y^2)*s_2^2 + s_1^2*s_2^2)"
      ]
     },
     "execution_count": 3,
     "metadata": {},
     "output_type": "execute_result"
    }
   ],
   "source": [
    "theta1, theta2, theta3 = result.args[0]\n",
    "simplify(1- (theta1 + theta2))"
   ]
  },
  {
   "cell_type": "code",
   "execution_count": 4,
   "id": "criminal-appointment",
   "metadata": {},
   "outputs": [
    {
     "data": {
      "image/png": "[encoded data removed]",
      "text/plain": [
       "<Figure size 432x288 with 2 Axes>"
      ]
     },
     "metadata": {
      "needs_background": "light"
     },
     "output_type": "display_data"
    }
   ],
   "source": [
    "# the empirical result is most prominant with s1=5, s2=1\n",
    "n = 1000\n",
    "d = 2\n",
    "s1 = 0.5\n",
    "s2 = 0.4\n",
    "\n",
    "Y = torch.randn(n) + 1\n",
    "x1 = Y + s1 * torch.randn(n)\n",
    "x2 = Y + s2 * torch.randn(n)\n",
    "X = torch.vstack([x1, x2]).T\n",
    "\n",
    "for i in range(d):\n",
    "    plt.subplot(1, 2, i+1)\n",
    "    plt.scatter(X.numpy()[:100, i], Y.numpy()[:100])\n",
    "    plt.xlabel(f\"X[:, {i}]\")\n",
    "    plt.ylabel(\"Y\")\n",
    "plt.show()"
   ]
  },
  {
   "cell_type": "code",
   "execution_count": 5,
   "id": "simplified-virus",
   "metadata": {},
   "outputs": [
    {
     "name": "stdout",
     "output_type": "stream",
     "text": [
      "epoch  59: loss 1.473e-01\n",
      "epoch 119: loss 1.285e-01\n",
      "epoch 179: loss 1.191e-01\n",
      "epoch 239: loss 1.122e-01\n",
      "epoch 299: loss 1.070e-01\n",
      "epoch 359: loss 1.031e-01\n",
      "epoch 419: loss 1.001e-01\n",
      "epoch 479: loss 9.774e-02\n",
      "epoch 539: loss 9.593e-02\n",
      "epoch 599: loss 9.452e-02\n"
     ]
    },
    {
     "data": {
      "image/png": "[encoded data removed]",
      "text/plain": [
       "<Figure size 432x288 with 1 Axes>"
      ]
     },
     "metadata": {
      "needs_background": "light"
     },
     "output_type": "display_data"
    }
   ],
   "source": [
    "def standard_model(loader_xy, d, n_epochs=10, report_every=1, plot=True):\n",
    "    # regular model\n",
    "    net = MLP([d, 1])\n",
    "\n",
    "    # train\n",
    "    opt = optim.SGD(net.parameters(), lr=0.005)\n",
    "    # opt = optim.SGD(net.parameters(), lr=0.001)\n",
    "    # opt = optim.Adam(net.parameters())\n",
    "    log = train(net, loader_xy, opt, n_epochs=n_epochs, report_every=report_every, criterion=lambda o, y: F.mse_loss(o.view(-1), y))\n",
    "    if plot: plot_log(log)\n",
    "    return net\n",
    "\n",
    "bs = n # gradient descent\n",
    "n_epochs = 600\n",
    "\n",
    "loader_xy = DataLoader(TensorDataset(X, Y), batch_size=bs, shuffle=True) # regular dataset\n",
    "net = standard_model(loader_xy, d, n_epochs=n_epochs, report_every=n_epochs//10)"
   ]
  },
  {
   "cell_type": "code",
   "execution_count": 6,
   "id": "labeled-orientation",
   "metadata": {},
   "outputs": [
    {
     "name": "stdout",
     "output_type": "stream",
     "text": [
      "Parameter containing:\n",
      "tensor([[0.2456, 0.6710]], requires_grad=True)\n",
      "tensor(0.9166, grad_fn=<SumBackward0>)\n",
      "Parameter containing:\n",
      "tensor([0.0816], requires_grad=True)\n"
     ]
    }
   ],
   "source": [
    "print(net.classifier[0].weight)\n",
    "print(net.classifier[0].weight.sum())\n",
    "print(net.classifier[0].bias)"
   ]
  },
  {
   "cell_type": "code",
   "execution_count": 7,
   "id": "other-norman",
   "metadata": {},
   "outputs": [
    {
     "name": "stdout",
     "output_type": "stream",
     "text": [
      "theta 1 0.35555555555555557\n",
      "theta 2 0.5555555555555555\n",
      "t1 + t2 0.9111111111111111\n",
      "0.08888888888888889\n"
     ]
    }
   ],
   "source": [
    "a = 1 # E(y^2)\n",
    "b = s1**2 # E(s1^2)\n",
    "c = s2**2 # E(s2^2)\n",
    "\n",
    "print('theta 1', a*c / (b*c + a*b + a*c))\n",
    "print('theta 2', a*b / (b*c + a*b + a*c))\n",
    "print('t1 + t2', (a*b + a*c)/ (b*c + a*b + a*c))\n",
    "\n",
    "print(b*c / (b*c + a*b + a*c))"
   ]
  },
  {
   "cell_type": "code",
   "execution_count": 8,
   "id": "funded-excess",
   "metadata": {},
   "outputs": [
    {
     "name": "stdout",
     "output_type": "stream",
     "text": [
      "            0         1        O0\n",
      "186 -0.248234  0.020702  0.034483\n",
      "787  0.802839  0.219321  0.425923\n",
      "730  0.332112  0.694498  0.629130\n",
      "716  1.256521  0.861627  0.968330\n",
      "474  1.015060  1.071641  1.049934\n",
      "476  1.208996  1.101815  1.117815\n",
      "187  0.637616  1.324187  1.126674\n",
      "532  1.459116  1.363762  1.355011\n",
      "904  1.870887  2.381780  2.139215\n",
      "33   2.800814  3.123574  2.865354\n",
      "Explaining O0\n"
     ]
    },
    {
     "data": {
      "application/vnd.jupyter.widget-view+json": {
       "model_id": "d173e5f86e0d437181257c44abb4be3d",
       "version_major": 2,
       "version_minor": 0
      },
      "text/plain": [
       "  0%|          | 0/10 [00:00<?, ?it/s]"
      ]
     },
     "metadata": {},
     "output_type": "display_data"
    },
    {
     "data": {
      "image/png": "[encoded data removed]",
      "text/plain": [
       "<Figure size 576x165.6 with 2 Axes>"
      ]
     },
     "metadata": {
      "needs_background": "light"
     },
     "output_type": "display_data"
    }
   ],
   "source": [
    "shap_x = pd.DataFrame(X.numpy()).sample(10)\n",
    "shap_net_x(net, shap_x, bs, instance_idx=None, output_name=\"O\", decimal=10)"
   ]
  },
  {
   "cell_type": "markdown",
   "id": "israeli-consensus",
   "metadata": {},
   "source": [
    "# Why does concept credible model make sense even when concepts may be confounded"
   ]
  },
  {
   "cell_type": "code",
   "execution_count": 13,
   "id": "proper-approach",
   "metadata": {},
   "outputs": [
    {
     "data": {
      "image/svg+xml": [
       "<?xml version=\"1.0\" encoding=\"UTF-8\" standalone=\"no\"?>\n",
       "<!DOCTYPE svg PUBLIC \"-//W3C//DTD SVG 1.1//EN\"\n",
       " \"http://www.w3.org/Graphics/SVG/1.1/DTD/svg11.dtd\">\n",
       "<!-- Generated by graphviz version 2.38.0 (20140413.2041)\n",
       " -->\n",
       "<!-- Title: %3 Pages: 1 -->\n",
       "<svg width=\"242pt\" height=\"98pt\"\n",
       " viewBox=\"0.00 0.00 242.00 98.00\" xmlns=\"http://www.w3.org/2000/svg\" xmlns:xlink=\"http://www.w3.org/1999/xlink\">\n",
       "<g id=\"graph0\" class=\"graph\" transform=\"scale(1 1) rotate(0) translate(4 94)\">\n",
       "<title>%3</title>\n",
       "<polygon fill=\"white\" stroke=\"none\" points=\"-4,4 -4,-94 238,-94 238,4 -4,4\"/>\n",
       "<!-- 1 -->\n",
       "<g id=\"node1\" class=\"node\"><title>1</title>\n",
       "<ellipse fill=\"none\" stroke=\"black\" cx=\"27\" cy=\"-72\" rx=\"27\" ry=\"18\"/>\n",
       "<text text-anchor=\"middle\" x=\"27\" y=\"-68.3\" font-family=\"Times,serif\" font-size=\"14.00\">x1</text>\n",
       "</g>\n",
       "<!-- c -->\n",
       "<g id=\"node3\" class=\"node\"><title>c</title>\n",
       "<ellipse fill=\"none\" stroke=\"black\" cx=\"117\" cy=\"-72\" rx=\"27\" ry=\"18\"/>\n",
       "<text text-anchor=\"middle\" x=\"117\" y=\"-68.3\" font-family=\"Times,serif\" font-size=\"14.00\">c</text>\n",
       "</g>\n",
       "<!-- 1&#45;&gt;c -->\n",
       "<g id=\"edge1\" class=\"edge\"><title>1&#45;&gt;c</title>\n",
       "<path fill=\"none\" stroke=\"black\" d=\"M54.4029,-72C62.3932,-72 71.3106,-72 79.8241,-72\"/>\n",
       "<polygon fill=\"black\" stroke=\"black\" points=\"79.919,-75.5001 89.919,-72 79.919,-68.5001 79.919,-75.5001\"/>\n",
       "</g>\n",
       "<!-- 2 -->\n",
       "<g id=\"node2\" class=\"node\"><title>2</title>\n",
       "<ellipse fill=\"none\" stroke=\"black\" cx=\"117\" cy=\"-18\" rx=\"27\" ry=\"18\"/>\n",
       "<text text-anchor=\"middle\" x=\"117\" y=\"-14.3\" font-family=\"Times,serif\" font-size=\"14.00\">x2</text>\n",
       "</g>\n",
       "<!-- y -->\n",
       "<g id=\"node4\" class=\"node\"><title>y</title>\n",
       "<ellipse fill=\"none\" stroke=\"black\" cx=\"207\" cy=\"-45\" rx=\"27\" ry=\"18\"/>\n",
       "<text text-anchor=\"middle\" x=\"207\" y=\"-41.3\" font-family=\"Times,serif\" font-size=\"14.00\">y</text>\n",
       "</g>\n",
       "<!-- 2&#45;&gt;y -->\n",
       "<g id=\"edge3\" class=\"edge\"><title>2&#45;&gt;y</title>\n",
       "<path fill=\"none\" stroke=\"black\" d=\"M142.046,-25.3779C151.435,-28.2586 162.362,-31.6112 172.5,-34.7215\"/>\n",
       "<polygon fill=\"black\" stroke=\"black\" points=\"171.701,-38.1373 182.287,-37.7245 173.754,-31.4452 171.701,-38.1373\"/>\n",
       "</g>\n",
       "<!-- c&#45;&gt;y -->\n",
       "<g id=\"edge2\" class=\"edge\"><title>c&#45;&gt;y</title>\n",
       "<path fill=\"none\" stroke=\"black\" d=\"M142.046,-64.6221C151.435,-61.7414 162.362,-58.3888 172.5,-55.2785\"/>\n",
       "<polygon fill=\"black\" stroke=\"black\" points=\"173.754,-58.5548 182.287,-52.2755 171.701,-51.8627 173.754,-58.5548\"/>\n",
       "</g>\n",
       "</g>\n",
       "</svg>\n"
      ],
      "text/plain": [
       "<graphviz.dot.Digraph at 0x7f4f20cec550>"
      ]
     },
     "execution_count": 13,
     "metadata": {},
     "output_type": "execute_result"
    }
   ],
   "source": [
    "dot = Digraph()\n",
    "dot.node('1', 'x1')\n",
    "dot.node('2', 'x2')\n",
    "dot.node('c')\n",
    "dot.node('y')\n",
    "\n",
    "dot.edge('1', 'c')\n",
    "dot.edge('c', 'y')\n",
    "dot.edge('2', 'y')\n",
    "dot.graph_attr['rankdir']='LR'\n",
    "dot"
   ]
  },
  {
   "cell_type": "markdown",
   "id": "secondary-graham",
   "metadata": {},
   "source": [
    "Assume $X_2$ is actually a shortcut and that each edge is corrupted by some independent zero mean noise:\n",
    "\n",
    "e.g., $C = Y + N_c$, $X_1 = C + N_{X_1}$, $X_2 = Y + N_{X_2}$ where $N_v$ are the independent noises for a variable $v$.\n",
    "\n",
    "Now assume we fit a least square linear regression to the model (from $X_1$, $X_2$ to $Y$), using the conclusion from previous experiment, we have\n",
    "\n",
    "$$\\theta_{X_1} / \\theta_{X_2} = \\mathbb{v}(N_{X_2}) / (\\mathbb{v}(N_{X_1})  + \\mathbb{v}(N_C)))$$\n",
    "\n",
    "However, if we restrict the model bottlenecked by concept $c$ (special case of CCM), we'd have\n",
    "\n",
    "$$\\theta_{X_1} / \\theta_{X_2} = (\\mathbb{v}(N_{X_2}) + \\mathbb{v}(N_C)) / \\mathbb{v}(N_{X_1})$$\n",
    "\n",
    "This means the classifier depends much less on $X_2$.\n",
    "\n",
    "In this case, however, if $N_2$ is indeed smaller than other noises, we would expect the CBM to perform worse on the dataset, but better in deployment. This does call for a domain specific judgement."
   ]
  },
  {
   "cell_type": "code",
   "execution_count": null,
   "id": "curious-terrain",
   "metadata": {},
   "outputs": [],
   "source": []
  }
 ],
 "metadata": {
  "kernelspec": {
   "display_name": "Python 3",
   "language": "python",
   "name": "python3"
  },
  "language_info": {
   "codemirror_mode": {
    "name": "ipython",
    "version": 3
   },
   "file_extension": ".py",
   "mimetype": "text/x-python",
   "name": "python",
   "nbconvert_exporter": "python",
   "pygments_lexer": "ipython3",
   "version": "3.7.9"
  }
 },
 "nbformat": 4,
 "nbformat_minor": 5
}
