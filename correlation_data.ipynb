{
 "cells": [
  {
   "cell_type": "code",
   "execution_count": 1,
   "id": "thorough-origin",
   "metadata": {},
   "outputs": [],
   "source": [
    "import numpy as np\n",
    "import copy\n",
    "import shap\n",
    "import pandas as pd\n",
    "import matplotlib.pyplot as plt\n",
    "import copy\n",
    "import torch\n",
    "import torch.nn as nn\n",
    "import torch.optim as optim\n",
    "import torch.nn.functional as F\n",
    "from torch.utils.data import TensorDataset, DataLoader\n",
    "import matplotlib.pyplot as plt\n",
    "from scipy.linalg import block_diag\n",
    "\n",
    "from lib.models import CCM, CBM, MLP, LambdaNet\n",
    "from lib.train import train_step_standard, train_step_xyz, train\n",
    "from lib.eval import get_output, test, plot_log, shap_net_x, shap_ccm_c\n",
    "from lib.utils import dfs_freeze"
   ]
  },
  {
   "cell_type": "code",
   "execution_count": 90,
   "id": "original-isaac",
   "metadata": {
    "tags": []
   },
   "outputs": [
    {
     "data": {
      "image/png": "[encoded data removed]",
      "text/plain": [
       "<Figure size 432x288 with 1 Axes>"
      ]
     },
     "metadata": {
      "needs_background": "light"
     },
     "output_type": "display_data"
    }
   ],
   "source": [
    "n = 1000\n",
    "d = 3 # true number of concepts needed for classification\n",
    "c = 1 # number of expert identified concepts\n",
    "bs = 100\n",
    "n_epochs = 200\n",
    "\n",
    "def genCovX(C, n): # helper function to create N(0, C)\n",
    "    # C is the covariance matrice (assume to be psd)\n",
    "    # n is number of examples\n",
    "    A = np.linalg.cholesky(C)\n",
    "    d, _ = C.shape\n",
    "    Z = np.random.randn(n, d)\n",
    "    X = Z.dot(A.T) \n",
    "    return X.astype(np.float32)\n",
    "\n",
    "def gen_correlated_data(n, d, corr=0.9):\n",
    "    C = np.zeros((d, d))\n",
    "    I = np.eye(d).astype(bool)\n",
    "    C[~I] = corr\n",
    "    C[I] = 1\n",
    "    X = genCovX(C, n)\n",
    "    return torch.from_numpy(X)\n",
    "\n",
    "X = gen_correlated_data(n, d, corr=0.95)\n",
    "Y = X[:, 0] + 1 * torch.randn(X.shape[0])\n",
    "plt.scatter(X.numpy()[:100, 0], Y.numpy()[:100])\n",
    "plt.xlabel(\"X[:, 0]\")\n",
    "plt.ylabel(\"Y\")\n",
    "plt.show()"
   ]
  },
  {
   "cell_type": "code",
   "execution_count": 91,
   "id": "consolidated-willow",
   "metadata": {},
   "outputs": [
    {
     "name": "stdout",
     "output_type": "stream",
     "text": [
      "epoch  19: loss 2.524e+00\n",
      "epoch  39: loss 1.670e+00\n",
      "epoch  59: loss 1.275e+00\n",
      "epoch  79: loss 1.122e+00\n",
      "epoch  99: loss 1.075e+00\n",
      "epoch 119: loss 1.062e+00\n",
      "epoch 139: loss 1.058e+00\n",
      "epoch 159: loss 1.056e+00\n",
      "epoch 179: loss 1.054e+00\n",
      "epoch 199: loss 1.052e+00\n"
     ]
    },
    {
     "data": {
      "image/png": "[encoded data removed]",
      "text/plain": [
       "<Figure size 432x288 with 1 Axes>"
      ]
     },
     "metadata": {
      "needs_background": "light"
     },
     "output_type": "display_data"
    }
   ],
   "source": [
    "def standard_model(loader_xy, d, n_epochs=10, report_every=1, plot=True):\n",
    "    # regular model\n",
    "    net = MLP([d, 1])\n",
    "\n",
    "    # train\n",
    "    opt = optim.Adam(net.parameters())\n",
    "    log = train(net, loader_xy, opt, n_epochs=n_epochs, report_every=report_every, criterion=lambda o, y: F.mse_loss(o.view(-1), y))\n",
    "    if plot: plot_log(log)\n",
    "    return net\n",
    "\n",
    "loader_xy = DataLoader(TensorDataset(X, Y), batch_size=bs, shuffle=True) # regular dataset\n",
    "standard_net = standard_model(loader_xy, d, n_epochs=n_epochs, report_every=n_epochs//10)"
   ]
  },
  {
   "cell_type": "code",
   "execution_count": 92,
   "id": "actual-eight",
   "metadata": {},
   "outputs": [
    {
     "data": {
      "text/html": [
       "<div>\n",
       "<style scoped>\n",
       "    .dataframe tbody tr th:only-of-type {\n",
       "        vertical-align: middle;\n",
       "    }\n",
       "\n",
       "    .dataframe tbody tr th {\n",
       "        vertical-align: top;\n",
       "    }\n",
       "\n",
       "    .dataframe thead th {\n",
       "        text-align: right;\n",
       "    }\n",
       "</style>\n",
       "<table border=\"1\" class=\"dataframe\">\n",
       "  <thead>\n",
       "    <tr style=\"text-align: right;\">\n",
       "      <th></th>\n",
       "      <th>0</th>\n",
       "      <th>1</th>\n",
       "      <th>2</th>\n",
       "    </tr>\n",
       "  </thead>\n",
       "  <tbody>\n",
       "    <tr>\n",
       "      <th>886</th>\n",
       "      <td>-0.602990</td>\n",
       "      <td>-1.117209</td>\n",
       "      <td>-0.901351</td>\n",
       "    </tr>\n",
       "    <tr>\n",
       "      <th>152</th>\n",
       "      <td>1.624830</td>\n",
       "      <td>1.109961</td>\n",
       "      <td>1.854151</td>\n",
       "    </tr>\n",
       "    <tr>\n",
       "      <th>238</th>\n",
       "      <td>0.280909</td>\n",
       "      <td>-0.037622</td>\n",
       "      <td>0.356514</td>\n",
       "    </tr>\n",
       "    <tr>\n",
       "      <th>543</th>\n",
       "      <td>0.867050</td>\n",
       "      <td>0.602399</td>\n",
       "      <td>0.530460</td>\n",
       "    </tr>\n",
       "    <tr>\n",
       "      <th>352</th>\n",
       "      <td>-0.631151</td>\n",
       "      <td>-0.177824</td>\n",
       "      <td>-0.436042</td>\n",
       "    </tr>\n",
       "    <tr>\n",
       "      <th>585</th>\n",
       "      <td>0.310322</td>\n",
       "      <td>0.681578</td>\n",
       "      <td>0.354091</td>\n",
       "    </tr>\n",
       "    <tr>\n",
       "      <th>223</th>\n",
       "      <td>-0.162569</td>\n",
       "      <td>0.000519</td>\n",
       "      <td>0.370990</td>\n",
       "    </tr>\n",
       "    <tr>\n",
       "      <th>564</th>\n",
       "      <td>1.648281</td>\n",
       "      <td>1.196177</td>\n",
       "      <td>1.296007</td>\n",
       "    </tr>\n",
       "    <tr>\n",
       "      <th>446</th>\n",
       "      <td>-1.010451</td>\n",
       "      <td>-0.718419</td>\n",
       "      <td>-0.937353</td>\n",
       "    </tr>\n",
       "    <tr>\n",
       "      <th>793</th>\n",
       "      <td>0.132505</td>\n",
       "      <td>-0.162396</td>\n",
       "      <td>-0.203496</td>\n",
       "    </tr>\n",
       "  </tbody>\n",
       "</table>\n",
       "</div>"
      ],
      "text/plain": [
       "            0         1         2\n",
       "886 -0.602990 -1.117209 -0.901351\n",
       "152  1.624830  1.109961  1.854151\n",
       "238  0.280909 -0.037622  0.356514\n",
       "543  0.867050  0.602399  0.530460\n",
       "352 -0.631151 -0.177824 -0.436042\n",
       "585  0.310322  0.681578  0.354091\n",
       "223 -0.162569  0.000519  0.370990\n",
       "564  1.648281  1.196177  1.296007\n",
       "446 -1.010451 -0.718419 -0.937353\n",
       "793  0.132505 -0.162396 -0.203496"
      ]
     },
     "execution_count": 92,
     "metadata": {},
     "output_type": "execute_result"
    }
   ],
   "source": [
    "shap_x = pd.DataFrame(X.numpy()).sample(10)\n",
    "shap_x"
   ]
  },
  {
   "cell_type": "code",
   "execution_count": 93,
   "id": "chemical-elizabeth",
   "metadata": {},
   "outputs": [
    {
     "name": "stdout",
     "output_type": "stream",
     "text": [
      "            0         1         2        O0\n",
      "446 -1.010451 -0.718419 -0.937353 -0.914693\n",
      "886 -0.602990 -1.117209 -0.901351 -0.867618\n",
      "352 -0.631151 -0.177824 -0.436042 -0.436021\n",
      "793  0.132505 -0.162396 -0.203496 -0.047221\n",
      "223 -0.162569  0.000519  0.370990  0.044495\n",
      "238  0.280909 -0.037622  0.356514  0.212795\n",
      "585  0.310322  0.681578  0.354091  0.464288\n",
      "543  0.867050  0.602399  0.530460  0.719482\n",
      "564  1.648281  1.196177  1.296007  1.457451\n",
      "152  1.624830  1.109961  1.854151  1.574852\n",
      "Explaining O0\n"
     ]
    },
    {
     "data": {
      "application/vnd.jupyter.widget-view+json": {
       "model_id": "2b90116285114d12b9a123170775ff37",
       "version_major": 2,
       "version_minor": 0
      },
      "text/plain": [
       "  0%|          | 0/10 [00:00<?, ?it/s]"
      ]
     },
     "metadata": {},
     "output_type": "display_data"
    },
    {
     "data": {
      "image/png": "[encoded data removed]",
      "text/plain": [
       "<Figure size 576x194.4 with 2 Axes>"
      ]
     },
     "metadata": {
      "needs_background": "light"
     },
     "output_type": "display_data"
    }
   ],
   "source": [
    "shap_net_x(standard_net, shap_x, bs, instance_idx=None, output_name=\"O\", decimal=10)"
   ]
  },
  {
   "cell_type": "code",
   "execution_count": null,
   "id": "lasting-sphere",
   "metadata": {},
   "outputs": [],
   "source": []
  }
 ],
 "metadata": {
  "kernelspec": {
   "display_name": "Python 3",
   "language": "python",
   "name": "python3"
  },
  "language_info": {
   "codemirror_mode": {
    "name": "ipython",
    "version": 3
   },
   "file_extension": ".py",
   "mimetype": "text/x-python",
   "name": "python",
   "nbconvert_exporter": "python",
   "pygments_lexer": "ipython3",
   "version": "3.7.9"
  }
 },
 "nbformat": 4,
 "nbformat_minor": 5
}
