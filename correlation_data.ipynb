{
 "cells": [
  {
   "cell_type": "markdown",
   "id": "retained-volunteer",
   "metadata": {},
   "source": [
    "# Exploring correlated data with CCM"
   ]
  },
  {
   "cell_type": "code",
   "execution_count": 39,
   "id": "available-cattle",
   "metadata": {},
   "outputs": [],
   "source": [
    "import numpy as np\n",
    "import copy\n",
    "import shap\n",
    "import pandas as pd\n",
    "import matplotlib.pyplot as plt\n",
    "import copy\n",
    "import torch\n",
    "import torch.nn as nn\n",
    "import torch.optim as optim\n",
    "import torch.nn.functional as F\n",
    "from torch.utils.data import TensorDataset, DataLoader\n",
    "import matplotlib.pyplot as plt\n",
    "from scipy.linalg import block_diag\n",
    "from sympy.solvers.solveset import linsolve\n",
    "from sympy import Matrix, simplify, symbols\n",
    "\n",
    "\n",
    "from lib.models import CCM, CBM, MLP, LambdaNet\n",
    "from lib.train import train_step_standard, train_step_xyz, train\n",
    "from lib.eval import get_output, test, plot_log, shap_net_x, shap_ccm_c\n",
    "from lib.utils import dfs_freeze"
   ]
  },
  {
   "cell_type": "markdown",
   "id": "prostate-product",
   "metadata": {},
   "source": [
    "# dependence of linear model among correlated variables"
   ]
  },
  {
   "cell_type": "code",
   "execution_count": 2,
   "id": "hybrid-setting",
   "metadata": {
    "tags": []
   },
   "outputs": [
    {
     "data": {
      "image/png": "[encoded data removed]",
      "text/plain": [
       "<Figure size 432x288 with 1 Axes>"
      ]
     },
     "metadata": {
      "needs_background": "light"
     },
     "output_type": "display_data"
    }
   ],
   "source": [
    "n = 1000\n",
    "d = 3 # true number of concepts needed for classification\n",
    "c = 1 # number of expert identified concepts\n",
    "bs = 100\n",
    "n_epochs = 200\n",
    "\n",
    "def genCovX(C, n): # helper function to create N(0, C)\n",
    "    # C is the covariance matrice (assume to be psd)\n",
    "    # n is number of examples\n",
    "    A = np.linalg.cholesky(C)\n",
    "    d, _ = C.shape\n",
    "    Z = np.random.randn(n, d)\n",
    "    X = Z.dot(A.T) \n",
    "    return X.astype(np.float32)\n",
    "\n",
    "def gen_correlated_data(n, d, corr=0.9):\n",
    "    C = np.zeros((d, d))\n",
    "    I = np.eye(d).astype(bool)\n",
    "    C[~I] = corr\n",
    "    C[I] = 1\n",
    "    X = genCovX(C, n)\n",
    "    return torch.from_numpy(X)\n",
    "\n",
    "X = gen_correlated_data(n, d, corr=0.95)\n",
    "Y = X[:, 0] + 1 * torch.randn(X.shape[0])\n",
    "plt.scatter(X.numpy()[:100, 0], Y.numpy()[:100])\n",
    "plt.xlabel(\"X[:, 0]\")\n",
    "plt.ylabel(\"Y\")\n",
    "plt.show()"
   ]
  },
  {
   "cell_type": "code",
   "execution_count": 3,
   "id": "adult-union",
   "metadata": {},
   "outputs": [
    {
     "name": "stdout",
     "output_type": "stream",
     "text": [
      "epoch  19: loss 1.427e+00\n",
      "epoch  39: loss 1.078e+00\n",
      "epoch  59: loss 9.951e-01\n",
      "epoch  79: loss 9.812e-01\n",
      "epoch  99: loss 9.792e-01\n",
      "epoch 119: loss 9.786e-01\n",
      "epoch 139: loss 9.781e-01\n",
      "epoch 159: loss 9.776e-01\n",
      "epoch 179: loss 9.771e-01\n",
      "epoch 199: loss 9.767e-01\n"
     ]
    },
    {
     "data": {
      "image/png": "[encoded data removed]",
      "text/plain": [
       "<Figure size 432x288 with 1 Axes>"
      ]
     },
     "metadata": {
      "needs_background": "light"
     },
     "output_type": "display_data"
    }
   ],
   "source": [
    "def standard_model(loader_xy, d, n_epochs=10, report_every=1, plot=True):\n",
    "    # regular model\n",
    "    net = MLP([d, 1])\n",
    "\n",
    "    # train\n",
    "    opt = optim.Adam(net.parameters())\n",
    "    log = train(net, loader_xy, opt, n_epochs=n_epochs, report_every=report_every, criterion=lambda o, y: F.mse_loss(o.view(-1), y))\n",
    "    if plot: plot_log(log)\n",
    "    return net\n",
    "\n",
    "loader_xy = DataLoader(TensorDataset(X, Y), batch_size=bs, shuffle=True) # regular dataset\n",
    "standard_net = standard_model(loader_xy, d, n_epochs=n_epochs, report_every=n_epochs//10)"
   ]
  },
  {
   "cell_type": "code",
   "execution_count": 4,
   "id": "modified-blend",
   "metadata": {},
   "outputs": [
    {
     "data": {
      "text/html": [
       "<div>\n",
       "<style scoped>\n",
       "    .dataframe tbody tr th:only-of-type {\n",
       "        vertical-align: middle;\n",
       "    }\n",
       "\n",
       "    .dataframe tbody tr th {\n",
       "        vertical-align: top;\n",
       "    }\n",
       "\n",
       "    .dataframe thead th {\n",
       "        text-align: right;\n",
       "    }\n",
       "</style>\n",
       "<table border=\"1\" class=\"dataframe\">\n",
       "  <thead>\n",
       "    <tr style=\"text-align: right;\">\n",
       "      <th></th>\n",
       "      <th>0</th>\n",
       "      <th>1</th>\n",
       "      <th>2</th>\n",
       "    </tr>\n",
       "  </thead>\n",
       "  <tbody>\n",
       "    <tr>\n",
       "      <th>776</th>\n",
       "      <td>0.531103</td>\n",
       "      <td>0.422232</td>\n",
       "      <td>0.741577</td>\n",
       "    </tr>\n",
       "    <tr>\n",
       "      <th>947</th>\n",
       "      <td>0.706438</td>\n",
       "      <td>1.319271</td>\n",
       "      <td>0.964236</td>\n",
       "    </tr>\n",
       "    <tr>\n",
       "      <th>637</th>\n",
       "      <td>-0.402413</td>\n",
       "      <td>0.108127</td>\n",
       "      <td>0.013430</td>\n",
       "    </tr>\n",
       "    <tr>\n",
       "      <th>539</th>\n",
       "      <td>1.322300</td>\n",
       "      <td>0.664760</td>\n",
       "      <td>1.294732</td>\n",
       "    </tr>\n",
       "    <tr>\n",
       "      <th>898</th>\n",
       "      <td>1.106917</td>\n",
       "      <td>0.934055</td>\n",
       "      <td>1.404797</td>\n",
       "    </tr>\n",
       "    <tr>\n",
       "      <th>636</th>\n",
       "      <td>0.577500</td>\n",
       "      <td>0.404990</td>\n",
       "      <td>0.595445</td>\n",
       "    </tr>\n",
       "    <tr>\n",
       "      <th>166</th>\n",
       "      <td>-2.076391</td>\n",
       "      <td>-1.906551</td>\n",
       "      <td>-2.283167</td>\n",
       "    </tr>\n",
       "    <tr>\n",
       "      <th>834</th>\n",
       "      <td>-0.470445</td>\n",
       "      <td>0.058863</td>\n",
       "      <td>-0.449061</td>\n",
       "    </tr>\n",
       "    <tr>\n",
       "      <th>449</th>\n",
       "      <td>1.799462</td>\n",
       "      <td>1.788350</td>\n",
       "      <td>1.553515</td>\n",
       "    </tr>\n",
       "    <tr>\n",
       "      <th>266</th>\n",
       "      <td>-0.177537</td>\n",
       "      <td>-0.457661</td>\n",
       "      <td>0.397150</td>\n",
       "    </tr>\n",
       "  </tbody>\n",
       "</table>\n",
       "</div>"
      ],
      "text/plain": [
       "            0         1         2\n",
       "776  0.531103  0.422232  0.741577\n",
       "947  0.706438  1.319271  0.964236\n",
       "637 -0.402413  0.108127  0.013430\n",
       "539  1.322300  0.664760  1.294732\n",
       "898  1.106917  0.934055  1.404797\n",
       "636  0.577500  0.404990  0.595445\n",
       "166 -2.076391 -1.906551 -2.283167\n",
       "834 -0.470445  0.058863 -0.449061\n",
       "449  1.799462  1.788350  1.553515\n",
       "266 -0.177537 -0.457661  0.397150"
      ]
     },
     "execution_count": 4,
     "metadata": {},
     "output_type": "execute_result"
    }
   ],
   "source": [
    "shap_x = pd.DataFrame(X.numpy()).sample(10)\n",
    "shap_x"
   ]
  },
  {
   "cell_type": "code",
   "execution_count": 5,
   "id": "spare-connecticut",
   "metadata": {},
   "outputs": [
    {
     "name": "stdout",
     "output_type": "stream",
     "text": [
      "            0         1         2        O0\n",
      "166 -2.076391 -1.906551 -2.283167 -2.059373\n",
      "834 -0.470445  0.058863 -0.449061 -0.393774\n",
      "637 -0.402413  0.108127  0.013430 -0.284367\n",
      "266 -0.177537 -0.457661  0.397150 -0.172207\n",
      "776  0.531103  0.422232  0.741577  0.511233\n",
      "636  0.577500  0.404990  0.595445  0.524470\n",
      "947  0.706438  1.319271  0.964236  0.805773\n",
      "898  1.106917  0.934055  1.404797  1.077962\n",
      "539  1.322300  0.664760  1.294732  1.174347\n",
      "449  1.799462  1.788350  1.553515  1.723327\n",
      "Explaining O0\n"
     ]
    },
    {
     "data": {
      "application/vnd.jupyter.widget-view+json": {
       "model_id": "143ce546f62d4816a48648283fab68d1",
       "version_major": 2,
       "version_minor": 0
      },
      "text/plain": [
       "  0%|          | 0/10 [00:00<?, ?it/s]"
      ]
     },
     "metadata": {},
     "output_type": "display_data"
    },
    {
     "data": {
      "image/png": "[encoded data removed]",
      "text/plain": [
       "<Figure size 576x194.4 with 2 Axes>"
      ]
     },
     "metadata": {
      "needs_background": "light"
     },
     "output_type": "display_data"
    }
   ],
   "source": [
    "shap_net_x(standard_net, shap_x, bs, instance_idx=None, output_name=\"O\", decimal=10)"
   ]
  },
  {
   "cell_type": "markdown",
   "id": "atlantic-qatar",
   "metadata": {},
   "source": [
    "# Linear regression\n",
    "\n",
    "Given $X_1 = Y + n_1$, $X_2 = Y + n_2$ where $n_1 \\sim N(0, s_1)$ and $n_2 \\sim N(0, s_2)$, I'd expect the linear coefficient to add up to $1$,\n",
    "but it doesn't for a least square regression setting.\n",
    "\n",
    "$$min_\\theta \\mathbb{E}_{(x, y)} (y-\\theta^T x)^2$$ \n",
    "\n",
    "taking derivative on both sides and set to $0$ simplies to \n",
    "\n",
    "$$\\left[\\begin{matrix}\\mathbb{E}(Y^2) + s^{2}_{1} & \\mathbb{E}(Y^2) & \\mathbb{E}(Y)\\\\\\mathbb{E}(Y^2) & \\mathbb{E}(Y^2) + s^{2}_{2} & \\mathbb{E}(Y)\\\\\\mathbb{E}(Y) & \\mathbb{E}(Y) & 1\\end{matrix}\\right] \\boldsymbol{\\theta} = \\left[\\begin{matrix}\\mathbb{E}(Y^2)\\\\\\mathbb{E}(Y^2)\\\\\\mathbb{E}(Y)\\end{matrix}\\right]$$"
   ]
  },
  {
   "cell_type": "code",
   "execution_count": 46,
   "id": "sitting-hospital",
   "metadata": {},
   "outputs": [
    {
     "name": "stdout",
     "output_type": "stream",
     "text": [
      "\\left[\\begin{matrix}\\mathbb{E}(Y^2)\\\\\\mathbb{E}(Y^2)\\\\\\mathbb{E}(Y)\\end{matrix}\\right]\n"
     ]
    }
   ],
   "source": [
    "from sympy import latex\n",
    "print(latex(b))"
   ]
  },
  {
   "cell_type": "code",
   "execution_count": 40,
   "id": "continuing-monitor",
   "metadata": {
    "tags": []
   },
   "outputs": [
    {
     "data": {
      "text/latex": [
       "$\\displaystyle \\left\\{\\left( \\frac{\\mathbb{E}(Y)^{2} s^{2}_{2} - \\mathbb{E}(Y^2) s^{2}_{2}}{\\mathbb{E}(Y)^{2} s^{2}_{1} + \\mathbb{E}(Y)^{2} s^{2}_{2} - \\mathbb{E}(Y^2) s^{2}_{1} - \\mathbb{E}(Y^2) s^{2}_{2} - s^{2}_{1} s^{2}_{2}}, \\  \\frac{\\mathbb{E}(Y)^{2} s^{2}_{1} - \\mathbb{E}(Y^2) s^{2}_{1}}{\\mathbb{E}(Y)^{2} s^{2}_{1} + \\mathbb{E}(Y)^{2} s^{2}_{2} - \\mathbb{E}(Y^2) s^{2}_{1} - \\mathbb{E}(Y^2) s^{2}_{2} - s^{2}_{1} s^{2}_{2}}, \\  - \\frac{\\mathbb{E}(Y) s^{2}_{1} s^{2}_{2}}{\\mathbb{E}(Y)^{2} s^{2}_{1} + \\mathbb{E}(Y)^{2} s^{2}_{2} - \\mathbb{E}(Y^2) s^{2}_{1} - \\mathbb{E}(Y^2) s^{2}_{2} - s^{2}_{1} s^{2}_{2}}\\right)\\right\\}$"
      ],
      "text/plain": [
       "FiniteSet(((\\mathbb{E}(Y)**2*s_2^2 - \\mathbb{E}(Y^2)*s_2^2)/(\\mathbb{E}(Y)**2*s_1^2 + \\mathbb{E}(Y)**2*s_2^2 - \\mathbb{E}(Y^2)*s_1^2 - \\mathbb{E}(Y^2)*s_2^2 - s_1^2*s_2^2), (\\mathbb{E}(Y)**2*s_1^2 - \\mathbb{E}(Y^2)*s_1^2)/(\\mathbb{E}(Y)**2*s_1^2 + \\mathbb{E}(Y)**2*s_2^2 - \\mathbb{E}(Y^2)*s_1^2 - \\mathbb{E}(Y^2)*s_2^2 - s_1^2*s_2^2), -\\mathbb{E}(Y)*s_1^2*s_2^2/(\\mathbb{E}(Y)**2*s_1^2 + \\mathbb{E}(Y)**2*s_2^2 - \\mathbb{E}(Y^2)*s_1^2 - \\mathbb{E}(Y^2)*s_2^2 - s_1^2*s_2^2)))"
      ]
     },
     "execution_count": 40,
     "metadata": {},
     "output_type": "execute_result"
    }
   ],
   "source": [
    "s_y2, s_y, s_s12, s_s22 = symbols('\\mathbb{E}(Y^2) \\mathbb{E}(Y) s_1^2 s_2^2')\n",
    "\n",
    "A = Matrix([[s_y2 + s_s12, s_y2, s_y], [s_y2, s_y2 + s_s22, s_y], [s_y, s_y, 1]])\n",
    "b = Matrix([[s_y2], [s_y2], [s_y]])\n",
    "\n",
    "result = linsolve((A, b))\n",
    "result"
   ]
  },
  {
   "cell_type": "markdown",
   "id": "subjective-invite",
   "metadata": {},
   "source": [
    "The above is the solution (coefficient for $x_1$, $x_2$, and the bias term) to the system: Note that denominators are the same, also note that coefficient of the first feature is larger when the second feature has larger noise (e.g. $\\theta_1 / \\theta_2 = s_2^2 / s_1^2$). However, the sum of $\\theta_1 + \\theta_2 \\neq 1$, which is suprising: as shown below:"
   ]
  },
  {
   "cell_type": "code",
   "execution_count": 42,
   "id": "clinical-spoke",
   "metadata": {},
   "outputs": [
    {
     "data": {
      "text/latex": [
       "$\\displaystyle \\frac{s^{2}_{1} s^{2}_{2}}{- \\mathbb{E}(Y)^{2} s^{2}_{1} - \\mathbb{E}(Y)^{2} s^{2}_{2} + \\mathbb{E}(Y^2) s^{2}_{1} + \\mathbb{E}(Y^2) s^{2}_{2} + s^{2}_{1} s^{2}_{2}}$"
      ],
      "text/plain": [
       "s_1^2*s_2^2/(-\\mathbb{E}(Y)**2*s_1^2 - \\mathbb{E}(Y)**2*s_2^2 + \\mathbb{E}(Y^2)*s_1^2 + \\mathbb{E}(Y^2)*s_2^2 + s_1^2*s_2^2)"
      ]
     },
     "execution_count": 42,
     "metadata": {},
     "output_type": "execute_result"
    }
   ],
   "source": [
    "theta1, theta2, theta3 = r.args[0]\n",
    "simplify(1- (theta1 + theta2))"
   ]
  },
  {
   "cell_type": "code",
   "execution_count": 6,
   "id": "binding-reflection",
   "metadata": {},
   "outputs": [
    {
     "data": {
      "image/png": "[encoded data removed]",
      "text/plain": [
       "<Figure size 432x288 with 1 Axes>"
      ]
     },
     "metadata": {
      "needs_background": "light"
     },
     "output_type": "display_data"
    }
   ],
   "source": [
    "n = 1000\n",
    "d = 2\n",
    "s1 = 1 #0.1\n",
    "s2 = 5 #0.5\n",
    "\n",
    "Y = torch.randn(n) + 1\n",
    "x1 = Y + s1 * torch.randn(n)\n",
    "x2 = Y + s2 * torch.randn(n)\n",
    "X = torch.vstack([x1, x2]).T\n",
    "\n",
    "i = 1\n",
    "plt.scatter(X.numpy()[:100, i], Y.numpy()[:100])\n",
    "plt.xlabel(f\"X[:, {i}]\")\n",
    "plt.ylabel(\"Y\")\n",
    "plt.show()"
   ]
  },
  {
   "cell_type": "code",
   "execution_count": 7,
   "id": "disabled-desire",
   "metadata": {},
   "outputs": [
    {
     "name": "stdout",
     "output_type": "stream",
     "text": [
      "epoch  59: loss 4.942e-01\n",
      "epoch 119: loss 4.805e-01\n",
      "epoch 179: loss 4.747e-01\n",
      "epoch 239: loss 4.719e-01\n",
      "epoch 299: loss 4.705e-01\n",
      "epoch 359: loss 4.699e-01\n",
      "epoch 419: loss 4.696e-01\n",
      "epoch 479: loss 4.694e-01\n",
      "epoch 539: loss 4.694e-01\n",
      "epoch 599: loss 4.693e-01\n"
     ]
    },
    {
     "data": {
      "image/png": "[encoded data removed]",
      "text/plain": [
       "<Figure size 432x288 with 1 Axes>"
      ]
     },
     "metadata": {
      "needs_background": "light"
     },
     "output_type": "display_data"
    }
   ],
   "source": [
    "def standard_model(loader_xy, d, n_epochs=10, report_every=1, plot=True):\n",
    "    # regular model\n",
    "    net = MLP([d, 1])\n",
    "\n",
    "    # train\n",
    "    opt = optim.SGD(net.parameters(), lr=0.005)\n",
    "    # opt = optim.SGD(net.parameters(), lr=0.001)\n",
    "    # opt = optim.Adam(net.parameters())\n",
    "    log = train(net, loader_xy, opt, n_epochs=n_epochs, report_every=report_every, criterion=lambda o, y: F.mse_loss(o.view(-1), y))\n",
    "    if plot: plot_log(log)\n",
    "    return net\n",
    "\n",
    "bs = n # gradient descent\n",
    "n_epochs = 600\n",
    "\n",
    "loader_xy = DataLoader(TensorDataset(X, Y), batch_size=bs, shuffle=True) # regular dataset\n",
    "net = standard_model(loader_xy, d, n_epochs=n_epochs, report_every=n_epochs//10)"
   ]
  },
  {
   "cell_type": "code",
   "execution_count": 8,
   "id": "innocent-friendship",
   "metadata": {},
   "outputs": [
    {
     "name": "stdout",
     "output_type": "stream",
     "text": [
      "Parameter containing:\n",
      "tensor([[0.5035, 0.0145]], requires_grad=True)\n",
      "tensor(0.5181, grad_fn=<SumBackward0>)\n",
      "Parameter containing:\n",
      "tensor([0.4355], requires_grad=True)\n"
     ]
    }
   ],
   "source": [
    "print(net.classifier[0].weight)\n",
    "print(net.classifier[0].weight.sum())\n",
    "\n",
    "print(net.classifier[0].bias)"
   ]
  },
  {
   "cell_type": "code",
   "execution_count": 9,
   "id": "illegal-stock",
   "metadata": {},
   "outputs": [
    {
     "name": "stdout",
     "output_type": "stream",
     "text": [
      "theta 1 0.49019607843137253\n",
      "theta 2 0.0196078431372549\n",
      "t1 + t2 0.5098039215686274\n",
      "0.49019607843137253\n"
     ]
    }
   ],
   "source": [
    "a = 1 # E(y^2)\n",
    "b = s1**2 # E(s1^2)\n",
    "c = s2**2 # E(s2^2)\n",
    "\n",
    "print('theta 1', a*c / (b*c + a*b + a*c))\n",
    "print('theta 2', a*b / (b*c + a*b + a*c))\n",
    "print('t1 + t2', (a*b + a*c)/ (b*c + a*b + a*c))\n",
    "\n",
    "print(b*c / (b*c + a*b + a*c))"
   ]
  },
  {
   "cell_type": "code",
   "execution_count": null,
   "id": "proved-danish",
   "metadata": {},
   "outputs": [],
   "source": []
  }
 ],
 "metadata": {
  "kernelspec": {
   "display_name": "Python 3",
   "language": "python",
   "name": "python3"
  },
  "language_info": {
   "codemirror_mode": {
    "name": "ipython",
    "version": 3
   },
   "file_extension": ".py",
   "mimetype": "text/x-python",
   "name": "python",
   "nbconvert_exporter": "python",
   "pygments_lexer": "ipython3",
   "version": "3.7.9"
  }
 },
 "nbformat": 4,
 "nbformat_minor": 5
}
