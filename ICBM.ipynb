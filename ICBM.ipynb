{
 "cells": [
  {
   "cell_type": "markdown",
   "id": "excess-showcase",
   "metadata": {},
   "source": [
    "# ICBM tutorial: Extend credible model to uninterpretable raw features\n",
    "\n",
    "ICBM stands for concept bottleneck network with incomplete information. By the end of the tutorial, one should be able to\n",
    "\n",
    "1. understand the motivation of ICBM\n",
    "2. understand the ICBM algorithm\n",
    "3. able to train an ICBM model"
   ]
  },
  {
   "cell_type": "markdown",
   "id": "heavy-confidence",
   "metadata": {},
   "source": [
    "# A motivating example\n",
    "\n",
    "Despite the fact that model interpretation suffers from faithfulness and fragility issues (and also people's overtrust of the interpretation), it is still useful to enforce prior knowledge. Feature attribution tools often assume that features are interpretable. This makes them less applicable when raw features are complicated (say in the image or audio domain). Thus, a lot of recent research effort have been poured in to explanation with high level concepts. Among them is this idea of concept bottleneck network (CBM). In this work, we expose the flaw of CBM and suggest a simple fix.\n",
    "\n",
    "This examples shows why missing concept is a nastier problem than one would think.\n",
    "\n",
    "$Z \\sim N(0, I_{2}))$ are 2 latent concepts\n",
    "\n",
    "$X = Rotate(Z)$ is a random projection of concepts presented to the human\n",
    "\n",
    "$X \\rightarrow C \\rightarrow X$ where $C \\in \\mathbb{R}$ is concept detectors\n",
    "\n",
    "$Y = \\theta Z$ where $\\theta$ is the true coefficient.\n",
    "\n",
    "This setup will fail raw feature attribution (because $X$ distribute concepts across dimensions), concept discovery (when the function is a \"or\" concept), jointly trained concept (because $C$ has 1 less dimension off $Z$)."
   ]
  },
  {
   "cell_type": "code",
   "execution_count": null,
   "id": "seasonal-music",
   "metadata": {},
   "outputs": [],
   "source": []
  },
  {
   "cell_type": "markdown",
   "id": "sonic-likelihood",
   "metadata": {},
   "source": [
    "# Issues with CBM, post hoc concept interpretation, and raw feature attribution\n",
    "\n",
    "Jointly trained CBM and post hoc interpretation: Discovered concepts may be overloaded.\n",
    "\n",
    "CBM: Does not handle incomplete concept (debiased CBM is too restrictive).\n",
    "\n",
    "Raw feature attribution: where I attend to does not equal to what I attend to (e.g. texture vs. shape, or rudin's example).\n"
   ]
  },
  {
   "cell_type": "code",
   "execution_count": null,
   "id": "geographic-vertical",
   "metadata": {},
   "outputs": [],
   "source": []
  }
 ],
 "metadata": {
  "kernelspec": {
   "display_name": "Python 3",
   "language": "python",
   "name": "python3"
  },
  "language_info": {
   "codemirror_mode": {
    "name": "ipython",
    "version": 3
   },
   "file_extension": ".py",
   "mimetype": "text/x-python",
   "name": "python",
   "nbconvert_exporter": "python",
   "pygments_lexer": "ipython3",
   "version": "3.7.9"
  }
 },
 "nbformat": 4,
 "nbformat_minor": 5
}
